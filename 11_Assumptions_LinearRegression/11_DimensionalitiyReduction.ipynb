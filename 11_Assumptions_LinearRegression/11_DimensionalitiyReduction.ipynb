{
 "cells": [
  {
   "cell_type": "markdown",
   "metadata": {},
   "source": [
    "# Working with data 2018\n",
    "## Contact\n",
    "Javier Garcia-Bernardo\n",
    "garcia@uva.nl\n",
    "\n",
    "## Factor analysis"
   ]
  },
  {
   "cell_type": "code",
   "execution_count": 2,
   "metadata": {},
   "outputs": [
    {
     "data": {
      "text/html": [
       "<style>.container { width:90% !important; }</style>"
      ],
      "text/plain": [
       "<IPython.core.display.HTML object>"
      ]
     },
     "metadata": {},
     "output_type": "display_data"
    },
    {
     "name": "stderr",
     "output_type": "stream",
     "text": [
      "/opt/anaconda/anaconda3/lib/python3.5/importlib/_bootstrap.py:222: RuntimeWarning: numpy.dtype size changed, may indicate binary incompatibility. Expected 96, got 88\n",
      "  return f(*args, **kwds)\n",
      "/opt/anaconda/anaconda3/lib/python3.5/importlib/_bootstrap.py:222: RuntimeWarning: numpy.dtype size changed, may indicate binary incompatibility. Expected 96, got 88\n",
      "  return f(*args, **kwds)\n",
      "/opt/anaconda/anaconda3/lib/python3.5/importlib/_bootstrap.py:222: RuntimeWarning: numpy.dtype size changed, may indicate binary incompatibility. Expected 96, got 88\n",
      "  return f(*args, **kwds)\n",
      "/opt/anaconda/anaconda3/lib/python3.5/importlib/_bootstrap.py:222: RuntimeWarning: numpy.dtype size changed, may indicate binary incompatibility. Expected 96, got 88\n",
      "  return f(*args, **kwds)\n"
     ]
    }
   ],
   "source": [
    "##Some code to run at the beginning of the file, to be able to show images in the notebook\n",
    "##Don't worry about this cell\n",
    "\n",
    "#Print the plots in this screen\n",
    "%matplotlib inline \n",
    "\n",
    "#Be able to plot images saved in the hard drive\n",
    "from IPython.display import Image \n",
    "\n",
    "#Make the notebook wider\n",
    "from IPython.core.display import display, HTML \n",
    "display(HTML(\"<style>.container { width:90% !important; }</style>\"))\n",
    "\n",
    "import seaborn as sns\n",
    "import pylab as plt\n",
    "import pandas as pd\n",
    "import numpy as np\n",
    "import scipy.stats\n",
    "\n",
    "import statsmodels.formula.api as smf\n",
    "import sklearn\n",
    "from sklearn.model_selection import train_test_split\n"
   ]
  },
  {
   "cell_type": "markdown",
   "metadata": {},
   "source": [
    "# 3. Dimensionality reduction\n",
    "- Many times we want to combine variables (for linear regression to avoid multicollinearity, to create indexes, etc)\n",
    "\n",
    "\n"
   ]
  },
  {
   "cell_type": "markdown",
   "metadata": {},
   "source": [
    "### Our data"
   ]
  },
  {
   "cell_type": "code",
   "execution_count": 3,
   "metadata": {},
   "outputs": [
    {
     "name": "stderr",
     "output_type": "stream",
     "text": [
      "/opt/anaconda/anaconda3/lib/python3.5/site-packages/ipykernel_launcher.py:3: RuntimeWarning: divide by zero encountered in log10\n",
      "  This is separate from the ipykernel package so we can avoid doing imports until\n",
      "/opt/anaconda/anaconda3/lib/python3.5/site-packages/ipykernel_launcher.py:3: RuntimeWarning: invalid value encountered in log10\n",
      "  This is separate from the ipykernel package so we can avoid doing imports until\n",
      "/opt/anaconda/anaconda3/lib/python3.5/site-packages/ipykernel_launcher.py:6: RuntimeWarning: divide by zero encountered in log10\n",
      "  \n"
     ]
    },
    {
     "data": {
      "text/html": [
       "<div>\n",
       "<style scoped>\n",
       "    .dataframe tbody tr th:only-of-type {\n",
       "        vertical-align: middle;\n",
       "    }\n",
       "\n",
       "    .dataframe tbody tr th {\n",
       "        vertical-align: top;\n",
       "    }\n",
       "\n",
       "    .dataframe thead th {\n",
       "        text-align: right;\n",
       "    }\n",
       "</style>\n",
       "<table border=\"1\" class=\"dataframe\">\n",
       "  <thead>\n",
       "    <tr style=\"text-align: right;\">\n",
       "      <th></th>\n",
       "      <th>log_revenue</th>\n",
       "      <th>log_assets</th>\n",
       "      <th>log_employees</th>\n",
       "      <th>log_marketcap</th>\n",
       "      <th>Company_name</th>\n",
       "      <th>TypeEnt</th>\n",
       "    </tr>\n",
       "  </thead>\n",
       "  <tbody>\n",
       "    <tr>\n",
       "      <th>23</th>\n",
       "      <td>3.634679</td>\n",
       "      <td>4.271609</td>\n",
       "      <td>1.633468</td>\n",
       "      <td>5.483054</td>\n",
       "      <td>PROTEOSTASIS THERAPEUTICS, INC.</td>\n",
       "      <td>Industrial company</td>\n",
       "    </tr>\n",
       "    <tr>\n",
       "      <th>24</th>\n",
       "      <td>4.645913</td>\n",
       "      <td>5.266613</td>\n",
       "      <td>2.029384</td>\n",
       "      <td>5.488190</td>\n",
       "      <td>TELIGENT, INC.</td>\n",
       "      <td>Industrial company</td>\n",
       "    </tr>\n",
       "    <tr>\n",
       "      <th>27</th>\n",
       "      <td>6.204633</td>\n",
       "      <td>6.168790</td>\n",
       "      <td>3.832509</td>\n",
       "      <td>6.906554</td>\n",
       "      <td>IDEXX LABORATORIES INC</td>\n",
       "      <td>Industrial company</td>\n",
       "    </tr>\n",
       "    <tr>\n",
       "      <th>32</th>\n",
       "      <td>7.469174</td>\n",
       "      <td>7.988933</td>\n",
       "      <td>4.201397</td>\n",
       "      <td>7.739554</td>\n",
       "      <td>CONOCOPHILLIPS</td>\n",
       "      <td>Industrial company</td>\n",
       "    </tr>\n",
       "    <tr>\n",
       "      <th>33</th>\n",
       "      <td>6.080771</td>\n",
       "      <td>6.175744</td>\n",
       "      <td>3.732394</td>\n",
       "      <td>6.037998</td>\n",
       "      <td>ENPRO INDUSTRIES, INC.</td>\n",
       "      <td>Industrial company</td>\n",
       "    </tr>\n",
       "  </tbody>\n",
       "</table>\n",
       "</div>"
      ],
      "text/plain": [
       "    log_revenue  log_assets  log_employees  log_marketcap  \\\n",
       "23     3.634679    4.271609       1.633468       5.483054   \n",
       "24     4.645913    5.266613       2.029384       5.488190   \n",
       "27     6.204633    6.168790       3.832509       6.906554   \n",
       "32     7.469174    7.988933       4.201397       7.739554   \n",
       "33     6.080771    6.175744       3.732394       6.037998   \n",
       "\n",
       "                       Company_name             TypeEnt  \n",
       "23  PROTEOSTASIS THERAPEUTICS, INC.  Industrial company  \n",
       "24                   TELIGENT, INC.  Industrial company  \n",
       "27           IDEXX LABORATORIES INC  Industrial company  \n",
       "32                   CONOCOPHILLIPS  Industrial company  \n",
       "33           ENPRO INDUSTRIES, INC.  Industrial company  "
      ]
     },
     "execution_count": 3,
     "metadata": {},
     "output_type": "execute_result"
    }
   ],
   "source": [
    "#Read data\n",
    "df_companies = pd.read_csv(\"./data/big3_position.csv\",sep=\"\\t\")\n",
    "df_companies[\"log_revenue\"] = np.log10(df_companies[\"Revenue\"])\n",
    "df_companies[\"log_assets\"] = np.log10(df_companies[\"Assets\"])\n",
    "df_companies[\"log_employees\"] = np.log10(df_companies[\"Employees\"])\n",
    "df_companies[\"log_marketcap\"] = np.log10(df_companies[\"MarketCap\"])\n",
    "\n",
    "#Keep only industrial companies\n",
    "df_companies = df_companies.loc[:,[\"log_revenue\",\"log_assets\",\"log_employees\",\"log_marketcap\",\"Company_name\",\"TypeEnt\"]]\n",
    "df_companies = df_companies.loc[df_companies[\"TypeEnt\"]==\"Industrial company\"]\n",
    "\n",
    "#Dropnans\n",
    "df_companies = df_companies.replace([np.inf,-np.inf],np.nan)\n",
    "df_companies = df_companies.dropna()\n",
    "\n",
    "\n",
    "df_companies.head()"
   ]
  },
  {
   "cell_type": "markdown",
   "metadata": {},
   "source": [
    "**Correlation between variables**"
   ]
  },
  {
   "cell_type": "code",
   "execution_count": 4,
   "metadata": {},
   "outputs": [
    {
     "data": {
      "image/png": "[encoded data removed]",
      "text/plain": [
       "<Figure size 432x288 with 2 Axes>"
      ]
     },
     "metadata": {
      "needs_background": "light"
     },
     "output_type": "display_data"
    }
   ],
   "source": [
    "# Compute the correlation matrix\n",
    "corr = df_companies.corr()\n",
    "\n",
    "# Generate a mask for the upper triangle (hide the upper triangle)\n",
    "mask = np.zeros_like(corr, dtype=np.bool)\n",
    "mask[np.triu_indices_from(mask)] = True\n",
    "\n",
    "# Draw the heatmap with the mask and correct aspect ratio\n",
    "sns.heatmap(corr, mask=mask, square=True,linewidths=.5,cmap=\"YlOrRd\",vmin=0,vmax=1)\n",
    "\n",
    "plt.show()"
   ]
  },
  {
   "cell_type": "markdown",
   "metadata": {},
   "source": [
    "Revenue, employees and assets are highly correlated.\n",
    "\n",
    "Let's imagine wwe want to explain the market capitalization in terms of the other variables. "
   ]
  },
  {
   "cell_type": "code",
   "execution_count": 5,
   "metadata": {},
   "outputs": [
    {
     "name": "stdout",
     "output_type": "stream",
     "text": [
      "                            OLS Regression Results                            \n",
      "==============================================================================\n",
      "Dep. Variable:          log_marketcap   R-squared:                       0.770\n",
      "Model:                            OLS   Adj. R-squared:                  0.770\n",
      "Method:                 Least Squares   F-statistic:                     2773.\n",
      "Date:                Tue, 29 Jan 2019   Prob (F-statistic):               0.00\n",
      "Time:                        12:20:25   Log-Likelihood:                -1431.3\n",
      "No. Observations:                2484   AIC:                             2871.\n",
      "Df Residuals:                    2480   BIC:                             2894.\n",
      "Df Model:                           3                                         \n",
      "Covariance Type:            nonrobust                                         \n",
      "=================================================================================\n",
      "                    coef    std err          t      P>|t|      [0.025      0.975]\n",
      "---------------------------------------------------------------------------------\n",
      "Intercept         0.7175      0.067     10.673      0.000       0.586       0.849\n",
      "log_revenue      -0.0524      0.022     -2.424      0.015      -0.095      -0.010\n",
      "log_employees     0.0912      0.020      4.585      0.000       0.052       0.130\n",
      "log_assets        0.8800      0.021     42.562      0.000       0.839       0.921\n",
      "==============================================================================\n",
      "Omnibus:                      172.670   Durbin-Watson:                   2.016\n",
      "Prob(Omnibus):                  0.000   Jarque-Bera (JB):              285.008\n",
      "Skew:                          -0.531   Prob(JB):                     1.29e-62\n",
      "Kurtosis:                       4.275   Cond. No.                         72.4\n",
      "==============================================================================\n",
      "\n",
      "Warnings:\n",
      "[1] Standard Errors assume that the covariance matrix of the errors is correctly specified.\n"
     ]
    }
   ],
   "source": [
    "mod = smf.ols(formula='log_marketcap ~ log_revenue + log_employees  + log_assets', data=df_companies)\n",
    "res = mod.fit()\n",
    "print(res.summary())"
   ]
  },
  {
   "cell_type": "code",
   "execution_count": 6,
   "metadata": {},
   "outputs": [
    {
     "name": "stderr",
     "output_type": "stream",
     "text": [
      "/opt/anaconda/anaconda3/lib/python3.5/site-packages/scipy/stats/stats.py:1713: FutureWarning: Using a non-tuple sequence for multidimensional indexing is deprecated; use `arr[tuple(seq)]` instead of `arr[seq]`. In the future this will be interpreted as an array index, `arr[np.array(seq)]`, which will result either in an error or a different result.\n",
      "  return np.add.reduce(sorted[indexer] * weights, axis=axis) / sumval\n"
     ]
    },
    {
     "data": {
      "text/plain": [
       "<matplotlib.axes._subplots.AxesSubplot at 0x7fbb2923ae80>"
      ]
     },
     "execution_count": 6,
     "metadata": {},
     "output_type": "execute_result"
    },
    {
     "data": {
      "image/png": "[encoded data removed]",
      "text/plain": [
       "<Figure size 288x216 with 1 Axes>"
      ]
     },
     "metadata": {
      "needs_background": "light"
     },
     "output_type": "display_data"
    }
   ],
   "source": [
    "#The residuals are fine\n",
    "plt.figure(figsize=(4,3))\n",
    "sns.regplot(res.predict(),df_companies[\"log_marketcap\"] -res.predict())"
   ]
  },
  {
   "cell_type": "code",
   "execution_count": 7,
   "metadata": {},
   "outputs": [
    {
     "name": "stdout",
     "output_type": "stream",
     "text": [
      "0.7700854499824048 0.7682297607173433 0.7696336533572672 0.7682959077417784 0.6023034661608435 0.5917473851976403 0.5293139203753947\n"
     ]
    },
    {
     "data": {
      "text/html": [
       "<table class=\"simpletable\">\n",
       "<tr>\n",
       "        <td></td>        <th>log_marketcap I</th> <th>log_marketcap II</th> <th>log_marketcap III</th> <th>log_marketcap IIII</th> <th>log_marketcap IIIII</th> <th>log_marketcap IIIIII</th> <th>log_marketcap IIIIIII</th>\n",
       "</tr>\n",
       "<tr>\n",
       "  <th>Intercept</th>        <td>0.7175***</td>        <td>0.5808***</td>        <td>0.6901***</td>          <td>0.5758***</td>          <td>2.4392***</td>            <td>2.1779***</td>            <td>3.6642***</td>      \n",
       "</tr>\n",
       "<tr>\n",
       "  <th></th>                 <td>(0.0672)</td>         <td>(0.0605)</td>         <td>(0.0663)</td>           <td>(0.0598)</td>           <td>(0.0706)</td>             <td>(0.0638)</td>             <td>(0.0449)</td>       \n",
       "</tr>\n",
       "<tr>\n",
       "  <th>log_assets</th>       <td>0.8800***</td>        <td>0.8935***</td>        <td>0.8505***</td>          <td>0.9032***</td>              <td></td>                     <td></td>                     <td></td>           \n",
       "</tr>\n",
       "<tr>\n",
       "  <th></th>                 <td>(0.0207)</td>         <td>(0.0205)</td>         <td>(0.0167)</td>           <td>(0.0100)</td>               <td></td>                     <td></td>                     <td></td>           \n",
       "</tr>\n",
       "<tr>\n",
       "  <th>log_employees</th>    <td>0.0912***</td>            <td></td>             <td>0.0612***</td>              <td></td>               <td>0.2117***</td>                <td></td>                 <td>0.7000***</td>      \n",
       "</tr>\n",
       "<tr>\n",
       "  <th></th>                 <td>(0.0199)</td>             <td></td>             <td>(0.0156)</td>               <td></td>               <td>(0.0259)</td>                 <td></td>                 <td>(0.0132)</td>       \n",
       "</tr>\n",
       "<tr>\n",
       "  <th>log_revenue</th>      <td>-0.0524**</td>         <td>0.0092</td>              <td></td>                   <td></td>               <td>0.4906***</td>            <td>0.6563***</td>                <td></td>           \n",
       "</tr>\n",
       "<tr>\n",
       "  <th></th>                 <td>(0.0216)</td>         <td>(0.0170)</td>             <td></td>                   <td></td>               <td>(0.0230)</td>             <td>(0.0109)</td>                 <td></td>           \n",
       "</tr>\n",
       "</table>"
      ],
      "text/plain": [
       "<class 'statsmodels.iolib.summary2.Summary'>\n",
       "\"\"\"\n",
       "\n",
       "==================================================================================================================================================\n",
       "              log_marketcap I log_marketcap II log_marketcap III log_marketcap IIII log_marketcap IIIII log_marketcap IIIIII log_marketcap IIIIIII\n",
       "--------------------------------------------------------------------------------------------------------------------------------------------------\n",
       "Intercept     0.7175***       0.5808***        0.6901***         0.5758***          2.4392***           2.1779***            3.6642***            \n",
       "              (0.0672)        (0.0605)         (0.0663)          (0.0598)           (0.0706)            (0.0638)             (0.0449)             \n",
       "log_assets    0.8800***       0.8935***        0.8505***         0.9032***                                                                        \n",
       "              (0.0207)        (0.0205)         (0.0167)          (0.0100)                                                                         \n",
       "log_employees 0.0912***                        0.0612***                            0.2117***                                0.7000***            \n",
       "              (0.0199)                         (0.0156)                             (0.0259)                                 (0.0132)             \n",
       "log_revenue   -0.0524**       0.0092                                                0.4906***           0.6563***                                 \n",
       "              (0.0216)        (0.0170)                                              (0.0230)            (0.0109)                                  \n",
       "==================================================================================================================================================\n",
       "Standard errors in parentheses.\n",
       "* p<.1, ** p<.05, ***p<.01\n",
       "\"\"\""
      ]
     },
     "execution_count": 7,
     "metadata": {},
     "output_type": "execute_result"
    }
   ],
   "source": [
    "#Get many models to see hwo coefficient changes\n",
    "from statsmodels.iolib.summary2 import summary_col\n",
    "\n",
    "mod1 = smf.ols(formula='log_marketcap ~ log_revenue + log_employees  + log_assets', data=df_companies).fit()\n",
    "mod2 = smf.ols(formula='log_marketcap ~ log_revenue + log_assets', data=df_companies).fit()\n",
    "mod3 = smf.ols(formula='log_marketcap ~ log_employees  + log_assets', data=df_companies).fit()\n",
    "mod4 = smf.ols(formula='log_marketcap ~ log_assets', data=df_companies).fit()\n",
    "\n",
    "mod5 = smf.ols(formula='log_marketcap ~ log_revenue + log_employees ', data=df_companies).fit()\n",
    "mod6 = smf.ols(formula='log_marketcap ~ log_revenue ', data=df_companies).fit()\n",
    "\n",
    "mod7 = smf.ols(formula='log_marketcap ~ log_employees  ', data=df_companies).fit()\n",
    "\n",
    "output = summary_col([mod1,mod2,mod3,mod4,mod5,mod6,mod7],stars=True)\n",
    "print(mod1.rsquared_adj,mod2.rsquared_adj,mod3.rsquared_adj,mod4.rsquared_adj,mod5.rsquared_adj,mod6.rsquared_adj,mod7.rsquared_adj)\n",
    "output"
   ]
  },
  {
   "cell_type": "markdown",
   "metadata": {},
   "source": [
    "## 3.1 Combining variables\n",
    "- Multiplying/summing variables \n",
    "- It's easy\n",
    "- It's arbitrary"
   ]
  },
  {
   "cell_type": "code",
   "execution_count": 8,
   "metadata": {},
   "outputs": [
    {
     "data": {
      "text/html": [
       "<div>\n",
       "<style scoped>\n",
       "    .dataframe tbody tr th:only-of-type {\n",
       "        vertical-align: middle;\n",
       "    }\n",
       "\n",
       "    .dataframe tbody tr th {\n",
       "        vertical-align: top;\n",
       "    }\n",
       "\n",
       "    .dataframe thead th {\n",
       "        text-align: right;\n",
       "    }\n",
       "</style>\n",
       "<table border=\"1\" class=\"dataframe\">\n",
       "  <thead>\n",
       "    <tr style=\"text-align: right;\">\n",
       "      <th></th>\n",
       "      <th>log_revenue</th>\n",
       "      <th>log_employees</th>\n",
       "      <th>log_assets</th>\n",
       "    </tr>\n",
       "  </thead>\n",
       "  <tbody>\n",
       "    <tr>\n",
       "      <th>23</th>\n",
       "      <td>3.634679</td>\n",
       "      <td>1.633468</td>\n",
       "      <td>4.271609</td>\n",
       "    </tr>\n",
       "    <tr>\n",
       "      <th>24</th>\n",
       "      <td>4.645913</td>\n",
       "      <td>2.029384</td>\n",
       "      <td>5.266613</td>\n",
       "    </tr>\n",
       "  </tbody>\n",
       "</table>\n",
       "</div>"
      ],
      "text/plain": [
       "    log_revenue  log_employees  log_assets\n",
       "23     3.634679       1.633468    4.271609\n",
       "24     4.645913       2.029384    5.266613"
      ]
     },
     "execution_count": 8,
     "metadata": {},
     "output_type": "execute_result"
    }
   ],
   "source": [
    "X = df_companies.loc[:,[\"log_revenue\",\"log_employees\",\"log_assets\"]]\n",
    "X.head(2)"
   ]
  },
  {
   "cell_type": "code",
   "execution_count": 9,
   "metadata": {
    "scrolled": true
   },
   "outputs": [
    {
     "data": {
      "text/plain": [
       "array([[-1.99571299, -1.73647635, -1.91571154],\n",
       "       [-1.03556037, -1.31257881, -0.77455883],\n",
       "       [ 0.44442179,  0.61798627,  0.26013323],\n",
       "       ...,\n",
       "       [ 0.93584733,  1.17438899,  0.59298665],\n",
       "       [-0.87417016, -0.80028962, -1.19760982],\n",
       "       [-0.07417925,  0.82440959, -0.64435546]])"
      ]
     },
     "execution_count": 9,
     "metadata": {},
     "output_type": "execute_result"
    }
   ],
   "source": [
    "#Let's scale all the columns to have mean 0 and std 1\n",
    "from sklearn.preprocessing import scale\n",
    "X_to_combine = scale(X)\n",
    "X_to_combine"
   ]
  },
  {
   "cell_type": "code",
   "execution_count": 10,
   "metadata": {},
   "outputs": [
    {
     "data": {
      "text/plain": [
       "array([-5.64790088, -3.12269802,  1.32254129, ...,  2.70322297,\n",
       "       -2.8720696 ,  0.10587488])"
      ]
     },
     "execution_count": 10,
     "metadata": {},
     "output_type": "execute_result"
    }
   ],
   "source": [
    "#In this case we sum them together\n",
    "X_combined = np.sum(X_to_combine,axis=1)\n",
    "X_combined"
   ]
  },
  {
   "cell_type": "code",
   "execution_count": 11,
   "metadata": {},
   "outputs": [
    {
     "name": "stdout",
     "output_type": "stream",
     "text": [
      "                            OLS Regression Results                            \n",
      "==============================================================================\n",
      "Dep. Variable:          log_marketcap   R-squared:                       0.694\n",
      "Model:                            OLS   Adj. R-squared:                  0.693\n",
      "Method:                 Least Squares   F-statistic:                     5617.\n",
      "Date:                Tue, 29 Jan 2019   Prob (F-statistic):               0.00\n",
      "Time:                        12:20:54   Log-Likelihood:                -1789.8\n",
      "No. Observations:                2484   AIC:                             3584.\n",
      "Df Residuals:                    2482   BIC:                             3595.\n",
      "Df Model:                           1                                         \n",
      "Covariance Type:            nonrobust                                         \n",
      "==============================================================================\n",
      "                 coef    std err          t      P>|t|      [0.025      0.975]\n",
      "------------------------------------------------------------------------------\n",
      "Intercept      5.9428      0.010    595.258      0.000       5.923       5.962\n",
      "combined       0.2625      0.004     74.944      0.000       0.256       0.269\n",
      "==============================================================================\n",
      "Omnibus:                       30.536   Durbin-Watson:                   2.021\n",
      "Prob(Omnibus):                  0.000   Jarque-Bera (JB):               38.383\n",
      "Skew:                          -0.182   Prob(JB):                     4.63e-09\n",
      "Kurtosis:                       3.488   Cond. No.                         2.85\n",
      "==============================================================================\n",
      "\n",
      "Warnings:\n",
      "[1] Standard Errors assume that the covariance matrix of the errors is correctly specified.\n"
     ]
    }
   ],
   "source": [
    "#Add a new column with our combined variable and run regression\n",
    "df_companies[\"combined\"] = X_combined\n",
    "print(smf.ols(formula='log_marketcap ~ combined  ', data=df_companies).fit().summary())"
   ]
  },
  {
   "cell_type": "markdown",
   "metadata": {},
   "source": [
    "## 3.2 PCA\n",
    "- Keep all the info\n",
    "- The resulting variables do not actually mean much"
   ]
  },
  {
   "cell_type": "code",
   "execution_count": 12,
   "metadata": {},
   "outputs": [
    {
     "name": "stdout",
     "output_type": "stream",
     "text": [
      "Explained variance\n",
      "[0.90754131 0.05796448]\n",
      "\n",
      "Weight of components\n",
      "['log_revenue', 'log_employees', 'log_assets']\n",
      "[[-0.65102557 -0.55826228 -0.51430431]\n",
      " [ 0.04059483 -0.70219538  0.71082608]]\n",
      "\n"
     ]
    },
    {
     "name": "stderr",
     "output_type": "stream",
     "text": [
      "/opt/anaconda/anaconda3/lib/python3.5/importlib/_bootstrap.py:222: RuntimeWarning: numpy.dtype size changed, may indicate binary incompatibility. Expected 96, got 88\n",
      "  return f(*args, **kwds)\n"
     ]
    },
    {
     "data": {
      "text/plain": [
       "array([[ 3.13287507, -0.13380895],\n",
       "       [ 1.74177643,  0.33650637],\n",
       "       [-0.74360056, -0.22507263],\n",
       "       ...,\n",
       "       [-1.51992984, -0.36267534],\n",
       "       [ 1.55371598, -0.25477687],\n",
       "       [-0.0900414 , -0.9432188 ]])"
      ]
     },
     "execution_count": 12,
     "metadata": {},
     "output_type": "execute_result"
    }
   ],
   "source": [
    "#Do the fitting\n",
    "from sklearn.decomposition import PCA\n",
    "pca = PCA(n_components=2)\n",
    "new_X = pca.fit_transform(X)\n",
    "\n",
    "print(\"Explained variance\")\n",
    "print(pca.explained_variance_ratio_)\n",
    "print()\n",
    "\n",
    "print(\"Weight of components\")\n",
    "print([\"log_revenue\",\"log_employees\",\"log_assets\"])\n",
    "print(pca.components_)\n",
    "print()\n",
    "\n",
    "new_X"
   ]
  },
  {
   "cell_type": "code",
   "execution_count": 13,
   "metadata": {},
   "outputs": [],
   "source": [
    "#Create our new variables (2 components, so 2 variables)\n",
    "df_companies[\"pca_x1\"] = new_X[:,0]\n",
    "df_companies[\"pca_x2\"] = new_X[:,1]"
   ]
  },
  {
   "cell_type": "code",
   "execution_count": 14,
   "metadata": {},
   "outputs": [
    {
     "name": "stdout",
     "output_type": "stream",
     "text": [
      "                            OLS Regression Results                            \n",
      "==============================================================================\n",
      "Dep. Variable:          log_marketcap   R-squared:                       0.741\n",
      "Model:                            OLS   Adj. R-squared:                  0.741\n",
      "Method:                 Least Squares   F-statistic:                     3545.\n",
      "Date:                Tue, 29 Jan 2019   Prob (F-statistic):               0.00\n",
      "Time:                        12:20:58   Log-Likelihood:                -1581.7\n",
      "No. Observations:                2484   AIC:                             3169.\n",
      "Df Residuals:                    2481   BIC:                             3187.\n",
      "Df Model:                           2                                         \n",
      "Covariance Type:            nonrobust                                         \n",
      "==============================================================================\n",
      "                 coef    std err          t      P>|t|      [0.025      0.975]\n",
      "------------------------------------------------------------------------------\n",
      "Intercept      5.9428      0.009    647.146      0.000       5.925       5.961\n",
      "pca_x1        -0.4694      0.006    -80.630      0.000      -0.481      -0.458\n",
      "pca_x2         0.5594      0.023     24.284      0.000       0.514       0.605\n",
      "==============================================================================\n",
      "Omnibus:                       95.394   Durbin-Watson:                   2.020\n",
      "Prob(Omnibus):                  0.000   Jarque-Bera (JB):              148.223\n",
      "Skew:                          -0.347   Prob(JB):                     6.51e-33\n",
      "Kurtosis:                       3.975   Cond. No.                         3.96\n",
      "==============================================================================\n",
      "\n",
      "Warnings:\n",
      "[1] Standard Errors assume that the covariance matrix of the errors is correctly specified.\n"
     ]
    }
   ],
   "source": [
    "print(smf.ols(formula='log_marketcap ~ pca_x1 + pca_x2 ', data=df_companies).fit().summary())"
   ]
  },
  {
   "cell_type": "code",
   "execution_count": 15,
   "metadata": {},
   "outputs": [
    {
     "name": "stdout",
     "output_type": "stream",
     "text": [
      "Before\n"
     ]
    },
    {
     "data": {
      "text/plain": [
       "<seaborn.axisgrid.FacetGrid at 0x7fbb2913a390>"
      ]
     },
     "execution_count": 15,
     "metadata": {},
     "output_type": "execute_result"
    },
    {
     "data": {
      "image/png": "[encoded data removed]",
      "text/plain": [
       "<Figure size 360x360 with 1 Axes>"
      ]
     },
     "metadata": {
      "needs_background": "light"
     },
     "output_type": "display_data"
    }
   ],
   "source": [
    "print(\"Before\")\n",
    "sns.lmplot(\"log_revenue\",\"log_assets\",data=df_companies,fit_reg=False)"
   ]
  },
  {
   "cell_type": "code",
   "execution_count": 16,
   "metadata": {},
   "outputs": [
    {
     "name": "stdout",
     "output_type": "stream",
     "text": [
      "After\n"
     ]
    },
    {
     "data": {
      "text/plain": [
       "<seaborn.axisgrid.FacetGrid at 0x7fbb26f839e8>"
      ]
     },
     "execution_count": 16,
     "metadata": {},
     "output_type": "execute_result"
    },
    {
     "data": {
      "image/png": "[encoded data removed]",
      "text/plain": [
       "<Figure size 360x360 with 1 Axes>"
      ]
     },
     "metadata": {
      "needs_background": "light"
     },
     "output_type": "display_data"
    }
   ],
   "source": [
    "print(\"After\")\n",
    "sns.lmplot(\"pca_x1\",\"pca_x2\",data=df_companies,fit_reg=False)"
   ]
  },
  {
   "cell_type": "code",
   "execution_count": 25,
   "metadata": {},
   "outputs": [
    {
     "name": "stdout",
     "output_type": "stream",
     "text": [
      "After\n"
     ]
    },
    {
     "data": {
      "text/plain": [
       "<seaborn.axisgrid.FacetGrid at 0x7fbb26b31828>"
      ]
     },
     "execution_count": 25,
     "metadata": {},
     "output_type": "execute_result"
    },
    {
     "data": {
      "image/png": "[encoded data removed]",
      "text/plain": [
       "<Figure size 360x360 with 1 Axes>"
      ]
     },
     "metadata": {
      "needs_background": "light"
     },
     "output_type": "display_data"
    }
   ],
   "source": [
    "print(\"After\")\n",
    "sns.lmplot(\"pca_x1\",\"log_marketcap\",data=df_companies,fit_reg=False)"
   ]
  },
  {
   "cell_type": "markdown",
   "metadata": {},
   "source": [
    "## 3.3 Factor analysis\n",
    "- The observations are assumed to be caused by a linear transformation of lower dimensional latent factors and added Gaussian noise. Without loss of generality the factors are distributed according to a Gaussian with zero mean and unit covariance. The noise is also zero mean and has an arbitrary diagonal covariance matrix."
   ]
  },
  {
   "cell_type": "code",
   "execution_count": 17,
   "metadata": {},
   "outputs": [
    {
     "name": "stdout",
     "output_type": "stream",
     "text": [
      "Weight of components\n",
      "['log_revenue', 'log_employees', 'log_assets']\n",
      "[[-1.03053497 -0.84218602 -0.7792879 ]]\n",
      "\n"
     ]
    },
    {
     "data": {
      "text/plain": [
       "array([[ 1.97275479],\n",
       "       [ 1.05548063],\n",
       "       [-0.45116658],\n",
       "       ...,\n",
       "       [-0.93708238],\n",
       "       [ 0.92031256],\n",
       "       [ 0.01842273]])"
      ]
     },
     "execution_count": 17,
     "metadata": {},
     "output_type": "execute_result"
    }
   ],
   "source": [
    "from sklearn.decomposition import FactorAnalysis\n",
    "fa = FactorAnalysis(n_components=1)\n",
    "new_X = fa.fit_transform(X)\n",
    "\n",
    "print(\"Weight of components\")\n",
    "print([\"log_revenue\",\"log_employees\",\"log_assets\"])\n",
    "print(fa.components_)\n",
    "print()\n",
    "\n",
    "new_X"
   ]
  },
  {
   "cell_type": "code",
   "execution_count": 18,
   "metadata": {},
   "outputs": [],
   "source": [
    "#New variables\n",
    "df_companies[\"fa_x1\"] = new_X"
   ]
  },
  {
   "cell_type": "code",
   "execution_count": 19,
   "metadata": {},
   "outputs": [
    {
     "name": "stdout",
     "output_type": "stream",
     "text": [
      "                            OLS Regression Results                            \n",
      "==============================================================================\n",
      "Dep. Variable:          log_marketcap   R-squared:                       0.642\n",
      "Model:                            OLS   Adj. R-squared:                  0.642\n",
      "Method:                 Least Squares   F-statistic:                     4456.\n",
      "Date:                Tue, 29 Jan 2019   Prob (F-statistic):               0.00\n",
      "Time:                        12:21:03   Log-Likelihood:                -1982.0\n",
      "No. Observations:                2484   AIC:                             3968.\n",
      "Df Residuals:                    2482   BIC:                             3980.\n",
      "Df Model:                           1                                         \n",
      "Covariance Type:            nonrobust                                         \n",
      "==============================================================================\n",
      "                 coef    std err          t      P>|t|      [0.025      0.975]\n",
      "------------------------------------------------------------------------------\n",
      "Intercept      5.9428      0.011    550.950      0.000       5.922       5.964\n",
      "fa_x1         -0.7316      0.011    -66.752      0.000      -0.753      -0.710\n",
      "==============================================================================\n",
      "Omnibus:                       34.381   Durbin-Watson:                   2.027\n",
      "Prob(Omnibus):                  0.000   Jarque-Bera (JB):               60.619\n",
      "Skew:                           0.045   Prob(JB):                     6.87e-14\n",
      "Kurtosis:                       3.760   Cond. No.                         1.02\n",
      "==============================================================================\n",
      "\n",
      "Warnings:\n",
      "[1] Standard Errors assume that the covariance matrix of the errors is correctly specified.\n"
     ]
    }
   ],
   "source": [
    "print(smf.ols(formula='log_marketcap ~ fa_x1   ', data=df_companies).fit().summary())"
   ]
  },
  {
   "cell_type": "code",
   "execution_count": 22,
   "metadata": {},
   "outputs": [
    {
     "name": "stdout",
     "output_type": "stream",
     "text": [
      "After\n"
     ]
    },
    {
     "data": {
      "text/plain": [
       "<seaborn.axisgrid.FacetGrid at 0x7fbb26d40eb8>"
      ]
     },
     "execution_count": 22,
     "metadata": {},
     "output_type": "execute_result"
    },
    {
     "data": {
      "image/png": "[encoded data removed]",
      "text/plain": [
       "<Figure size 360x360 with 1 Axes>"
      ]
     },
     "metadata": {
      "needs_background": "light"
     },
     "output_type": "display_data"
    }
   ],
   "source": [
    "print(\"After\")\n",
    "sns.lmplot(\"fa_x1\",\"log_marketcap\",data=df_companies,fit_reg=False)"
   ]
  },
  {
   "cell_type": "markdown",
   "metadata": {
    "collapsed": true
   },
   "source": [
    "### Difference between FA and PCA\n",
    "http://stats.stackexchange.com/questions/1576/what-are-the-differences-between-factor-analysis-and-principal-component-analysi\n",
    "\n",
    "- Principal component analysis involves extracting linear composites of observed variables.\n",
    "- Factor analysis is based on a formal model predicting observed variables from theoretical latent factors."
   ]
  },
  {
   "cell_type": "markdown",
   "metadata": {},
   "source": [
    "# 3.4 Methods to avoid overfitting (Machine learning with regularization)\n",
    "- SVR: http://scikit-learn.org/stable/modules/generated/sklearn.svm.SVR.html\n",
    "- Lasso regression: http://scikit-learn.org/stable/modules/generated/sklearn.linear_model.Lasso.html\n",
    "\n",
    "Both have a regularization parameter, that penalizes having many terms. How to choose the best value of this parameter?\n",
    "- With a train_test split (or cross-validation)\n",
    "    - http://scikit-learn.org/stable/modules/cross_validation.html\n",
    "    - http://scikit-learn.org/stable/modules/generated/sklearn.model_selection.train_test_split.html\n"
   ]
  },
  {
   "cell_type": "code",
   "execution_count": 47,
   "metadata": {},
   "outputs": [
    {
     "data": {
      "text/html": [
       "<img src=\"http://www.holehouse.org/mlclass/07_Regularization_files/Image.png\"/>"
      ],
      "text/plain": [
       "<IPython.core.display.Image object>"
      ]
     },
     "execution_count": 47,
     "metadata": {},
     "output_type": "execute_result"
    }
   ],
   "source": [
    "Image(url=\"http://www.holehouse.org/mlclass/07_Regularization_files/Image.png\")"
   ]
  },
  {
   "cell_type": "code",
   "execution_count": 19,
   "metadata": {
    "scrolled": true
   },
   "outputs": [
    {
     "data": {
      "text/html": [
       "<div>\n",
       "<table border=\"1\" class=\"dataframe\">\n",
       "  <thead>\n",
       "    <tr style=\"text-align: right;\">\n",
       "      <th></th>\n",
       "      <th>log_revenue</th>\n",
       "      <th>log_employees</th>\n",
       "      <th>log_assets</th>\n",
       "    </tr>\n",
       "  </thead>\n",
       "  <tbody>\n",
       "    <tr>\n",
       "      <th>836</th>\n",
       "      <td>6.455242</td>\n",
       "      <td>4.285557</td>\n",
       "      <td>6.615582</td>\n",
       "    </tr>\n",
       "    <tr>\n",
       "      <th>189</th>\n",
       "      <td>5.075985</td>\n",
       "      <td>2.655138</td>\n",
       "      <td>5.081912</td>\n",
       "    </tr>\n",
       "    <tr>\n",
       "      <th>1911</th>\n",
       "      <td>7.286230</td>\n",
       "      <td>4.431364</td>\n",
       "      <td>6.876073</td>\n",
       "    </tr>\n",
       "    <tr>\n",
       "      <th>3858</th>\n",
       "      <td>5.644867</td>\n",
       "      <td>2.518514</td>\n",
       "      <td>6.168640</td>\n",
       "    </tr>\n",
       "    <tr>\n",
       "      <th>1809</th>\n",
       "      <td>6.883773</td>\n",
       "      <td>4.181844</td>\n",
       "      <td>6.284532</td>\n",
       "    </tr>\n",
       "  </tbody>\n",
       "</table>\n",
       "</div>"
      ],
      "text/plain": [
       "      log_revenue  log_employees  log_assets\n",
       "836      6.455242       4.285557    6.615582\n",
       "189      5.075985       2.655138    5.081912\n",
       "1911     7.286230       4.431364    6.876073\n",
       "3858     5.644867       2.518514    6.168640\n",
       "1809     6.883773       4.181844    6.284532"
      ]
     },
     "execution_count": 19,
     "metadata": {},
     "output_type": "execute_result"
    }
   ],
   "source": [
    "from sklearn.model_selection import train_test_split\n",
    "y = df_companies[\"log_marketcap\"]\n",
    "X = df_companies.loc[:,[\"log_revenue\",\"log_employees\",\"log_assets\"]]\n",
    "X.head(2)\n",
    "\n",
    "X_train, X_test, y_train, y_test = train_test_split(X, y, test_size=0.33)\n",
    "X_train.head()"
   ]
  },
  {
   "cell_type": "markdown",
   "metadata": {},
   "source": [
    "**Linear regression (to compare)**"
   ]
  },
  {
   "cell_type": "code",
   "execution_count": 25,
   "metadata": {},
   "outputs": [
    {
     "name": "stdout",
     "output_type": "stream",
     "text": [
      "log_revenue \tlog_employees \tlog_assets \n",
      "[-0.0745411   0.09301402  0.90935025]\n"
     ]
    }
   ],
   "source": [
    "df_train = X_train.copy()\n",
    "df_train[\"log_marketcap\"] = y_train\n",
    "df_train.head()\n",
    "\n",
    "mod = smf.ols(formula='log_marketcap ~ log_revenue + log_employees  + log_assets', data=df_train).fit()\n",
    "print(\"log_revenue \tlog_employees \tlog_assets \")\n",
    "print(mod.params.values[1:])\n",
    "\n"
   ]
  },
  {
   "cell_type": "markdown",
   "metadata": {},
   "source": [
    "**SVR**\n",
    "- Gives balanced weights (the most correlated independent variable (with the dependent) doesn't take all the weight).\n",
    "- Very good when you have hundreds of variables. You can iteratively drop the worst predictor.\n",
    "- It allow for more than linear \"regression\". The default kernel is \"rbf\", which fits curves. The problem is that interpreting it is hard."
   ]
  },
  {
   "cell_type": "code",
   "execution_count": 56,
   "metadata": {},
   "outputs": [
    {
     "name": "stdout",
     "output_type": "stream",
     "text": [
      "log_revenue \tlog_employees \tlog_assets \n",
      "[[-0.09292941  0.11011615  0.91769297]]\n"
     ]
    }
   ],
   "source": [
    "from sklearn.svm import SVR\n",
    "clf = SVR(C=0.1, epsilon=0.2,kernel=\"linear\")\n",
    "clf.fit(X_train, y_train) \n",
    "\n",
    "print(\"log_revenue \tlog_employees \tlog_assets \")\n",
    "print(clf.coef_)\n"
   ]
  },
  {
   "cell_type": "markdown",
   "metadata": {},
   "source": [
    "**Lasso**\n",
    "- Have a penalty\n",
    "- Discards the variables with low weights."
   ]
  },
  {
   "cell_type": "code",
   "execution_count": 53,
   "metadata": {},
   "outputs": [
    {
     "name": "stdout",
     "output_type": "stream",
     "text": [
      "log_revenue \tlog_employees \tlog_assets \n",
      "[-0.          0.04451499  0.85993465]\n"
     ]
    }
   ],
   "source": [
    "from sklearn import linear_model\n",
    "reg = linear_model.Lasso(alpha = 0.01)\n",
    "reg.fit(X_train,y_train)\n",
    "\n",
    "print(\"log_revenue \tlog_employees \tlog_assets \")\n",
    "print(reg.coef_)\n"
   ]
  },
  {
   "cell_type": "markdown",
   "metadata": {},
   "source": [
    "**Summary**"
   ]
  },
  {
   "cell_type": "code",
   "execution_count": 57,
   "metadata": {},
   "outputs": [
    {
     "name": "stdout",
     "output_type": "stream",
     "text": [
      "['SVR', 'Lasso', 'Linear regression']\n",
      "0.19001609378 0.18711028571 0.188061519375\n"
     ]
    }
   ],
   "source": [
    "print([\"SVR\",\"Lasso\",\"Linear regression\"])\n",
    "err1,err2,err3 = sklearn.metrics.mean_squared_error(clf.predict(X_test),y_test),sklearn.metrics.mean_squared_error(reg.predict(X_test),y_test),sklearn.metrics.mean_squared_error(mod.predict(X_test),y_test)\n",
    "print(err1,err2,err3)"
   ]
  },
  {
   "cell_type": "code",
   "execution_count": 58,
   "metadata": {},
   "outputs": [
    {
     "name": "stdout",
     "output_type": "stream",
     "text": [
      "['SVR', 'Lasso', 'Linear regression']\n",
      "0.694444205162 0.688371093093 0.695033719486\n"
     ]
    }
   ],
   "source": [
    "print([\"SVR\",\"Lasso\",\"Linear regression\"])\n",
    "err1,err2,err3 = sklearn.metrics.r2_score(clf.predict(X_test),y_test),sklearn.metrics.r2_score(reg.predict(X_test),y_test),sklearn.metrics.r2_score(mod.predict(X_test),y_test)\n",
    "print(err1,err2,err3)"
   ]
  }
 ],
 "metadata": {
  "anaconda-cloud": {},
  "kernelspec": {
   "display_name": "Python 3",
   "language": "python",
   "name": "python3"
  },
  "language_info": {
   "codemirror_mode": {
    "name": "ipython",
    "version": 3
   },
   "file_extension": ".py",
   "mimetype": "text/x-python",
   "name": "python",
   "nbconvert_exporter": "python",
   "pygments_lexer": "ipython3",
   "version": "3.5.6"
  }
 },
 "nbformat": 4,
 "nbformat_minor": 1
}
