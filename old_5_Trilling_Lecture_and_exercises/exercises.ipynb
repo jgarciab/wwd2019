{
 "cells": [
  {
   "cell_type": "markdown",
   "metadata": {},
   "source": [
    "## Who owns corporate America\n",
    "`You are going to work with some data that we used to show that passive investors own corporate America`"
   ]
  },
  {
   "cell_type": "code",
   "execution_count": 1,
   "metadata": {},
   "outputs": [
    {
     "data": {
      "image/jpeg": "[encoded data removed]",
      "text/html": [
       "\n",
       "        <iframe\n",
       "            width=\"400\"\n",
       "            height=\"300\"\n",
       "            src=\"https://www.youtube.com/embed/OYpCxXuF3M8\"\n",
       "            frameborder=\"0\"\n",
       "            allowfullscreen\n",
       "        ></iframe>\n",
       "        "
      ],
      "text/plain": [
       "<IPython.lib.display.YouTubeVideo at 0x7f695829c550>"
      ]
     },
     "execution_count": 1,
     "metadata": {},
     "output_type": "execute_result"
    }
   ],
   "source": [
    "from IPython.display import YouTubeVideo\n",
    "YouTubeVideo('OYpCxXuF3M8')"
   ]
  },
  {
   "cell_type": "markdown",
   "metadata": {},
   "source": [
    "`I modified a bit the data, changing encodings, adding several variables in the same column and splitting it into several datasets. You'll need to fix it`\n",
    "- `The first one (company_data.csv) has information on the company name, the company ID, the percentage of ownership of the Big 3 passive investors (Big3Share), their rank as shareholders (position, 1 = largest shareholder) and some financials.`\n",
    "- `The second one (employees.csv) has information on the company ID and the number of employees`\n",
    "\n",
    "`You'll replicate some figures from the paper, and will create some new one`"
   ]
  },
  {
   "cell_type": "code",
   "execution_count": 2,
   "metadata": {},
   "outputs": [],
   "source": [
    "#Imports needed\n",
    "import pandas as pd\n",
    "import pylab as plt\n",
    "import seaborn as sns\n",
    "import numpy as np\n",
    "\n",
    "\n",
    "%matplotlib inline"
   ]
  },
  {
   "cell_type": "markdown",
   "metadata": {},
   "source": [
    "## 1. Read file \"data/company_data.csv\" (beware the encoding) and print header"
   ]
  },
  {
   "cell_type": "code",
   "execution_count": null,
   "metadata": {},
   "outputs": [],
   "source": [
    "df = pd.read_csv(......)\n",
    "df.head()"
   ]
  },
  {
   "cell_type": "markdown",
   "metadata": {},
   "source": [
    "## 2. Describe the dataset, print the dtypes and fix the problem with the dollar symbol"
   ]
  },
  {
   "cell_type": "code",
   "execution_count": 1,
   "metadata": {},
   "outputs": [],
   "source": [
    "#Use df.describe() to see how it looks like. Why is dollars_th not there? (describe only describes numeric columns)\n"
   ]
  },
  {
   "cell_type": "code",
   "execution_count": 2,
   "metadata": {},
   "outputs": [],
   "source": [
    "#Print dtypes (object == strings)\n"
   ]
  },
  {
   "cell_type": "code",
   "execution_count": null,
   "metadata": {},
   "outputs": [],
   "source": [
    "#Use df[\"Dollars_th\"].str.slice() to delete the first character\n",
    "df[\"Dollars_th\"] = df[\"Dollars_th\"].str.slice(......)\n",
    "\n",
    "#Convert to type float\n",
    "df[\"Dollars_th\"] = df[\"Dollars_th\"].astype(...)"
   ]
  },
  {
   "cell_type": "markdown",
   "metadata": {},
   "source": [
    "## 3. Tidy the table (pivot or melt)"
   ]
  },
  {
   "cell_type": "code",
   "execution_count": null,
   "metadata": {},
   "outputs": [],
   "source": [
    "##Pivot or Melt to tidy format\n",
    "\n",
    "...\n",
    "\n",
    "\n",
    "\n",
    "df_fixed.head()"
   ]
  },
  {
   "cell_type": "markdown",
   "metadata": {},
   "source": [
    "## 4. Read the dataset data/employees.csv and merge with the ohter"
   ]
  },
  {
   "cell_type": "code",
   "execution_count": null,
   "metadata": {},
   "outputs": [],
   "source": [
    "#Read the other dataset\n",
    "df_emp = pd.read_csv(\"data/employees.csv\",sep=\"\\t\")\n",
    "df_emp.head()"
   ]
  },
  {
   "cell_type": "code",
   "execution_count": null,
   "metadata": {},
   "outputs": [],
   "source": [
    "#Merge the datafiles\n",
    "df_merged = ...\n",
    "df_merged.head()"
   ]
  },
  {
   "cell_type": "markdown",
   "metadata": {},
   "source": [
    "## 5. Replicate figures similar to the ones in the paper\n",
    "- The variable \"Position\" ranks the position of the Big3 among the investors of the company. Use pd.cut to create four categories: Big3 as largest shareholder (position 1). Big3 as second largest shareholder (position 2). Big3 as third largest shareholder (position 3). Big3 not one of the third largest shareholder (position 4 to end)\n",
    "- Plot the average ownership by category\n",
    "- Plot the sum of market capitalization by category\n",
    "- Plot the normalized sum of market capitalization by category\n",
    "\n",
    "Control the aesthetics of the plot, make the figure of a nice size, delete the edges of the bars and despine the figure (sns.despine())"
   ]
  },
  {
   "cell_type": "code",
   "execution_count": 10,
   "metadata": {},
   "outputs": [],
   "source": [
    "#Create the variable described above\n",
    "df_merged[\"Cat_Big3\"] = pd.cut(.....)"
   ]
  },
  {
   "cell_type": "code",
   "execution_count": null,
   "metadata": {},
   "outputs": [],
   "source": [
    "#Plot the average onwership (Big3Share) for each of the 4 categories (barplot, boxplot or violinplot). \n",
    "#Use the same color for all bars and fix the labels\n",
    "\n",
    "#Make the plot of a nice size\n",
    "plt.figure(figsize=(.....))\n",
    "\n",
    "#Make the plot\n",
    "....\n",
    "\n",
    "#Add some labels\n",
    "plt.xlabel(....)\n",
    "plt.ylabel(....)\n",
    "\n",
    "#Despine\n",
    "sns.despine()"
   ]
  },
  {
   "cell_type": "code",
   "execution_count": null,
   "metadata": {},
   "outputs": [],
   "source": [
    "#Plot the sum of market capitalization (MarketCap) for each of the 4 categories (barplot).\n",
    "#To plot the sum instead of the average you need to use the option \",estimator=sum\" in the barplot\n",
    "#Use the same color for all bars and fix the labels\n",
    "\n",
    "....."
   ]
  },
  {
   "cell_type": "code",
   "execution_count": 13,
   "metadata": {},
   "outputs": [
    {
     "data": {
      "image/png": "[encoded data removed]",
      "text/plain": [
       "<matplotlib.figure.Figure at 0x7f68f7534518>"
      ]
     },
     "metadata": {},
     "output_type": "display_data"
    }
   ],
   "source": [
    "#Create a variable with the normalized market capitalization that sums up to 100\n",
    "#Make sure you understand this line.\n",
    "df_merged[\"MarketCap_Sum100\"] = 100*df_merged[\"MarketCap\"]/np.sum(df_merged[\"MarketCap\"])\n",
    "\n",
    "#Redo the plot\n",
    "...."
   ]
  },
  {
   "cell_type": "markdown",
   "metadata": {},
   "source": [
    "## 6. Transform financials into log scale and plot distributions"
   ]
  },
  {
   "cell_type": "code",
   "execution_count": 14,
   "metadata": {},
   "outputs": [
    {
     "name": "stderr",
     "output_type": "stream",
     "text": [
      "/opt/anaconda/anaconda3/lib/python3.5/site-packages/ipykernel/__main__.py:3: RuntimeWarning: divide by zero encountered in log10\n",
      "  app.launch_new_instance()\n",
      "/opt/anaconda/anaconda3/lib/python3.5/site-packages/ipykernel/__main__.py:3: RuntimeWarning: invalid value encountered in log10\n",
      "  app.launch_new_instance()\n",
      "/opt/anaconda/anaconda3/lib/python3.5/site-packages/ipykernel/__main__.py:5: RuntimeWarning: divide by zero encountered in log10\n"
     ]
    }
   ],
   "source": [
    "#Transform financial variables to log\n",
    "df_merged[\"log_Employees\"] = ...\n",
    "df_merged[\"log_Revenue\"] = ...\n",
    "df_merged[\"log_Assets\"] = ...\n",
    "df_merged[\"log_MarketCap\"] = ...\n",
    "\n",
    "#Delete infinite values (they occur when you take the logarithm of zero) and drop missing values in any row\n",
    "#Make sure you understand this line too\n",
    "df_merged = df_merged.replace([np.inf,-np.inf],np.nan)\n",
    "df_merged = df_merged.dropna()"
   ]
  },
  {
   "cell_type": "code",
   "execution_count": null,
   "metadata": {},
   "outputs": [],
   "source": [
    "#Make histograms (sns.distplot) for all variables. \n",
    "#Try both hist=True (default) and hist=False to see the difference\n",
    "plt.figure(figsize=(6,3)\n",
    "sns.distplot(......,label='emp')\n",
    "sns.distplot(......,label=\"rev\")\n",
    "sns.distplot(......,label=\"assets\")\n",
    "sns.distplot(......,label=\"mark\")\n",
    "plt.legend()"
   ]
  },
  {
   "cell_type": "markdown",
   "metadata": {},
   "source": [
    "## 7. Make some plots to visualize how assets, market capitalization and employees correlate for different types of companies\n",
    "\n"
   ]
  },
  {
   "cell_type": "code",
   "execution_count": null,
   "metadata": {},
   "outputs": [],
   "source": [
    "#Make a scatter plot (lmplot) of x = assets and y = market capitalization with hue = TypeEnt\n",
    "#It'll be too cluttered\n",
    "....."
   ]
  },
  {
   "cell_type": "markdown",
   "metadata": {},
   "source": [
    "## Keep a subset of the data with banks and industrial companies and do the plot again\n",
    "- This time change labels\n",
    "- Make white background (controlling aesthetics): http://seaborn.pydata.org/tutorial/aesthetics.html\n",
    "- Use the argument aspect to make the plot look a little bit more wider\n",
    "- Use xlim and ylim\n",
    "- Make the dots a bit smaller and a bit transparent\n",
    "- Save the ifugre (pdf)"
   ]
  },
  {
   "cell_type": "code",
   "execution_count": null,
   "metadata": {},
   "outputs": [],
   "source": [
    "#Keep a subset of the data with banks and industrial companies\n",
    "df_bank_industr = df_merged.loc[.......]\n",
    "df_bank_industr.head()"
   ]
  },
  {
   "cell_type": "code",
   "execution_count": null,
   "metadata": {},
   "outputs": [],
   "source": [
    "#Set the background to white with sns.set_style (see http://seaborn.pydata.org/tutorial/aesthetics.html)\n",
    "......\n"
   ]
  },
  {
   "cell_type": "code",
   "execution_count": null,
   "metadata": {},
   "outputs": [],
   "source": [
    "#Make a scatter plot of x = assets and y = market capitalization with hue = Type of ent\n",
    "sns.lmplot(.... , #add the normal stuff\n",
    "           size=3,.... #add the aspect\n",
    "           scatter_kws= #make the dots a bit smaller and a bit transparent (see the exercise with dinosaur)\n",
    "          )\n",
    "\n",
    "#make labels (plt.xlabel...)\n",
    "\n",
    "#Change limits (plt.xlim...)"
   ]
  },
  {
   "cell_type": "markdown",
   "metadata": {},
   "source": [
    "## Use the same subset of companies to plot log of assets versus log of market capitalization"
   ]
  },
  {
   "cell_type": "code",
   "execution_count": null,
   "metadata": {},
   "outputs": [],
   "source": [
    "#Make a scatter plot of x = assets and y = market capitalization with hue = Type of ent\n",
    "...."
   ]
  }
 ],
 "metadata": {
  "anaconda-cloud": {},
  "kernelspec": {
   "display_name": "Python [conda root]",
   "language": "python",
   "name": "conda-root-py"
  },
  "language_info": {
   "codemirror_mode": {
    "name": "ipython",
    "version": 3
   },
   "file_extension": ".py",
   "mimetype": "text/x-python",
   "name": "python",
   "nbconvert_exporter": "python",
   "pygments_lexer": "ipython3",
   "version": "3.5.4"
  }
 },
 "nbformat": 4,
 "nbformat_minor": 1
}
