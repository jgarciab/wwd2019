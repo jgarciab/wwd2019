{
 "cells": [
  {
   "cell_type": "markdown",
   "metadata": {},
   "source": [
    "# Working with data 2017. Class 2\n",
    "## Contact\n",
    "Javier Garcia-Bernardo\n",
    "garcia@uva.nl\n",
    "\n",
    "## Week's plan:\n",
    "### Monday:\n",
    "1. About Python: Jupyter notebooks and packages\n",
    "2. Python:\n",
    "  - 2.1 Data types: Numbers, strings, booleans\n",
    "  - 2.2 Data structures (I): List\n",
    "  - 2.3 Code (I): How Python works\n",
    "3. Pandas (I): Read csv\n",
    "4. Seaborn (I): First plots\n",
    "\n",
    "### Wednesday:\n",
    "2. Python\n",
    "  - **2.2 Data structures (II): Sets, dictionaries, numpy array, pandas dataframe**\n",
    "3. Pandas (II): Basic operations with dataframes\n",
    "\n",
    "### Thursday:\n",
    "2. Python\n",
    "  - 2.3 Code (II): Functions, for-loops and if-else statements\n",
    "  - 2.4 Debugging Python\n",
    "4. Seaborn (II): Some other plots\n"
   ]
  },
  {
   "cell_type": "code",
   "execution_count": 1,
   "metadata": {},
   "outputs": [
    {
     "data": {
      "text/html": [
       "<style>.container { width:90% !important; }</style>"
      ],
      "text/plain": [
       "<IPython.core.display.HTML object>"
      ]
     },
     "metadata": {},
     "output_type": "display_data"
    }
   ],
   "source": [
    "##Some code to run at the beginning of the file, to be able to show images in the notebook\n",
    "##Don't worry about this cell\n",
    "\n",
    "#Print the plots in this screen\n",
    "%matplotlib inline \n",
    "\n",
    "#Be able to plot images saved in the hard drive\n",
    "from IPython.display import Image \n",
    "\n",
    "#Make the notebook wider\n",
    "from IPython.core.display import display, HTML \n",
    "display(HTML(\"<style>.container { width:90% !important; }</style>\"))"
   ]
  },
  {
   "cell_type": "markdown",
   "metadata": {},
   "source": [
    "# 2. PYTHON: Data types, structures and code\n",
    "Python uses variables and code.\n",
    "\n",
    "\n",
    "### Variables\n",
    "Variables tell the computer to save something (a number, a string, a spreadsheet) with a name.\n",
    "\n",
    "For instance, if you write **variable_name = 3**, the computer knows that *variable_name* is 3.\n",
    "\n",
    "Variables can represents:\n",
    "- **2.1 Data types**: Numbers, strings and others\n",
    "- **2.2 Data structures**: \n",
    "    - Lists, tables... (which organize data types)\n",
    "\n",
    "\n",
    "### 2.3 Code\n",
    "- Instructions to modify variables\n",
    "- Can be organized in functions\n"
   ]
  },
  {
   "cell_type": "markdown",
   "metadata": {},
   "source": [
    "## 2.2 Most common data structures\n",
    "- **2.2.1 list** = notebook (you can add things, take out things, everything is in order). e.g. a list of the numbers 1,2 and 3: [1,2,3]\n",
    "- **2.2.2 tuple** = book  (you cannot change it after it's printed). (1,2,3)\n",
    "- **2.2.3 set** = keywords in a paper (you can check if something exists easily). {1,2,3}\n",
    "- **2.2.4 dictionary** = index (you can find content easily). {\"a\":1, \"b\":2, \"c\":3}\n",
    "- **2.2.5 numpy array** = fast list for math. np.array([1,2,3])\n",
    "- **2.2.6 pandas dataframe** = spreedsheet. np.DataFrame([1,2,3],columns=[\"a\",\"b\",\"c\"])\n",
    "\n",
    "**They have methods** = ways to edit the data structure. For example add, delete, find, sort... (= functions in excel)"
   ]
  },
  {
   "cell_type": "markdown",
   "metadata": {},
   "source": [
    "**WORKING WITH STRINGS AND LISTS**\n",
    "- Divide a string into words\n",
    "- Join many words in a list into a string\n",
    "- Replace an element\n",
    "- Find an element"
   ]
  },
  {
   "cell_type": "code",
   "execution_count": null,
   "metadata": {},
   "outputs": [],
   "source": [
    "##Strings are similar to lists\n",
    "our_string = \"eggs and bacon\"\n",
    "print(our_string[:6])\n",
    "print(our_string[-1])\n"
   ]
  },
  {
   "cell_type": "code",
   "execution_count": null,
   "metadata": {},
   "outputs": [],
   "source": [
    "#we create a string and call it \"eggs and bacon\"\n",
    "our_string = \"eggs and bacon\"\n",
    "#now we divide it into words, creating a list and saving it with the name our_list_of_wrods\n",
    "our_list_of_words = our_string.split()\n",
    "print(our_list_of_words)"
   ]
  },
  {
   "cell_type": "code",
   "execution_count": null,
   "metadata": {},
   "outputs": [],
   "source": [
    "#we can do the opossite and join the words using the function \"join\". \n",
    "\" \".join(our_list_of_words)"
   ]
  },
  {
   "cell_type": "code",
   "execution_count": null,
   "metadata": {},
   "outputs": [],
   "source": [
    "#we can join the words using any character we want in the quoted par of (\" \".join)\n",
    "\":::\".join(our_list_of_words)"
   ]
  },
  {
   "cell_type": "code",
   "execution_count": null,
   "metadata": {},
   "outputs": [],
   "source": [
    "#we can also divide a string using other characters instead of space. \n",
    "#for example let's split in the \"a\"s\n",
    "our_string = \"eggs and bacon\"\n",
    "print(our_string.split(\"a\"))"
   ]
  },
  {
   "cell_type": "code",
   "execution_count": null,
   "metadata": {},
   "outputs": [],
   "source": [
    "#we can change parts of the word\n",
    "our_string = \"eggs and bacon\"\n",
    "print(our_string.replace(\"bacon\",\"tofu\"))"
   ]
  },
  {
   "cell_type": "code",
   "execution_count": null,
   "metadata": {},
   "outputs": [],
   "source": [
    "#we can find where a word start. For example let's find how many characters there are before \"and\"\n",
    "our_string = \"eggs and bacon and\"\n",
    "print(our_string.find(\"and\"))"
   ]
  },
  {
   "cell_type": "code",
   "execution_count": null,
   "metadata": {},
   "outputs": [],
   "source": [
    "#and we can use this to slice the string like we did with the list\n",
    "our_string1 = \"10 events\"\n",
    "our_string2 = \"120 events\"\n",
    "our_string3 = \"2 events\"\n",
    "\n",
    "#we find the index of and\n",
    "index_and1 = our_string1.find(\"event\")\n",
    "index_and2 = our_string2.find(\"event\")\n",
    "index_and3 = our_string3.find(\"event\")\n",
    "\n",
    "print(index_and1)\n",
    "print(index_and2)\n",
    "print(index_and3)\n"
   ]
  },
  {
   "cell_type": "code",
   "execution_count": null,
   "metadata": {},
   "outputs": [],
   "source": [
    "print(our_string1)"
   ]
  },
  {
   "cell_type": "code",
   "execution_count": null,
   "metadata": {},
   "outputs": [],
   "source": [
    "#and keep all the string until that index\n",
    "print(our_string1[:our_string1.find(\"event\")])\n",
    "print(our_string2[:index_and2])\n",
    "print(our_string3[:index_and3])"
   ]
  },
  {
   "cell_type": "markdown",
   "metadata": {},
   "source": [
    "### 2.2.2.Tuples\n",
    "- The same than a list but inmutable (fixed size). You can't add or remove elements.\n",
    "- I (almost) never use them, but you may encounter them."
   ]
  },
  {
   "cell_type": "code",
   "execution_count": null,
   "metadata": {},
   "outputs": [],
   "source": [
    "this_is_a_tuple = (1,3,2,\"b\")\n",
    "print(this_is_a_tuple)\n",
    "this_is_a_list = list(this_is_a_tuple)\n",
    "print(this_is_a_list)"
   ]
  },
  {
   "cell_type": "code",
   "execution_count": null,
   "metadata": {},
   "outputs": [],
   "source": [
    "#If we try to pop and elment, like with lists, we get an error.\n",
    "this_is_a_tuple.pop(0)"
   ]
  },
  {
   "cell_type": "markdown",
   "metadata": {},
   "source": [
    "### 2.2.3. Sets\n",
    "- One element of each kind (no repeated elements!) -> If you convert a list to a set you find the *unique* elements.\n",
    "- Allows for intersecting\n",
    "- Example: Which words are different between two sets"
   ]
  },
  {
   "cell_type": "code",
   "execution_count": 2,
   "metadata": {},
   "outputs": [
    {
     "data": {
      "image/png": "[encoded data removed]",
      "text/plain": [
       "<IPython.core.display.Image object>"
      ]
     },
     "execution_count": 2,
     "metadata": {},
     "output_type": "execute_result"
    }
   ],
   "source": [
    "Image(filename='./images/set-operations-illustrated-with-venn-diagrams.png')"
   ]
  },
  {
   "cell_type": "code",
   "execution_count": null,
   "metadata": {},
   "outputs": [],
   "source": [
    "{1,2,3} - {2,5,6} "
   ]
  },
  {
   "cell_type": "code",
   "execution_count": null,
   "metadata": {},
   "outputs": [],
   "source": [
    "#Let's create a list with repeated elements\n",
    "this_is_a_list = [3,1,1,1,2,3]\n",
    "print(this_is_a_list)\n",
    "#Now we convert it to a set and see how the repeated elements are gone\n",
    "this_is_a_set1 = set(this_is_a_list)\n",
    "print(this_is_a_set1)\n",
    "#You can also create sets like this\n",
    "this_is_a_set2 = {1,2,4}\n",
    "print(this_is_a_set2)"
   ]
  },
  {
   "cell_type": "code",
   "execution_count": null,
   "metadata": {},
   "outputs": [],
   "source": [
    "## Union\n",
    "print(this_is_a_set1 | this_is_a_set2)"
   ]
  },
  {
   "cell_type": "code",
   "execution_count": null,
   "metadata": {},
   "outputs": [],
   "source": [
    "## Intersection\n",
    "print(this_is_a_set1 & this_is_a_set2)"
   ]
  },
  {
   "cell_type": "code",
   "execution_count": null,
   "metadata": {},
   "outputs": [],
   "source": [
    "## Diference set_1 - set2\n",
    "print(this_is_a_set1 - this_is_a_set2)"
   ]
  },
  {
   "cell_type": "code",
   "execution_count": null,
   "metadata": {},
   "outputs": [],
   "source": [
    "## Diference set_2 - set1\n",
    "print(this_is_a_set2 - this_is_a_set1)"
   ]
  },
  {
   "cell_type": "code",
   "execution_count": null,
   "metadata": {},
   "outputs": [],
   "source": [
    "## Very useful for words. Imagine we have two articles, one saying \"eggs bacon python\" and another saying \"bacon spam\" \n",
    "#We can find which words they have in common\n",
    "print({\"eggs\",\"bacon\",\"python\"} & {\"bacon\",\"spam\"})"
   ]
  },
  {
   "cell_type": "code",
   "execution_count": null,
   "metadata": {},
   "outputs": [],
   "source": []
  },
  {
   "cell_type": "code",
   "execution_count": 3,
   "metadata": {},
   "outputs": [],
   "source": [
    "##Very fast\n",
    "list_ = list(range(10000000))\n",
    "set_ = set(range(10000000))"
   ]
  },
  {
   "cell_type": "code",
   "execution_count": 4,
   "metadata": {},
   "outputs": [
    {
     "name": "stdout",
     "output_type": "stream",
     "text": [
      "104 ms ± 37.9 µs per loop (mean ± std. dev. of 7 runs, 10 loops each)\n"
     ]
    }
   ],
   "source": [
    "%timeit 999999999 in list_"
   ]
  },
  {
   "cell_type": "code",
   "execution_count": 5,
   "metadata": {},
   "outputs": [
    {
     "name": "stdout",
     "output_type": "stream",
     "text": [
      "28.6 ns ± 0.831 ns per loop (mean ± std. dev. of 7 runs, 10000000 loops each)\n"
     ]
    }
   ],
   "source": [
    "%timeit 999999999 in set_"
   ]
  },
  {
   "cell_type": "markdown",
   "metadata": {},
   "source": [
    "## 2.2.4. Dictionary\n",
    "- Like in a index, finds a page in the book very very fast.\n",
    "- It combiens keys (word in the index) with values (page number associated to the word):\n",
    "**{key1: value2, key2: value2}**\n",
    "- The keys can be numbers, strings or tuples, but NOT lists (if you try Python will give the error unhashable key)\n"
   ]
  },
  {
   "cell_type": "code",
   "execution_count": null,
   "metadata": {},
   "outputs": [],
   "source": [
    "#Dictionary\n",
    "cities2countries = {\"Amsterdam\": \"NL\", \n",
    "                    \"Madrid\": \"ES\", \n",
    "                    \"Brussels\": \"BE\"}\n",
    "\n",
    "print(cities2countries)\n",
    "print(type(cities2countries))"
   ]
  },
  {
   "cell_type": "markdown",
   "metadata": {},
   "source": [
    "**OPERATIONS IN DICT**"
   ]
  },
  {
   "cell_type": "markdown",
   "metadata": {},
   "source": [
    "**Get**"
   ]
  },
  {
   "cell_type": "code",
   "execution_count": null,
   "metadata": {},
   "outputs": [],
   "source": [
    "#Get an element\n",
    "print(cities2countries[\"Amsterdam\"])\n",
    "print(cities2countries.get(\"Amsterdam\"))"
   ]
  },
  {
   "cell_type": "code",
   "execution_count": null,
   "metadata": {},
   "outputs": [],
   "source": [
    "#The difference between the two is that while the first line gives an error if \"Friends2\" \n",
    "#is not part of the dictionary, the second one answers with None**\n",
    "print(cities2countries.get(\"Paris\")) #not there"
   ]
  },
  {
   "cell_type": "markdown",
   "metadata": {},
   "source": [
    "**Add**"
   ]
  },
  {
   "cell_type": "code",
   "execution_count": null,
   "metadata": {},
   "outputs": [],
   "source": [
    "#Create an element\n",
    "cities2countries[\"Paris\"] = \"FR\""
   ]
  },
  {
   "cell_type": "code",
   "execution_count": null,
   "metadata": {},
   "outputs": [],
   "source": [
    "cities2countries"
   ]
  },
  {
   "cell_type": "code",
   "execution_count": null,
   "metadata": {},
   "outputs": [],
   "source": [
    "#Print the keys\n",
    "print(cities2countries.keys())"
   ]
  },
  {
   "cell_type": "code",
   "execution_count": null,
   "metadata": {},
   "outputs": [],
   "source": [
    "#Print the values\n",
    "print(cities2countries.values())"
   ]
  },
  {
   "cell_type": "code",
   "execution_count": null,
   "metadata": {},
   "outputs": [],
   "source": [
    "#Print the pairs\n",
    "print(cities2countries.items())"
   ]
  },
  {
   "cell_type": "markdown",
   "metadata": {},
   "source": [
    "**Remove**"
   ]
  },
  {
   "cell_type": "code",
   "execution_count": null,
   "metadata": {},
   "outputs": [],
   "source": [
    "del cities2countries[\"Paris\"]\n",
    "print(cities2countries)"
   ]
  },
  {
   "cell_type": "markdown",
   "metadata": {},
   "source": [
    "**Creating a dictionary from two lists: ZIP**"
   ]
  },
  {
   "cell_type": "code",
   "execution_count": null,
   "metadata": {},
   "outputs": [],
   "source": [
    "#Creating dictionary using two lists\n",
    "list_cities = [\"Amsterdam\", \"Madrid\", \"Brussels\"]\n",
    "list_countries = [\"NL\",\"ES\",\"BE\"]\n",
    "\n",
    "#Put both together using zip\n",
    "cities2countries = dict(zip(list_cities,list_countries))\n",
    "print(cities2countries)"
   ]
  },
  {
   "cell_type": "code",
   "execution_count": null,
   "metadata": {},
   "outputs": [],
   "source": [
    "#The zip object is another strange data structure that we cannot see (like range)\n",
    "print(zip(list_cities,list_countries))"
   ]
  },
  {
   "cell_type": "code",
   "execution_count": null,
   "metadata": {},
   "outputs": [],
   "source": [
    "#But we can convert it to a list to see how it looks (like range)\n",
    "print(list(zip(list_cities,list_countries)))"
   ]
  },
  {
   "cell_type": "markdown",
   "metadata": {},
   "source": [
    "** Why to use dict? Because it's much much faster than a list, it always takes the same time to find an element in a dict, that's not the case in a list**\n",
    "- With 10 elements, finding an element in a dict is **2x** faster than finding it in a list\n",
    "- With 1000 elements, finding an element in adict is **100x** faster  than finding it in a list\n",
    "- With 1 million elements, finding an element in a dict is **100000x** faster  than finding it in a list\n"
   ]
  },
  {
   "cell_type": "markdown",
   "metadata": {},
   "source": [
    "## 2.2.5.Numpy array\n",
    "- Part of the numpy package\n",
    "- Extremely fast (and easy) to do math\n",
    "- You can slice them like lists\n",
    "- It gives many cool functions, like mean(), or \\*\\* over a list"
   ]
  },
  {
   "cell_type": "code",
   "execution_count": null,
   "metadata": {},
   "outputs": [],
   "source": [
    "#First we need to import it\n",
    "import numpy as np"
   ]
  },
  {
   "cell_type": "code",
   "execution_count": null,
   "metadata": {},
   "outputs": [],
   "source": [
    "a_list = [0,1,2,3,4,5,6]\n",
    "a_np_array = np.array(a_list)\n",
    "a_np_array**10"
   ]
  },
  {
   "cell_type": "code",
   "execution_count": null,
   "metadata": {},
   "outputs": [],
   "source": [
    "#Sum of a list\n",
    "a_list = [0,1,2,3,4,5,6]\n",
    "#Using the standard function\n",
    "print(sum(a_list))\n",
    "#Using numpy\n",
    "print(np.sum(a_list))"
   ]
  },
  {
   "cell_type": "code",
   "execution_count": null,
   "metadata": {},
   "outputs": [],
   "source": [
    "##How to find the mean() of a list of numbers? mean() does not exist\n",
    "print(mean(a_list)) "
   ]
  },
  {
   "cell_type": "code",
   "execution_count": null,
   "metadata": {},
   "outputs": [],
   "source": [
    "##but numpy rescues you\n",
    "import numpy as np\n",
    "\n",
    "a_list = [0,1,2,3,4,5,6]\n",
    "\n",
    "#first convert the list to an array. \n",
    "#This is not required when you use np.mean(a_list), but it is required in some other ocassions. \n",
    "a_np_array = np.array(a_list) \n",
    "\n",
    "print(type(a_list))\n",
    "print(type(a_np_array))\n",
    "print(np.mean(a_np_array)) "
   ]
  },
  {
   "cell_type": "code",
   "execution_count": null,
   "metadata": {},
   "outputs": [],
   "source": [
    "##you can take powers\n",
    "print(a_np_array**2) #this would not work with a list"
   ]
  },
  {
   "cell_type": "code",
   "execution_count": null,
   "metadata": {},
   "outputs": [],
   "source": [
    "##or square roots\n",
    "print(np.sqrt(a_np_array)) #this would work with a list"
   ]
  },
  {
   "cell_type": "code",
   "execution_count": null,
   "metadata": {
    "scrolled": true
   },
   "outputs": [],
   "source": [
    "#or some basic statistics\n",
    "import numpy as np\n",
    "import scipy.stats #another library for more complicated statistics\n",
    "\n",
    "#we create a list with numbers 0,1,2...998,999\n",
    "numElements = 1000\n",
    "this_is_an_list = list(range(numElements)) \n",
    "this_is_an_array = np.array(this_is_an_list)\n",
    "print(this_is_an_array[:10]) #print only the 10 first elements to make sure it's okay\n",
    "\n",
    "#and print some stats\n",
    "print(np.mean(this_is_an_array))\n",
    "print(np.std(this_is_an_array))\n",
    "print(np.median(this_is_an_array))\n",
    "print(scipy.stats.mode(this_is_an_array))\n",
    "print(scipy.stats.skew(this_is_an_array))"
   ]
  },
  {
   "cell_type": "markdown",
   "metadata": {},
   "source": [
    "#### IMPORTANT: NUMPY ARRAYS ALLOW YOU TO FILTER BY A CONDITION\n",
    "- **array_name[array_condition]**\n",
    "- For example, maybe you have a list [1,2,3,4,5,6,7,8,9,10] and you want the elements greater or equal to 5.\n",
    "- Numpy can help"
   ]
  },
  {
   "cell_type": "code",
   "execution_count": null,
   "metadata": {},
   "outputs": [],
   "source": [
    "#Let's start with this array\n",
    "this_is_an_array = np.array([1,2,3,4,5,6,7,8,9,10])\n",
    "print(this_is_an_array)"
   ]
  },
  {
   "cell_type": "code",
   "execution_count": null,
   "metadata": {},
   "outputs": [],
   "source": [
    "#If we want the elements greater or equal (>=) to 5, we could do:\n",
    "print(this_is_an_array[4:])"
   ]
  },
  {
   "cell_type": "code",
   "execution_count": null,
   "metadata": {},
   "outputs": [],
   "source": [
    "#However this case was very easy, but what getting the elements >= 5 in here:\n",
    "#[ 5,  9,  4,  3,  2,  8,  6, 7, 10,  1]\n",
    "unsorted_array = np.array([ 5,  9,  4,  3,  2,  8,  6, 7, 10,  1])\n",
    "print(unsorted_array)"
   ]
  },
  {
   "cell_type": "code",
   "execution_count": null,
   "metadata": {},
   "outputs": [],
   "source": [
    "#We can do the following: unsorted_array[unsorted_array >= 5]\n",
    "#which means keep the elements of unsorted_array that are larger or equal to 5\n",
    "#unsorted_array[condition]\n",
    "print(unsorted_array[unsorted_array >= 5])\n"
   ]
  },
  {
   "cell_type": "code",
   "execution_count": null,
   "metadata": {},
   "outputs": [],
   "source": [
    "#This is a special kind of slicing where you filter elements with a condition. \n",
    "#Lists do not allow you to do this\n",
    "#How does it work? By creating another array, of the same lenght, with False and Trues\n",
    "print(unsorted_array)\n",
    "print(this_is_an_array >= 5) #the same than comparing 3 >= 5, but numpy compares every number inside the array."
   ]
  },
  {
   "cell_type": "markdown",
   "metadata": {},
   "source": [
    " - When you do **unsorted_array[condition]**, the computer check if the first element of the array `condition` is True\n",
    " - If it is True, then it keeps the first element of `unsorted_array`.\n",
    " - The computer then checks the second element of the `condition` array.\n",
    " - If it is True, then it keeps the second element of `unsorted_array`\n",
    " - And keeps doing this until the end"
   ]
  },
  {
   "cell_type": "code",
   "execution_count": null,
   "metadata": {},
   "outputs": [],
   "source": [
    "#We can use variables\n",
    "condition = this_is_an_array >= 5 #the computer does the = at the end always\n",
    "print(unsorted_array[condition])"
   ]
  },
  {
   "cell_type": "code",
   "execution_count": null,
   "metadata": {},
   "outputs": [],
   "source": [
    "#What if we want to get the numbers between 5 and 9 (6, 7,9)?\n",
    "unsorted_array = np.array([ 5,  9,  4,  3,  2,  8,  6, 7, 10,  1])\n",
    "\n",
    "#We combine conditions\n",
    "condition_gt5 = unsorted_array > 5\n",
    "condition_lw9 = unsorted_array < 9 #we are using the new array\n",
    "unsorted_array_gt5_lw9 = unsorted_array[condition_gt5&condition_lw9]\n",
    "\n",
    "print(\"Greater than 5 and lower than 9\", unsorted_array_gt5_lw9)"
   ]
  },
  {
   "cell_type": "markdown",
   "metadata": {},
   "source": [
    "## 2.2.5. Pandas dataframe \n",
    "- They correspond to excel spreadsheets\n",
    "- Part of the pandas package\n",
    "- It is a big, complicated library that we will use a lot. \n",
    "- They are based on numpy arrays, so anything you can do with numpy arrays you can do with the rows or columns of a dataframe\n",
    "- Read/write csv files. It can also read stata or excel files (and sometimes spss), but who likes those programs.\n",
    "- Tip: Always save spreadsheets as .csv data\n",
    "\n",
    "\n",
    "\n",
    "**We'll explore it through examples**"
   ]
  },
  {
   "cell_type": "code",
   "execution_count": null,
   "metadata": {},
   "outputs": [],
   "source": [
    "##first we import it\n",
    "import pandas as pd"
   ]
  },
  {
   "cell_type": "markdown",
   "metadata": {},
   "source": [
    "### We know a lot about how Python works. Now let's do something more applied"
   ]
  }
 ],
 "metadata": {
  "anaconda-cloud": {},
  "kernelspec": {
   "display_name": "Python 3",
   "language": "python",
   "name": "python3"
  },
  "language_info": {
   "codemirror_mode": {
    "name": "ipython",
    "version": 3
   },
   "file_extension": ".py",
   "mimetype": "text/x-python",
   "name": "python",
   "nbconvert_exporter": "python",
   "pygments_lexer": "ipython3",
   "version": "3.5.6"
  }
 },
 "nbformat": 4,
 "nbformat_minor": 1
}
