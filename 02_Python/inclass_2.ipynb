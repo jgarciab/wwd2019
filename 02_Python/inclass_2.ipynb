{
 "cells": [
  {
   "cell_type": "markdown",
   "metadata": {},
   "source": [
    "**First run this cell:**"
   ]
  },
  {
   "cell_type": "code",
   "execution_count": null,
   "metadata": {},
   "outputs": [],
   "source": [
    "##Some code to run at the beginning of the file, to be able to show images in the notebook\n",
    "##Don't worry about this cell but run it\n",
    "\n",
    "#Print the plots in this screen\n",
    "%matplotlib inline \n",
    "\n",
    "#Be able to plot images saved in the hard drive\n",
    "from IPython.display import Image,display\n",
    "\n",
    "#Make the notebook wider\n",
    "from IPython.core.display import display, HTML \n",
    "display(HTML(\"<style>.container { width:90% !important; }</style>\"))"
   ]
  },
  {
   "cell_type": "markdown",
   "metadata": {},
   "source": [
    "## In class 1\n",
    "- import numpy as np\n",
    "\n",
    "- Convert the list to a numpy array\n",
    "\n",
    "- Calculate the mean of the list spam from the previous exercise\n",
    "\n",
    "- Filter the numbers smaller than 3 OR greater than 8\n"
   ]
  },
  {
   "cell_type": "code",
   "execution_count": null,
   "metadata": {},
   "outputs": [],
   "source": [
    "list_inclass1 = range(1,100,2)"
   ]
  },
  {
   "cell_type": "code",
   "execution_count": null,
   "metadata": {},
   "outputs": [],
   "source": [
    "#import numpy as np\n",
    "import numpy as np\n",
    "\n",
    "#Convert the list to an array\n",
    "array = \n",
    "print(array)"
   ]
  },
  {
   "cell_type": "code",
   "execution_count": null,
   "metadata": {},
   "outputs": [],
   "source": [
    "#Calculate the mean of the list\n",
    "mean =\n",
    "print(mean)"
   ]
  },
  {
   "cell_type": "code",
   "execution_count": null,
   "metadata": {},
   "outputs": [],
   "source": [
    "#Filter the even numbers (tip: the remainder of dividing an even number by 2 is 0, check the %) and save the results to array_even\n",
    "condition_lw3 = \n",
    "condition_gr8 = \n",
    "filter_condition = \n",
    "array_even = array[filter_condition]\n",
    "print(array_even)"
   ]
  },
  {
   "cell_type": "markdown",
   "metadata": {},
   "source": [
    "## In class 2\n",
    "- Create a dictionary based on the two lists provided\n",
    "- Find the phone number of \"Bob\" from the dictionary\n",
    "- Find if it has the right number of characters (9)"
   ]
  },
  {
   "cell_type": "code",
   "execution_count": null,
   "metadata": {},
   "outputs": [],
   "source": [
    "names = [\"Anna\", \"Bob\", \"Chris\"]\n",
    "phones = [\"062321313\",\"061231284\",\"068133123\"]\n",
    "name2phones = dict(.....)\n",
    "print(name2phones)"
   ]
  },
  {
   "cell_type": "code",
   "execution_count": null,
   "metadata": {},
   "outputs": [],
   "source": [
    "number_bob = name2phones[.....]\n",
    "print(number_bob)"
   ]
  },
  {
   "cell_type": "code",
   "execution_count": null,
   "metadata": {},
   "outputs": [],
   "source": [
    "print(.... ==9)"
   ]
  },
  {
   "cell_type": "markdown",
   "metadata": {},
   "source": [
    "## In class 3\n",
    "- Read a csv file\n",
    "- See the head of the file\n",
    "- Print the type of variables\n",
    "- Print the descriptives statistics"
   ]
  },
  {
   "cell_type": "code",
   "execution_count": null,
   "metadata": {},
   "outputs": [],
   "source": [
    "#import pandas as pd\n",
    "import pandas as pd\n",
    "\n",
    "#Read a standard csv, no strange things\n",
    "filename = \"data/alcohol.dta\"\n",
    "df_st = pd.read_stata()\n",
    "\n",
    "#Display the head\n",
    "df_st."
   ]
  },
  {
   "cell_type": "code",
   "execution_count": null,
   "metadata": {},
   "outputs": [],
   "source": [
    "#Display the types of variables\n",
    "df_st."
   ]
  },
  {
   "cell_type": "code",
   "execution_count": null,
   "metadata": {},
   "outputs": [],
   "source": [
    "#Describe the dataset\n",
    "df_st."
   ]
  },
  {
   "cell_type": "markdown",
   "metadata": {},
   "source": [
    "---"
   ]
  },
  {
   "cell_type": "markdown",
   "metadata": {},
   "source": [
    "## In class 4\n",
    "- Make two groups, income greater than the mean and smaller than the means (pd.cut)\n",
    "- Visualize the differences between the two groups with a boxplot"
   ]
  },
  {
   "cell_type": "code",
   "execution_count": null,
   "metadata": {},
   "outputs": [],
   "source": [
    "#Find the mean\n",
    "mean_income = \n"
   ]
  },
  {
   "cell_type": "code",
   "execution_count": null,
   "metadata": {},
   "outputs": [],
   "source": [
    "#Make the two groups\n",
    "df_st[\"groups_income\"] = pd.cut(...,[0,mean_income,3846+1])\n"
   ]
  },
  {
   "cell_type": "code",
   "execution_count": null,
   "metadata": {},
   "outputs": [],
   "source": [
    "#Make the boxplot (notebook 1.4)\n",
    "#Hue = what you want to split the data on\n",
    "#x = what variable you want in the x axis\n",
    "#y = what variable you want in the y axis\n",
    "import seaborn as sns\n",
    "#Example from the class: sns.boxplot(x=\"year\", y=\"score\", hue=\"treatment\",data=df_st)"
   ]
  },
  {
   "cell_type": "markdown",
   "metadata": {},
   "source": [
    "## In class 5\n",
    "- Keep the rows with income larger than 700 and lower than 1000, and the columns \"adults\" and \"kids\"\n"
   ]
  },
  {
   "cell_type": "code",
   "execution_count": null,
   "metadata": {},
   "outputs": [],
   "source": [
    "#Make both conditions\n",
    "condition_larger700 = df_st[\"income\"] > 700\n",
    "condition_lower_1000 = \n"
   ]
  },
  {
   "cell_type": "code",
   "execution_count": null,
   "metadata": {},
   "outputs": [],
   "source": [
    "#Combine both conditions with the right operator (&, |, -)\n",
    "both_conditions = \n"
   ]
  },
  {
   "cell_type": "code",
   "execution_count": null,
   "metadata": {},
   "outputs": [],
   "source": [
    "#Keep the rows satisfying the condition and the columns \"adults\" and \"kids\"\n",
    "df_st.loc[,[]]"
   ]
  }
 ],
 "metadata": {
  "anaconda-cloud": {},
  "kernelspec": {
   "display_name": "Python 3",
   "language": "python",
   "name": "python3"
  },
  "language_info": {
   "codemirror_mode": {
    "name": "ipython",
    "version": 3
   },
   "file_extension": ".py",
   "mimetype": "text/x-python",
   "name": "python",
   "nbconvert_exporter": "python",
   "pygments_lexer": "ipython3",
   "version": "3.5.6"
  }
 },
 "nbformat": 4,
 "nbformat_minor": 1
}
