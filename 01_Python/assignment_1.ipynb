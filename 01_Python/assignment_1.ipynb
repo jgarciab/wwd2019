{
 "cells": [
  {
   "cell_type": "markdown",
   "metadata": {
    "collapsed": true
   },
   "source": [
    "# Assignment 1\n",
    "## Due date: Wednesday 9th\n",
    "- Write your own code in the blanks. It is okay to collaborate with other students, but both students must write their own code and write the name of the other student in this cell. In case you adapt code from other sources you also must give that user credit (a comment with the link to the source suffices)\n",
    "- Complete the blanks, adding comments to explain what you are doing\n",
    "- Assignment 4 will be weighted more\n",
    "\n",
    "Collaborated with:"
   ]
  },
  {
   "cell_type": "markdown",
   "metadata": {},
   "source": [
    "**First run this cell:**"
   ]
  },
  {
   "cell_type": "code",
   "execution_count": 1,
   "metadata": {},
   "outputs": [
    {
     "data": {
      "text/html": [
       "<style>.container { width:90% !important; }</style>"
      ],
      "text/plain": [
       "<IPython.core.display.HTML object>"
      ]
     },
     "metadata": {},
     "output_type": "display_data"
    }
   ],
   "source": [
    "##Some code to run at the beginning of the file, to be able to show images in the notebook\n",
    "##Don't worry about this cell but run it\n",
    "\n",
    "#Print the plots in this screen\n",
    "%matplotlib inline \n",
    "\n",
    "#Be able to plot images saved in the hard drive\n",
    "from IPython.display import Image,display\n",
    "\n",
    "#Make the notebook wider\n",
    "from IPython.core.display import display, HTML \n",
    "display(HTML(\"<style>.container { width:90% !important; }</style>\"))"
   ]
  },
  {
   "cell_type": "markdown",
   "metadata": {},
   "source": [
    "## Problem 1 (ungraded but important). Read some tutorials\n",
    "- Basic programming: This is a good video: https://www.youtube.com/watch?v=N4mEzFDjqtA (miuntes 2:30 -- 30:00)\n",
    "    - We covered 2:30 -- 15:45 in the first class, we'll cover most of the rest in the second class\n",
    "    - He doesn't use jupyter notebook but another editor. He writes in the left and the output appears in the right.    "
   ]
  },
  {
   "cell_type": "markdown",
   "metadata": {},
   "source": [
    "**Next, see some tutorials on pandas:**\n",
    "\n",
    "Go to the jupyter dashboard and you'll see a folder pandas-cookbook, inside you can find a folder cookbook, where the tutorials are placed. Please play with the these ones:\n",
    "    - A quick tour of the IPython Notebook: Shows off IPython’s awesome tab completion and magic functions.\n",
    "    - Chapter 1: Reading your data into pandas is pretty much the easiest thing. Even when the encoding is wrong!\n",
    "    - Chapter 2: It’s not totally obvious how to select data from a pandas dataframe. Here we explain the basics (how to take slices and get columns)\n",
    "    - Chapter 3: Here we get into serious slicing and dicing and learn how to filter dataframes in complicated ways, really fast.\n",
    "    - Chapter 4 - Find out on which weekday people bike the most with groupby and aggregate.ipynb\n",
    "    - Chapter 5 - Combining dataframes and scraping Canadian weather data.ipynb\n",
    "    "
   ]
  },
  {
   "cell_type": "markdown",
   "metadata": {},
   "source": [
    "## Problem 2 \n",
    "- Create a list named *spam* with numbers from 1 to 100 numbers \n",
    "\n",
    "- Calculate the mean of the list \n",
    "\n",
    "- Calculate the mean of the first half of the list \n",
    "\n",
    "- Check if the first element is larger than the last element"
   ]
  },
  {
   "cell_type": "code",
   "execution_count": null,
   "metadata": {},
   "outputs": [],
   "source": [
    "## Assingment 2 (20)\n",
    "#Create a list of numbers between 1 and 100 (tip: use range())\n",
    "spam = \n",
    "print(spam)\n",
    "\n",
    "#Calculate the mean of the list (tip: use sum() and len()) \n",
    "mean = \n",
    "print(mean)\n",
    "\n",
    "#Calculate the mean of the first half of the list (tip: slice the list) \n",
    "mean_first_half = \n",
    "print(mean_first_half)\n",
    "\n",
    "#Check if the first element is larger or equal than the last element  (>=)\n",
    "first_element = \n",
    "last_elment = \n",
    "print() #this line needs to be completed, printing the result comparison\n",
    "\n",
    "#Convert the list spam to a tuple\n",
    "tuple_spam =\n",
    "print()"
   ]
  },
  {
   "cell_type": "markdown",
   "metadata": {},
   "source": [
    "## Problem 3\n",
    "- import numpy as np\n",
    "- Create a numpy array of numbers between 1 and 10000 (tip: use np.arange())\n",
    "\n",
    "- Calculate the mean of the list (tip: np.mean()) \n",
    "\n",
    "- Filter the even numbers (tip: even number % 2 == 0) and save the resuls\n"
   ]
  },
  {
   "cell_type": "code",
   "execution_count": null,
   "metadata": {},
   "outputs": [],
   "source": [
    "#import numpy as np\n",
    "import numpy as np\n",
    "\n",
    "#Create a numpy array of numbers between 1 and 10000 (tip: use np.arange())\n",
    "array =\n",
    "print(array)\n",
    "\n",
    "\n",
    "#Calculate the mean of the list (tip: np.mean()) \n",
    "mean =\n",
    "print(mean)\n",
    "\n",
    "\n",
    "#Filter the even numbers (tip: the remainder of dividing an even number by 2 is 0, check the %) and save the results to array_even\n",
    "filter_condition = \n",
    "array_even = array[filter_condition]\n",
    "print(array_even)\n"
   ]
  },
  {
   "cell_type": "markdown",
   "metadata": {},
   "source": [
    "## Problem 4\n",
    "- Reading data\n",
    "    - a standard csv\n",
    "    - a csv using \"\\t\"\n",
    "    - a csv using a different encoding (try several until one works)\n",
    "    - a csv having no header\n",
    "    - a csv usign \"m\" as missing values (instead of \"nan\" or \"\" or \"-9\")\n",
    "    \n",
    "- Read a toy dataset on alcohol consumption with four columns\"\n",
    "    - adults: number of adults in household\n",
    "    - kids: number of kids in household\n",
    "    - income: average income\n",
    "    - consume: consume alcohol\n",
    "    \n",
    "- Print the top of the file (.head()), get descriptive statistics (.describe()) and make a contingency table visualizing the realtionship between number of adults (pd.crosstab())\n",
    "\n",
    "- Visualize the relationship between number of adults, alcohol consumption and income using the right type of plot (among the ones we learned). Think about what should the y variable, the x variable and the hue.\n",
    "\n",
    "- What plot would you use to model the number of adults vs income? \n"
   ]
  },
  {
   "cell_type": "code",
   "execution_count": null,
   "metadata": {},
   "outputs": [],
   "source": [
    "#import pandas\n",
    "import pandas as pd"
   ]
  },
  {
   "cell_type": "code",
   "execution_count": null,
   "metadata": {},
   "outputs": [],
   "source": [
    "#Read a standard csv, no strange things\n",
    "filename = \"data/hw1_csv_st.csv\"\n",
    "df_st = \n",
    "df_st.head()"
   ]
  },
  {
   "cell_type": "code",
   "execution_count": null,
   "metadata": {},
   "outputs": [],
   "source": [
    "#Read a standard csv, careful, the file uses tabs (\"\\t\") as separators\n",
    "filename = \"data/hw1_csv_tab.csv\"\n",
    "df_tab = \n",
    "df_tab.head()"
   ]
  },
  {
   "cell_type": "code",
   "execution_count": null,
   "metadata": {},
   "outputs": [],
   "source": [
    "#Read a standard csv, careful, the file uses a different encoding (no UTF-8)\n",
    "filename = \"data/hw1_csv_enc.csv\"\n",
    "df_enc = \n",
    "df_enc.head()"
   ]
  },
  {
   "cell_type": "code",
   "execution_count": null,
   "metadata": {},
   "outputs": [],
   "source": [
    "#Read a standard csv, careful, the file does not have a header\n",
    "filename = \"data/hw1_csv_header.csv\"\n",
    "df_hea = \n",
    "df_hea.head()"
   ]
  },
  {
   "cell_type": "code",
   "execution_count": null,
   "metadata": {},
   "outputs": [],
   "source": [
    "#Read a standard csv, careful, the file uses \"m\" to indicate a missing value\n",
    "filename = \"data/hw1_csv_weird_na.csv\"\n",
    "df_na = \n",
    "df_na.head()"
   ]
  },
  {
   "cell_type": "markdown",
   "metadata": {},
   "source": [
    "---"
   ]
  },
  {
   "cell_type": "code",
   "execution_count": null,
   "metadata": {
    "scrolled": true
   },
   "outputs": [],
   "source": [
    "#read stata file (the file is in \"data/alcohol.dta\" and it is a stata file)\n",
    "df = \n",
    "\n",
    "#print top of the file to explore it (.head())\n"
   ]
  },
  {
   "cell_type": "markdown",
   "metadata": {},
   "source": [
    "** What type of variables are in the dataset?**\n",
    "\n",
    "For help (see section Types of Variables) check: https://www.boundless.com/statistics/textbooks/boundless-statistics-textbook/visualizing-data-3/the-histogram-18/types-of-variables-87-4406/\n",
    "\n",
    "answer here\n",
    "\n",
    "- adults: \n",
    "- kids: \n",
    "- income: \n",
    "- consume: \n"
   ]
  },
  {
   "cell_type": "code",
   "execution_count": null,
   "metadata": {},
   "outputs": [],
   "source": [
    "#print descriptive statistics and interpret them (.describe())\n",
    "df."
   ]
  },
  {
   "cell_type": "code",
   "execution_count": null,
   "metadata": {},
   "outputs": [],
   "source": [
    "#keep only the households without kids and use this dataset for the rest of the assignment\n",
    "filtering_condition =\n",
    "df_nokids = df.loc[filtering_condition]"
   ]
  },
  {
   "cell_type": "code",
   "execution_count": null,
   "metadata": {},
   "outputs": [],
   "source": [
    "#visualize the relationship between number of adults, alcohol consumption and income using the right type of plot\n"
   ]
  },
  {
   "cell_type": "code",
   "execution_count": null,
   "metadata": {},
   "outputs": [],
   "source": [
    "#save the plot as a pdf with the name \"hw1_plot.pdf\"\n",
    "\n"
   ]
  },
  {
   "cell_type": "markdown",
   "metadata": {},
   "source": [
    "** Interpret the plot you just made **\n",
    "\n",
    "answer here\n"
   ]
  },
  {
   "cell_type": "markdown",
   "metadata": {},
   "source": [
    "** What plot(s) would you use to model the number of adults vs income? Why? **\n",
    "\n",
    "answer here"
   ]
  },
  {
   "cell_type": "code",
   "execution_count": null,
   "metadata": {},
   "outputs": [],
   "source": [
    "#Visualize the relationship between number of adults and number of kids using a contingency table using pd.crosstab(df[x],df[y])\n"
   ]
  },
  {
   "cell_type": "markdown",
   "metadata": {},
   "source": [
    "** Interpret the table you just made **\n",
    "\n",
    "answer here"
   ]
  },
  {
   "cell_type": "markdown",
   "metadata": {},
   "source": [
    "## Problem 6: Explain a figure \n",
    "- All the plots below, corresponding to 12 different datasets have the same correlation (R^2 = 0.67), same mean and standard deviation for both x and y axis (see the statistics).\n",
    "\n",
    "Edit the cell below to answer the questions\n",
    "\n",
    "---"
   ]
  },
  {
   "cell_type": "markdown",
   "metadata": {},
   "source": [
    "- What can we say from these plots?\n",
    "\n",
    "answer here\n",
    "- Now change the \"alpha\" parameter in the code below (the one producing the plots) from 0 to 1 and run the cell again.\n",
    "\n",
    "answer here\n",
    "- What can we say now about the plots? \n",
    "\n",
    "answer here"
   ]
  },
  {
   "cell_type": "code",
   "execution_count": 4,
   "metadata": {
    "scrolled": false
   },
   "outputs": [
    {
     "data": {
      "text/html": [
       "<div>\n",
       "<style scoped>\n",
       "    .dataframe tbody tr th:only-of-type {\n",
       "        vertical-align: middle;\n",
       "    }\n",
       "\n",
       "    .dataframe tbody tr th {\n",
       "        vertical-align: top;\n",
       "    }\n",
       "\n",
       "    .dataframe thead th {\n",
       "        text-align: right;\n",
       "    }\n",
       "</style>\n",
       "<table border=\"1\" class=\"dataframe\">\n",
       "  <thead>\n",
       "    <tr style=\"text-align: right;\">\n",
       "      <th></th>\n",
       "      <th>Mean_x</th>\n",
       "      <th>Mean_y</th>\n",
       "      <th>Std_x</th>\n",
       "      <th>Std_y</th>\n",
       "    </tr>\n",
       "    <tr>\n",
       "      <th>dataset</th>\n",
       "      <th></th>\n",
       "      <th></th>\n",
       "      <th></th>\n",
       "      <th></th>\n",
       "    </tr>\n",
       "  </thead>\n",
       "  <tbody>\n",
       "    <tr>\n",
       "      <th>away</th>\n",
       "      <td>54.266100</td>\n",
       "      <td>47.834721</td>\n",
       "      <td>16.769825</td>\n",
       "      <td>26.939743</td>\n",
       "    </tr>\n",
       "    <tr>\n",
       "      <th>bullseye</th>\n",
       "      <td>54.268730</td>\n",
       "      <td>47.830823</td>\n",
       "      <td>16.769239</td>\n",
       "      <td>26.935727</td>\n",
       "    </tr>\n",
       "    <tr>\n",
       "      <th>circle</th>\n",
       "      <td>54.267320</td>\n",
       "      <td>47.837717</td>\n",
       "      <td>16.760013</td>\n",
       "      <td>26.930036</td>\n",
       "    </tr>\n",
       "    <tr>\n",
       "      <th>dino</th>\n",
       "      <td>54.263273</td>\n",
       "      <td>47.832253</td>\n",
       "      <td>16.765142</td>\n",
       "      <td>26.935403</td>\n",
       "    </tr>\n",
       "    <tr>\n",
       "      <th>dots</th>\n",
       "      <td>54.260303</td>\n",
       "      <td>47.839829</td>\n",
       "      <td>16.767735</td>\n",
       "      <td>26.930192</td>\n",
       "    </tr>\n",
       "    <tr>\n",
       "      <th>h_lines</th>\n",
       "      <td>54.261442</td>\n",
       "      <td>47.830252</td>\n",
       "      <td>16.765898</td>\n",
       "      <td>26.939876</td>\n",
       "    </tr>\n",
       "    <tr>\n",
       "      <th>high_lines</th>\n",
       "      <td>54.268805</td>\n",
       "      <td>47.835450</td>\n",
       "      <td>16.766704</td>\n",
       "      <td>26.939998</td>\n",
       "    </tr>\n",
       "    <tr>\n",
       "      <th>slant_down</th>\n",
       "      <td>54.267849</td>\n",
       "      <td>47.835896</td>\n",
       "      <td>16.766759</td>\n",
       "      <td>26.936105</td>\n",
       "    </tr>\n",
       "    <tr>\n",
       "      <th>slant_up</th>\n",
       "      <td>54.265882</td>\n",
       "      <td>47.831496</td>\n",
       "      <td>16.768853</td>\n",
       "      <td>26.938608</td>\n",
       "    </tr>\n",
       "    <tr>\n",
       "      <th>star</th>\n",
       "      <td>54.267341</td>\n",
       "      <td>47.839545</td>\n",
       "      <td>16.768959</td>\n",
       "      <td>26.930275</td>\n",
       "    </tr>\n",
       "    <tr>\n",
       "      <th>v_lines</th>\n",
       "      <td>54.269927</td>\n",
       "      <td>47.836988</td>\n",
       "      <td>16.769959</td>\n",
       "      <td>26.937684</td>\n",
       "    </tr>\n",
       "    <tr>\n",
       "      <th>wide_lines</th>\n",
       "      <td>54.266916</td>\n",
       "      <td>47.831602</td>\n",
       "      <td>16.770000</td>\n",
       "      <td>26.937902</td>\n",
       "    </tr>\n",
       "    <tr>\n",
       "      <th>x_shape</th>\n",
       "      <td>54.260150</td>\n",
       "      <td>47.839717</td>\n",
       "      <td>16.769958</td>\n",
       "      <td>26.930002</td>\n",
       "    </tr>\n",
       "  </tbody>\n",
       "</table>\n",
       "</div>"
      ],
      "text/plain": [
       "               Mean_x     Mean_y      Std_x      Std_y\n",
       "dataset                                               \n",
       "away        54.266100  47.834721  16.769825  26.939743\n",
       "bullseye    54.268730  47.830823  16.769239  26.935727\n",
       "circle      54.267320  47.837717  16.760013  26.930036\n",
       "dino        54.263273  47.832253  16.765142  26.935403\n",
       "dots        54.260303  47.839829  16.767735  26.930192\n",
       "h_lines     54.261442  47.830252  16.765898  26.939876\n",
       "high_lines  54.268805  47.835450  16.766704  26.939998\n",
       "slant_down  54.267849  47.835896  16.766759  26.936105\n",
       "slant_up    54.265882  47.831496  16.768853  26.938608\n",
       "star        54.267341  47.839545  16.768959  26.930275\n",
       "v_lines     54.269927  47.836988  16.769959  26.937684\n",
       "wide_lines  54.266916  47.831602  16.770000  26.937902\n",
       "x_shape     54.260150  47.839717  16.769958  26.930002"
      ]
     },
     "execution_count": 4,
     "metadata": {},
     "output_type": "execute_result"
    }
   ],
   "source": [
    "import seaborn as sns\n",
    "import pandas as pd\n",
    "sns.set(style=\"ticks\")\n",
    "\n",
    "# Load the example dataset for Anscombe's quartet\n",
    "df = pd.read_csv(\"../../../class_data/DatasaurusDozen.tsv\",sep=\"\\t\")\n",
    "\n",
    "#Print some statistics (this line is overcomplicated, don't worry about it)\n",
    "stats = pd.concat([df.groupby(\"dataset\").mean(),df.groupby(\"dataset\").std()],axis=1)\n",
    "stats.columns = [\"Mean_x\",\"Mean_y\",\"Std_x\",\"Std_y\"]\n",
    "stats"
   ]
  },
  {
   "cell_type": "code",
   "execution_count": 5,
   "metadata": {},
   "outputs": [],
   "source": [
    "%matplotlib inline"
   ]
  },
  {
   "cell_type": "code",
   "execution_count": 6,
   "metadata": {},
   "outputs": [
    {
     "data": {
      "text/plain": [
       "<seaborn.axisgrid.FacetGrid at 0x7fb34c368be0>"
      ]
     },
     "execution_count": 6,
     "metadata": {},
     "output_type": "execute_result"
    },
    {
     "data": {
      "image/png": "[encoded data removed]",
      "text/plain": [
       "<Figure size 1152x1152 with 13 Axes>"
      ]
     },
     "metadata": {
      "needs_background": "light"
     },
     "output_type": "display_data"
    }
   ],
   "source": [
    "# Show the results of a linear regression within each dataset\n",
    "sns.lmplot(x=\"x\", y=\"y\", col=\"dataset\", hue=\"dataset\", data=df,\n",
    "           col_wrap=4, ci=None, palette=\"muted\", size=4,\n",
    "           scatter_kws={\"s\": 50, \"alpha\": 0})"
   ]
  },
  {
   "cell_type": "markdown",
   "metadata": {},
   "source": [
    "---"
   ]
  },
  {
   "cell_type": "markdown",
   "metadata": {},
   "source": [
    "## Problem 7: Now it's your turn\n",
    "- Download a csv from here: https://vincentarelbundock.github.io/Rdatasets/datasets.html\n",
    "- Upload it to the data folder\n",
    "- Read the folder\n",
    "- Check its head and describe it\n",
    "- Write a couple of lines about what types of variables we have in the csv (e.g. quantitative, qualitative...)\n",
    "- Visualize the relationship between 2 or 3 variables with a scatter plot, a line plot or a boxplot\n",
    "- Explain what the plot shows"
   ]
  }
 ],
 "metadata": {
  "anaconda-cloud": {},
  "kernelspec": {
   "display_name": "Python 3",
   "language": "python",
   "name": "python3"
  },
  "language_info": {
   "codemirror_mode": {
    "name": "ipython",
    "version": 3
   },
   "file_extension": ".py",
   "mimetype": "text/x-python",
   "name": "python",
   "nbconvert_exporter": "python",
   "pygments_lexer": "ipython3",
   "version": "3.5.6"
  }
 },
 "nbformat": 4,
 "nbformat_minor": 1
}
