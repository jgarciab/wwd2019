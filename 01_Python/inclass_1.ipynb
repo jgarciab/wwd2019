{
 "cells": [
  {
   "cell_type": "markdown",
   "metadata": {},
   "source": [
    "**First run this cell:**"
   ]
  },
  {
   "cell_type": "code",
   "execution_count": 52,
   "metadata": {},
   "outputs": [
    {
     "data": {
      "text/html": [
       "<style>.container { width:90% !important; }</style>"
      ],
      "text/plain": [
       "<IPython.core.display.HTML object>"
      ]
     },
     "metadata": {},
     "output_type": "display_data"
    }
   ],
   "source": [
    "##Some code to run at the beginning of the file, to be able to show images in the notebook\n",
    "##Don't worry about this cell but run it\n",
    "\n",
    "#Print the plots in this screen\n",
    "%matplotlib inline \n",
    "\n",
    "#Be able to plot images saved in the hard drive\n",
    "from IPython.display import Image,display\n",
    "\n",
    "#Make the notebook wider\n",
    "from IPython.core.display import display, HTML \n",
    "display(HTML(\"<style>.container { width:90% !important; }</style>\"))"
   ]
  },
  {
   "cell_type": "markdown",
   "metadata": {},
   "source": [
    "## In class 1\n",
    "- Investigate the type of the two variables below, with the grades in january and february (use type(.....))\n",
    "- Use Python as a calculator: Sum the grades"
   ]
  },
  {
   "cell_type": "code",
   "execution_count": 1,
   "metadata": {},
   "outputs": [],
   "source": [
    "grade_january = 8\n",
    "grade_february = 8.5"
   ]
  },
  {
   "cell_type": "code",
   "execution_count": null,
   "metadata": {},
   "outputs": [],
   "source": [
    "sum_grades = \n",
    "print(sum_grades)"
   ]
  },
  {
   "cell_type": "markdown",
   "metadata": {},
   "source": [
    "- Use Python as a calculator: Calculate the increase in the grade from January to February"
   ]
  },
  {
   "cell_type": "code",
   "execution_count": null,
   "metadata": {},
   "outputs": [],
   "source": [
    "percentage_increse = "
   ]
  },
  {
   "cell_type": "markdown",
   "metadata": {},
   "source": [
    "- Use .format() to create the following string:\n",
    "`\"The grade in January was 8 and the grade in February was 8.5\"`\n",
    "\n",
    "- Example from the lecture: \n",
    "    - print(\"{} {} and {} = diabetes\".format(5,\"sausages\",\"bacon\")) \n",
    "    - _Each element inside format() is added in the place of each {}_\n"
   ]
  },
  {
   "cell_type": "code",
   "execution_count": null,
   "metadata": {},
   "outputs": [],
   "source": [
    "print(\"........\".format())"
   ]
  },
  {
   "cell_type": "markdown",
   "metadata": {},
   "source": [
    "## In class 2\n",
    "- Create a list named *spam* with numbers from 1 to 10 numbers \n",
    "\n",
    "- Calculate the sum of the list \n",
    "\n",
    "- Check the value of the third element and the last one\n",
    "\n",
    "- Print the first two elements"
   ]
  },
  {
   "cell_type": "code",
   "execution_count": null,
   "metadata": {
    "collapsed": true
   },
   "outputs": [],
   "source": [
    "#Create a list of numbers between 1 and 10\n",
    "spam = \n",
    "print(spam)\n",
    "\n",
    "#Calculate the sum of the list \n",
    "sum_spam = \n",
    "print(sum_spamn)\n",
    "\n",
    "\n",
    "#Check if the first element is larger or equal than the last element  (>=)\n",
    "third_element = \n",
    "last_elment = \n",
    "print(third_element)\n",
    "print(last_elment)\n",
    "\n",
    "#Print the first two elements\n",
    "first_two_eleemnts = spam[:]\n",
    "print(first_two_eleemnts)"
   ]
  }
 ],
 "metadata": {
  "anaconda-cloud": {},
  "kernelspec": {
   "display_name": "Python 3",
   "language": "python",
   "name": "python3"
  },
  "language_info": {
   "codemirror_mode": {
    "name": "ipython",
    "version": 3
   },
   "file_extension": ".py",
   "mimetype": "text/x-python",
   "name": "python",
   "nbconvert_exporter": "python",
   "pygments_lexer": "ipython3",
   "version": "3.5.6"
  }
 },
 "nbformat": 4,
 "nbformat_minor": 1
}
