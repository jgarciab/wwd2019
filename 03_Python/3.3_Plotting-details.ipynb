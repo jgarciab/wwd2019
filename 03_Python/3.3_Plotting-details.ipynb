{
 "cells": [
  {
   "cell_type": "markdown",
   "metadata": {},
   "source": [
    "# Working with data 2017. Class 1 \n",
    "## Contact\n",
    "Javier Garcia-Bernardo\n",
    "garcia@uva.nl\n",
    "\n",
    "## Week's plan:\n",
    "### Monday:\n",
    "1. About Python: Jupyter notebooks and packages\n",
    "2. Python:\n",
    "  - 2.1 Data types: Numbers, strings, booleans\n",
    "  - 2.2 Data structures (I): List\n",
    "  - 2.3 Code (I): How Python works\n",
    "3. Pandas (I): Read csv\n",
    "4. Seaborn (I): First plots\n",
    "\n",
    "### Wednesday:\n",
    "2. Python\n",
    "  - 2.2 Data structures (II): Sets, dictionaries, numpy array, pandas dataframe\n",
    "3. Pandas (II): Basic operations with dataframes\n",
    "\n",
    "### Thursday:\n",
    "2. Python\n",
    "  - 2.3 Code (II): Functions, for-loops and if-else statements\n",
    "  - 2.4 Debugging Python\n",
    "4. **Seaborn (II): Some other plots**\n"
   ]
  },
  {
   "cell_type": "code",
   "execution_count": null,
   "metadata": {},
   "outputs": [],
   "source": [
    "##Some code to run at the beginning of the file, to be able to show images in the notebook\n",
    "##Don't worry about this cell\n",
    "\n",
    "#Print the plots in this screen\n",
    "%matplotlib inline \n",
    "\n",
    "#Be able to plot images saved in the hard drive\n",
    "from IPython.display import Image \n",
    "\n",
    "#Make the notebook wider\n",
    "from IPython.core.display import display, HTML \n",
    "display(HTML(\"<style>.container { width:90% !important; }</style>\"))\n",
    "\n",
    "import pandas as pd\n",
    "import numpy as np\n",
    "import seaborn as sns\n",
    "import pylab as plt"
   ]
  },
  {
   "cell_type": "markdown",
   "metadata": {},
   "source": [
    "---"
   ]
  },
  {
   "cell_type": "markdown",
   "metadata": {},
   "source": [
    "# 4. Seaborn and matplotlib: More on plotting\n",
    "Finally!\n",
    "- We will use the libraries matplotlib and seaborn.\n",
    "- seaborn makes beautiful plots. matplotlib is easier (and it's the base of seaborn).\n"
   ]
  },
  {
   "cell_type": "code",
   "execution_count": null,
   "metadata": {},
   "outputs": [],
   "source": [
    "#this tells the computer to plot everything here\n",
    "%matplotlib inline \n",
    "\n",
    "#importing this library makes the default colors be beautiful\n",
    "import seaborn as sns \n",
    "\n",
    "#this import matplotlib\n",
    "import pylab as plt\n",
    "\n",
    "#make plots a bit nicer\n",
    "sns.set(font_scale=1.2)\n",
    "sns.set_style(\"whitegrid\")\n"
   ]
  },
  {
   "cell_type": "code",
   "execution_count": null,
   "metadata": {},
   "outputs": [],
   "source": [
    "#First we reed our data\n",
    "import pandas as pd\n",
    "\n",
    "df = pd.read_csv(\"./data/class1_test_csv.csv\",sep=\"\\t\",skiprows=4,na_values=[\"-9\"])\n",
    "df[\"happiness\"] = [1,2,3,4,5,6,7,8,9,10,11,12]\n",
    "df[\"events\"] = [1,2,3,4,5,6,7,8,9,10,11,12]\n",
    "df = df.dropna()#drop missing values\n",
    "df.head()"
   ]
  },
  {
   "cell_type": "markdown",
   "metadata": {},
   "source": [
    "## 4.1 General idea: Pointplot and boxplot\n",
    "- When the dataset is tidy (long format) visualization is very easy"
   ]
  },
  {
   "cell_type": "code",
   "execution_count": null,
   "metadata": {},
   "outputs": [],
   "source": [
    "sns.pointplot(x=\"year\",y=\"happiness\",hue=\"treatment\",data=df)"
   ]
  },
  {
   "cell_type": "code",
   "execution_count": null,
   "metadata": {},
   "outputs": [],
   "source": [
    "sns.boxplot(x=\"treatment\", y=\"score\",hue='year', data=df,palette=\"Blues\")"
   ]
  },
  {
   "cell_type": "markdown",
   "metadata": {},
   "source": [
    "**But is this the most appropriate plot?**\n",
    "\n",
    "- What would we want to to visualize? \n",
    "- What can be more effective for it?\n",
    "- Which variables are continuous (and thus can be connected by a line?)\n"
   ]
  },
  {
   "cell_type": "markdown",
   "metadata": {},
   "source": [
    "## 4.2 Scatter plot: plt.scatter(arguments)\n",
    "Used to plot two quantitative variables against each other. We can add one extra quant. variable if we use bubble size and one qualitative if we use bubble color.\n",
    "\n",
    "Important arguments:\n",
    "- **x**: x values (an array)\n",
    "- **y**: y values (an array)\n",
    "- **c** (optional, default = \"blue\"): color (can be an array, or a string such as \"blue\")\n",
    "- **s** (optional, default = 20): size (can be an array, or a number)\n",
    "- **alpha** (optional, default = 1): transparency\n",
    "- **edgecolor** (optional, default = \"black\"): \"none\" for none\n",
    "- **cmap**: which colormap to use: http://matplotlib.org/examples/color/colormaps_reference.html\n",
    "- **label**: label of the plot for the legend\n"
   ]
  },
  {
   "cell_type": "code",
   "execution_count": null,
   "metadata": {},
   "outputs": [],
   "source": [
    "#A function to annotate a scatter plot\n",
    "def annotate_scatter(x,y,label,data,fontsize=14):\n",
    "    \"\"\"\n",
    "    Function to annotate a scatter plot\n",
    "    \n",
    "    Input:\n",
    "    x: name of variable in x axis\n",
    "    y: name of variable in y axis\n",
    "    label: name of variable with the labels\n",
    "    data: dataframe\n",
    "    fontsize (default 14): font size\n",
    "    \n",
    "    \"\"\"\n",
    "    for label,x,y in zip(data[label],data[x],data[y]):\n",
    "        plt.annotate(label,(x,y),fontsize=fontsize)"
   ]
  },
  {
   "cell_type": "code",
   "execution_count": null,
   "metadata": {},
   "outputs": [],
   "source": [
    "x = df[\"score\"] #x values\n",
    "y = df[\"happiness\"] #y values\n",
    "c = df[\"treatment\"] #color\n",
    "s = df[\"events\"] #size\n",
    "\n",
    "#Make the scatter plot, using treatment as color, and events as size of the marker, \n",
    "#no edgecolor and a Red-Yellow-Blue colormap\n",
    "plt.scatter(x,y,c=c,s=s*20,edgecolor=\"none\",cmap=\"RdYlBu\",alpha=0.5)"
   ]
  },
  {
   "cell_type": "code",
   "execution_count": null,
   "metadata": {},
   "outputs": [],
   "source": [
    "#Make the scatter plot, using treatment as color, and events as size of the marker, \n",
    "#no edgecolor and a Red-Yellow-Blue colormap\n",
    "plt.scatter(x,y,c=c,s=s*20,edgecolor=\"none\",cmap=\"RdYlBu\",alpha=0.5)\n",
    "plt.xlabel(\"Score\",fontsize=12)\n",
    "plt.ylabel(\"Happiness\",fontsize=12)\n",
    "plt.show()"
   ]
  },
  {
   "cell_type": "code",
   "execution_count": null,
   "metadata": {},
   "outputs": [],
   "source": [
    "x = df[\"score\"] #x values\n",
    "y = df[\"happiness\"] #y values\n",
    "c = df[\"treatment\"] #color\n",
    "s = df[\"events\"] #size\n",
    "\n",
    "#Make the scatter plot, using treatment as color, 80 as size of the marker, \n",
    "#no edgecolor and a Red-Yellow-Blue colormap\n",
    "plt.scatter(x,y,c=c,s=s*20,edgecolor=\"none\",cmap=\"RdYlBu\",alpha=0.5)\n",
    "annotate_scatter(x=\"score\",y=\"happiness\",label=\"person\",data=df)\n",
    "plt.xlabel(\"Score\",fontsize=12)\n",
    "plt.ylabel(\"Happiness\",fontsize=12)\n",
    "plt.show()"
   ]
  }
 ],
 "metadata": {
  "anaconda-cloud": {},
  "kernelspec": {
   "display_name": "Python 3",
   "language": "python",
   "name": "python3"
  },
  "language_info": {
   "codemirror_mode": {
    "name": "ipython",
    "version": 3
   },
   "file_extension": ".py",
   "mimetype": "text/x-python",
   "name": "python",
   "nbconvert_exporter": "python",
   "pygments_lexer": "ipython3",
   "version": "3.5.6"
  }
 },
 "nbformat": 4,
 "nbformat_minor": 1
}
