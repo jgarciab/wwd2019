{
 "cells": [
  {
   "cell_type": "markdown",
   "metadata": {},
   "source": [
    "**First run this cell:**"
   ]
  },
  {
   "cell_type": "code",
   "execution_count": null,
   "metadata": {},
   "outputs": [],
   "source": [
    "##Some code to run at the beginning of the file, to be able to show images in the notebook\n",
    "##Don't worry about this cell but run it\n",
    "\n",
    "#Print the plots in this screen\n",
    "%matplotlib inline \n",
    "\n",
    "#Be able to plot images saved in the hard drive\n",
    "from IPython.display import Image,display\n",
    "\n",
    "#Make the notebook wider\n",
    "from IPython.core.display import display, HTML \n",
    "display(HTML(\"<style>.container { width:90% !important; }</style>\"))\n",
    "\n",
    "import pandas as pd\n",
    "import seaborn as sns\n",
    "import numpy as np\n",
    "import pylab as plt"
   ]
  },
  {
   "cell_type": "markdown",
   "metadata": {},
   "source": [
    "## In class 1 (challenging).\n",
    "- Read a csv file (DONE)\n",
    "- Create an empty list (DONE)\n",
    "- Loop over the column names of the dataframe, convert the column name to lowercase (.lower()) and append it to the empty list\n",
    "- Make the new columns"
   ]
  },
  {
   "cell_type": "code",
   "execution_count": null,
   "metadata": {},
   "outputs": [],
   "source": [
    "#import pandas as pd\n",
    "import pandas as pd\n",
    "\n",
    "df_alcohol = pd.read_csv(\"data/alcohol.csv\",sep=\"\\t\")\n",
    "df_alcohol.head()"
   ]
  },
  {
   "cell_type": "code",
   "execution_count": null,
   "metadata": {},
   "outputs": [],
   "source": [
    "df_alcohol.columns"
   ]
  },
  {
   "cell_type": "code",
   "execution_count": null,
   "metadata": {},
   "outputs": [],
   "source": [
    "#Create an empty list\n",
    "new_columns = []"
   ]
  },
  {
   "cell_type": "code",
   "execution_count": null,
   "metadata": {},
   "outputs": [],
   "source": [
    "#Loop over the columns\n",
    "for ............. in ...........:\n",
    "    #Convert the name to lower case\n",
    "    new_name = ..........lower()\n",
    "    #Append it to the list of new_columns\n",
    "    ..........."
   ]
  },
  {
   "cell_type": "code",
   "execution_count": null,
   "metadata": {},
   "outputs": [],
   "source": [
    "#Change the column names of the dataframe with new_columns\n",
    "........... = new_columns"
   ]
  },
  {
   "cell_type": "code",
   "execution_count": null,
   "metadata": {},
   "outputs": [],
   "source": [
    "#Just to check if it's right\n",
    "df_alcohol.head()"
   ]
  },
  {
   "cell_type": "markdown",
   "metadata": {},
   "source": [
    "---"
   ]
  },
  {
   "cell_type": "markdown",
   "metadata": {},
   "source": [
    "## In class 2\n",
    "- Create a function that:\n",
    "  - Takes a number as input\n",
    "  - Returns: \"high\" if the number is greater than 1000, \"low\" if the number is lower or equal than 1000\n",
    "- Apply the function to the column \"income\" of the alcohol dataset to create a column called \"category\""
   ]
  },
  {
   "cell_type": "code",
   "execution_count": null,
   "metadata": {},
   "outputs": [],
   "source": [
    "#Read the files and change the columns\n",
    "df_alcohol = pd.read_csv(\"data/alcohol.csv\",sep=\"\\t\")\n",
    "df_alcohol.columns = [\"adults\",\"kids\",\"income\",\"consume\"]\n",
    "df_alcohol.head()"
   ]
  },
  {
   "cell_type": "code",
   "execution_count": null,
   "metadata": {},
   "outputs": [],
   "source": [
    "#Create the function\n",
    "def high_income(number):\n",
    "    if ....:\n",
    "        return ...:\n",
    "    ..."
   ]
  },
  {
   "cell_type": "code",
   "execution_count": null,
   "metadata": {},
   "outputs": [],
   "source": [
    "df_alcohol[\"income_cat\"] = ...\n",
    "df_alcohol.head()"
   ]
  },
  {
   "cell_type": "markdown",
   "metadata": {},
   "source": [
    "## In class 3\n",
    "- Do the same but using the function pd.cut"
   ]
  },
  {
   "cell_type": "code",
   "execution_count": null,
   "metadata": {},
   "outputs": [],
   "source": [
    "#get help --> learn the section about \"x\" and about \"bins\"\n",
    "pd.cut? "
   ]
  },
  {
   "cell_type": "code",
   "execution_count": null,
   "metadata": {},
   "outputs": [],
   "source": [
    "#Make ttwo groups of income\n",
    "#[0,1000,df_alcohol[\"income\"].max()+1] to make groups (0,1000], (100,max)\n",
    "df_alcohol[\"income_cat\"] = pd.cut(...,[...]) \n",
    "df_alcohol.head()"
   ]
  },
  {
   "cell_type": "code",
   "execution_count": null,
   "metadata": {},
   "outputs": [],
   "source": [
    "#Find the possible options for adults (DONE, just run it)\n",
    "set(df_alcohol[\"adults\"])"
   ]
  },
  {
   "cell_type": "code",
   "execution_count": null,
   "metadata": {},
   "outputs": [],
   "source": [
    "#Make three groups for adults\n",
    "#[0,1,2,10] to make groups (0,1], (1,2], (2,10)\n",
    "df_alcohol[\"groups_adults\"] = pd.cut(...,[...])"
   ]
  },
  {
   "cell_type": "code",
   "execution_count": null,
   "metadata": {},
   "outputs": [],
   "source": [
    "df_alcohol.head()"
   ]
  },
  {
   "cell_type": "code",
   "execution_count": null,
   "metadata": {},
   "outputs": [],
   "source": [
    "#Make theabarplot\n",
    "#There are many ways to make this plot. For example, let's analyze the relationship between the number of adults and alcohol consumption for the two groups of income.\n",
    "#Because we are mainly interested in the within variation (the changes in alcohol consumption within the groups of income), we use \"group_adults\" as hue, and \"groups_income\" as x.\n",
    "#We observe that for the lower income, having more adults increase the likelihood of alcohol consumption. \n",
    "#This correlation may be due to different characteristics in the household that we are not controlling (number of children)\n",
    "\n",
    "sns.barplot(x=\"groups_income\",y=\"consume\",hue=\"groups_adults\",data=df_alcohol,palette=\"Blues\")"
   ]
  },
  {
   "cell_type": "code",
   "execution_count": null,
   "metadata": {},
   "outputs": [],
   "source": []
  }
 ],
 "metadata": {
  "anaconda-cloud": {},
  "kernelspec": {
   "display_name": "Python 3",
   "language": "python",
   "name": "python3"
  },
  "language_info": {
   "codemirror_mode": {
    "name": "ipython",
    "version": 3
   },
   "file_extension": ".py",
   "mimetype": "text/x-python",
   "name": "python",
   "nbconvert_exporter": "python",
   "pygments_lexer": "ipython3",
   "version": "3.5.6"
  }
 },
 "nbformat": 4,
 "nbformat_minor": 1
}
