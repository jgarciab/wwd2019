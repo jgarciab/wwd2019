{
 "cells": [
  {
   "cell_type": "markdown",
   "metadata": {
    "nbpresent": {
     "id": "192777b5-6cd1-42bc-a383-a576d3113fad"
    }
   },
   "source": [
    "# Working with data 2017. Class 2 \n",
    "## Contact\n",
    "Javier Garcia-Bernardo\n",
    "garcia@uva.nl\n",
    "\n",
    "\n",
    "## Week's plan:\n",
    "### Monday:\n",
    "1. About Python: Jupyter notebooks and packages\n",
    "2. Python:\n",
    "  - 2.1 Data types: Numbers, strings, booleans\n",
    "  - 2.2 Data structures (I): List\n",
    "  - 2.3 Code (I): How Python works\n",
    "3. Pandas (I): Read csv\n",
    "4. Seaborn (I): First plots\n",
    "\n",
    "### Wednesday:\n",
    "2. Python\n",
    "  - 2.2 Data structures (II): Sets, dictionaries, numpy array, pandas dataframe\n",
    "3. Pandas (II): Basic operations with dataframes\n",
    "\n",
    "### Thursday:\n",
    "2. Python\n",
    "  - **2.3 Code (II): Functions, for-loops and if-else statements**\n",
    "  - 2.4 Debugging Python\n",
    "4. Seaborn (II): Some other plots"
   ]
  },
  {
   "cell_type": "code",
   "execution_count": null,
   "metadata": {
    "nbpresent": {
     "id": "7934c18c-ba1a-4252-a290-944154bc3258"
    }
   },
   "outputs": [],
   "source": [
    "##Some code to run at the beginning of the file, to be able to show images in the notebook\n",
    "##Don't worry about this cell\n",
    "\n",
    "#Print the plots in this screen\n",
    "%matplotlib inline \n",
    "\n",
    "#Be able to plot images saved in the hard drive\n",
    "from IPython.display import Image \n",
    "\n",
    "#Make the notebook wider\n",
    "from IPython.core.display import display, HTML \n",
    "display(HTML(\"<style>.container { width:90% !important; }</style>\"))\n",
    "\n",
    "#Usual imports\n",
    "import pandas as pd\n",
    "import numpy as np\n",
    "import pylab as plt"
   ]
  },
  {
   "cell_type": "markdown",
   "metadata": {},
   "source": [
    "# PYTHON: Variables and code\n",
    "Python uses variables and code.\n",
    "\n",
    "\n",
    "##  Variables\n",
    "Variables tell the computer to save something (a number, a string, a spreadsheet) with a name.\n",
    "For instance, if you write *variable_name = 3*, the computer knows that *variable_name* is 3.\n",
    "- **Data types**: Numbers, strings and others\n",
    "- **Data structures**: \n",
    "    - Lists, tables... (full of data types)\n",
    "\n",
    "\n",
    "\n",
    "## 2.3 Code\n",
    "- Instructions to modify variables\n",
    "- **2.3.1 Can be organized in functions**\n",
    "- Variables can be seen for all or part of the code: **1.3.2 Scope of variables**    \n",
    "- **2.3.2 For loops**: Repeat a similar statement many times\n",
    "- **2.3.4 Control-flow**: if-else statements, try-except statement and for-loops\n",
    "- **2.3.5 Try-except**: error catching\n",
    "\n"
   ]
  },
  {
   "cell_type": "markdown",
   "metadata": {
    "nbpresent": {
     "id": "c25af6ca-51b5-4d27-be2b-6da7f4d68645"
    }
   },
   "source": [
    "## 2.3 Code: Operations, functions, control flow and loops\n",
    "- We have the data in data structures, composed of several data types.\n",
    "- We need code to edit everything"
   ]
  },
  {
   "cell_type": "markdown",
   "metadata": {
    "nbpresent": {
     "id": "bb21743d-67ae-41aa-83b2-f96ab55a6cb1"
    }
   },
   "source": [
    "## 2.3.1 Functions\n",
    "- A fragment of code that takes some standard input (arguments) and returns some standard output.\n",
    "- Example: The mean function. Gets a list of numbers as input, gives the mean as output. Gives an error if you try to calculate the mean of some strings.\n",
    "- We have already seen many functions. Add, mean..."
   ]
  },
  {
   "cell_type": "code",
   "execution_count": null,
   "metadata": {
    "nbpresent": {
     "id": "0cdd0581-e1b7-460b-9759-89587359233d"
    }
   },
   "outputs": [],
   "source": [
    "## Our own functions\n",
    "def mean_ours(list_numbers): #list_numbers is the arguments\n",
    "    \"\"\"\n",
    "    This is called the docstring, it is a comment describing the function. In this case the function calculates the mean of a list of numbers.\n",
    "    \n",
    "    input \n",
    "    list_numbers: a list of numbers\n",
    "    \n",
    "    output: the mean of the input   \n",
    "    \"\"\"\n",
    "    #what gives back\n",
    "    return sum(list_numbers)/len(list_numbers)\n",
    "\n",
    "##INDENTATION!!\n",
    "##Two points after the \"def\""
   ]
  },
  {
   "cell_type": "code",
   "execution_count": null,
   "metadata": {},
   "outputs": [],
   "source": [
    "mean_ours?"
   ]
  },
  {
   "cell_type": "code",
   "execution_count": null,
   "metadata": {
    "nbpresent": {
     "id": "9bffb6b1-77a9-453e-815e-cde69f32276f"
    }
   },
   "outputs": [],
   "source": [
    "aList = [2,3,4]\n",
    "mean_ours(aList) #this is how you call the funciton"
   ]
  },
  {
   "cell_type": "code",
   "execution_count": null,
   "metadata": {},
   "outputs": [],
   "source": [
    "mean_aList = mean_ours(aList) #this is how you call the funciton\n",
    "mean_aList"
   ]
  },
  {
   "cell_type": "markdown",
   "metadata": {},
   "source": [
    "**How the arguments of a function work**\n",
    "\n",
    "If there are many arguments, the first value that you pass is matched to the first argument of the function, the second to the second, etc.\n",
    "\n",
    "For instance, these are the arguments of the function pd.read_csv()\n",
    "\n",
    "    `pd.read_csv(filepath_or_buffer, sep=',', delimiter=None, header='infer',...)`\n",
    "\n",
    "Writing\n",
    "\n",
    "    `pd.read_csv(\"data/ams_green.csv\",\"\\t\",None,0)`\n",
    "\n",
    "matches \n",
    "\n",
    "    `filepath_or_buffer TO \"data/ams_green.csv\",\n",
    "    sep TO \"\\t\",\n",
    "    delimiter TO None, \n",
    "    header TO 0`\n",
    "\n",
    "You can also pass the arguments by name. For instance\n",
    "\n",
    "    `pd.read_csv(\"data/ams_green.csv\",header= 0, sep=\"\\t\",delimiter=None)`\n",
    "\n",
    "is identical to the line before. In this case the values you pass do not have to be in the same order as the arguments.\n",
    "    \n",
    "\n"
   ]
  },
  {
   "cell_type": "markdown",
   "metadata": {},
   "source": [
    "## When to use functions\n",
    "- When you need to do the same steps many times\n",
    "- To organize the code into coherent parts"
   ]
  },
  {
   "cell_type": "markdown",
   "metadata": {
    "nbpresent": {
     "id": "41bbafd2-7eb5-40b7-9bfd-934aedb85465"
    }
   },
   "source": [
    "## 2.3.2 Scope: Global vs local variables\n",
    "- Variables inside functions are only seen by that function\n",
    "- Variables outside functions are seen and can be modified by all functions (dangerous)"
   ]
  },
  {
   "cell_type": "code",
   "execution_count": null,
   "metadata": {
    "nbpresent": {
     "id": "f9f87656-687d-4978-91cb-58d9b1d92770"
    }
   },
   "outputs": [],
   "source": [
    "def f(): \n",
    "    local_var1 = 2\n",
    "    local_var2 = 3\n",
    "    local_var = local_var1*local_var2\n",
    "    print(local_var)\n",
    "\n",
    "#Call the function\n",
    "f()"
   ]
  },
  {
   "cell_type": "markdown",
   "metadata": {
    "nbpresent": {
     "id": "1dffac43-899e-4b10-849b-121a2d930acd"
    }
   },
   "source": [
    "** Variables created inside functions are only seen within the function**"
   ]
  },
  {
   "cell_type": "code",
   "execution_count": null,
   "metadata": {
    "nbpresent": {
     "id": "b2883484-ff0f-4268-9834-0229c0b869a8"
    }
   },
   "outputs": [],
   "source": [
    "def f(): \n",
    "    local_var1 = 2\n",
    "    local_var2 = 2\n",
    "    local_var = local_var1*local_var2\n",
    "\n",
    "#Call the function\n",
    "f()\n",
    "#We haven't created local_var\n",
    "print(local_var)"
   ]
  },
  {
   "cell_type": "code",
   "execution_count": null,
   "metadata": {
    "nbpresent": {
     "id": "94a9cf90-3b70-4f97-9a49-e61492c8e711"
    }
   },
   "outputs": [],
   "source": [
    "def f(): \n",
    "    local_var1 = 2\n",
    "    local_var2 = 2\n",
    "    local_var = local_var1*local_var2\n",
    "    return local_var\n",
    "\n",
    "#Call the function\n",
    "gvar = f()\n",
    "#Now we have local_var (but generally it is not a good idea to use the same name)\n",
    "print(gvar)"
   ]
  },
  {
   "cell_type": "markdown",
   "metadata": {
    "nbpresent": {
     "id": "7b09bf24-ffec-4279-b5ff-cefa6662e7fc"
    }
   },
   "source": [
    "** Variables created outside functions are seen by all the code (be careful!)**"
   ]
  },
  {
   "cell_type": "code",
   "execution_count": null,
   "metadata": {
    "nbpresent": {
     "id": "ceba5007-5f8a-4638-89c9-6a1f167e91a1"
    }
   },
   "outputs": [],
   "source": [
    "local_var = \"python\"\n",
    "\n",
    "def f(): \n",
    "    print(local_var) #this can read the variable outside, but NOT CHANGE IT (except .pop() and .append())\n",
    "    #it's okay for functions not to return anything, by default they return None\n",
    "    \n",
    "#Call the function\n",
    "f()\n",
    "#We can also see it from outside the function\n",
    "print(local_var)"
   ]
  },
  {
   "cell_type": "markdown",
   "metadata": {
    "nbpresent": {
     "id": "2d8d151c-2fd8-4e8b-9eb2-9625e07a0444"
    }
   },
   "source": [
    "## 2.3.2 For-Loops\n",
    "- Iterate over a list (or an array, or a set, or the keys of a dictionary..), like this:\n",
    "\n",
    "`for element in [1,2,3,4,5]:\n",
    "    print(element)\n",
    "`\n",
    "\n",
    "The computer:\n",
    "- Reads the first line (`for element in [1,2,3,4,5]`) and realizes it is a for loop\n",
    "- It then assigns element = 1 (the first element in the list) and does whatever it is inside the for loop (`print(element)`)\n",
    "- Then it assigns element = 2 (the second element) and does whatever it is inside the loop\n",
    "- It continues like this until the last element\n",
    "- When there are no more elements in the list it exits the loop and continues reading the code behind the loop (if any)\n",
    "\n",
    "\n",
    "You can write anything instead of element (for i in range(10) for instance)\n",
    "\n",
    "\n",
    "The indentation and the colon are important, you get SyntaxError without them.\n"
   ]
  },
  {
   "cell_type": "code",
   "execution_count": null,
   "metadata": {},
   "outputs": [],
   "source": [
    "for x in [\"Adam\",\"Utercht\"]:\n",
    "    print(x)"
   ]
  },
  {
   "cell_type": "code",
   "execution_count": null,
   "metadata": {},
   "outputs": [],
   "source": [
    "i = 0\n",
    "for x in [\"Adam\",\"Utercht\"]:\n",
    "    print(i,x)\n",
    "    i = i + 1 #or you can write \"i += 1\" and it means \"i = i + 1\""
   ]
  },
  {
   "cell_type": "code",
   "execution_count": null,
   "metadata": {
    "nbpresent": {
     "id": "60c8ce63-3efb-47db-98f0-c7967da5faa8"
    }
   },
   "outputs": [],
   "source": [
    "#Imagine we want to find what some articles are talking about, we could do it like this,\n",
    "#but it's unfeasible when you have more than a dozen articles\n",
    "\n",
    "list_articles = [\"article 1: blah python\",\n",
    "                 \"article 2: blah Trump\",\n",
    "                 \"article 3: blah Trump\",\n",
    "                 \"article 4: blah Trump\"]#many article\n",
    "\n",
    "print(\"python\" in list_articles[0])\n",
    "print(\"python\" in list_articles[1])\n",
    "print(\"python\" in list_articles[2])\n",
    "print(\"python\" in list_articles[3])\n",
    "#..."
   ]
  },
  {
   "cell_type": "code",
   "execution_count": null,
   "metadata": {},
   "outputs": [],
   "source": [
    "#but we can use for loops \n",
    "for article in list_articles:\n",
    "    print(\"python\" in article)"
   ]
  },
  {
   "cell_type": "markdown",
   "metadata": {},
   "source": [
    "**what if we want to stop a loop?**\n",
    "Then we can use `break`"
   ]
  },
  {
   "cell_type": "code",
   "execution_count": null,
   "metadata": {},
   "outputs": [],
   "source": [
    "i = 0 \n",
    "for article in list_articles:\n",
    "    if i == 2: \n",
    "        break\n",
    "    print(i, \"python\" in article)\n",
    "    \n",
    "    i = i + 1 #i += 1\n",
    "\n"
   ]
  },
  {
   "cell_type": "markdown",
   "metadata": {
    "nbpresent": {
     "id": "969b5df7-137a-4a7a-aa73-a1fb9ef07104"
    }
   },
   "source": [
    "## 2.3.4 Control flow = if-else statements\n",
    "- Controls the flow. If something happens, then do something. Else, do another thing. Like this\n",
    "\n",
    "`\n",
    "    \n",
    "    article = \"Trump is going to make America great\"\n",
    "    \n",
    "    if \"python\" in article:\n",
    "        print(\"python\",article)\n",
    "    elif \"climate change\" in article:\n",
    "        print(\"climate change\",article)\n",
    "    else:\n",
    "        print(\"no python\", article)\n",
    "`\n",
    "\n",
    "The computer:\n",
    "- Reads the first line (`if \"python\" in article`) and realizes it is an if-else statement\n",
    "- It then checks if `python\" in article` is True. \n",
    "    - If it is True, it reads whatever is inside the if statement (in this case `print(\"python\",article)`) and goes to the end of all the if-elif-else. \n",
    "    - If it is False, it goes to the elif (else if), and checks if `elif \"climate change\" in article` is True.\n",
    "        - If it is True, it reads whatever it is inside and goes to the end\n",
    "        - If it is False, it goes to the else and prints whatever it is inside\n",
    "       \n",
    "You only need the `if`, the `elif` and `else` are optional. For instance without `else` the code above wouldn't print anything. \n",
    "\n",
    "You can have as many `elif`s as you want.\n",
    "\n",
    "\n",
    "The indentation and the colon are important, you get SyntaxError without them."
   ]
  },
  {
   "cell_type": "markdown",
   "metadata": {},
   "source": [
    "**Let's write code that tells us if an article is about python or Trump**"
   ]
  },
  {
   "cell_type": "code",
   "execution_count": null,
   "metadata": {
    "nbpresent": {
     "id": "6f81eac0-a377-41f5-86c0-7cc8975ee140"
    }
   },
   "outputs": [],
   "source": [
    "article = \"article 2: blah Trump python\"\n",
    "if \"python\" in article:\n",
    "    print(\"Article refering to Python\")\n",
    "    \n",
    "if \"Trump\" in article:\n",
    "    print(\"Article refering to Trump\")\n"
   ]
  },
  {
   "cell_type": "markdown",
   "metadata": {},
   "source": [
    "## 2.3 Code: Let's combine all we learned so far\n",
    "**Write a function that prints if an article is related to \"python\" or \"Trump\", and run it for many cases**"
   ]
  },
  {
   "cell_type": "markdown",
   "metadata": {},
   "source": [
    "**We can wrap it into a function**"
   ]
  },
  {
   "cell_type": "code",
   "execution_count": null,
   "metadata": {
    "nbpresent": {
     "id": "6533e533-fa87-462f-b4fe-f8403513c7fa"
    }
   },
   "outputs": [],
   "source": [
    "def python_or_trump(article):\n",
    "    \"\"\"\n",
    "    prints if an article is related to python or trump\n",
    "    \n",
    "    input\n",
    "    article: string with words\n",
    "    \n",
    "    \"\"\"\n",
    "    \n",
    "    if \"python\" in article:\n",
    "        return \"Article refering to Python\"\n",
    "    elif \"Trump\" in article:\n",
    "        return \"Article refering to Trump\"\n",
    "    else:\n",
    "        return \"Article not refering to Python or Trump\"\n",
    "    "
   ]
  },
  {
   "cell_type": "code",
   "execution_count": null,
   "metadata": {
    "nbpresent": {
     "id": "6948e1a1-a511-46f0-a938-53ee62f8d90a"
    }
   },
   "outputs": [],
   "source": [
    "article = \"article 2: blah Trump\"\n",
    "print(article)\n",
    "#this is how you call the function\n",
    "python_or_trump(article)"
   ]
  },
  {
   "cell_type": "code",
   "execution_count": null,
   "metadata": {
    "nbpresent": {
     "id": "01699665-557a-4757-8e05-281c9aa6d02f"
    }
   },
   "outputs": [],
   "source": [
    "#stops when python is found, never check for trump\n",
    "article = \"article 2: blah Trump python\"\n",
    "print(article)\n",
    "python_or_trump(article)"
   ]
  },
  {
   "cell_type": "code",
   "execution_count": null,
   "metadata": {
    "nbpresent": {
     "id": "f71bd04a-6ce5-420c-b33a-4dd9b68437ba"
    }
   },
   "outputs": [],
   "source": [
    "article = \"article 2: blah blah\"\n",
    "print(article)\n",
    "python_or_trump(article)"
   ]
  },
  {
   "cell_type": "markdown",
   "metadata": {},
   "source": [
    "**Now we do it for many articles**"
   ]
  },
  {
   "cell_type": "code",
   "execution_count": null,
   "metadata": {},
   "outputs": [],
   "source": [
    "list_articles = [\"article 1: blah python\",\n",
    "                 \"article 2: blah Trump\",\n",
    "                 \"article 3: blah Trump\",\n",
    "                 \"article 4: blah Trump\"]#many articles\n",
    "\n",
    "for article in list_articles:\n",
    "    print(python_or_trump(article))"
   ]
  },
  {
   "cell_type": "markdown",
   "metadata": {
    "collapsed": true
   },
   "source": [
    "**what if we want a loop but we don't know when we need to stop?**\n",
    "\n",
    "Then we can use the while loop:\n",
    "\n",
    "`\n",
    "while condition:\n",
    "    do something\n",
    "    update condition #otherwise the loop is infinitei\n",
    "`\n",
    "\n",
    "However in python is not too common.\n"
   ]
  },
  {
   "cell_type": "markdown",
   "metadata": {
    "nbpresent": {
     "id": "09ef9e85-7bb6-4a5c-905c-af61ddad6648"
    }
   },
   "source": [
    "## 2.3.5 Try - except\n",
    "Exception handling. Sometimes the code tries something that can result in an error, and you want to *catch* the error and react to it.\n"
   ]
  },
  {
   "cell_type": "code",
   "execution_count": null,
   "metadata": {
    "nbpresent": {
     "id": "faa18891-5a77-4eaa-80b6-986619477e31"
    }
   },
   "outputs": [],
   "source": [
    "#For instance this fails, because we don't have more than 2 friends\n",
    "#Dictionary\n",
    "cities2countries = {\"Amsterdam\": \"NL\", \"Madrid\": \"ES\", \"Brussels\": \"BE\"}\n"
   ]
  },
  {
   "cell_type": "code",
   "execution_count": null,
   "metadata": {},
   "outputs": [],
   "source": [
    "print(cities2countries[\"Brussels\"])"
   ]
  },
  {
   "cell_type": "code",
   "execution_count": null,
   "metadata": {
    "nbpresent": {
     "id": "dcaf8163-fd4f-47f1-83ab-f97926d172ff"
    }
   },
   "outputs": [],
   "source": [
    "#example how to fix it\n",
    "#the indents are important, as well as the colons\n",
    "try:\n",
    "    print(cities2countries[\"Brussels\"])\n",
    "except KeyError:\n",
    "    print(\"I have no idea where Brussels is\")\n"
   ]
  },
  {
   "cell_type": "code",
   "execution_count": null,
   "metadata": {
    "nbpresent": {
     "id": "3c94a71f-7785-4a8c-be97-a1d037c272f2"
    }
   },
   "outputs": [],
   "source": [
    "bruss_country = cities2countries.get(\"Brussels\")\n",
    "if bruss_country is None: #f5 == None \n",
    "    print(\"I have no idea where Brussels is\")\n",
    "    "
   ]
  },
  {
   "cell_type": "markdown",
   "metadata": {
    "collapsed": true,
    "nbpresent": {
     "id": "9d2ea7cc-4b18-475f-9e35-8f79b9ce477e"
    }
   },
   "source": [
    "## Extra. Writing and reading from disk\n",
    "**You can also write files line by line**"
   ]
  },
  {
   "cell_type": "markdown",
   "metadata": {},
   "source": [
    "\"r\": read\n",
    "\"w\": write\n",
    "\"w+\": write and if doesn't exist, create it"
   ]
  },
  {
   "cell_type": "code",
   "execution_count": null,
   "metadata": {
    "nbpresent": {
     "id": "3523f578-ceef-4c76-810a-465abb89dad8"
    }
   },
   "outputs": [],
   "source": [
    "with open(\"data/file_to_write.csv\",\"w+\") as f:\n",
    "    f.write(\"I'm line number {}\".format(0))\n",
    "    f.write(\"I'm line number {}\".format(1))\n",
    "    f.write(\"I'm line number {}\".format(2))\n",
    "    f.write(\"I'm line number {}\".format(3))\n",
    "    f.write(\"I'm line number {}\".format(4))\n"
   ]
  },
  {
   "cell_type": "markdown",
   "metadata": {},
   "source": [
    "**But remember to add a \"return character\" (\\n)**"
   ]
  },
  {
   "cell_type": "code",
   "execution_count": null,
   "metadata": {
    "nbpresent": {
     "id": "a24b1475-9c1f-460e-a1e8-d228fae8a3fd"
    }
   },
   "outputs": [],
   "source": [
    "with open(\"data/file_to_write.csv\",\"w+\") as f:\n",
    "    f.write(\"I'm line number {}\\n\".format(0))\n",
    "    f.write(\"I'm line number {}\\n\".format(1))\n",
    "    f.write(\"I'm line number {}\\n\".format(2))\n",
    "    f.write(\"I'm line number {}\\n\".format(3))\n",
    "    f.write(\"I'm line number {}\\n\".format(4))\n"
   ]
  },
  {
   "cell_type": "markdown",
   "metadata": {},
   "source": [
    "**How to read a fiel**\n",
    "\n",
    "We won't be reading the files like this too often, but sometimes you need to read them line by line (instead of loading all the files like we do with pandas)\n",
    "\n"
   ]
  },
  {
   "cell_type": "markdown",
   "metadata": {},
   "source": [
    "- Read it line by line"
   ]
  },
  {
   "cell_type": "code",
   "execution_count": null,
   "metadata": {
    "nbpresent": {
     "id": "1798f9db-deef-4dcb-a1cd-aeda602063de"
    }
   },
   "outputs": [],
   "source": [
    "with open(\"data/file_to_write.csv\") as f:\n",
    "    #way 3\n",
    "    for line in f:\n",
    "        print(line)\n",
    "   "
   ]
  },
  {
   "cell_type": "markdown",
   "metadata": {},
   "source": [
    "**you can delete the \"\\n\" at the end of the string with .strip()**"
   ]
  },
  {
   "cell_type": "code",
   "execution_count": null,
   "metadata": {},
   "outputs": [],
   "source": [
    "with open(\"data/file_to_write.csv\") as f:\n",
    "    #way 3\n",
    "    for line in f:\n",
    "        print(line.strip())\n",
    "   "
   ]
  },
  {
   "cell_type": "markdown",
   "metadata": {
    "collapsed": true
   },
   "source": [
    "---"
   ]
  },
  {
   "cell_type": "markdown",
   "metadata": {},
   "source": [
    "## Everything in your computer/phone/online is based on these things you have already know:\n",
    "- data types: numbers \n",
    "- data variables: lists and dictionaries\n",
    "- code: if-else and for-loops\n",
    "\n",
    "Using these blocks you can create *anything*"
   ]
  }
 ],
 "metadata": {
  "anaconda-cloud": {},
  "kernelspec": {
   "display_name": "Python 3",
   "language": "python",
   "name": "python3"
  },
  "language_info": {
   "codemirror_mode": {
    "name": "ipython",
    "version": 3
   },
   "file_extension": ".py",
   "mimetype": "text/x-python",
   "name": "python",
   "nbconvert_exporter": "python",
   "pygments_lexer": "ipython3",
   "version": "3.5.6"
  },
  "nbpresent": {
   "slides": {
    "0a4275e1-1d4a-4a91-8de6-62a1b6a44bff": {
     "id": "0a4275e1-1d4a-4a91-8de6-62a1b6a44bff",
     "prev": "2117fce2-ee58-41a8-855e-7789de8fb255",
     "regions": {
      "37743ad1-0eed-4640-971e-c0536867be08": {
       "attrs": {
        "height": 0.8,
        "width": 0.8,
        "x": 0.1,
        "y": 0.1
       },
       "content": {
        "cell": "73107187-6964-478b-b918-e77935db2bc8",
        "part": "whole"
       },
       "id": "37743ad1-0eed-4640-971e-c0536867be08"
      }
     }
    },
    "0c486768-8674-44e5-9880-9122453da25a": {
     "id": "0c486768-8674-44e5-9880-9122453da25a",
     "prev": "90a3aab1-8ff1-4a47-9f9d-bc0a3144a60f",
     "regions": {
      "1d63697e-a995-40d8-b678-3ac13a6a680d": {
       "attrs": {
        "height": 0.8,
        "width": 0.8,
        "x": 0.1,
        "y": 0.1
       },
       "content": {
        "cell": "41bbafd2-7eb5-40b7-9bfd-934aedb85465",
        "part": "whole"
       },
       "id": "1d63697e-a995-40d8-b678-3ac13a6a680d"
      }
     }
    },
    "0dd9c2e8-366a-4b2d-8c16-593feff60fd2": {
     "id": "0dd9c2e8-366a-4b2d-8c16-593feff60fd2",
     "prev": "a1d32ee1-472a-44d9-bf9a-8e6f7ab556fb",
     "regions": {
      "0ac3a80c-dfc2-4a5c-ac09-0de8f85f78fd": {
       "attrs": {
        "height": 0.8,
        "width": 0.8,
        "x": 0.1,
        "y": 0.1
       },
       "content": {
        "cell": "6533e533-fa87-462f-b4fe-f8403513c7fa",
        "part": "whole"
       },
       "id": "0ac3a80c-dfc2-4a5c-ac09-0de8f85f78fd"
      }
     }
    },
    "117db083-caaa-4e1c-9407-3518c7461b2d": {
     "id": "117db083-caaa-4e1c-9407-3518c7461b2d",
     "prev": "c7ced9a7-0dee-46a2-83f3-8e01261d42d7",
     "regions": {
      "5620100e-9855-4552-8dde-d5c17e8475d3": {
       "attrs": {
        "height": 0.8,
        "width": 0.8,
        "x": 0.1,
        "y": 0.1
       },
       "content": {
        "cell": "ed51ac4d-d1ed-498f-9f3f-2b7c0172c53f",
        "part": "whole"
       },
       "id": "5620100e-9855-4552-8dde-d5c17e8475d3"
      }
     }
    },
    "15eddd42-21e1-4e7e-8441-1bdf8584663a": {
     "id": "15eddd42-21e1-4e7e-8441-1bdf8584663a",
     "prev": "d0cfecad-e545-4204-9afa-912e3369412d",
     "regions": {
      "989d65e6-15d3-4fc7-86fd-62cb69c0ec49": {
       "attrs": {
        "height": 0.8,
        "width": 0.8,
        "x": 0.1,
        "y": 0.1
       },
       "content": {
        "cell": "ceba5007-5f8a-4638-89c9-6a1f167e91a1",
        "part": "whole"
       },
       "id": "989d65e6-15d3-4fc7-86fd-62cb69c0ec49"
      }
     }
    },
    "17740557-63b1-4439-b8b3-84862c8fae94": {
     "id": "17740557-63b1-4439-b8b3-84862c8fae94",
     "prev": "6b19adca-9185-4161-9026-cc564367e420",
     "regions": {
      "7f373232-15d2-457f-a841-a79e9744ea93": {
       "attrs": {
        "height": 0.8,
        "width": 0.8,
        "x": 0.1,
        "y": 0.1
       },
       "content": {
        "cell": "60c8ce63-3efb-47db-98f0-c7967da5faa8",
        "part": "whole"
       },
       "id": "7f373232-15d2-457f-a841-a79e9744ea93"
      }
     }
    },
    "2117fce2-ee58-41a8-855e-7789de8fb255": {
     "id": "2117fce2-ee58-41a8-855e-7789de8fb255",
     "prev": "343d25f6-2906-4c36-8fb6-35b8409c733b",
     "regions": {
      "a6fd7510-5921-47eb-831b-f67c59829db9": {
       "attrs": {
        "height": 0.8,
        "width": 0.8,
        "x": 0.1,
        "y": 0.1
       },
       "content": {
        "cell": "bfac9a04-ae2f-47c3-8a8d-a02a7903e681",
        "part": "whole"
       },
       "id": "a6fd7510-5921-47eb-831b-f67c59829db9"
      }
     }
    },
    "246a39f6-c9ad-45f6-bec2-e40ae2e1e7b6": {
     "id": "246a39f6-c9ad-45f6-bec2-e40ae2e1e7b6",
     "prev": "dffb9168-4faa-46c9-b784-3183c2874497",
     "regions": {
      "70a1d4f3-9df1-4375-98bf-b4995bcd4712": {
       "attrs": {
        "height": 0.8,
        "width": 0.8,
        "x": 0.1,
        "y": 0.1
       },
       "content": {
        "cell": "3523f578-ceef-4c76-810a-465abb89dad8",
        "part": "whole"
       },
       "id": "70a1d4f3-9df1-4375-98bf-b4995bcd4712"
      }
     }
    },
    "2781706a-333b-4c24-ad31-593e30337daa": {
     "id": "2781706a-333b-4c24-ad31-593e30337daa",
     "prev": "e5cb9dc3-3375-44ed-8b74-5e7f557f6671",
     "regions": {
      "715b45d8-602c-4e4a-8600-d42ad0a52b97": {
       "attrs": {
        "height": 0.8,
        "width": 0.8,
        "x": 0.1,
        "y": 0.1
       },
       "content": {
        "cell": "dcaf8163-fd4f-47f1-83ab-f97926d172ff",
        "part": "whole"
       },
       "id": "715b45d8-602c-4e4a-8600-d42ad0a52b97"
      }
     }
    },
    "2b6deb89-bd2a-41cb-b190-d0edc813113b": {
     "id": "2b6deb89-bd2a-41cb-b190-d0edc813113b",
     "prev": "63a3ad95-cbf6-40a9-a4cd-f37b74121c3d",
     "regions": {
      "8718d69c-fb4a-45cd-b9ce-ee1db658f973": {
       "attrs": {
        "height": 0.8,
        "width": 0.8,
        "x": 0.1,
        "y": 0.1
       },
       "content": {
        "cell": "d477a5fb-e936-43f8-babb-b1667c5ffdfa",
        "part": "whole"
       },
       "id": "8718d69c-fb4a-45cd-b9ce-ee1db658f973"
      }
     }
    },
    "2cfe9fd9-fa7f-4dbc-9b9b-bed479e944d3": {
     "id": "2cfe9fd9-fa7f-4dbc-9b9b-bed479e944d3",
     "prev": "688a0982-cd5e-4bf2-ac0f-8dbac4981e64",
     "regions": {
      "0fa13876-56bf-4e20-9dc6-43de0c8ab7f2": {
       "attrs": {
        "height": 0.8,
        "width": 0.8,
        "x": 0.1,
        "y": 0.1
       },
       "content": {
        "cell": "c25af6ca-51b5-4d27-be2b-6da7f4d68645",
        "part": "whole"
       },
       "id": "0fa13876-56bf-4e20-9dc6-43de0c8ab7f2"
      }
     }
    },
    "2d420628-3a43-4531-a875-77b401bc6dc6": {
     "id": "2d420628-3a43-4531-a875-77b401bc6dc6",
     "prev": "f44075e6-42f1-4e46-84a4-22f7c6b19b01",
     "regions": {
      "3b3d3fb5-bc30-47b4-adfa-93acf7e1cdc3": {
       "attrs": {
        "height": 0.8,
        "width": 0.8,
        "x": 0.1,
        "y": 0.1
       },
       "content": {
        "cell": "1798f9db-deef-4dcb-a1cd-aeda602063de",
        "part": "whole"
       },
       "id": "3b3d3fb5-bc30-47b4-adfa-93acf7e1cdc3"
      }
     }
    },
    "343d25f6-2906-4c36-8fb6-35b8409c733b": {
     "id": "343d25f6-2906-4c36-8fb6-35b8409c733b",
     "prev": "6525d78b-9745-4f17-b86e-c048431b8f9b",
     "regions": {
      "86590e73-b597-43c7-a436-9c4aee132672": {
       "attrs": {
        "height": 0.8,
        "width": 0.8,
        "x": 0.1,
        "y": 0.1
       },
       "content": {
        "cell": "7f943e22-d3cb-4a22-9668-6ef64293f669",
        "part": "whole"
       },
       "id": "86590e73-b597-43c7-a436-9c4aee132672"
      }
     }
    },
    "41cbcb40-42b0-40ef-977c-b712f5bac003": {
     "id": "41cbcb40-42b0-40ef-977c-b712f5bac003",
     "prev": "e4611db2-b9c9-446d-b336-4a34b984bf88",
     "regions": {
      "8f16e20d-a0d9-428a-b885-7ef776b5a615": {
       "attrs": {
        "height": 0.8,
        "width": 0.8,
        "x": 0.1,
        "y": 0.1
       },
       "content": {
        "cell": "1ca689ee-f18f-4bb1-a604-b73573a53fd0",
        "part": "whole"
       },
       "id": "8f16e20d-a0d9-428a-b885-7ef776b5a615"
      }
     }
    },
    "41dcffa6-df7b-4d35-8d1b-e2d2a7700e80": {
     "id": "41dcffa6-df7b-4d35-8d1b-e2d2a7700e80",
     "prev": "98309a45-da7b-4dcb-ba55-8b44f6e17628",
     "regions": {
      "10eb4b47-f35a-402c-bbd2-54cf613ecd3a": {
       "attrs": {
        "height": 0.8,
        "width": 0.8,
        "x": 0.1,
        "y": 0.1
       },
       "content": {
        "cell": "c1a04ea5-dd65-4c1e-8aa1-8afebc91def5",
        "part": "whole"
       },
       "id": "10eb4b47-f35a-402c-bbd2-54cf613ecd3a"
      }
     }
    },
    "4787ace3-1a5b-4fdd-833b-e6e19c9c48af": {
     "id": "4787ace3-1a5b-4fdd-833b-e6e19c9c48af",
     "prev": "17740557-63b1-4439-b8b3-84862c8fae94",
     "regions": {
      "773fa124-ad5f-4fd2-8874-dfc420ee8e2d": {
       "attrs": {
        "height": 0.8,
        "width": 0.8,
        "x": 0.1,
        "y": 0.1
       },
       "content": {
        "cell": "34e2d73a-730a-46f3-99f7-9d411901824e",
        "part": "whole"
       },
       "id": "773fa124-ad5f-4fd2-8874-dfc420ee8e2d"
      }
     }
    },
    "554f2bc8-8620-409c-82b6-88b012b8a7f3": {
     "id": "554f2bc8-8620-409c-82b6-88b012b8a7f3",
     "prev": "f3679643-0758-4ff4-8684-7f40c605c7f5",
     "regions": {
      "524864bc-f5fe-4028-a55c-dbc597ca560d": {
       "attrs": {
        "height": 0.8,
        "width": 0.8,
        "x": 0.1,
        "y": 0.1
       },
       "content": {
        "cell": "0cdd0581-e1b7-460b-9759-89587359233d",
        "part": "whole"
       },
       "id": "524864bc-f5fe-4028-a55c-dbc597ca560d"
      }
     }
    },
    "59f807fa-9c5f-42dc-800c-57d61585b0f2": {
     "id": "59f807fa-9c5f-42dc-800c-57d61585b0f2",
     "prev": "fe1b0b12-94d3-44f3-8ef4-1b57689a57db",
     "regions": {
      "94ec085b-58d2-4d86-ba35-cbad1e16bd54": {
       "attrs": {
        "height": 0.8,
        "width": 0.8,
        "x": 0.1,
        "y": 0.1
       },
       "content": {
        "cell": "94a9cf90-3b70-4f97-9a49-e61492c8e711",
        "part": "whole"
       },
       "id": "94ec085b-58d2-4d86-ba35-cbad1e16bd54"
      }
     }
    },
    "63a3ad95-cbf6-40a9-a4cd-f37b74121c3d": {
     "id": "63a3ad95-cbf6-40a9-a4cd-f37b74121c3d",
     "prev": "cdc63c5a-62c6-48d7-b154-9dfa328c55c6",
     "regions": {
      "7c50aa7e-6e88-4023-bfe3-241de513c482": {
       "attrs": {
        "height": 0.8,
        "width": 0.8,
        "x": 0.1,
        "y": 0.1
       },
       "content": {
        "cell": "f71bd04a-6ce5-420c-b33a-4dd9b68437ba",
        "part": "whole"
       },
       "id": "7c50aa7e-6e88-4023-bfe3-241de513c482"
      }
     }
    },
    "6525d78b-9745-4f17-b86e-c048431b8f9b": {
     "id": "6525d78b-9745-4f17-b86e-c048431b8f9b",
     "prev": "2b6deb89-bd2a-41cb-b190-d0edc813113b",
     "regions": {
      "19fbbadf-ff2e-4927-a45a-332d27b4ca16": {
       "attrs": {
        "height": 0.8,
        "width": 0.8,
        "x": 0.1,
        "y": 0.1
       },
       "content": {
        "cell": "24e59f20-c898-4794-afe6-de4c5cafd3b9",
        "part": "whole"
       },
       "id": "19fbbadf-ff2e-4927-a45a-332d27b4ca16"
      }
     }
    },
    "688a0982-cd5e-4bf2-ac0f-8dbac4981e64": {
     "id": "688a0982-cd5e-4bf2-ac0f-8dbac4981e64",
     "prev": "6ee56b7e-2d68-4086-b4b0-974b0dbe12fb",
     "regions": {
      "09ffdb73-a9d4-4b19-a297-655c590eb066": {
       "attrs": {
        "height": 0.8,
        "width": 0.8,
        "x": 0.1,
        "y": 0.1
       },
       "content": {
        "cell": "7934c18c-ba1a-4252-a290-944154bc3258",
        "part": "whole"
       },
       "id": "09ffdb73-a9d4-4b19-a297-655c590eb066"
      }
     }
    },
    "6b19adca-9185-4161-9026-cc564367e420": {
     "id": "6b19adca-9185-4161-9026-cc564367e420",
     "prev": "d2406fd6-393a-4259-891e-e4d48235215b",
     "regions": {
      "6a9bb34b-43ee-4b5a-91e9-51e6a8018592": {
       "attrs": {
        "height": 0.8,
        "width": 0.8,
        "x": 0.1,
        "y": 0.1
       },
       "content": {
        "cell": "2d8d151c-2fd8-4e8b-9eb2-9625e07a0444",
        "part": "whole"
       },
       "id": "6a9bb34b-43ee-4b5a-91e9-51e6a8018592"
      }
     }
    },
    "6ee56b7e-2d68-4086-b4b0-974b0dbe12fb": {
     "id": "6ee56b7e-2d68-4086-b4b0-974b0dbe12fb",
     "prev": null,
     "regions": {
      "9a3dfc47-3427-4c13-a25c-74e9361070fe": {
       "attrs": {
        "height": 0.8,
        "width": 0.8,
        "x": 0.1,
        "y": 0.1
       },
       "content": {
        "cell": "192777b5-6cd1-42bc-a383-a576d3113fad",
        "part": "whole"
       },
       "id": "9a3dfc47-3427-4c13-a25c-74e9361070fe"
      }
     }
    },
    "830d2ff0-73b7-4aba-9dd4-114cc6d21e84": {
     "id": "830d2ff0-73b7-4aba-9dd4-114cc6d21e84",
     "prev": "4787ace3-1a5b-4fdd-833b-e6e19c9c48af",
     "regions": {
      "5d8a235e-5f02-4f0a-a593-e56fd8ef64c5": {
       "attrs": {
        "height": 0.8,
        "width": 0.8,
        "x": 0.1,
        "y": 0.1
       },
       "content": {
        "cell": "500e5bac-d133-4991-aa32-4e6350eaa1f5",
        "part": "whole"
       },
       "id": "5d8a235e-5f02-4f0a-a593-e56fd8ef64c5"
      }
     }
    },
    "86ae28bd-c840-421e-8f1d-df8ee33b2f48": {
     "id": "86ae28bd-c840-421e-8f1d-df8ee33b2f48",
     "prev": "0c486768-8674-44e5-9880-9122453da25a",
     "regions": {
      "fcf8b3c8-6ba2-4cab-b074-74d98bb72878": {
       "attrs": {
        "height": 0.8,
        "width": 0.8,
        "x": 0.1,
        "y": 0.1
       },
       "content": {
        "cell": "f9f87656-687d-4978-91cb-58d9b1d92770",
        "part": "whole"
       },
       "id": "fcf8b3c8-6ba2-4cab-b074-74d98bb72878"
      }
     }
    },
    "90a3aab1-8ff1-4a47-9f9d-bc0a3144a60f": {
     "id": "90a3aab1-8ff1-4a47-9f9d-bc0a3144a60f",
     "prev": "554f2bc8-8620-409c-82b6-88b012b8a7f3",
     "regions": {
      "5200d349-ff06-4d37-897c-ec839d221da1": {
       "attrs": {
        "height": 0.8,
        "width": 0.8,
        "x": 0.1,
        "y": 0.1
       },
       "content": {
        "cell": "9bffb6b1-77a9-453e-815e-cde69f32276f",
        "part": "whole"
       },
       "id": "5200d349-ff06-4d37-897c-ec839d221da1"
      }
     }
    },
    "98309a45-da7b-4dcb-ba55-8b44f6e17628": {
     "id": "98309a45-da7b-4dcb-ba55-8b44f6e17628",
     "prev": "246a39f6-c9ad-45f6-bec2-e40ae2e1e7b6",
     "regions": {
      "89a18ac2-917b-40e6-a3f2-f382f0937709": {
       "attrs": {
        "height": 0.8,
        "width": 0.8,
        "x": 0.1,
        "y": 0.1
       },
       "content": {
        "cell": "a24b1475-9c1f-460e-a1e8-d228fae8a3fd",
        "part": "whole"
       },
       "id": "89a18ac2-917b-40e6-a3f2-f382f0937709"
      }
     }
    },
    "a1d32ee1-472a-44d9-bf9a-8e6f7ab556fb": {
     "id": "a1d32ee1-472a-44d9-bf9a-8e6f7ab556fb",
     "prev": "f5f98908-c41c-4488-b5a8-91f2e45841f4",
     "regions": {
      "28105b54-9ea7-4721-b296-cbeaf543a1d1": {
       "attrs": {
        "height": 0.8,
        "width": 0.8,
        "x": 0.1,
        "y": 0.1
       },
       "content": {
        "cell": "6f81eac0-a377-41f5-86c0-7cc8975ee140",
        "part": "whole"
       },
       "id": "28105b54-9ea7-4721-b296-cbeaf543a1d1"
      }
     }
    },
    "ad3a6855-a531-4cb1-b9ce-4168d5b4bf0c": {
     "id": "ad3a6855-a531-4cb1-b9ce-4168d5b4bf0c",
     "prev": "830d2ff0-73b7-4aba-9dd4-114cc6d21e84",
     "regions": {
      "034b9c4f-5101-435a-8f22-56aae600d44c": {
       "attrs": {
        "height": 0.8,
        "width": 0.8,
        "x": 0.1,
        "y": 0.1
       },
       "content": {
        "cell": "b56d44b3-5988-4baa-b496-dafcaf22532d",
        "part": "whole"
       },
       "id": "034b9c4f-5101-435a-8f22-56aae600d44c"
      }
     }
    },
    "bc56e38b-daa0-45a9-bf3c-cb349722435a": {
     "id": "bc56e38b-daa0-45a9-bf3c-cb349722435a",
     "prev": "0dd9c2e8-366a-4b2d-8c16-593feff60fd2",
     "regions": {
      "d5634e4d-1680-4601-9e22-b9743058d16f": {
       "attrs": {
        "height": 0.8,
        "width": 0.8,
        "x": 0.1,
        "y": 0.1
       },
       "content": {
        "cell": "6948e1a1-a511-46f0-a938-53ee62f8d90a",
        "part": "whole"
       },
       "id": "d5634e4d-1680-4601-9e22-b9743058d16f"
      }
     }
    },
    "c72b897e-6fce-4a1a-9ab5-b7eca6b3f4e8": {
     "id": "c72b897e-6fce-4a1a-9ab5-b7eca6b3f4e8",
     "prev": "2781706a-333b-4c24-ad31-593e30337daa",
     "regions": {
      "81e92eb6-bab3-4a13-bfd3-502777f361e9": {
       "attrs": {
        "height": 0.8,
        "width": 0.8,
        "x": 0.1,
        "y": 0.1
       },
       "content": {
        "cell": "3c94a71f-7785-4a8c-be97-a1d037c272f2",
        "part": "whole"
       },
       "id": "81e92eb6-bab3-4a13-bfd3-502777f361e9"
      }
     }
    },
    "c7ced9a7-0dee-46a2-83f3-8e01261d42d7": {
     "id": "c7ced9a7-0dee-46a2-83f3-8e01261d42d7",
     "prev": "d2ca4243-0a02-48d9-a133-00477942f240",
     "regions": {
      "e485cbd5-fdb2-4518-a903-f7fbeaa10438": {
       "attrs": {
        "height": 0.8,
        "width": 0.8,
        "x": 0.1,
        "y": 0.1
       },
       "content": {
        "cell": "7b89a229-71e1-4bf9-a9d8-f27139c05629",
        "part": "whole"
       },
       "id": "e485cbd5-fdb2-4518-a903-f7fbeaa10438"
      }
     }
    },
    "c981238c-c72f-42fa-8765-9160c58647af": {
     "id": "c981238c-c72f-42fa-8765-9160c58647af",
     "prev": "ad3a6855-a531-4cb1-b9ce-4168d5b4bf0c",
     "regions": {
      "efbde437-f431-47ba-a491-3ad234a9375e": {
       "attrs": {
        "height": 0.8,
        "width": 0.8,
        "x": 0.1,
        "y": 0.1
       },
       "content": {
        "cell": "f89db105-8c07-49b9-b9af-8d0740b362ab",
        "part": "whole"
       },
       "id": "efbde437-f431-47ba-a491-3ad234a9375e"
      }
     }
    },
    "cdc63c5a-62c6-48d7-b154-9dfa328c55c6": {
     "id": "cdc63c5a-62c6-48d7-b154-9dfa328c55c6",
     "prev": "bc56e38b-daa0-45a9-bf3c-cb349722435a",
     "regions": {
      "69b8af72-1cc0-4639-831f-0411f59699bc": {
       "attrs": {
        "height": 0.8,
        "width": 0.8,
        "x": 0.1,
        "y": 0.1
       },
       "content": {
        "cell": "01699665-557a-4757-8e05-281c9aa6d02f",
        "part": "whole"
       },
       "id": "69b8af72-1cc0-4639-831f-0411f59699bc"
      }
     }
    },
    "d0cfecad-e545-4204-9afa-912e3369412d": {
     "id": "d0cfecad-e545-4204-9afa-912e3369412d",
     "prev": "59f807fa-9c5f-42dc-800c-57d61585b0f2",
     "regions": {
      "2aa8cf6a-ff5f-4702-88b8-aba6429155b4": {
       "attrs": {
        "height": 0.8,
        "width": 0.8,
        "x": 0.1,
        "y": 0.1
       },
       "content": {
        "cell": "7b09bf24-ffec-4279-b5ff-cefa6662e7fc",
        "part": "whole"
       },
       "id": "2aa8cf6a-ff5f-4702-88b8-aba6429155b4"
      }
     }
    },
    "d2406fd6-393a-4259-891e-e4d48235215b": {
     "id": "d2406fd6-393a-4259-891e-e4d48235215b",
     "prev": "15eddd42-21e1-4e7e-8441-1bdf8584663a",
     "regions": {
      "7dde30ef-0b2e-4c0c-a7a4-f04559810482": {
       "attrs": {
        "height": 0.8,
        "width": 0.8,
        "x": 0.1,
        "y": 0.1
       },
       "content": {
        "cell": "7ba426ae-fde3-4977-8c3e-0dbf49cd548d",
        "part": "whole"
       },
       "id": "7dde30ef-0b2e-4c0c-a7a4-f04559810482"
      }
     }
    },
    "d2ca4243-0a02-48d9-a133-00477942f240": {
     "id": "d2ca4243-0a02-48d9-a133-00477942f240",
     "prev": "41dcffa6-df7b-4d35-8d1b-e2d2a7700e80",
     "regions": {
      "3d9caff8-61a0-410c-abf7-1d5ee90e37a6": {
       "attrs": {
        "height": 0.8,
        "width": 0.8,
        "x": 0.1,
        "y": 0.1
       },
       "content": {
        "cell": "a5ed3a18-b7dd-40f8-b7a8-ef7a9914d462",
        "part": "whole"
       },
       "id": "3d9caff8-61a0-410c-abf7-1d5ee90e37a6"
      }
     }
    },
    "d400fd08-8056-410e-8377-177caebe426c": {
     "id": "d400fd08-8056-410e-8377-177caebe426c",
     "prev": "41cbcb40-42b0-40ef-977c-b712f5bac003",
     "regions": {
      "e3602c4c-a616-4bb4-a64f-ad89401a2f0d": {
       "attrs": {
        "height": 0.8,
        "width": 0.8,
        "x": 0.1,
        "y": 0.1
       },
       "content": {
        "cell": "09ef9e85-7bb6-4a5c-905c-af61ddad6648",
        "part": "whole"
       },
       "id": "e3602c4c-a616-4bb4-a64f-ad89401a2f0d"
      }
     }
    },
    "dffb9168-4faa-46c9-b784-3183c2874497": {
     "id": "dffb9168-4faa-46c9-b784-3183c2874497",
     "prev": "c72b897e-6fce-4a1a-9ab5-b7eca6b3f4e8",
     "regions": {
      "2ad14cd9-cbfd-4cf3-9b7a-d61e56a8e444": {
       "attrs": {
        "height": 0.8,
        "width": 0.8,
        "x": 0.1,
        "y": 0.1
       },
       "content": {
        "cell": "9d2ea7cc-4b18-475f-9e35-8f79b9ce477e",
        "part": "whole"
       },
       "id": "2ad14cd9-cbfd-4cf3-9b7a-d61e56a8e444"
      }
     }
    },
    "e4611db2-b9c9-446d-b336-4a34b984bf88": {
     "id": "e4611db2-b9c9-446d-b336-4a34b984bf88",
     "prev": "0a4275e1-1d4a-4a91-8de6-62a1b6a44bff",
     "regions": {
      "1ceae9cc-73b7-4322-bf9a-8a8e3a8c1e00": {
       "attrs": {
        "height": 0.8,
        "width": 0.8,
        "x": 0.1,
        "y": 0.1
       },
       "content": {
        "cell": "09a41658-8d64-46ec-8e65-dd7b54cbc488",
        "part": "whole"
       },
       "id": "1ceae9cc-73b7-4322-bf9a-8a8e3a8c1e00"
      }
     }
    },
    "e5cb9dc3-3375-44ed-8b74-5e7f557f6671": {
     "id": "e5cb9dc3-3375-44ed-8b74-5e7f557f6671",
     "prev": "d400fd08-8056-410e-8377-177caebe426c",
     "regions": {
      "df65b261-b7bc-42ed-bcd9-406344244c0d": {
       "attrs": {
        "height": 0.8,
        "width": 0.8,
        "x": 0.1,
        "y": 0.1
       },
       "content": {
        "cell": "faa18891-5a77-4eaa-80b6-986619477e31",
        "part": "whole"
       },
       "id": "df65b261-b7bc-42ed-bcd9-406344244c0d"
      }
     }
    },
    "f3679643-0758-4ff4-8684-7f40c605c7f5": {
     "id": "f3679643-0758-4ff4-8684-7f40c605c7f5",
     "prev": "2cfe9fd9-fa7f-4dbc-9b9b-bed479e944d3",
     "regions": {
      "b716bdf9-dc02-4856-8e40-40b97edb5bde": {
       "attrs": {
        "height": 0.8,
        "width": 0.8,
        "x": 0.1,
        "y": 0.1
       },
       "content": {
        "cell": "bb21743d-67ae-41aa-83b2-f96ab55a6cb1",
        "part": "whole"
       },
       "id": "b716bdf9-dc02-4856-8e40-40b97edb5bde"
      }
     }
    },
    "f44075e6-42f1-4e46-84a4-22f7c6b19b01": {
     "id": "f44075e6-42f1-4e46-84a4-22f7c6b19b01",
     "prev": "117db083-caaa-4e1c-9407-3518c7461b2d",
     "regions": {
      "78bd81f6-b8f6-4a93-845b-a46b07c141ec": {
       "attrs": {
        "height": 0.8,
        "width": 0.8,
        "x": 0.1,
        "y": 0.1
       },
       "content": {
        "cell": "96bb7390-e2e6-4172-9468-611123065e01",
        "part": "whole"
       },
       "id": "78bd81f6-b8f6-4a93-845b-a46b07c141ec"
      }
     }
    },
    "f5f98908-c41c-4488-b5a8-91f2e45841f4": {
     "id": "f5f98908-c41c-4488-b5a8-91f2e45841f4",
     "prev": "c981238c-c72f-42fa-8765-9160c58647af",
     "regions": {
      "d9e17ef5-e22b-469b-84e8-0d868bbdd4c6": {
       "attrs": {
        "height": 0.8,
        "width": 0.8,
        "x": 0.1,
        "y": 0.1
       },
       "content": {
        "cell": "969b5df7-137a-4a7a-aa73-a1fb9ef07104",
        "part": "whole"
       },
       "id": "d9e17ef5-e22b-469b-84e8-0d868bbdd4c6"
      }
     }
    },
    "f8546313-66b9-4094-9bf6-f3288643b312": {
     "id": "f8546313-66b9-4094-9bf6-f3288643b312",
     "prev": "86ae28bd-c840-421e-8f1d-df8ee33b2f48",
     "regions": {
      "d8652950-123c-4cbe-b092-be0618421460": {
       "attrs": {
        "height": 0.8,
        "width": 0.8,
        "x": 0.1,
        "y": 0.1
       },
       "content": {
        "cell": "1dffac43-899e-4b10-849b-121a2d930acd",
        "part": "whole"
       },
       "id": "d8652950-123c-4cbe-b092-be0618421460"
      }
     }
    },
    "fe1b0b12-94d3-44f3-8ef4-1b57689a57db": {
     "id": "fe1b0b12-94d3-44f3-8ef4-1b57689a57db",
     "prev": "f8546313-66b9-4094-9bf6-f3288643b312",
     "regions": {
      "2069037d-7f9b-40ab-9cb1-9dfc28cd22c1": {
       "attrs": {
        "height": 0.8,
        "width": 0.8,
        "x": 0.1,
        "y": 0.1
       },
       "content": {
        "cell": "b2883484-ff0f-4268-9834-0229c0b869a8",
        "part": "whole"
       },
       "id": "2069037d-7f9b-40ab-9cb1-9dfc28cd22c1"
      }
     }
    }
   },
   "themes": {}
  }
 },
 "nbformat": 4,
 "nbformat_minor": 1
}
