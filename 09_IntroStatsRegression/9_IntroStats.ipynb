{
 "cells": [
  {
   "cell_type": "markdown",
   "metadata": {},
   "source": [
    "# Working with data 2019\n",
    "\n",
    "## Contact\n",
    "Javier Garcia-Bernardo\n",
    "garcia@uva.nl\n",
    "\n",
    "## PLAN FOR THE WEEK\n",
    "- MONDAY: Maps\n",
    "- WEDNESDAY: Cleaning data 2 (missing data and outliers)\n",
    "- FRIDAY: Statistics\n",
    "\n",
    "### Next week\n",
    "- MONDAY: Time series and panel models\n",
    "- WEDNESDAY: Assumptions of linear regression // or maybe machine learning\n",
    "- FRIDAY: Complex systems, model-thinking, machine learning\n",
    "\n",
    "\n",
    "\n",
    "1. Statistics I\n",
    "    - 1.1 Definitions\n",
    "    - 1.2 Biases II\n",
    "    - 1.3 Don't do bad science\n",
    "2. Fitting distributions\n",
    "3. Introduction to regressions\n",
    "    - 3.0 Assumptions\n",
    "    - 3.1 Type of dependent variable\n",
    "    - 3.2 Hierarchical models / Mixed  models / Multilevel models\n",
    "    - 3.3 Longitudinal vs cross-sectional\n",
    "4. Other tests\n",
    "    - Binomial test\n",
    "    - $\\chi^2$ (chi-square) test \n",
    "    - Compare two (or more) distributions\n",
    "5. Examples of how to run regressions\n",
    "    - 5.1 Standard regression (OLS)\n",
    "    - 5.2 Standard regression (OLS) with interaction effects\n",
    "    - 5.3 Standard regression (OLS) with categorical data as a fixed effect\n",
    "    - 5.4 Random effects model with categorical data as a random effect\n",
    "    - 5.5 Combine several regression summaries \n",
    "    - 5.6 You can also use R\n",
    "    - 5.7 Summary: Models for cross-sectional data\n",
    "    - 5.8 (cross)-validation (advanced).\n",
    "    - 5.9 Bootstrapping in regressions (not so convenient in python\n",
    "    - 5.10 How to know which model to run?"
   ]
  },
  {
   "cell_type": "code",
   "execution_count": 1,
   "metadata": {},
   "outputs": [
    {
     "name": "stderr",
     "output_type": "stream",
     "text": [
      "/opt/anaconda/anaconda3/lib/python3.5/importlib/_bootstrap.py:222: RuntimeWarning: numpy.dtype size changed, may indicate binary incompatibility. Expected 96, got 88\n",
      "  return f(*args, **kwds)\n",
      "/opt/anaconda/anaconda3/lib/python3.5/importlib/_bootstrap.py:222: RuntimeWarning: numpy.dtype size changed, may indicate binary incompatibility. Expected 96, got 88\n",
      "  return f(*args, **kwds)\n",
      "/opt/anaconda/anaconda3/lib/python3.5/importlib/_bootstrap.py:222: RuntimeWarning: numpy.dtype size changed, may indicate binary incompatibility. Expected 96, got 88\n",
      "  return f(*args, **kwds)\n",
      "/opt/anaconda/anaconda3/lib/python3.5/importlib/_bootstrap.py:222: RuntimeWarning: numpy.dtype size changed, may indicate binary incompatibility. Expected 96, got 88\n",
      "  return f(*args, **kwds)\n",
      "/opt/anaconda/anaconda3/lib/python3.5/importlib/_bootstrap.py:222: RuntimeWarning: numpy.dtype size changed, may indicate binary incompatibility. Expected 96, got 88\n",
      "  return f(*args, **kwds)\n",
      "/opt/anaconda/anaconda3/lib/python3.5/importlib/_bootstrap.py:222: RuntimeWarning: numpy.dtype size changed, may indicate binary incompatibility. Expected 96, got 88\n",
      "  return f(*args, **kwds)\n",
      "Using TensorFlow backend.\n",
      "/opt/anaconda/anaconda3/lib/python3.5/importlib/_bootstrap.py:222: RuntimeWarning: numpy.dtype size changed, may indicate binary incompatibility. Expected 96, got 88\n",
      "  return f(*args, **kwds)\n"
     ]
    },
    {
     "data": {
      "text/html": [
       "<style>.container { width:90% !important; }</style>"
      ],
      "text/plain": [
       "<IPython.core.display.HTML object>"
      ]
     },
     "metadata": {},
     "output_type": "display_data"
    }
   ],
   "source": [
    "import pandas as pd\n",
    "import numpy as np\n",
    "import pylab as plt\n",
    "import seaborn as sns\n",
    "from scipy.stats import chi2_contingency,ttest_ind\n",
    "\n",
    "#Imputation (!pip install fancyimpute)\n",
    "from fancyimpute import KNN\n",
    "\n",
    "#Library for linear regression\n",
    "import statsmodels.formula.api as smf\n",
    "\n",
    "#This allows us to use R\n",
    "%load_ext rpy2.ipython\n",
    "\n",
    "#Visualize in line\n",
    "%matplotlib inline\n",
    "\n",
    "#Be able to plot images saved in the hard drive\n",
    "from IPython.display import Image,display\n",
    "\n",
    "#Make the notebook wider\n",
    "from IPython.core.display import display, HTML \n",
    "display(HTML(\"<style>.container { width:90% !important; }</style>\"))\n"
   ]
  },
  {
   "cell_type": "markdown",
   "metadata": {},
   "source": [
    "# 1 Statistics I\n",
    "To learn about statistics *well*, I recommend this course: https://www.coursera.org/specializations/social-science\n",
    "\n",
    "\n",
    "\n",
    "## 1.1 Definitions\n",
    "### 1.1.1 Population vs sample\n",
    "- Population: The entire set of possible observations (all people in a country in a country-level survey)\n",
    "- Sample: The observations we actually have\n",
    "\n",
    "    \n",
    "### 1.1.2 Parameter vs statistic\n",
    "- Parameter: The true values that define the population ($\\sigma$ and $\\mu$ for a normal distribution)\n",
    "- Statistic: The values that we calculate using our sample (STD and MEAN for a normal distribution)\n",
    "    \n",
    "    \n",
    "### 1.1.3 Probability\n",
    "- Probability: The proportion of times where the measured event occurs in the long run. \n",
    "- For instance, the probability of a coin toss is 0.5, which means that if you toss a coin 1 million times you will more or less get 500k heads and 500k tails)\n",
    "\n",
    "\n",
    "### 1.1.4 Null hypothesis:\n",
    "- The hypothesis that our value is not significant.\n",
    "- For instance our value can be the difference between two groups, or the difference between one group and zero.\n",
    "- It is assumed to be true and we try to disprove it.\n",
    "- It is \"disproved\" if the chances to dismiss it by chance are lower than 5%.\n",
    "\n",
    "\n",
    "### 1.1.5 Alternative hypothesis:\n",
    "- The hypothesis that our value is significant.\n",
    "- Accepted after dismissing the null hypothesis.\n",
    "    \n",
    "    \n",
    "### 1.1.6 Types of error:\n",
    "- Type I ($\\alpha$): False positive. Rejecting the null hypothesis when it was actually True (saying we have something we don't have). As a rule we set it to 0.05 and if the p-value is below it we accept the alternative hypothesis.\n",
    "- Type II ($\\beta$): False negative. Accepting the null hypothesis when it was actually False (saying we don't have something we actually have). This is a less important error.\n",
    "    \n",
    "    \n",
    "### 1.1.7 p-value\n",
    "- The p-value is defined as the probability of obtaining a result equal to or \"more extreme\" than what was actually observed, **when the null hypothesis is true.**\n",
    "- \"commonly misused and misinterpreted.\" --> a p-value of 0.01 does not mean that there is 1% chances that you are wrong!\n",
    "- Low p-value can be for two reasons:\n",
    "    - The null is true but your sample was unusual.\n",
    "    - The null is false.\n",
    "- with a p-value of 0.05 the probability of incorrectly rejecting a true null hypothesis is 23% (mainly for other bias).\n",
    "\n",
    "### 1.1.8 Confidence intervals\n",
    "- The likely range of values where the value of a parameter lies within. \n",
    "- It depends on your significance level (usually 0.05)\n",
    "    \n",
    "### 1.1.9 Effect size:\n",
    "- Size of the difference between two groups (or one group with zero) divided by the standard deviation. \n",
    "- Show the confidence intervals.\n",
    "- Good summary: https://www.leeds.ac.uk/educol/documents/00002182.htm\n",
    "- \"For example, an AIDS vaccine study in Thailand obtained a P value of 0.039. Great! This was the first time that an AIDS vaccine had positive results. However, the confidence interval for effectiveness ranged from 1% to 52%. That’s not so impressive...the vaccine may work virtually none of the time up to half the time. The effectiveness is both low and imprecisely estimated.\" quote: http://blog.minitab.com/blog/adventures-in-statistics-2/five-guidelines-for-using-p-values\n",
    "- With a lot of data even tiny effect sizes (maybe a company makes $10 more in a year) can be significant\n",
    "    \n",
    "\n",
    "### 1.1.10 Correlation\n",
    "- Dependence or association is any statistical relationship, whether causal or not, between two random variables or two sets of data. Correlation is any of a broad class of statistical relationships involving dependence, though in common usage it most often refers to the extent to which two variables have a linear relationship with each other.\n",
    "\n",
    "### 1.1.11 In general:\n",
    "- Larger population: We can detect smaller differences.\n",
    "- Smaller variability within groups: We can detect smaller differences.\n",
    "- Large differences between groups (effect size): Unlikely that it is due to noise.\n",
    "\n"
   ]
  },
  {
   "cell_type": "markdown",
   "metadata": {
    "collapsed": true
   },
   "source": [
    "## 1.2 Biases II\n",
    "### 1.2.1 Confirmation bias (yourself)\n",
    "  - Confirmation bias: \"scientists rate studies that report findings consistent with their prior beliefs more favorably than studies reporting findings inconsistent with their previous beliefs\"\n",
    "    - Do not question your analysis if the results are the expected\n",
    "    - Do other analysis if the results are not the expected\n",
    "  - Look-elsewhere effect: p-value are meaningless if multiple c\n",
    "\n",
    "### 1.2.2 Look-elsewhere effect (sample size)\n",
    "- If you try many things, one will be significant.\n",
    "- **With a sample size large enough, any outrageous thing is likely to happen** (Persi Diaconis and Frederick Mosteller) \n",
    "- If you have a database, scan the values to see if there is something interesting, and then use those values --> you are cheating. Your minimum p-value shouldn't be 0.05, should be 0.05/(variables scanned beforehand)\n",
    "\n",
    "### 1.2.3  Selection bias: \n",
    "- Subgroups of the population / specific datasets\n",
    "- MNAR data\n",
    "  \n",
    "\n",
    "### 1.2.4 Cherry-picking (yourself)\n",
    "- Using individual cases or data that seem to confirm a particular position, while ignoring a significant portion of related cases or data that may contradict that position.\n",
    "- Cherry picking may be committed intentionally or unintentionally. \n",
    "\n",
    "\n",
    "### 1.2.5 Optional stopping (data collection)\n",
    "- It is a well-known fact of null-hypothesis significance testing (NHST) that when there is \"optional stopping\" of data collection with testing at every new datum (a procedure also called \"sequential testing\" or \"data peeking\"), then the null hypothesis will eventually be rejected even when it is true. With enough random sampling from the null hypothesis, eventually there will be some accidental coincidence of outlying values so that p < .05 (conditionalizing on the current sample size). Anscombe (1954) called this phenomenon, \"sampling to reach a foregone conclusion.\" from; http://doingbayesiandataanalysis.blogspot.nl/2013/11/optional-stopping-in-data-collection-p.html"
   ]
  },
  {
   "cell_type": "code",
   "execution_count": 2,
   "metadata": {},
   "outputs": [
    {
     "name": "stdout",
     "output_type": "stream",
     "text": [
      "look-elsewhere effect\n"
     ]
    },
    {
     "data": {
      "text/html": [
       "<img src=\"http://www.tylervigen.com/chart-pngs/13.png\" width=\"1000\"/>"
      ],
      "text/plain": [
       "<IPython.core.display.Image object>"
      ]
     },
     "execution_count": 2,
     "metadata": {},
     "output_type": "execute_result"
    }
   ],
   "source": [
    "print(\"look-elsewhere effect\")\n",
    "Image(url=\"http://www.tylervigen.com/chart-pngs/13.png\",width=1000)"
   ]
  },
  {
   "cell_type": "markdown",
   "metadata": {},
   "source": [
    "### More on the look-elsewhere effect\n",
    "- If you try too many things, one of them is going to be significant.\n",
    "- You need adjustments (more on that another time)\n",
    "- We are creating a completely random dataset with 100 observations and 50 variables\n",
    "- We are trying to see if we can fit a linear model"
   ]
  },
  {
   "cell_type": "code",
   "execution_count": 3,
   "metadata": {},
   "outputs": [
    {
     "data": {
      "text/html": [
       "<div>\n",
       "<style scoped>\n",
       "    .dataframe tbody tr th:only-of-type {\n",
       "        vertical-align: middle;\n",
       "    }\n",
       "\n",
       "    .dataframe tbody tr th {\n",
       "        vertical-align: top;\n",
       "    }\n",
       "\n",
       "    .dataframe thead th {\n",
       "        text-align: right;\n",
       "    }\n",
       "</style>\n",
       "<table border=\"1\" class=\"dataframe\">\n",
       "  <thead>\n",
       "    <tr style=\"text-align: right;\">\n",
       "      <th></th>\n",
       "      <th>y</th>\n",
       "      <th>x0</th>\n",
       "      <th>x1</th>\n",
       "      <th>x2</th>\n",
       "      <th>x3</th>\n",
       "      <th>x4</th>\n",
       "      <th>x5</th>\n",
       "      <th>x6</th>\n",
       "      <th>x7</th>\n",
       "      <th>x8</th>\n",
       "      <th>...</th>\n",
       "      <th>x40</th>\n",
       "      <th>x41</th>\n",
       "      <th>x42</th>\n",
       "      <th>x43</th>\n",
       "      <th>x44</th>\n",
       "      <th>x45</th>\n",
       "      <th>x46</th>\n",
       "      <th>x47</th>\n",
       "      <th>x48</th>\n",
       "      <th>x49</th>\n",
       "    </tr>\n",
       "  </thead>\n",
       "  <tbody>\n",
       "    <tr>\n",
       "      <th>0</th>\n",
       "      <td>0.609577</td>\n",
       "      <td>0.241446</td>\n",
       "      <td>0.043487</td>\n",
       "      <td>0.090171</td>\n",
       "      <td>0.070310</td>\n",
       "      <td>0.357984</td>\n",
       "      <td>0.513340</td>\n",
       "      <td>0.730515</td>\n",
       "      <td>0.652123</td>\n",
       "      <td>0.444212</td>\n",
       "      <td>...</td>\n",
       "      <td>0.963232</td>\n",
       "      <td>0.081885</td>\n",
       "      <td>0.609779</td>\n",
       "      <td>0.421406</td>\n",
       "      <td>0.787328</td>\n",
       "      <td>0.224110</td>\n",
       "      <td>0.623656</td>\n",
       "      <td>0.264583</td>\n",
       "      <td>0.047219</td>\n",
       "      <td>0.635203</td>\n",
       "    </tr>\n",
       "    <tr>\n",
       "      <th>1</th>\n",
       "      <td>0.999337</td>\n",
       "      <td>0.508955</td>\n",
       "      <td>0.852469</td>\n",
       "      <td>0.926850</td>\n",
       "      <td>0.538302</td>\n",
       "      <td>0.467758</td>\n",
       "      <td>0.492248</td>\n",
       "      <td>0.176763</td>\n",
       "      <td>0.283277</td>\n",
       "      <td>0.119780</td>\n",
       "      <td>...</td>\n",
       "      <td>0.989186</td>\n",
       "      <td>0.303781</td>\n",
       "      <td>0.569563</td>\n",
       "      <td>0.911153</td>\n",
       "      <td>0.263576</td>\n",
       "      <td>0.338325</td>\n",
       "      <td>0.116425</td>\n",
       "      <td>0.208483</td>\n",
       "      <td>0.896658</td>\n",
       "      <td>0.390472</td>\n",
       "    </tr>\n",
       "    <tr>\n",
       "      <th>2</th>\n",
       "      <td>0.848455</td>\n",
       "      <td>0.240611</td>\n",
       "      <td>0.286146</td>\n",
       "      <td>0.626276</td>\n",
       "      <td>0.586698</td>\n",
       "      <td>0.065730</td>\n",
       "      <td>0.704501</td>\n",
       "      <td>0.130662</td>\n",
       "      <td>0.191089</td>\n",
       "      <td>0.549399</td>\n",
       "      <td>...</td>\n",
       "      <td>0.378081</td>\n",
       "      <td>0.683264</td>\n",
       "      <td>0.135727</td>\n",
       "      <td>0.119104</td>\n",
       "      <td>0.496350</td>\n",
       "      <td>0.358919</td>\n",
       "      <td>0.658667</td>\n",
       "      <td>0.109359</td>\n",
       "      <td>0.811015</td>\n",
       "      <td>0.030633</td>\n",
       "    </tr>\n",
       "    <tr>\n",
       "      <th>3</th>\n",
       "      <td>0.200003</td>\n",
       "      <td>0.224744</td>\n",
       "      <td>0.507616</td>\n",
       "      <td>0.952387</td>\n",
       "      <td>0.636957</td>\n",
       "      <td>0.209662</td>\n",
       "      <td>0.856251</td>\n",
       "      <td>0.013872</td>\n",
       "      <td>0.336290</td>\n",
       "      <td>0.746147</td>\n",
       "      <td>...</td>\n",
       "      <td>0.224444</td>\n",
       "      <td>0.349005</td>\n",
       "      <td>0.079478</td>\n",
       "      <td>0.090397</td>\n",
       "      <td>0.274313</td>\n",
       "      <td>0.316322</td>\n",
       "      <td>0.408448</td>\n",
       "      <td>0.525078</td>\n",
       "      <td>0.330676</td>\n",
       "      <td>0.126918</td>\n",
       "    </tr>\n",
       "    <tr>\n",
       "      <th>4</th>\n",
       "      <td>0.532524</td>\n",
       "      <td>0.780766</td>\n",
       "      <td>0.185013</td>\n",
       "      <td>0.478061</td>\n",
       "      <td>0.563605</td>\n",
       "      <td>0.386908</td>\n",
       "      <td>0.984059</td>\n",
       "      <td>0.822000</td>\n",
       "      <td>0.829871</td>\n",
       "      <td>0.759415</td>\n",
       "      <td>...</td>\n",
       "      <td>0.386905</td>\n",
       "      <td>0.008826</td>\n",
       "      <td>0.213562</td>\n",
       "      <td>0.082797</td>\n",
       "      <td>0.635893</td>\n",
       "      <td>0.298970</td>\n",
       "      <td>0.155664</td>\n",
       "      <td>0.870900</td>\n",
       "      <td>0.764220</td>\n",
       "      <td>0.925988</td>\n",
       "    </tr>\n",
       "  </tbody>\n",
       "</table>\n",
       "<p>5 rows × 51 columns</p>\n",
       "</div>"
      ],
      "text/plain": [
       "          y        x0        x1        x2        x3        x4        x5  \\\n",
       "0  0.609577  0.241446  0.043487  0.090171  0.070310  0.357984  0.513340   \n",
       "1  0.999337  0.508955  0.852469  0.926850  0.538302  0.467758  0.492248   \n",
       "2  0.848455  0.240611  0.286146  0.626276  0.586698  0.065730  0.704501   \n",
       "3  0.200003  0.224744  0.507616  0.952387  0.636957  0.209662  0.856251   \n",
       "4  0.532524  0.780766  0.185013  0.478061  0.563605  0.386908  0.984059   \n",
       "\n",
       "         x6        x7        x8    ...          x40       x41       x42  \\\n",
       "0  0.730515  0.652123  0.444212    ...     0.963232  0.081885  0.609779   \n",
       "1  0.176763  0.283277  0.119780    ...     0.989186  0.303781  0.569563   \n",
       "2  0.130662  0.191089  0.549399    ...     0.378081  0.683264  0.135727   \n",
       "3  0.013872  0.336290  0.746147    ...     0.224444  0.349005  0.079478   \n",
       "4  0.822000  0.829871  0.759415    ...     0.386905  0.008826  0.213562   \n",
       "\n",
       "        x43       x44       x45       x46       x47       x48       x49  \n",
       "0  0.421406  0.787328  0.224110  0.623656  0.264583  0.047219  0.635203  \n",
       "1  0.911153  0.263576  0.338325  0.116425  0.208483  0.896658  0.390472  \n",
       "2  0.119104  0.496350  0.358919  0.658667  0.109359  0.811015  0.030633  \n",
       "3  0.090397  0.274313  0.316322  0.408448  0.525078  0.330676  0.126918  \n",
       "4  0.082797  0.635893  0.298970  0.155664  0.870900  0.764220  0.925988  \n",
       "\n",
       "[5 rows x 51 columns]"
      ]
     },
     "execution_count": 3,
     "metadata": {},
     "output_type": "execute_result"
    }
   ],
   "source": [
    "random_data = pd.read_csv(\"data/random_data.csv\")\n",
    "random_data.head()"
   ]
  },
  {
   "cell_type": "code",
   "execution_count": 4,
   "metadata": {
    "scrolled": false
   },
   "outputs": [
    {
     "name": "stdout",
     "output_type": "stream",
     "text": [
      "                            OLS Regression Results                            \n",
      "==============================================================================\n",
      "Dep. Variable:                      y   R-squared:                       0.429\n",
      "Model:                            OLS   Adj. R-squared:                 -0.154\n",
      "Method:                 Least Squares   F-statistic:                    0.7355\n",
      "Date:                Wed, 23 Jan 2019   Prob (F-statistic):              0.859\n",
      "Time:                        21:50:22   Log-Likelihood:                 11.800\n",
      "No. Observations:                 100   AIC:                             78.40\n",
      "Df Residuals:                      49   BIC:                             211.3\n",
      "Df Model:                          50                                         \n",
      "Covariance Type:            nonrobust                                         \n",
      "==============================================================================\n",
      "                 coef    std err          t      P>|t|      [0.025      0.975]\n",
      "------------------------------------------------------------------------------\n",
      "Intercept      0.0740      0.475      0.156      0.877      -0.881       1.029\n",
      "x0            -0.0762      0.171     -0.446      0.658      -0.420       0.268\n",
      "x1             0.1099      0.171      0.643      0.523      -0.234       0.454\n",
      "x2            -0.0547      0.154     -0.354      0.725      -0.365       0.256\n",
      "x3             0.0134      0.153      0.087      0.931      -0.294       0.321\n",
      "x4            -0.1712      0.163     -1.048      0.300      -0.499       0.157\n",
      "x5             0.2929      0.185      1.584      0.120      -0.079       0.665\n",
      "x6            -0.0810      0.136     -0.598      0.553      -0.353       0.191\n",
      "x7            -0.1051      0.156     -0.674      0.504      -0.418       0.208\n",
      "x8             0.0702      0.164      0.427      0.671      -0.260       0.400\n",
      "x9             0.0382      0.148      0.259      0.797      -0.259       0.335\n",
      "x10            0.1722      0.149      1.159      0.252      -0.126       0.471\n",
      "x11            0.0570      0.169      0.336      0.738      -0.284       0.398\n",
      "x12           -0.3061      0.143     -2.140      0.037      -0.593      -0.019\n",
      "x13            0.0280      0.124      0.226      0.822      -0.221       0.277\n",
      "x14            0.1941      0.140      1.382      0.173      -0.088       0.476\n",
      "x15            0.0054      0.161      0.034      0.973      -0.318       0.329\n",
      "x16           -0.0334      0.159     -0.210      0.835      -0.354       0.287\n",
      "x17            0.0421      0.157      0.268      0.790      -0.274       0.359\n",
      "x18            0.0786      0.152      0.519      0.606      -0.226       0.383\n",
      "x19           -0.0783      0.150     -0.522      0.604      -0.380       0.223\n",
      "x20            0.1537      0.157      0.979      0.332      -0.162       0.469\n",
      "x21           -0.0207      0.144     -0.144      0.886      -0.310       0.268\n",
      "x22            0.2131      0.165      1.290      0.203      -0.119       0.545\n",
      "x23           -0.0604      0.148     -0.409      0.684      -0.357       0.236\n",
      "x24            0.1475      0.142      1.036      0.305      -0.139       0.434\n",
      "x25            0.0205      0.154      0.133      0.895      -0.289       0.330\n",
      "x26           -0.0719      0.158     -0.456      0.651      -0.389       0.245\n",
      "x27           -0.2181      0.149     -1.463      0.150      -0.518       0.081\n",
      "x28            0.0186      0.162      0.115      0.909      -0.306       0.344\n",
      "x29            0.1409      0.137      1.027      0.309      -0.135       0.417\n",
      "x30           -0.0286      0.147     -0.194      0.847      -0.325       0.268\n",
      "x31            0.0615      0.151      0.408      0.685      -0.242       0.365\n",
      "x32           -0.0748      0.144     -0.518      0.607      -0.365       0.215\n",
      "x33           -0.1876      0.174     -1.081      0.285      -0.536       0.161\n",
      "x34            0.0110      0.136      0.081      0.936      -0.262       0.284\n",
      "x35            0.0475      0.159      0.298      0.767      -0.272       0.367\n",
      "x36           -0.0863      0.140     -0.618      0.540      -0.367       0.194\n",
      "x37            0.0274      0.150      0.182      0.856      -0.275       0.330\n",
      "x38           -0.0621      0.131     -0.473      0.638      -0.326       0.202\n",
      "x39            0.3378      0.167      2.022      0.049       0.002       0.673\n",
      "x40            0.0921      0.136      0.677      0.501      -0.181       0.365\n",
      "x41           -0.0042      0.136     -0.031      0.976      -0.277       0.268\n",
      "x42            0.0922      0.148      0.625      0.535      -0.204       0.389\n",
      "x43            0.2786      0.150      1.861      0.069      -0.022       0.579\n",
      "x44           -0.0477      0.153     -0.313      0.756      -0.354       0.259\n",
      "x45           -0.1984      0.154     -1.285      0.205      -0.509       0.112\n",
      "x46           -0.0647      0.140     -0.462      0.646      -0.346       0.217\n",
      "x47            0.0045      0.156      0.029      0.977      -0.308       0.317\n",
      "x48            0.0241      0.162      0.149      0.882      -0.301       0.349\n",
      "x49            0.2269      0.172      1.319      0.193      -0.119       0.573\n",
      "==============================================================================\n",
      "Omnibus:                        1.806   Durbin-Watson:                   1.790\n",
      "Prob(Omnibus):                  0.405   Jarque-Bera (JB):                1.844\n",
      "Skew:                          -0.284   Prob(JB):                        0.398\n",
      "Kurtosis:                       2.652   Cond. No.                         62.8\n",
      "==============================================================================\n",
      "\n",
      "Warnings:\n",
      "[1] Standard Errors assume that the covariance matrix of the errors is correctly specified.\n"
     ]
    }
   ],
   "source": [
    "#Fit a regression\n",
    "import statsmodels.formula.api as smf\n",
    "\n",
    "cols_x = [\"x{}\".format(i) for i in range(50)]\n",
    "mod = smf.ols(formula='y ~ {}'.format(\"+\".join(cols_x)), data=random_data)\n",
    "res = mod.fit()\n",
    "print(res.summary())"
   ]
  },
  {
   "cell_type": "markdown",
   "metadata": {},
   "source": [
    "## 1.3 Don't do bad science\n",
    "**We're in a replication crisis.**\n",
    "- Pre-register your study\n",
    "- ALWAYS give all the information needed to replicate your results (including all the parameters of your models and your data unless restricted by licenses).\n",
    "- Be aware of the biases and try to correct for them.\n",
    "- For the look-elsewhere effect: Use **Bonferroni correction**: if you try 10 things, your p-value should be lower than 0.05/10 to be significant"
   ]
  },
  {
   "cell_type": "markdown",
   "metadata": {},
   "source": [
    "**Number of failed replications**: `of another author (your own papers)`\n",
    "\n",
    "    chemistry: 90% (60%),\n",
    "    biology: 80% (60%),\n",
    "    physics and engineering: 70% (50%),\n",
    "    medicine: 70% (60%),\n",
    "    Earth and environment science: 60% (40%).\n",
    "\n",
    "http://www.nature.com/news/1-500-scientists-lift-the-lid-on-reproducibility-1.19970?WT.mc_id=SFB_NNEWS_1508_RHBox\n",
    "\n"
   ]
  },
  {
   "cell_type": "code",
   "execution_count": 5,
   "metadata": {},
   "outputs": [
    {
     "data": {
      "text/html": [
       "<img src=\"http://cdn.app.compendium.com/uploads/user/458939f4-fe08-4dbc-b271-efca0f5a2682/742d7708-efd3-492c-abff-6044d78e3bbd/Image/01bec95ec63634b9062de57edde1ecf7/replicationbypvalue.png\"/>"
      ],
      "text/plain": [
       "<IPython.core.display.Image object>"
      ]
     },
     "execution_count": 5,
     "metadata": {},
     "output_type": "execute_result"
    }
   ],
   "source": [
    "Image(url=\"http://cdn.app.compendium.com/uploads/user/458939f4-fe08-4dbc-b271-efca0f5a2682/742d7708-efd3-492c-abff-6044d78e3bbd/Image/01bec95ec63634b9062de57edde1ecf7/replicationbypvalue.png\")"
   ]
  },
  {
   "cell_type": "markdown",
   "metadata": {},
   "source": [
    "# 2. Fitting distributions\n",
    "## Why do we care about distributions?\n",
    "- They tell us a lot about the mechanism generating our values\n",
    "- Amazing link (chapters 3 and 4)! https://seeing-theory.brown.edu/probability-distributions/index.html\n",
    "\n",
    "## 2.1 (Some) Continuous distributions\n",
    "### 2.1.1 Normal distribution: \n",
    "    - Nothing weird going on (just normal)\n",
    "### 2.1.2 Lognormal distribution: \n",
    "    - Multiplicative process: \n",
    "        - The value depends on the multiplication of many variables.\n",
    "        - For example, each unit of time you can grow depending on some random factors (revenue of company, publication of a paper...)\n",
    "    - Many financial indicators are lognormally distributed\n",
    "    - Looks like a normal distribution if you take the logarithm of your values (np.log(x))\n",
    "### 2.1.3 Exponential distribution: \n",
    "    - Time between events (generated by poisson events)\n",
    "    - If the time between events follows an exponential distribution the events are independent\n",
    "    - It's a straight line if the y axis is in log scale\n",
    "    - Mean == STD\n",
    "    \n",
    "### 2.1.4 Power-law distribution: \n",
    "    - Rich-get-richer mechanism: Your growth depends on your value -> Inequality is unavoidable\n",
    "    - The **tails** of some human and financial phenomena follow power-laws.\n",
    "    - The tail is a straight line in log-log scale (both y and x axis)\n",
    "    - Beware with this one, people see them everywhere, but they are rare: https://arxiv.org/abs/1801.03400\n",
    "\n",
    "## 2.2 (Some) Discrete distributions\n",
    "### 2.2.1 Poisson distribution: \n",
    "    - Number of successes in some time. Each event independent\n",
    "    - Used for counts (number of attacks in a year)\n",
    "    - Mean == Variance (there are tests for this)\n",
    "    \n",
    "### 2.2.1 Zero-inflated poisson distribution: \n",
    "    - Two processes: probability to have > 0 events, and then a normal Poisson for the number of successes in some time. Each event independent\n",
    "    - Used for counts when there are more zeros than in a Poission. For instance: the number of guitar lesson takens in a population. Most people take zero, among the people who take some, each guitar lesson is independent.\n",
    "    - Mean == Variance (there are tests for this)\n",
    "\n",
    "\n",
    "### 2.2.2 Binomial distribution: \n",
    "    - Number of successes out of a number of trials. Each event independent\n",
    "\n",
    "### 2.2.3 Negative binomial distribution: \n",
    "    - Number of successes before a number of failures occurs. Each event independent\n",
    "    - In regressions: Used as an alternative of poisson distribution, when Variance >> Mean\n",
    "\n",
    "\n",
    "\n"
   ]
  },
  {
   "cell_type": "code",
   "execution_count": 6,
   "metadata": {},
   "outputs": [
    {
     "name": "stderr",
     "output_type": "stream",
     "text": [
      "/opt/anaconda/anaconda3/lib/python3.5/site-packages/scipy/stats/stats.py:1713: FutureWarning: Using a non-tuple sequence for multidimensional indexing is deprecated; use `arr[tuple(seq)]` instead of `arr[seq]`. In the future this will be interpreted as an array index, `arr[np.array(seq)]`, which will result either in an error or a different result.\n",
      "  return np.add.reduce(sorted[indexer] * weights, axis=axis) / sumval\n"
     ]
    },
    {
     "data": {
      "image/png": "[encoded data removed]",
      "text/plain": [
       "<Figure size 432x288 with 4 Axes>"
      ]
     },
     "metadata": {
      "needs_background": "light"
     },
     "output_type": "display_data"
    }
   ],
   "source": [
    "from scipy.stats import lognorm,norm,expon,powerlaw\n",
    "x = np.random.lognormal(1,0.8,3000) \n",
    "plt.subplot(2,2,1)\n",
    "sns.distplot(x,fit=norm,kde=False)\n",
    "plt.title(\"norm\")\n",
    "\n",
    "plt.subplot(2,2,2)\n",
    "sns.distplot(x,fit=lognorm,kde=False)\n",
    "plt.title(\"lognorm\")\n",
    "\n",
    "plt.subplot(2,2,3)\n",
    "sns.distplot(x,fit=expon,kde=False)\n",
    "plt.title(\"expon\")\n",
    "\n",
    "plt.subplot(2,2,4)\n",
    "sns.distplot(x,fit=powerlaw,kde=False)\n",
    "plt.title(\"powerlaw\")\n",
    "\n",
    "plt.tight_layout()\n",
    "plt.show()"
   ]
  },
  {
   "cell_type": "markdown",
   "metadata": {},
   "source": [
    "### Check if a distribution is more or less normally distributed"
   ]
  },
  {
   "cell_type": "code",
   "execution_count": 7,
   "metadata": {},
   "outputs": [],
   "source": [
    "def qq_plot(x):\n",
    "    import scipy.stats\n",
    "    (osm, osr),(slope, intercept, r)  = scipy.stats.probplot(x, dist='norm', plot=None)\n",
    "    plt.plot(osm, osr, '.', osm, slope*osm + intercept)\n",
    "    plt.xlabel('Quantiles',fontsize=14)\n",
    "    plt.ylabel('Quantiles Obs',fontsize=14)  "
   ]
  },
  {
   "cell_type": "code",
   "execution_count": 8,
   "metadata": {},
   "outputs": [
    {
     "data": {
      "image/png": "[encoded data removed]",
      "text/plain": [
       "<Figure size 432x288 with 2 Axes>"
      ]
     },
     "metadata": {
      "needs_background": "light"
     },
     "output_type": "display_data"
    }
   ],
   "source": [
    "x = np.random.randn(1000)\n",
    "plt.subplot(2,2,1)\n",
    "qq_plot(x)\n",
    "\n",
    "x = np.random.exponential(2,1000)\n",
    "plt.subplot(2,2,2)\n",
    "qq_plot(x)\n",
    "\n",
    "\n",
    "plt.tight_layout()\n",
    "plt.show()"
   ]
  },
  {
   "cell_type": "markdown",
   "metadata": {},
   "source": [
    "# 3. Introduction to regressions"
   ]
  },
  {
   "cell_type": "markdown",
   "metadata": {},
   "source": [
    "## 3.0 Assumptions (we'll see one by one next day):\n",
    "- Linearity and additive terms.\n",
    "- No autocorrealtion in residuals:\n",
    "- Homoskedasticity (the residuals must have constant variances).\n",
    "- Normality in the residuals:\n",
    "- No multicollinearity (no high correlation in the independent variables):\n",
    "- No outliers"
   ]
  },
  {
   "cell_type": "markdown",
   "metadata": {},
   "source": [
    "## 3.1 Type of dependent variable\n",
    "- Continuous: \n",
    "    - **Linear regression**: OLS. y ~ B1*x1 + B2*x2...\n",
    "    - Lasso/Ridge regression: To deal with multi-colinearity\n",
    "    \n",
    "- Categorical:\n",
    "    - **Binary logistic regression**: 2 categories (Woman/Man, Fail/Pass...)\n",
    "    - Ordered logistic regression: >2 ordered categories (Low/Middle/High)\n",
    "    - Nominal logistic regression: >2 nominal categories (Blue/Red/Yellow)\n",
    "    \n",
    "- Count of events:\n",
    "    - Poisson regression: Count of events in a time. Mean == Var\n",
    "    - Negative binomial regression: If var >> mean\n",
    "    - Zero inflated regression: If too many zeros "
   ]
  },
  {
   "cell_type": "markdown",
   "metadata": {},
   "source": [
    "## 3.2 Hierarchical models / Mixed  models / Multilevel models\n",
    "- A normal model (with 1 or more independent variables) is a fixed effects model\n",
    "\n",
    "- Random effects are:\n",
    "    - Factors likely to introduce systematic variation\n",
    "    - Different experimental units (groups) have different intercepts of slopes.\n",
    "    \n",
    "- You can control for in what is called a random effects model.\n",
    "    - **Random intercept model**: For instance, we want to measure the relationship between unemployment and productivity for different regions in many countries. Each country may have their own \"structural\" unemployment, we can get rid of this variability by using country as the random effects. --> (1|country)"
   ]
  },
  {
   "cell_type": "code",
   "execution_count": 11,
   "metadata": {},
   "outputs": [
    {
     "data": {
      "text/html": [
       "<img src=\"http://zoonek2.free.fr/UNIX/48_R/g1096.png\"/>"
      ],
      "text/plain": [
       "<IPython.core.display.Image object>"
      ]
     },
     "execution_count": 11,
     "metadata": {},
     "output_type": "execute_result"
    }
   ],
   "source": [
    "Image(url=\"http://zoonek2.free.fr/UNIX/48_R/g1096.png\")"
   ]
  },
  {
   "cell_type": "markdown",
   "metadata": {},
   "source": [
    "## 3.2 Hierarchical models / Mixed  models / Multilevel models\n",
    "- A normal model (with 1 or more independent variables) is a fixed effects model\n",
    "\n",
    "- Random effects are:\n",
    "    - Factors likely to introduce systematic variation\n",
    "    - Different experimental units (groups) have different intercepts of slopes.\n",
    "    \n",
    "- You can control for in what is called a random effects model.\n",
    "    - **Random intercept model**: For instance, we want to measure the relationship between unemployment and productivity for different regions in many countries. Each country may have their own \"structural\" unemployment, we can get rid of this variability by using country as the random effects. --> (1|country)\n",
    "    - **Random intercept and slopes model**: Another example, we measure the relationship between two variables at different years in different countries. We don't really care about how they change in time, we only care about how one variable affect the other. We can use time as the random effect. --> (year|country)"
   ]
  },
  {
   "cell_type": "code",
   "execution_count": 12,
   "metadata": {},
   "outputs": [
    {
     "data": {
      "text/html": [
       "<img src=\"https://hlplab.files.wordpress.com/2011/05/simpsons-paradox.png\" width=\"800\"/>"
      ],
      "text/plain": [
       "<IPython.core.display.Image object>"
      ]
     },
     "execution_count": 12,
     "metadata": {},
     "output_type": "execute_result"
    }
   ],
   "source": [
    "#https://hlplab.wordpress.com/tag/regression/\n",
    "Image(url=\"https://hlplab.files.wordpress.com/2011/05/simpsons-paradox.png\",width=800)  "
   ]
  },
  {
   "cell_type": "markdown",
   "metadata": {},
   "source": [
    "## 3.2 Hierarchical models / Mixed  models / Multilevel models\n",
    "- A normal model (with 1 or more independent variables) is a fixed effects model\n",
    "\n",
    "- Random effects are:\n",
    "    - Factors likely to introduce systematic variation\n",
    "    - Different experimental units (groups) have different intercepts of slopes.\n",
    "    \n",
    "- You can control for in what is called a random effects model.\n",
    "    - **Random intercept model**: For instance, we want to measure the relationship between unemployment and productivity for different regions in many countries. Each country may have their own \"structural\" unemployment, we can get rid of this variability by using country as the random effects. --> (1|country)\n",
    "\n",
    "\n",
    "    - **Random intercept and slopes model**: Another example, we measure the relationship between two variables at different years in different countries. We don't really care about how they change in time, we only care about how one variable affect the other. We can use time as the random effect. --> (year|country)\n",
    "        \n",
    "    - You can have multiple random effects. In that case the random effects can be:\n",
    "        - Nested: E.g. region within country --> (1|country/region)\n",
    "        - Crossed: E.g. sector & country --> (1|sector) + (1|country)\n",
    "\n",
    "    - The design can be balanced (same number of observation per group) or unbalanced (different number). Unbalanced designs require special techniques, usually handled by the package.\n",
    "\n",
    "_Here paradox_        "
   ]
  },
  {
   "cell_type": "markdown",
   "metadata": {},
   "source": [
    "## 3.3 Longitudinal vs cross-sectional\n",
    "- Having time information is great:\n",
    "    - Allow us to test for Granger causality (x happens before y, thus x could be a cause of y)\n",
    "    - Allow us to increase the number of observations\n",
    "- Having time information is terrible:\n",
    "    - The observations are not independent anymore, we need to use hierarchical models.\n",
    "        - Pooled OLS (not a hierarchical model, usually not appropriate)\n",
    "        - **Random effects** \n",
    "            - Looks at the effects of changes of x in y in time within and between individuals at the same time.\n",
    "            - If you have an omitted variables (and it is correlated with one of your independent variables) you'll have a problem.\n",
    "            - If you don't have an omitted variable then it's great (more efficient).\n",
    "            - --> Corrects for (time-invariant) unobserved in the y variable\n",
    "        - **Within model** (also called fixed effects model)\n",
    "            - Looks at the effects of changes of x in y in time only within individuals.\n",
    "            - The fixed effects are the subject-specific means.\n",
    "            - If the subjects don't change much in time you have a problem.\n",
    "            - You cannot include time-invariant values (such as gender).\n",
    "        - Mundlack. \n",
    "            - Looks at the effects of changes of x in y in time within and between individuals differenciating between the two.\n",
    "            - --> Corrects for (time-invariant) unobserved in the x and y variable\n",
    "    - If your aim is to predict or to look at complex time relationships that you cannot control for then you need to use other type of models such as AR, I, MA (or a combination).\n",
    "    \n",
    "Note: Panel means you have repeated measurements for each individual (or whatever your unit of analysis is)."
   ]
  },
  {
   "cell_type": "markdown",
   "metadata": {},
   "source": [
    "## 4 Other tests\n",
    "- 4.1 Count vs expected: **Binomial test**\n",
    "- 4.2 Independence of two categorical variables: **Chi square test**\n",
    "- (notebook 9b) Comparing the means of two or more groups: **t-test,MKK...**"
   ]
  },
  {
   "cell_type": "markdown",
   "metadata": {},
   "source": [
    "### 4.1 Binomial test\n",
    "In probability theory and statistics, the binomial distribution with parameters x, n and p is the discrete probability distribution of `x` number of successes in a sequence of `n` independent yes/no experiments, each of which yields success with probability `p`\n",
    "\n",
    "\n",
    "The Relative Risk (RR) is the probability of the events happening in your sample of interest vs the probability of the events happening in the control group."
   ]
  },
  {
   "cell_type": "markdown",
   "metadata": {},
   "source": [
    "**What's the probability of getting 40 heads out of 100 tosses given that a coin is fair?** (p-value)"
   ]
  },
  {
   "cell_type": "code",
   "execution_count": 14,
   "metadata": {},
   "outputs": [
    {
     "name": "stdout",
     "output_type": "stream",
     "text": [
      "0.05688793364098078\n",
      "(0.30329476870287736, 0.5027908495776652)\n"
     ]
    }
   ],
   "source": [
    "import scipy.stats\n",
    "import statsmodels.stats.proportion\n",
    "\n",
    "#probability of heads: p = 0.5 (50%)\n",
    "#number of succeses: 40\n",
    "#number of trials: n = 100\n",
    "\n",
    "#control group = unbiased dice -> p=0.5\n",
    "\n",
    "#p-value\n",
    "pvalue = scipy.stats.binom_test(40, n=100, p=0.5)\n",
    "\n",
    "#confidence interavls\n",
    "conf = statsmodels.stats.proportion.proportion_confint(40,nobs=100,method=\"beta\")\n",
    "\n",
    "print(pvalue)\n",
    "print(conf) #they usually do not include 0.5 (our control probability) if not significant."
   ]
  },
  {
   "cell_type": "code",
   "execution_count": 15,
   "metadata": {},
   "outputs": [
    {
     "name": "stdout",
     "output_type": "stream",
     "text": [
      "[0. 0. 0. 0. 0. 0. 0. 0. 0. 0. 0. 0. 0. 0. 0. 0. 0. 0. 0. 0. 0. 0. 0. 0.\n",
      " 0. 0. 0. 0. 0. 0. 0. 0. 0. 0. 0. 0. 0. 0. 0. 0. 0. 0. 0. 0. 0. 0. 0. 0.\n",
      " 0. 0. 0. 0. 0. 0. 0. 0. 0. 0. 0. 0. 1. 1. 1. 1. 1. 1. 1. 1. 1. 1. 1. 1.\n",
      " 1. 1. 1. 1. 1. 1. 1. 1. 1. 1. 1. 1. 1. 1. 1. 1. 1. 1. 1. 1. 1. 1. 1. 1.\n",
      " 1. 1. 1. 1.]\n",
      "[0.3  0.49]\n"
     ]
    }
   ],
   "source": [
    "import scikits.bootstrap as bootstrap\n",
    "sample = np.array([0]*60+[1]*40)\n",
    "print(sample)\n",
    "CIs = bootstrap.ci(sample, statfunction=np.mean,n_samples=10000) \n",
    "print(CIs)"
   ]
  },
  {
   "cell_type": "markdown",
   "metadata": {},
   "source": [
    "## In class exercise: \n",
    "**What's the probability that 10 journalists out of 1 million people get killed if the chances of getting killed are 1 in 1 million for the entire country?** (p-value)\n",
    "\n",
    "- What's our p for the sample and control group?\n",
    "- How much more often do journalists get killed? (Calculate the RR)\n",
    "- What's the null hypothesis?\n",
    "- What's the p-value associated?\n",
    "- What are the confidence intervals of our p? (give it in people killed per 10 million people)\n",
    "- What can we say?"
   ]
  },
  {
   "cell_type": "code",
   "execution_count": 34,
   "metadata": {},
   "outputs": [
    {
     "name": "stdout",
     "output_type": "stream",
     "text": [
      "1.1142142324014998e-07\n",
      "(4.795398777875429e-06, 1.8390278892499445e-05)\n"
     ]
    },
    {
     "data": {
      "text/plain": [
       "(4.795398777875429, 18.390278892499445)"
      ]
     },
     "execution_count": 34,
     "metadata": {},
     "output_type": "execute_result"
    }
   ],
   "source": [
    "#Code here\n",
    "\n",
    "#number of succeses: 10\n",
    "#number of trials: 1000000\n",
    "\n",
    "#control group = population -> p = 1/1000000\n",
    "\n",
    "\n",
    "pvalue = scipy.stats.binom_test(10,1000000,p=1/1000000)\n",
    "\n",
    "\n",
    "conf = statsmodels.stats.proportion.proportion_confint(10,nobs=1000000,\n",
    "                                                       method=\"beta\")\n",
    "print(pvalue)\n",
    "print(conf)\n",
    "conf[0]*1000000,conf[1]*1000000"
   ]
  },
  {
   "cell_type": "markdown",
   "metadata": {},
   "source": [
    "### How does it actually work?\n",
    "- You have these fail/success trials and they are independent.\n",
    "- The probability of sucess is p.\n",
    "- The probability of getting at least x successes out of n trials is given by a binomial distribution. Which means we can calculate the probability of getting a more extreme result than x out of n trials."
   ]
  },
  {
   "cell_type": "code",
   "execution_count": 18,
   "metadata": {},
   "outputs": [
    {
     "data": {
      "text/plain": [
       "Text(0, 0.5, 'Frequency')"
      ]
     },
     "execution_count": 18,
     "metadata": {},
     "output_type": "execute_result"
    },
    {
     "data": {
      "image/png": "[encoded data removed]",
      "text/plain": [
       "<Figure size 432x288 with 1 Axes>"
      ]
     },
     "metadata": {
      "needs_background": "light"
     },
     "output_type": "display_data"
    }
   ],
   "source": [
    "#just plotting a binomial distribution, no worries about the code\n",
    "x = np.linspace(0,10,11)\n",
    "pmf = scipy.stats.binom.pmf(x,10,0.2)\n",
    "plt.plot(x,pmf,\".-\")\n",
    "plt.xlabel(\"Number of successes (out of 10)\")\n",
    "plt.ylabel(\"Frequency\")"
   ]
  },
  {
   "cell_type": "markdown",
   "metadata": {},
   "source": [
    "**A note on one-sided test vs two-sided tests**\n",
    "- Use always two-sided test (the default) unless you *really* understand what you are doing.\n",
    "- An example of an acceptable situation where you can use a one-sided test is if you are walking around the city and say: \"oh, I bet the journalists in India have higher murder rates than politicians\". Then you can use one-sided tests. \n",
    "- An example of an unacceptable way to do it is if you are checking the murder rates for different collectives and say, \"oh, this seems higher, I'm going to check if it significant\"\n",
    "- Every statistical test function have an argument that allows you to use \"one-tail\", \"one-sided\", \"greater\", or something like that"
   ]
  },
  {
   "cell_type": "markdown",
   "metadata": {},
   "source": [
    "## 4.2 $\\chi^2$ (chi-square) test \n",
    "**Independence between variables using contingency tables:**\n",
    "\n",
    "`In statistics, a contingency table (also known as a cross tabulation or crosstab) is a type of table in a matrix format that displays the (multivariate) frequency distribution of the variables. They are heavily used in survey research, business intelligence, engineering and scientific research. They provide a basic picture of the interrelation between two variables and can help find interactions between them.` (wikipedia)\n",
    "- Visualize interaction between **categorical data**\n",
    "- We can use the $\\chi^2$ (chi-square) test to see if the interactions are significant.\n",
    "\n",
    "\n",
    "- It has a problem: **The expected (not the observed) count in each cell needs to be greater than 3-5**\n",
    "- If this does not happen we can use the Fisher test (or bootstrapping)"
   ]
  },
  {
   "cell_type": "markdown",
   "metadata": {},
   "source": [
    "**Example 1:** We will use this class as a sample\n",
    "\n",
    "    `Is the probability of having dark eyes independent of the gender?`\n",
    "\n",
    "- Why should it not?\n",
    "- Why could it?"
   ]
  },
  {
   "cell_type": "code",
   "execution_count": 24,
   "metadata": {},
   "outputs": [
    {
     "data": {
      "text/html": [
       "<div>\n",
       "<style scoped>\n",
       "    .dataframe tbody tr th:only-of-type {\n",
       "        vertical-align: middle;\n",
       "    }\n",
       "\n",
       "    .dataframe tbody tr th {\n",
       "        vertical-align: top;\n",
       "    }\n",
       "\n",
       "    .dataframe thead th {\n",
       "        text-align: right;\n",
       "    }\n",
       "</style>\n",
       "<table border=\"1\" class=\"dataframe\">\n",
       "  <thead>\n",
       "    <tr style=\"text-align: right;\">\n",
       "      <th></th>\n",
       "      <th>Dark</th>\n",
       "      <th>Clear</th>\n",
       "    </tr>\n",
       "  </thead>\n",
       "  <tbody>\n",
       "    <tr>\n",
       "      <th>Male</th>\n",
       "      <td>10</td>\n",
       "      <td>10</td>\n",
       "    </tr>\n",
       "    <tr>\n",
       "      <th>Female</th>\n",
       "      <td>5</td>\n",
       "      <td>10</td>\n",
       "    </tr>\n",
       "  </tbody>\n",
       "</table>\n",
       "</div>"
      ],
      "text/plain": [
       "        Dark  Clear\n",
       "Male      10     10\n",
       "Female     5     10"
      ]
     },
     "execution_count": 24,
     "metadata": {},
     "output_type": "execute_result"
    }
   ],
   "source": [
    "df_eyes = pd.DataFrame(\n",
    "    [\n",
    "        [10,10],\n",
    "        [5,10]\n",
    "    ],columns=[\"Dark\",\"Clear\"],index=[\"Male\",\"Female\"])\n",
    "\n",
    "df_eyes"
   ]
  },
  {
   "cell_type": "code",
   "execution_count": 25,
   "metadata": {},
   "outputs": [
    {
     "name": "stdout",
     "output_type": "stream",
     "text": [
      "0.5215820399865255\n"
     ]
    },
    {
     "data": {
      "text/plain": [
       "array([[ 8.57142857, 11.42857143],\n",
       "       [ 6.42857143,  8.57142857]])"
      ]
     },
     "execution_count": 25,
     "metadata": {},
     "output_type": "execute_result"
    }
   ],
   "source": [
    "import scipy.stats\n",
    "chi,p,dof,expected = scipy.stats.chi2_contingency(df_eyes)\n",
    "print(p)\n",
    "expected"
   ]
  },
  {
   "cell_type": "code",
   "execution_count": 26,
   "metadata": {},
   "outputs": [
    {
     "data": {
      "text/html": [
       "<div>\n",
       "<style scoped>\n",
       "    .dataframe tbody tr th:only-of-type {\n",
       "        vertical-align: middle;\n",
       "    }\n",
       "\n",
       "    .dataframe tbody tr th {\n",
       "        vertical-align: top;\n",
       "    }\n",
       "\n",
       "    .dataframe thead th {\n",
       "        text-align: right;\n",
       "    }\n",
       "</style>\n",
       "<table border=\"1\" class=\"dataframe\">\n",
       "  <thead>\n",
       "    <tr style=\"text-align: right;\">\n",
       "      <th></th>\n",
       "      <th>Dark</th>\n",
       "      <th>Clear</th>\n",
       "    </tr>\n",
       "  </thead>\n",
       "  <tbody>\n",
       "    <tr>\n",
       "      <th>Male</th>\n",
       "      <td>1.166667</td>\n",
       "      <td>0.875000</td>\n",
       "    </tr>\n",
       "    <tr>\n",
       "      <th>Female</th>\n",
       "      <td>0.777778</td>\n",
       "      <td>1.166667</td>\n",
       "    </tr>\n",
       "  </tbody>\n",
       "</table>\n",
       "</div>"
      ],
      "text/plain": [
       "            Dark     Clear\n",
       "Male    1.166667  0.875000\n",
       "Female  0.777778  1.166667"
      ]
     },
     "execution_count": 26,
     "metadata": {},
     "output_type": "execute_result"
    }
   ],
   "source": [
    "#Ratios\n",
    "ratio_real_vs_expected = df_eyes/expected\n",
    "ratio_real_vs_expected"
   ]
  },
  {
   "cell_type": "markdown",
   "metadata": {},
   "source": [
    "### How does it actually work?\n",
    "- The program calculates for each cell $\\chi^2 = (Observed^2-Expected^2)/(Expected^2)$.\n",
    "- The degrees of freedom (a parameter) is $(\\#rows-1)\\cdot(\\#columns-1)$.\n",
    "- The probability of getting a value higher than chi_stat is given by a $\\chi^2$ distribution. Which means we can calculate the probability of getting a more extreme result than x out of n trials."
   ]
  },
  {
   "cell_type": "code",
   "execution_count": 27,
   "metadata": {},
   "outputs": [
    {
     "data": {
      "text/plain": [
       "Text(0, 0.5, 'Frequency')"
      ]
     },
     "execution_count": 27,
     "metadata": {},
     "output_type": "execute_result"
    },
    {
     "data": {
      "image/png": "[encoded data removed]",
      "text/plain": [
       "<Figure size 432x288 with 1 Axes>"
      ]
     },
     "metadata": {
      "needs_background": "light"
     },
     "output_type": "display_data"
    }
   ],
   "source": [
    "#just plotting a chi-square distribution, no worries\n",
    "x = np.linspace(0,10,11)\n",
    "pmf = scipy.stats.chi2.pdf(x,df=1)\n",
    "plt.plot(x,pmf,\".-\")\n",
    "plt.xlabel(\"Chi-2 value\")\n",
    "plt.ylabel(\"Frequency\")"
   ]
  },
  {
   "cell_type": "markdown",
   "metadata": {},
   "source": [
    "### In-class exercise\n",
    "Using LAPOP (survey data for Latin America): http://datasets.americasbarometer.org/database-login/usersearch.php?year=2014\n",
    "We are going to see if there is any relationship between the best method to finish the conflict in Colombia and the belief that the conflict will end in the next year"
   ]
  },
  {
   "cell_type": "code",
   "execution_count": 29,
   "metadata": {},
   "outputs": [],
   "source": [
    "#Read the data from colombia in \"data/colombia.dta\", it's a stata file\n",
    "df = pd.read_stata(\"data/colombia.dta\")\n"
   ]
  },
  {
   "cell_type": "code",
   "execution_count": 30,
   "metadata": {},
   "outputs": [],
   "source": [
    "x_variable = df[\"colpaz1a\"] #What is the best method to continue in the conflict\n",
    "other_variables =[df[\"colpaz2a\"]] #What are the chances that peace happens within one year\n"
   ]
  },
  {
   "cell_type": "code",
   "execution_count": 31,
   "metadata": {},
   "outputs": [
    {
     "data": {
      "text/html": [
       "<div>\n",
       "<style scoped>\n",
       "    .dataframe tbody tr th:only-of-type {\n",
       "        vertical-align: middle;\n",
       "    }\n",
       "\n",
       "    .dataframe tbody tr th {\n",
       "        vertical-align: top;\n",
       "    }\n",
       "\n",
       "    .dataframe thead th {\n",
       "        text-align: right;\n",
       "    }\n",
       "</style>\n",
       "<table border=\"1\" class=\"dataframe\">\n",
       "  <thead>\n",
       "    <tr style=\"text-align: right;\">\n",
       "      <th>colpaz2a</th>\n",
       "      <th>Muy posible</th>\n",
       "      <th>Posible</th>\n",
       "      <th>Poco posible</th>\n",
       "      <th>Nada posible</th>\n",
       "    </tr>\n",
       "    <tr>\n",
       "      <th>colpaz1a</th>\n",
       "      <th></th>\n",
       "      <th></th>\n",
       "      <th></th>\n",
       "      <th></th>\n",
       "    </tr>\n",
       "  </thead>\n",
       "  <tbody>\n",
       "    <tr>\n",
       "      <th>Negociación</th>\n",
       "      <td>58</td>\n",
       "      <td>239</td>\n",
       "      <td>358</td>\n",
       "      <td>165</td>\n",
       "    </tr>\n",
       "    <tr>\n",
       "      <th>Uso de la fuerza militar</th>\n",
       "      <td>6</td>\n",
       "      <td>32</td>\n",
       "      <td>144</td>\n",
       "      <td>327</td>\n",
       "    </tr>\n",
       "    <tr>\n",
       "      <th>[No leer] Ambas</th>\n",
       "      <td>2</td>\n",
       "      <td>13</td>\n",
       "      <td>34</td>\n",
       "      <td>40</td>\n",
       "    </tr>\n",
       "  </tbody>\n",
       "</table>\n",
       "</div>"
      ],
      "text/plain": [
       "colpaz2a                  Muy posible  Posible  Poco posible  Nada posible\n",
       "colpaz1a                                                                  \n",
       "Negociación                        58      239           358           165\n",
       "Uso de la fuerza militar            6       32           144           327\n",
       "[No leer] Ambas                     2       13            34            40"
      ]
     },
     "execution_count": 31,
     "metadata": {},
     "output_type": "execute_result"
    }
   ],
   "source": [
    "#Create a contingency table (pd.crosstab) between the x_variable and the other_variables\n",
    "col_crosstab = pd.crosstab(x_variable,other_variables)\n",
    "col_crosstab"
   ]
  },
  {
   "cell_type": "code",
   "execution_count": 32,
   "metadata": {},
   "outputs": [
    {
     "name": "stdout",
     "output_type": "stream",
     "text": [
      "4.362194768115603e-60\n"
     ]
    },
    {
     "data": {
      "text/plain": [
       "array([[ 38.16643159, 164.23131171, 309.95768688, 307.64456982],\n",
       "       [ 23.69111425, 101.94358251, 192.40056417, 190.96473907],\n",
       "       [  4.14245416,  17.82510578,  33.64174894,  33.39069111]])"
      ]
     },
     "metadata": {},
     "output_type": "display_data"
    }
   ],
   "source": [
    "#Calculate the chi-square test\n",
    "chi,p,dof,expected = chi,p,dof,expected = scipy.stats.chi2_contingency(col_crosstab)\n",
    "print(p)\n",
    "display(expected)"
   ]
  },
  {
   "cell_type": "code",
   "execution_count": 33,
   "metadata": {},
   "outputs": [
    {
     "data": {
      "text/html": [
       "<div>\n",
       "<style scoped>\n",
       "    .dataframe tbody tr th:only-of-type {\n",
       "        vertical-align: middle;\n",
       "    }\n",
       "\n",
       "    .dataframe tbody tr th {\n",
       "        vertical-align: top;\n",
       "    }\n",
       "\n",
       "    .dataframe thead th {\n",
       "        text-align: right;\n",
       "    }\n",
       "</style>\n",
       "<table border=\"1\" class=\"dataframe\">\n",
       "  <thead>\n",
       "    <tr style=\"text-align: right;\">\n",
       "      <th>colpaz2a</th>\n",
       "      <th>Muy posible</th>\n",
       "      <th>Posible</th>\n",
       "      <th>Poco posible</th>\n",
       "      <th>Nada posible</th>\n",
       "    </tr>\n",
       "    <tr>\n",
       "      <th>colpaz1a</th>\n",
       "      <th></th>\n",
       "      <th></th>\n",
       "      <th></th>\n",
       "      <th></th>\n",
       "    </tr>\n",
       "  </thead>\n",
       "  <tbody>\n",
       "    <tr>\n",
       "      <th>Negociación</th>\n",
       "      <td>1.519660</td>\n",
       "      <td>1.455265</td>\n",
       "      <td>1.154996</td>\n",
       "      <td>0.536333</td>\n",
       "    </tr>\n",
       "    <tr>\n",
       "      <th>Uso de la fuerza militar</th>\n",
       "      <td>0.253260</td>\n",
       "      <td>0.313899</td>\n",
       "      <td>0.748439</td>\n",
       "      <td>1.712358</td>\n",
       "    </tr>\n",
       "    <tr>\n",
       "      <th>[No leer] Ambas</th>\n",
       "      <td>0.482806</td>\n",
       "      <td>0.729308</td>\n",
       "      <td>1.010649</td>\n",
       "      <td>1.197939</td>\n",
       "    </tr>\n",
       "  </tbody>\n",
       "</table>\n",
       "</div>"
      ],
      "text/plain": [
       "colpaz2a                  Muy posible   Posible  Poco posible  Nada posible\n",
       "colpaz1a                                                                   \n",
       "Negociación                  1.519660  1.455265      1.154996      0.536333\n",
       "Uso de la fuerza militar     0.253260  0.313899      0.748439      1.712358\n",
       "[No leer] Ambas              0.482806  0.729308      1.010649      1.197939"
      ]
     },
     "execution_count": 33,
     "metadata": {},
     "output_type": "execute_result"
    }
   ],
   "source": [
    "col_crosstab/expected"
   ]
  },
  {
   "cell_type": "markdown",
   "metadata": {},
   "source": [
    "# 5 Examples of how to run regressions\n",
    "- The difficult part is how to know if you can run them."
   ]
  },
  {
   "cell_type": "code",
   "execution_count": 85,
   "metadata": {
    "scrolled": true
   },
   "outputs": [
    {
     "name": "stderr",
     "output_type": "stream",
     "text": [
      "/opt/anaconda/anaconda3/lib/python3.5/site-packages/ipykernel_launcher.py:11: RuntimeWarning: divide by zero encountered in log10\n",
      "  # This is added back by InteractiveShellApp.init_path()\n",
      "/opt/anaconda/anaconda3/lib/python3.5/site-packages/ipykernel_launcher.py:12: RuntimeWarning: divide by zero encountered in log10\n",
      "  if sys.path[0] == '':\n",
      "/opt/anaconda/anaconda3/lib/python3.5/site-packages/knnimpute/normalized_distance.py:62: RuntimeWarning: invalid value encountered in subtract\n",
      "  np.subtract(X, x.reshape((1, n_cols)), out=diffs)\n"
     ]
    },
    {
     "name": "stdout",
     "output_type": "stream",
     "text": [
      "Imputing row 1/2319 with 1 missing, elapsed time: 0.665\n",
      "Imputing row 101/2319 with 0 missing, elapsed time: 0.666\n",
      "Imputing row 201/2319 with 0 missing, elapsed time: 0.667\n",
      "Imputing row 301/2319 with 0 missing, elapsed time: 0.667\n",
      "Imputing row 401/2319 with 0 missing, elapsed time: 0.668\n",
      "Imputing row 501/2319 with 0 missing, elapsed time: 0.668\n",
      "Imputing row 601/2319 with 1 missing, elapsed time: 0.668\n",
      "Imputing row 701/2319 with 0 missing, elapsed time: 0.669\n",
      "Imputing row 801/2319 with 0 missing, elapsed time: 0.669\n",
      "Imputing row 901/2319 with 0 missing, elapsed time: 0.670\n",
      "Imputing row 1001/2319 with 0 missing, elapsed time: 0.670\n",
      "Imputing row 1101/2319 with 0 missing, elapsed time: 0.671\n",
      "Imputing row 1201/2319 with 0 missing, elapsed time: 0.671\n",
      "Imputing row 1301/2319 with 0 missing, elapsed time: 0.671\n",
      "Imputing row 1401/2319 with 0 missing, elapsed time: 0.672\n",
      "Imputing row 1501/2319 with 0 missing, elapsed time: 0.672\n",
      "Imputing row 1601/2319 with 1 missing, elapsed time: 0.673\n",
      "Imputing row 1701/2319 with 0 missing, elapsed time: 0.673\n",
      "Imputing row 1801/2319 with 0 missing, elapsed time: 0.674\n",
      "Imputing row 1901/2319 with 0 missing, elapsed time: 0.674\n",
      "Imputing row 2001/2319 with 0 missing, elapsed time: 0.675\n",
      "Imputing row 2101/2319 with 0 missing, elapsed time: 0.675\n",
      "Imputing row 2201/2319 with 0 missing, elapsed time: 0.675\n",
      "Imputing row 2301/2319 with 0 missing, elapsed time: 0.676\n"
     ]
    },
    {
     "data": {
      "text/html": [
       "<div>\n",
       "<style scoped>\n",
       "    .dataframe tbody tr th:only-of-type {\n",
       "        vertical-align: middle;\n",
       "    }\n",
       "\n",
       "    .dataframe tbody tr th {\n",
       "        vertical-align: top;\n",
       "    }\n",
       "\n",
       "    .dataframe thead th {\n",
       "        text-align: right;\n",
       "    }\n",
       "</style>\n",
       "<table border=\"1\" class=\"dataframe\">\n",
       "  <thead>\n",
       "    <tr style=\"text-align: right;\">\n",
       "      <th></th>\n",
       "      <th>logAssets</th>\n",
       "      <th>logMarketCap</th>\n",
       "      <th>logRevenue</th>\n",
       "      <th>logEmployees</th>\n",
       "      <th>TypeEnt</th>\n",
       "    </tr>\n",
       "  </thead>\n",
       "  <tbody>\n",
       "    <tr>\n",
       "      <th>0</th>\n",
       "      <td>7.273492</td>\n",
       "      <td>7.118034</td>\n",
       "      <td>6.875061</td>\n",
       "      <td>3.875061</td>\n",
       "      <td>Bank</td>\n",
       "    </tr>\n",
       "    <tr>\n",
       "      <th>1</th>\n",
       "      <td>7.464385</td>\n",
       "      <td>7.223738</td>\n",
       "      <td>6.875061</td>\n",
       "      <td>3.875061</td>\n",
       "      <td>Industrial company</td>\n",
       "    </tr>\n",
       "    <tr>\n",
       "      <th>2</th>\n",
       "      <td>5.288128</td>\n",
       "      <td>4.637410</td>\n",
       "      <td>5.544068</td>\n",
       "      <td>3.176091</td>\n",
       "      <td>Industrial company</td>\n",
       "    </tr>\n",
       "    <tr>\n",
       "      <th>3</th>\n",
       "      <td>5.587900</td>\n",
       "      <td>4.426088</td>\n",
       "      <td>5.544068</td>\n",
       "      <td>2.875061</td>\n",
       "      <td>Industrial company</td>\n",
       "    </tr>\n",
       "    <tr>\n",
       "      <th>27</th>\n",
       "      <td>6.168790</td>\n",
       "      <td>6.906554</td>\n",
       "      <td>6.204633</td>\n",
       "      <td>3.832509</td>\n",
       "      <td>Industrial company</td>\n",
       "    </tr>\n",
       "  </tbody>\n",
       "</table>\n",
       "</div>"
      ],
      "text/plain": [
       "    logAssets  logMarketCap  logRevenue  logEmployees             TypeEnt\n",
       "0    7.273492      7.118034    6.875061      3.875061                Bank\n",
       "1    7.464385      7.223738    6.875061      3.875061  Industrial company\n",
       "2    5.288128      4.637410    5.544068      3.176091  Industrial company\n",
       "3    5.587900      4.426088    5.544068      2.875061  Industrial company\n",
       "27   6.168790      6.906554    6.204633      3.832509  Industrial company"
      ]
     },
     "execution_count": 85,
     "metadata": {},
     "output_type": "execute_result"
    }
   ],
   "source": [
    "## READ DATA\n",
    "#Read data\n",
    "df = pd.read_csv(\"data/big3_position.csv\",sep=\"\\t\")\n",
    "#Kepe only two types of entities\n",
    "df = df.loc[df[\"TypeEnt\"].isin([\"Industrial company\",\"Bank\"])]\n",
    "\n",
    "#Let's focus on the sample of companies with at least 250 employees (large companies)\n",
    "df = df.loc[df[\"Employees\"]>250]\n",
    "\n",
    "#Transform the variables to log\n",
    "df[\"logMarketCap\"] = np.log10(df[\"MarketCap\"])\n",
    "df[\"logRevenue\"] = np.log10(df[\"Revenue\"])\n",
    "df[\"logEmployees\"] = np.log10(df[\"Employees\"])\n",
    "df[\"logAssets\"] = np.log10(df[\"Assets\"])\n",
    "\n",
    "df_copy = df.loc[:,[\"logAssets\",\"logMarketCap\",\"logRevenue\",\"logEmployees\",\"TypeEnt\"]].copy()\n",
    "\n",
    "#Impute data (usually you'd need to try with different ks)\n",
    "df.loc[:,[\"logAssets\",\"logEmployees\",\"logMarketCap\",\"logRevenue\"]] = KNN(k=10).fit_transform(df.loc[:,[\"logAssets\",\"logEmployees\",\"logMarketCap\",\"logRevenue\"]] )\n",
    "\n",
    "# #Delete nan (Drop anything with 0 as one of the financials --> Something fishy going on)\n",
    "df = df.replace([np.inf, -np.inf], np.nan)\n",
    "df = df.dropna(subset=[\"logMarketCap\",\"logRevenue\",\"logEmployees\"])\n",
    "#keep only the columns that we are going to use\n",
    "df = df.loc[:,[\"logAssets\",\"logMarketCap\",\"logRevenue\",\"logEmployees\",\"TypeEnt\"]]\n",
    "\n",
    "df.head()"
   ]
  },
  {
   "cell_type": "markdown",
   "metadata": {},
   "source": [
    "## 5.1 Standard regression (OLS)"
   ]
  },
  {
   "cell_type": "code",
   "execution_count": 94,
   "metadata": {},
   "outputs": [
    {
     "name": "stdout",
     "output_type": "stream",
     "text": [
      "                            OLS Regression Results                            \n",
      "==============================================================================\n",
      "Dep. Variable:           logMarketCap   R-squared:                       0.610\n",
      "Model:                            OLS   Adj. R-squared:                  0.610\n",
      "Method:                 Least Squares   F-statistic:                     3617.\n",
      "Date:                Wed, 23 Jan 2019   Prob (F-statistic):               0.00\n",
      "Time:                        22:15:53   Log-Likelihood:                -1679.4\n",
      "No. Observations:                2313   AIC:                             3363.\n",
      "Df Residuals:                    2311   BIC:                             3374.\n",
      "Df Model:                           1                                         \n",
      "Covariance Type:            nonrobust                                         \n",
      "==============================================================================\n",
      "                 coef    std err          t      P>|t|      [0.025      0.975]\n",
      "------------------------------------------------------------------------------\n",
      "Intercept      1.0867      0.085     12.839      0.000       0.921       1.253\n",
      "logRevenue     0.8393      0.014     60.145      0.000       0.812       0.867\n",
      "==============================================================================\n",
      "Omnibus:                      313.506   Durbin-Watson:                   2.006\n",
      "Prob(Omnibus):                  0.000   Jarque-Bera (JB):             1250.679\n",
      "Skew:                          -0.615   Prob(JB):                    2.62e-272\n",
      "Kurtosis:                       6.386   Cond. No.                         50.7\n",
      "==============================================================================\n",
      "\n",
      "Warnings:\n",
      "[1] Standard Errors assume that the covariance matrix of the errors is correctly specified.\n"
     ]
    }
   ],
   "source": [
    "#Now our cond. number is okay\n",
    "mod0 = smf.ols(formula='logMarketCap ~ logRevenue ', data=df)\n",
    "res_ols0 = mod0.fit()\n",
    "print(res_ols0.summary())"
   ]
  },
  {
   "cell_type": "code",
   "execution_count": 95,
   "metadata": {},
   "outputs": [
    {
     "name": "stdout",
     "output_type": "stream",
     "text": [
      "                            OLS Regression Results                            \n",
      "==============================================================================\n",
      "Dep. Variable:           logMarketCap   R-squared:                       0.610\n",
      "Model:                            OLS   Adj. R-squared:                  0.610\n",
      "Method:                 Least Squares   F-statistic:                     1808.\n",
      "Date:                Wed, 23 Jan 2019   Prob (F-statistic):               0.00\n",
      "Time:                        22:15:56   Log-Likelihood:                -1679.3\n",
      "No. Observations:                2313   AIC:                             3365.\n",
      "Df Residuals:                    2310   BIC:                             3382.\n",
      "Df Model:                           2                                         \n",
      "Covariance Type:            nonrobust                                         \n",
      "================================================================================\n",
      "                   coef    std err          t      P>|t|      [0.025      0.975]\n",
      "--------------------------------------------------------------------------------\n",
      "Intercept        1.0780      0.093     11.578      0.000       0.895       1.261\n",
      "logRevenue       0.8446      0.028     30.635      0.000       0.791       0.899\n",
      "logEmployees    -0.0066      0.030     -0.223      0.824      -0.065       0.051\n",
      "==============================================================================\n",
      "Omnibus:                      314.157   Durbin-Watson:                   2.007\n",
      "Prob(Omnibus):                  0.000   Jarque-Bera (JB):             1258.174\n",
      "Skew:                          -0.615   Prob(JB):                    6.18e-274\n",
      "Kurtosis:                       6.397   Cond. No.                         66.2\n",
      "==============================================================================\n",
      "\n",
      "Warnings:\n",
      "[1] Standard Errors assume that the covariance matrix of the errors is correctly specified.\n"
     ]
    }
   ],
   "source": [
    "#Now our cond. number is okay\n",
    "mod1 = smf.ols(formula='logMarketCap ~ logRevenue + logEmployees', data=df)\n",
    "res_ols = mod1.fit()\n",
    "print(res_ols.summary())"
   ]
  },
  {
   "cell_type": "markdown",
   "metadata": {},
   "source": [
    "## 5.2 Standard regression (OLS) with interaction effects"
   ]
  },
  {
   "cell_type": "code",
   "execution_count": 96,
   "metadata": {},
   "outputs": [
    {
     "name": "stdout",
     "output_type": "stream",
     "text": [
      "                            OLS Regression Results                            \n",
      "==============================================================================\n",
      "Dep. Variable:           logMarketCap   R-squared:                       0.619\n",
      "Model:                            OLS   Adj. R-squared:                  0.619\n",
      "Method:                 Least Squares   F-statistic:                     1252.\n",
      "Date:                Wed, 23 Jan 2019   Prob (F-statistic):               0.00\n",
      "Time:                        22:16:02   Log-Likelihood:                -1652.3\n",
      "No. Observations:                2313   AIC:                             3313.\n",
      "Df Residuals:                    2309   BIC:                             3336.\n",
      "Df Model:                           3                                         \n",
      "Covariance Type:            nonrobust                                         \n",
      "===========================================================================================\n",
      "                              coef    std err          t      P>|t|      [0.025      0.975]\n",
      "-------------------------------------------------------------------------------------------\n",
      "Intercept                   3.7731      0.376     10.034      0.000       3.036       4.510\n",
      "logRevenue                  0.4127      0.064      6.402      0.000       0.286       0.539\n",
      "logEmployees               -0.8014      0.111     -7.191      0.000      -1.020      -0.583\n",
      "logRevenue:logEmployees     0.1249      0.017      7.392      0.000       0.092       0.158\n",
      "==============================================================================\n",
      "Omnibus:                      342.841   Durbin-Watson:                   2.006\n",
      "Prob(Omnibus):                  0.000   Jarque-Bera (JB):             1395.194\n",
      "Skew:                          -0.672   Prob(JB):                    1.09e-303\n",
      "Kurtosis:                       6.559   Cond. No.                         912.\n",
      "==============================================================================\n",
      "\n",
      "Warnings:\n",
      "[1] Standard Errors assume that the covariance matrix of the errors is correctly specified.\n"
     ]
    }
   ],
   "source": [
    "#Now our cond. number is okay\n",
    "mod2 = smf.ols(formula='logMarketCap ~ logRevenue*logEmployees', data=df)\n",
    "res_ols_int = mod2.fit()\n",
    "print(res_ols_int.summary())"
   ]
  },
  {
   "cell_type": "code",
   "execution_count": 97,
   "metadata": {},
   "outputs": [
    {
     "name": "stderr",
     "output_type": "stream",
     "text": [
      "/opt/anaconda/anaconda3/lib/python3.5/site-packages/scipy/stats/stats.py:1713: FutureWarning: Using a non-tuple sequence for multidimensional indexing is deprecated; use `arr[tuple(seq)]` instead of `arr[seq]`. In the future this will be interpreted as an array index, `arr[np.array(seq)]`, which will result either in an error or a different result.\n",
      "  return np.add.reduce(sorted[indexer] * weights, axis=axis) / sumval\n"
     ]
    },
    {
     "data": {
      "text/plain": [
       "(3, 9)"
      ]
     },
     "execution_count": 97,
     "metadata": {},
     "output_type": "execute_result"
    },
    {
     "data": {
      "image/png": "[encoded data removed]",
      "text/plain": [
       "<Figure size 492x360 with 1 Axes>"
      ]
     },
     "metadata": {
      "needs_background": "light"
     },
     "output_type": "display_data"
    }
   ],
   "source": [
    "sns.lmplot(y= \"logMarketCap\",x=\"logRevenue\",data=df,fit_reg=True,hue=\"TypeEnt\",scatter_kws={\"alpha\":0.5,\"s\":5},truncate=True)\n",
    "plt.xlim(3,9)\n",
    "plt.ylim(3,9)"
   ]
  },
  {
   "cell_type": "markdown",
   "metadata": {},
   "source": [
    "## 5.3 Standard regression (OLS) with categorical data as a fixed effect"
   ]
  },
  {
   "cell_type": "code",
   "execution_count": 98,
   "metadata": {
    "scrolled": true
   },
   "outputs": [
    {
     "name": "stdout",
     "output_type": "stream",
     "text": [
      "                            OLS Regression Results                            \n",
      "==============================================================================\n",
      "Dep. Variable:           logMarketCap   R-squared:                       0.632\n",
      "Model:                            OLS   Adj. R-squared:                  0.632\n",
      "Method:                 Least Squares   F-statistic:                     1985.\n",
      "Date:                Wed, 23 Jan 2019   Prob (F-statistic):               0.00\n",
      "Time:                        22:16:03   Log-Likelihood:                -1612.3\n",
      "No. Observations:                2313   AIC:                             3231.\n",
      "Df Residuals:                    2310   BIC:                             3248.\n",
      "Df Model:                           2                                         \n",
      "Covariance Type:            nonrobust                                         \n",
      "====================================================================================================\n",
      "                                       coef    std err          t      P>|t|      [0.025      0.975]\n",
      "----------------------------------------------------------------------------------------------------\n",
      "Intercept                            1.1505      0.082     13.958      0.000       0.989       1.312\n",
      "C(TypeEnt)[T.Industrial company]    -0.3684      0.031    -11.741      0.000      -0.430      -0.307\n",
      "logRevenue                           0.8821      0.014     62.825      0.000       0.855       0.910\n",
      "==============================================================================\n",
      "Omnibus:                      295.627   Durbin-Watson:                   1.996\n",
      "Prob(Omnibus):                  0.000   Jarque-Bera (JB):             1594.327\n",
      "Skew:                          -0.477   Prob(JB):                         0.00\n",
      "Kurtosis:                       6.954   Cond. No.                         51.3\n",
      "==============================================================================\n",
      "\n",
      "Warnings:\n",
      "[1] Standard Errors assume that the covariance matrix of the errors is correctly specified.\n"
     ]
    }
   ],
   "source": [
    "#Now our cond. number is okay\n",
    "mod3 = smf.ols(formula='logMarketCap ~ logRevenue  + C(TypeEnt)', data=df)\n",
    "res_ols_cat = mod3.fit()\n",
    "print(res_ols_cat.summary())"
   ]
  },
  {
   "cell_type": "markdown",
   "metadata": {},
   "source": [
    "## 5.4 Random effects model with categorical data as a random effect"
   ]
  },
  {
   "cell_type": "code",
   "execution_count": 99,
   "metadata": {},
   "outputs": [
    {
     "name": "stdout",
     "output_type": "stream",
     "text": [
      "          Mixed Linear Model Regression Results\n",
      "==========================================================\n",
      "Model:            MixedLM Dependent Variable: logMarketCap\n",
      "No. Observations: 2313    Method:             REML        \n",
      "No. Groups:       2       Scale:              0.2364      \n",
      "Min. group size:  295     Likelihood:         -1622.3600  \n",
      "Max. group size:  2018    Converged:          Yes         \n",
      "Mean group size:  1156.5                                  \n",
      "-----------------------------------------------------------\n",
      "             Coef.  Std.Err.    z     P>|z|  [0.025  0.975]\n",
      "-----------------------------------------------------------\n",
      "Intercept    0.967     0.201   4.808  0.000   0.573   1.361\n",
      "logRevenue   0.882     0.014  62.788  0.000   0.854   0.909\n",
      "TypeEnt Var  0.067     0.196                               \n",
      "==========================================================\n",
      "\n"
     ]
    }
   ],
   "source": [
    "#Random intercepts for different type of entities. We can also give random slopes\n",
    "mod4 = smf.mixedlm(formula='logMarketCap ~ logRevenue',groups=\"TypeEnt\", data=df)\n",
    "res_mixed = mod4.fit()\n",
    "print(res_mixed.summary())"
   ]
  },
  {
   "cell_type": "code",
   "execution_count": 100,
   "metadata": {},
   "outputs": [
    {
     "data": {
      "text/html": [
       "<div>\n",
       "<style scoped>\n",
       "    .dataframe tbody tr th:only-of-type {\n",
       "        vertical-align: middle;\n",
       "    }\n",
       "\n",
       "    .dataframe tbody tr th {\n",
       "        vertical-align: top;\n",
       "    }\n",
       "\n",
       "    .dataframe thead th {\n",
       "        text-align: right;\n",
       "    }\n",
       "</style>\n",
       "<table border=\"1\" class=\"dataframe\">\n",
       "  <thead>\n",
       "    <tr style=\"text-align: right;\">\n",
       "      <th></th>\n",
       "      <th>Bank</th>\n",
       "      <th>Industrial company</th>\n",
       "    </tr>\n",
       "  </thead>\n",
       "  <tbody>\n",
       "    <tr>\n",
       "      <th>TypeEnt</th>\n",
       "      <td>0.182869</td>\n",
       "      <td>-0.182869</td>\n",
       "    </tr>\n",
       "  </tbody>\n",
       "</table>\n",
       "</div>"
      ],
      "text/plain": [
       "             Bank  Industrial company\n",
       "TypeEnt  0.182869           -0.182869"
      ]
     },
     "execution_count": 100,
     "metadata": {},
     "output_type": "execute_result"
    }
   ],
   "source": [
    "#Print random intercepts\n",
    "pd.DataFrame(res_mixed.random_effects)"
   ]
  },
  {
   "cell_type": "markdown",
   "metadata": {},
   "source": [
    "## 5.5 Combine several regression summaries "
   ]
  },
  {
   "cell_type": "code",
   "execution_count": 101,
   "metadata": {},
   "outputs": [
    {
     "data": {
      "text/html": [
       "<div>\n",
       "<style scoped>\n",
       "    .dataframe tbody tr th:only-of-type {\n",
       "        vertical-align: middle;\n",
       "    }\n",
       "\n",
       "    .dataframe tbody tr th {\n",
       "        vertical-align: top;\n",
       "    }\n",
       "\n",
       "    .dataframe thead th {\n",
       "        text-align: right;\n",
       "    }\n",
       "</style>\n",
       "<table border=\"1\" class=\"dataframe\">\n",
       "  <thead>\n",
       "    <tr style=\"text-align: right;\">\n",
       "      <th></th>\n",
       "      <th>logMarketCap I</th>\n",
       "      <th>logMarketCap II</th>\n",
       "      <th>logMarketCap III</th>\n",
       "      <th>logMarketCap IIII</th>\n",
       "    </tr>\n",
       "  </thead>\n",
       "  <tbody>\n",
       "    <tr>\n",
       "      <th>C(TypeEnt)[T.Industrial company]</th>\n",
       "      <td></td>\n",
       "      <td>-0.3684***</td>\n",
       "      <td></td>\n",
       "      <td></td>\n",
       "    </tr>\n",
       "    <tr>\n",
       "      <th></th>\n",
       "      <td></td>\n",
       "      <td>(0.0314)</td>\n",
       "      <td></td>\n",
       "      <td></td>\n",
       "    </tr>\n",
       "    <tr>\n",
       "      <th>Intercept</th>\n",
       "      <td>1.0867***</td>\n",
       "      <td>1.1505***</td>\n",
       "      <td>1.0780***</td>\n",
       "      <td>3.7731***</td>\n",
       "    </tr>\n",
       "    <tr>\n",
       "      <th></th>\n",
       "      <td>(0.0846)</td>\n",
       "      <td>(0.0824)</td>\n",
       "      <td>(0.0931)</td>\n",
       "      <td>(0.3760)</td>\n",
       "    </tr>\n",
       "    <tr>\n",
       "      <th>logEmployees</th>\n",
       "      <td></td>\n",
       "      <td></td>\n",
       "      <td>-0.0066</td>\n",
       "      <td>-0.8014***</td>\n",
       "    </tr>\n",
       "    <tr>\n",
       "      <th></th>\n",
       "      <td></td>\n",
       "      <td></td>\n",
       "      <td>(0.0296)</td>\n",
       "      <td>(0.1114)</td>\n",
       "    </tr>\n",
       "    <tr>\n",
       "      <th>logRevenue</th>\n",
       "      <td>0.8393***</td>\n",
       "      <td>0.8821***</td>\n",
       "      <td>0.8446***</td>\n",
       "      <td>0.4127***</td>\n",
       "    </tr>\n",
       "    <tr>\n",
       "      <th></th>\n",
       "      <td>(0.0140)</td>\n",
       "      <td>(0.0140)</td>\n",
       "      <td>(0.0276)</td>\n",
       "      <td>(0.0645)</td>\n",
       "    </tr>\n",
       "    <tr>\n",
       "      <th>logRevenue:logEmployees</th>\n",
       "      <td></td>\n",
       "      <td></td>\n",
       "      <td></td>\n",
       "      <td>0.1249***</td>\n",
       "    </tr>\n",
       "    <tr>\n",
       "      <th></th>\n",
       "      <td></td>\n",
       "      <td></td>\n",
       "      <td></td>\n",
       "      <td>(0.0169)</td>\n",
       "    </tr>\n",
       "  </tbody>\n",
       "</table>\n",
       "</div>"
      ],
      "text/plain": [
       "                                 logMarketCap I logMarketCap II  \\\n",
       "C(TypeEnt)[T.Industrial company]                     -0.3684***   \n",
       "                                                       (0.0314)   \n",
       "Intercept                             1.0867***       1.1505***   \n",
       "                                       (0.0846)        (0.0824)   \n",
       "logEmployees                                                      \n",
       "                                                                  \n",
       "logRevenue                            0.8393***       0.8821***   \n",
       "                                       (0.0140)        (0.0140)   \n",
       "logRevenue:logEmployees                                           \n",
       "                                                                  \n",
       "\n",
       "                                 logMarketCap III logMarketCap IIII  \n",
       "C(TypeEnt)[T.Industrial company]                                     \n",
       "                                                                     \n",
       "Intercept                               1.0780***         3.7731***  \n",
       "                                         (0.0931)          (0.3760)  \n",
       "logEmployees                              -0.0066        -0.8014***  \n",
       "                                         (0.0296)          (0.1114)  \n",
       "logRevenue                              0.8446***         0.4127***  \n",
       "                                         (0.0276)          (0.0645)  \n",
       "logRevenue:logEmployees                                   0.1249***  \n",
       "                                                           (0.0169)  "
      ]
     },
     "execution_count": 101,
     "metadata": {},
     "output_type": "execute_result"
    }
   ],
   "source": [
    "from statsmodels.iolib.summary2 import summary_col\n",
    "dfoutput = summary_col([res_ols0,res_ols_cat,res_ols,res_ols_int],stars=True)\n",
    "x = dfoutput.tables[0]\n",
    "\n",
    "#x[\"logMarketCap IV\"] = [\"\",\"\",\"1.580***\",\"(0.134)\",\"\",\"\",\"0.028\",\"(0.011)\",\"\",\"\"]\n",
    "x"
   ]
  },
  {
   "cell_type": "code",
   "execution_count": 21,
   "metadata": {},
   "outputs": [],
   "source": [
    "x.to_csv(\"table.csv\",sep=\"\\t\") #or to_excel or to_latex"
   ]
  },
  {
   "cell_type": "markdown",
   "metadata": {},
   "source": [
    "## 5.6 You can also use R"
   ]
  },
  {
   "cell_type": "code",
   "execution_count": 22,
   "metadata": {
    "collapsed": true
   },
   "outputs": [
    {
     "name": "stdout",
     "output_type": "stream",
     "text": [
      "The rpy2.ipython extension is already loaded. To reload it, use:\n",
      "  %reload_ext rpy2.ipython\n"
     ]
    },
    {
     "name": "stderr",
     "output_type": "stream",
     "text": [
      "/opt/anaconda/anaconda3/lib/python3.5/site-packages/rpy2/rinterface/__init__.py:145: RRuntimeWarning: Loading required package: lme4\n",
      "\n",
      "  warnings.warn(x, RRuntimeWarning)\n",
      "/opt/anaconda/anaconda3/lib/python3.5/site-packages/rpy2/rinterface/__init__.py:145: RRuntimeWarning: Loading required package: Matrix\n",
      "\n",
      "  warnings.warn(x, RRuntimeWarning)\n"
     ]
    },
    {
     "data": {
      "text/plain": [
       "array([1], dtype=int32)"
      ]
     },
     "execution_count": 22,
     "metadata": {},
     "output_type": "execute_result"
    }
   ],
   "source": [
    "import rpy2\n",
    "%load_ext rpy2.ipython\n",
    "%R require(\"lme4\")"
   ]
  },
  {
   "cell_type": "code",
   "execution_count": 102,
   "metadata": {},
   "outputs": [
    {
     "name": "stderr",
     "output_type": "stream",
     "text": [
      "/opt/anaconda/anaconda3/lib/python3.5/site-packages/rpy2/robjects/pandas2ri.py:190: FutureWarning: from_items is deprecated. Please use DataFrame.from_dict(dict(items), ...) instead. DataFrame.from_dict(OrderedDict(items)) may be used to preserve the key order.\n",
      "  res = PandasDataFrame.from_items(items)\n"
     ]
    },
    {
     "data": {
      "text/plain": [
       "Linear mixed model fit by REML ['lmerMod']\n",
       "Formula: logMarketCap ~ logRevenue + (1 | TypeEnt)\n",
       "   Data: df\n",
       "\n",
       "REML criterion at convergence: 3244.7\n",
       "\n",
       "Scaled residuals: \n",
       "    Min      1Q  Median      3Q     Max \n",
       "-9.0362 -0.5801  0.0658  0.6230  5.5970 \n",
       "\n",
       "Random effects:\n",
       " Groups   Name        Variance Std.Dev.\n",
       " TypeEnt  (Intercept) 0.06737  0.2596  \n",
       " Residual             0.23635  0.4862  \n",
       "Number of obs: 2313, groups:  TypeEnt, 2\n",
       "\n",
       "Fixed effects:\n",
       "            Estimate Std. Error t value\n",
       "(Intercept)  0.96713    0.20138   4.802\n",
       "logRevenue   0.88176    0.01404  62.818\n",
       "\n",
       "Correlation of Fixed Effects:\n",
       "           (Intr)\n",
       "logRevenue -0.405\n",
       "[1] \"========================================================\"\n",
       "$TypeEnt\n",
       "                   (Intercept) logRevenue\n",
       "Bank                  1.150007  0.8817628\n",
       "Industrial company    0.784261  0.8817628\n",
       "\n",
       "attr(,\"class\")\n",
       "[1] \"coef.mer\"\n"
      ]
     },
     "metadata": {},
     "output_type": "display_data"
    }
   ],
   "source": [
    "%%R -i df \n",
    "\n",
    "#Random effects\n",
    "regression <- lmer(logMarketCap ~ logRevenue + (1|TypeEnt),data=df)\n",
    "\n",
    "print(summary(regression))\n",
    "\n",
    "print(\"========================================================\")\n",
    "\n",
    "print(coef(regression))\n"
   ]
  },
  {
   "cell_type": "markdown",
   "metadata": {},
   "source": [
    "## 5.7 Summary: Models for cross-sectional data\n",
    "- Univariate **Linear** Regression \n",
    "        mod = smf.ols(formula='log_MarketCap ~ log_Employees', data=df)\n",
    "- Multivariate **Linear** Regression \n",
    "        mod = smf.ols(formula='log_MarketCap ~ log_Employees + log_Revenue', data=df)\n",
    "- Multivariate **Linear** Regression with interactions\n",
    "        mod = smf.ols(formula='log_MarketCap ~ log_Employees * log_Revenue', data=df)\n",
    "- Multivariate **Linear** Regression with categorical data\n",
    "        mod = smf.ols(formula='log_MarketCap ~ log_Employees + C(Position)', data=df)\n",
    "- Multivariate **Logistic** Regression with categorical data --> In this case, the dependent variable MUST be categorical (0 or 1))\n",
    "        mod = smf.logit(formula='xx ~ log_Employees + C(Position)', data=df)\n",
    "- Mixed effect (**multilevel**) model with random intercepts --> In this case, there must be some groups (for instance countries)\n",
    "        mod = smf.mixedlm(formula='log_MarketCap ~ log_Employees', data=df,groups=\"Position\")\n",
    "- Mixed effect (**multilevel**) model with random intercepts and random slopes\n",
    "        mod = smf.mixedlm(formula='log_MarketCap ~ log_Employees', data=df,groups=\"Position\", re_formula=\"Year\")"
   ]
  },
  {
   "cell_type": "markdown",
   "metadata": {},
   "source": [
    "## 5.8 (cross)-validation (advanced).\n",
    "- A more robust approach when you have enough data.\n",
    "- Uses a model with penalization on the number of parameters (such as Lasso or Ridge). The penalization is determined by a parameter (alpha).\n",
    "- Divides de data into a training and testing set. Runs the regression in the training set using different values of alpha, and see how goods are the results by looking at the mean error (such as R^2) in the testing set.\n",
    "- Typically seen as machine learning."
   ]
  },
  {
   "cell_type": "code",
   "execution_count": 103,
   "metadata": {},
   "outputs": [
    {
     "data": {
      "text/html": [
       "<img src=\"https://lotusthoughts.files.wordpress.com/2015/02/vlc1.jpg\" width=\"1000\"/>"
      ],
      "text/plain": [
       "<IPython.core.display.Image object>"
      ]
     },
     "execution_count": 103,
     "metadata": {},
     "output_type": "execute_result"
    }
   ],
   "source": [
    "Image(url=\"https://lotusthoughts.files.wordpress.com/2015/02/vlc1.jpg\",width=1000)"
   ]
  },
  {
   "cell_type": "markdown",
   "metadata": {},
   "source": [
    "## 5.9 Bootstrapping in regressions (not so convenient in python).\n",
    "for i in range(1000):\n",
    "    - Take a random sample (same size, with replacement)\n",
    "    - Run a regression\n",
    "    - Save the coefficients\n",
    "    \n",
    "Calculate the confidence intervals based on the simulations. It is always robust."
   ]
  },
  {
   "cell_type": "code",
   "execution_count": 107,
   "metadata": {},
   "outputs": [
    {
     "name": "stdout",
     "output_type": "stream",
     "text": [
      "The rpy2.ipython extension is already loaded. To reload it, use:\n",
      "  %reload_ext rpy2.ipython\n"
     ]
    },
    {
     "data": {
      "text/plain": [
       "array([1], dtype=int32)"
      ]
     },
     "execution_count": 107,
     "metadata": {},
     "output_type": "execute_result"
    }
   ],
   "source": [
    "import rpy2\n",
    "%load_ext rpy2.ipython\n",
    "%R require(\"lme4\")\n",
    "%R require(\"boot\")"
   ]
  },
  {
   "cell_type": "code",
   "execution_count": 130,
   "metadata": {},
   "outputs": [
    {
     "data": {
      "text/plain": [
       "                              2.5 %     97.5 %\n",
       ".sig01                   0.00000000  0.4905818\n",
       ".sigma                   0.46576227  0.4955850\n",
       "(Intercept)              2.20945550  4.0122037\n",
       "logRevenue               0.38716675  0.6723540\n",
       "logEmployees            -0.83841122 -0.3056943\n",
       "logRevenue:logEmployees  0.05378997  0.1295358\n",
       "[1] \"========================================================\"\n",
       "Linear mixed model fit by REML ['lmerMod']\n",
       "Formula: logMarketCap ~ logRevenue * logEmployees + (1 | TypeEnt)\n",
       "   Data: df\n",
       "\n",
       "REML criterion at convergence: 3225.8\n",
       "\n",
       "Scaled residuals: \n",
       "    Min      1Q  Median      3Q     Max \n",
       "-9.2498 -0.5995  0.0755  0.6378  5.2114 \n",
       "\n",
       "Random effects:\n",
       " Groups   Name        Variance Std.Dev.\n",
       " TypeEnt  (Intercept) 0.05619  0.2370  \n",
       " Residual             0.23347  0.4832  \n",
       "Number of obs: 2313, groups:  TypeEnt, 2\n",
       "\n",
       "Fixed effects:\n",
       "                        Estimate Std. Error t value\n",
       "(Intercept)              2.98154    0.41059   7.262\n",
       "logRevenue               0.55790    0.06445   8.657\n",
       "logEmployees            -0.59332    0.11061  -5.364\n",
       "logRevenue:logEmployees  0.09299    0.01678   5.542\n",
       "\n",
       "Correlation of Fixed Effects:\n",
       "            (Intr) logRvn lgEmpl\n",
       "logRevenue  -0.881              \n",
       "logEmployes -0.832  0.787       \n",
       "lgRvn:lgEmp  0.886 -0.909 -0.966\n",
       "[1] \"========================================================\"\n",
       "$TypeEnt\n",
       "                   (Intercept) logRevenue logEmployees logRevenue:logEmployees\n",
       "Bank                  3.148403  0.5578988   -0.5933191              0.09298962\n",
       "Industrial company    2.814670  0.5578988   -0.5933191              0.09298962\n",
       "\n",
       "attr(,\"class\")\n",
       "[1] \"coef.mer\"\n"
      ]
     },
     "metadata": {},
     "output_type": "display_data"
    }
   ],
   "source": [
    "%%R -i df \n",
    "\n",
    "#Random effects\n",
    "#regression <- lm(logMarketCap ~ logRevenue*logEmployees ,data=df)\n",
    "regression <- lmer(logMarketCap ~ logRevenue*logEmployees + (1|TypeEnt) ,data=df)\n",
    "\n",
    "print(confint(regression, \n",
    "              level = 0.95, method=\"boot\",nsim=100, PBargs=list(style=3)))\n",
    "\n",
    "print(\"========================================================\")\n",
    "\n",
    "print(summary(regression))\n",
    "\n",
    "print(\"========================================================\")\n",
    "\n",
    "print(coef(regression))"
   ]
  },
  {
   "cell_type": "markdown",
   "metadata": {},
   "source": [
    "## 5.10 How to know which model to run?\n",
    "- You can always complicate the model more adding random effects and variables.\n",
    "- Run the simplest model that makes sense. \n",
    "    - Do not add extra controls just because you have them, without any theory.\n",
    "    - Do not remove complexity that may have an effect.\n",
    "- You can compare between models using several metrics (AIC, BIC)\n",
    "   "
   ]
  },
  {
   "cell_type": "code",
   "execution_count": 39,
   "metadata": {},
   "outputs": [
    {
     "name": "stderr",
     "output_type": "stream",
     "text": [
      "/opt/anaconda/anaconda3/lib/python3.5/site-packages/scipy/stats/_distn_infrastructure.py:879: RuntimeWarning: invalid value encountered in greater\n",
      "  return (self.a < x) & (x < self.b)\n",
      "/opt/anaconda/anaconda3/lib/python3.5/site-packages/scipy/stats/_distn_infrastructure.py:879: RuntimeWarning: invalid value encountered in less\n",
      "  return (self.a < x) & (x < self.b)\n",
      "/opt/anaconda/anaconda3/lib/python3.5/site-packages/scipy/stats/_distn_infrastructure.py:1821: RuntimeWarning: invalid value encountered in less_equal\n",
      "  cond2 = cond0 & (x <= self.a)\n"
     ]
    },
    {
     "data": {
      "text/html": [
       "<div>\n",
       "<style scoped>\n",
       "    .dataframe tbody tr th:only-of-type {\n",
       "        vertical-align: middle;\n",
       "    }\n",
       "\n",
       "    .dataframe tbody tr th {\n",
       "        vertical-align: top;\n",
       "    }\n",
       "\n",
       "    .dataframe thead th {\n",
       "        text-align: right;\n",
       "    }\n",
       "</style>\n",
       "<table border=\"1\" class=\"dataframe\">\n",
       "  <thead>\n",
       "    <tr style=\"text-align: right;\">\n",
       "      <th></th>\n",
       "      <th>df_resid</th>\n",
       "      <th>ssr</th>\n",
       "      <th>df_diff</th>\n",
       "      <th>ss_diff</th>\n",
       "      <th>F</th>\n",
       "      <th>Pr(&gt;F)</th>\n",
       "    </tr>\n",
       "  </thead>\n",
       "  <tbody>\n",
       "    <tr>\n",
       "      <th>0</th>\n",
       "      <td>2876.0</td>\n",
       "      <td>822.851869</td>\n",
       "      <td>0.0</td>\n",
       "      <td>NaN</td>\n",
       "      <td>NaN</td>\n",
       "      <td>NaN</td>\n",
       "    </tr>\n",
       "    <tr>\n",
       "      <th>1</th>\n",
       "      <td>2875.0</td>\n",
       "      <td>805.257964</td>\n",
       "      <td>1.0</td>\n",
       "      <td>17.593906</td>\n",
       "      <td>62.815248</td>\n",
       "      <td>3.218298e-15</td>\n",
       "    </tr>\n",
       "  </tbody>\n",
       "</table>\n",
       "</div>"
      ],
      "text/plain": [
       "   df_resid         ssr  df_diff    ss_diff          F        Pr(>F)\n",
       "0    2876.0  822.851869      0.0        NaN        NaN           NaN\n",
       "1    2875.0  805.257964      1.0  17.593906  62.815248  3.218298e-15"
      ]
     },
     "execution_count": 39,
     "metadata": {},
     "output_type": "execute_result"
    }
   ],
   "source": [
    "#Compare models using anova\n",
    "import statsmodels.api as sm\n",
    "from statsmodels.formula.api import ols\n",
    "mod3 = smf.ols(formula='logMarketCap ~ logRevenue*logEmployees + C(TypeEnt)', data=df)\n",
    "res_ols_cat = mod3.fit()\n",
    "\n",
    "mod2 = smf.ols(formula='logMarketCap ~ logRevenue*logEmployees', data=df)\n",
    "res_ols_int = mod2.fit()\n",
    "\n",
    "mod1 = smf.ols(formula='logMarketCap ~ logRevenue + logEmployees', data=df)\n",
    "res_ols = mod1.fit()\n",
    "\n",
    "\n",
    "table = sm.stats.anova_lm(res_ols_int,res_ols_cat)#,typ=2) \n",
    "table"
   ]
  },
  {
   "cell_type": "code",
   "execution_count": 44,
   "metadata": {},
   "outputs": [
    {
     "name": "stderr",
     "output_type": "stream",
     "text": [
      "/opt/anaconda/anaconda3/lib/python3.5/site-packages/scipy/stats/_distn_infrastructure.py:879: RuntimeWarning: invalid value encountered in greater\n",
      "  return (self.a < x) & (x < self.b)\n",
      "/opt/anaconda/anaconda3/lib/python3.5/site-packages/scipy/stats/_distn_infrastructure.py:879: RuntimeWarning: invalid value encountered in less\n",
      "  return (self.a < x) & (x < self.b)\n",
      "/opt/anaconda/anaconda3/lib/python3.5/site-packages/scipy/stats/_distn_infrastructure.py:1821: RuntimeWarning: invalid value encountered in less_equal\n",
      "  cond2 = cond0 & (x <= self.a)\n"
     ]
    },
    {
     "data": {
      "text/html": [
       "<div>\n",
       "<style scoped>\n",
       "    .dataframe tbody tr th:only-of-type {\n",
       "        vertical-align: middle;\n",
       "    }\n",
       "\n",
       "    .dataframe tbody tr th {\n",
       "        vertical-align: top;\n",
       "    }\n",
       "\n",
       "    .dataframe thead th {\n",
       "        text-align: right;\n",
       "    }\n",
       "</style>\n",
       "<table border=\"1\" class=\"dataframe\">\n",
       "  <thead>\n",
       "    <tr style=\"text-align: right;\">\n",
       "      <th></th>\n",
       "      <th>df_resid</th>\n",
       "      <th>ssr</th>\n",
       "      <th>df_diff</th>\n",
       "      <th>ss_diff</th>\n",
       "      <th>F</th>\n",
       "      <th>Pr(&gt;F)</th>\n",
       "    </tr>\n",
       "  </thead>\n",
       "  <tbody>\n",
       "    <tr>\n",
       "      <th>0</th>\n",
       "      <td>2877.0</td>\n",
       "      <td>900.935669</td>\n",
       "      <td>0.0</td>\n",
       "      <td>NaN</td>\n",
       "      <td>NaN</td>\n",
       "      <td>NaN</td>\n",
       "    </tr>\n",
       "    <tr>\n",
       "      <th>1</th>\n",
       "      <td>2876.0</td>\n",
       "      <td>822.851869</td>\n",
       "      <td>1.0</td>\n",
       "      <td>78.083799</td>\n",
       "      <td>272.915473</td>\n",
       "      <td>1.215873e-58</td>\n",
       "    </tr>\n",
       "  </tbody>\n",
       "</table>\n",
       "</div>"
      ],
      "text/plain": [
       "   df_resid         ssr  df_diff    ss_diff           F        Pr(>F)\n",
       "0    2877.0  900.935669      0.0        NaN         NaN           NaN\n",
       "1    2876.0  822.851869      1.0  78.083799  272.915473  1.215873e-58"
      ]
     },
     "execution_count": 44,
     "metadata": {},
     "output_type": "execute_result"
    }
   ],
   "source": [
    "table = sm.stats.anova_lm(res_ols,res_ols_int)#,typ=2) \n",
    "table"
   ]
  }
 ],
 "metadata": {
  "anaconda-cloud": {},
  "kernelspec": {
   "display_name": "Python 3",
   "language": "python",
   "name": "python3"
  },
  "language_info": {
   "codemirror_mode": {
    "name": "ipython",
    "version": 3
   },
   "file_extension": ".py",
   "mimetype": "text/x-python",
   "name": "python",
   "nbconvert_exporter": "python",
   "pygments_lexer": "ipython3",
   "version": "3.5.6"
  }
 },
 "nbformat": 4,
 "nbformat_minor": 1
}
