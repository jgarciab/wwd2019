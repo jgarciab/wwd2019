{
 "cells": [
  {
   "cell_type": "markdown",
   "metadata": {},
   "source": [
    "**First run this cell:**"
   ]
  },
  {
   "cell_type": "code",
   "execution_count": null,
   "metadata": {},
   "outputs": [],
   "source": [
    "##Some code to run at the beginning of the file, to be able to show images in the notebook\n",
    "##Don't worry about this cell but run it\n",
    "\n",
    "#Print the plots in this screen\n",
    "%matplotlib inline \n",
    "\n",
    "#Be able to plot images saved in the hard drive\n",
    "from IPython.display import Image,display\n",
    "\n",
    "#Make the notebook wider\n",
    "from IPython.core.display import display, HTML \n",
    "display(HTML(\"<style>.container { width:90% !important; }</style>\"))\n",
    "\n",
    "import pandas as pd\n",
    "import seaborn as sns\n",
    "import numpy as np\n",
    "import pylab as plt"
   ]
  },
  {
   "cell_type": "markdown",
   "metadata": {},
   "source": [
    "## Together\n",
    "- What are the variables in the following dataset"
   ]
  },
  {
   "cell_type": "code",
   "execution_count": 1,
   "metadata": {},
   "outputs": [
    {
     "data": {
      "text/html": [
       "<h3>Incidents in city</h3> \n",
       "<table>\n",
       "    <tr> <th>year</th> <th>Amsterdam</th> <th>Brussels</th> </tr>\n",
       "    <tr> <td>2010</td> <td>2</td> <td>3</td> </tr>\n",
       "    <tr> <td>2011</td> <td>3</td> <td>0</td> </tr>\n",
       "    <tr> <td>2012</td> <td>1</td> <td>4</td> </tr>\n",
       "    <tr> <td>2013</td> <td>4</td> <td>5</td> </tr>\n",
       "</table>"
      ],
      "text/plain": [
       "<IPython.core.display.HTML object>"
      ]
     },
     "metadata": {},
     "output_type": "display_data"
    }
   ],
   "source": [
    "%%html\n",
    "<h3>Incidents in city</h3> \n",
    "<table>\n",
    "    <tr> <th>year</th> <th>Amsterdam</th> <th>Brussels</th> </tr>\n",
    "    <tr> <td>2010</td> <td>2</td> <td>3</td> </tr>\n",
    "    <tr> <td>2011</td> <td>3</td> <td>0</td> </tr>\n",
    "    <tr> <td>2012</td> <td>1</td> <td>4</td> </tr>\n",
    "    <tr> <td>2013</td> <td>4</td> <td>5</td> </tr>\n",
    "</table>"
   ]
  },
  {
   "cell_type": "code",
   "execution_count": 2,
   "metadata": {},
   "outputs": [
    {
     "data": {
      "text/html": [
       "<h3>Amsterdam</h3> \n",
       "<table>\n",
       "    <tr> <th>year</th> <th>variable</th> <th>value</th> </tr>\n",
       "    <tr> <td>2010</td> <td>incidents</td> <td>3</td> </tr>\n",
       "    <tr> <td>2011</td> <td>incidents</td> <td>3</td> </tr>\n",
       "    <tr> <td>2010</td> <td>rainy days</td> <td>10</td> </tr>\n",
       "    <tr> <td>2011</td> <td>rainy days</td> <td>12</td> </tr>\n",
       "</table>"
      ],
      "text/plain": [
       "<IPython.core.display.HTML object>"
      ]
     },
     "metadata": {},
     "output_type": "display_data"
    }
   ],
   "source": [
    "%%html\n",
    "<h3>Amsterdam</h3> \n",
    "<table>\n",
    "    <tr> <th>year</th> <th>variable</th> <th>value</th> </tr>\n",
    "    <tr> <td>2010</td> <td>incidents</td> <td>3</td> </tr>\n",
    "    <tr> <td>2011</td> <td>incidents</td> <td>3</td> </tr>\n",
    "    <tr> <td>2010</td> <td>rainy days</td> <td>10</td> </tr>\n",
    "    <tr> <td>2011</td> <td>rainy days</td> <td>12</td> </tr>\n",
    "</table>"
   ]
  },
  {
   "cell_type": "markdown",
   "metadata": {},
   "source": [
    "## In class 1 (challenging).\n",
    "- Read a csv file (DONE)\n",
    "- Create an empty list (DONE)\n",
    "- Loop over the column names of the dataframe, convert the column name to lowercase (.lower()) and append it to the empty list\n",
    "- Make the new columns"
   ]
  },
  {
   "cell_type": "code",
   "execution_count": null,
   "metadata": {},
   "outputs": [],
   "source": [
    "#import pandas as pd\n",
    "import pandas as pd\n",
    "\n",
    "df_alcohol = pd.read_csv(\"data/alcohol.csv\",sep=\"\\t\")\n",
    "df_alcohol.head()"
   ]
  },
  {
   "cell_type": "code",
   "execution_count": null,
   "metadata": {},
   "outputs": [],
   "source": [
    "df_alcohol.columns"
   ]
  },
  {
   "cell_type": "code",
   "execution_count": null,
   "metadata": {},
   "outputs": [],
   "source": [
    "#Create an empty list\n",
    "new_columns = []"
   ]
  },
  {
   "cell_type": "code",
   "execution_count": null,
   "metadata": {},
   "outputs": [],
   "source": [
    "#Loop over the columns\n",
    "for ............. in ...........:\n",
    "    #Convert the name to lower case\n",
    "    new_name = ..........lower()\n",
    "    #Append it to the list of new_columns\n",
    "    ..........."
   ]
  },
  {
   "cell_type": "code",
   "execution_count": null,
   "metadata": {},
   "outputs": [],
   "source": [
    "#Change the column names of the dataframe with new_columns\n",
    "........... = new_columns"
   ]
  },
  {
   "cell_type": "code",
   "execution_count": null,
   "metadata": {},
   "outputs": [],
   "source": [
    "#Just to check if it's right\n",
    "df_alcohol.head()"
   ]
  },
  {
   "cell_type": "markdown",
   "metadata": {},
   "source": [
    "## In class 2\n",
    "- Create a function that:\n",
    "  - Takes a number as input\n",
    "  - Returns: \"high\" if the number is greater than 1000, \"low\" if the number is lower or equal than 1000\n",
    "- Apply the function to the column \"income\" of the alcohol dataset to create a column called \"category\""
   ]
  },
  {
   "cell_type": "code",
   "execution_count": null,
   "metadata": {},
   "outputs": [],
   "source": [
    "#Read the files and change the columns\n",
    "df_alcohol = pd.read_csv(\"data/alcohol.csv\",sep=\"\\t\")\n",
    "df_alcohol.columns = [\"adults\",\"kids\",\"income\",\"consume\"]\n",
    "df_alcohol.head()"
   ]
  },
  {
   "cell_type": "code",
   "execution_count": null,
   "metadata": {},
   "outputs": [],
   "source": [
    "#Create the function\n",
    "def high_income(number):\n",
    "    if ....:\n",
    "        return ...:\n",
    "    else..."
   ]
  },
  {
   "cell_type": "code",
   "execution_count": null,
   "metadata": {},
   "outputs": [],
   "source": [
    "df_alcohol[\"income_cat\"] = ...\n",
    "df_alcohol.head()"
   ]
  },
  {
   "cell_type": "code",
   "execution_count": null,
   "metadata": {},
   "outputs": [],
   "source": [
    "#Easier solution: df_alcohol[\"income_cat\"] = pd.cut(df_alcohol[\"income\"],[0,1000,10000])"
   ]
  },
  {
   "cell_type": "markdown",
   "metadata": {},
   "source": [
    "## In class 3 (groupby)\n",
    "- Calculate the mean income and consumption for households with 1,2,3,4,5.. adults"
   ]
  },
  {
   "cell_type": "code",
   "execution_count": null,
   "metadata": {},
   "outputs": [],
   "source": [
    "#- Calculate the mean income and consumption for households with 1,2,3,4,5.. adults\n",
    "df_alcohol..."
   ]
  },
  {
   "cell_type": "code",
   "execution_count": null,
   "metadata": {},
   "outputs": [],
   "source": []
  }
 ],
 "metadata": {
  "anaconda-cloud": {},
  "kernelspec": {
   "display_name": "Python 3",
   "language": "python",
   "name": "python3"
  },
  "language_info": {
   "codemirror_mode": {
    "name": "ipython",
    "version": 3
   },
   "file_extension": ".py",
   "mimetype": "text/x-python",
   "name": "python",
   "nbconvert_exporter": "python",
   "pygments_lexer": "ipython3",
   "version": "3.5.6"
  }
 },
 "nbformat": 4,
 "nbformat_minor": 1
}
