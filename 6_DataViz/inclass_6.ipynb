{
 "cells": [
  {
   "cell_type": "code",
   "execution_count": 1,
   "metadata": {},
   "outputs": [
    {
     "data": {
      "text/html": [
       "<style>.container { width:90% !important; }</style>"
      ],
      "text/plain": [
       "<IPython.core.display.HTML object>"
      ]
     },
     "metadata": {},
     "output_type": "display_data"
    }
   ],
   "source": [
    "##Some code to run at the beginning of the file, to be able to show images in the notebook\n",
    "\n",
    "#Print the plots in this screen\n",
    "%matplotlib inline \n",
    "\n",
    "#Be able to plot images saved in the hard drive\n",
    "from IPython.display import Image \n",
    "\n",
    "#Make the notebook wider\n",
    "from IPython.core.display import display, HTML \n",
    "display(HTML(\"<style>.container { width:90% !important; }</style>\"))\n",
    "\n",
    "import seaborn as sns\n",
    "import pylab as plt\n",
    "import pandas as pd\n",
    "import numpy as np"
   ]
  },
  {
   "cell_type": "code",
   "execution_count": 2,
   "metadata": {},
   "outputs": [
    {
     "data": {
      "text/html": [
       "<div>\n",
       "<style scoped>\n",
       "    .dataframe tbody tr th:only-of-type {\n",
       "        vertical-align: middle;\n",
       "    }\n",
       "\n",
       "    .dataframe tbody tr th {\n",
       "        vertical-align: top;\n",
       "    }\n",
       "\n",
       "    .dataframe thead th {\n",
       "        text-align: right;\n",
       "    }\n",
       "</style>\n",
       "<table border=\"1\" class=\"dataframe\">\n",
       "  <thead>\n",
       "    <tr style=\"text-align: right;\">\n",
       "      <th></th>\n",
       "      <th>Company_name</th>\n",
       "      <th>Company_ID</th>\n",
       "      <th>Big3Share</th>\n",
       "      <th>Position</th>\n",
       "      <th>Exchange</th>\n",
       "      <th>TypeEnt</th>\n",
       "      <th>Assets</th>\n",
       "      <th>MarketCap</th>\n",
       "      <th>Revenue</th>\n",
       "      <th>Country</th>\n",
       "    </tr>\n",
       "  </thead>\n",
       "  <tbody>\n",
       "    <tr>\n",
       "      <th>0</th>\n",
       "      <td>1-800 FLOWERS.COM, INC.</td>\n",
       "      <td>US113117311</td>\n",
       "      <td>5.08</td>\n",
       "      <td>4</td>\n",
       "      <td>NASDAQ National Market</td>\n",
       "      <td>Industrial company</td>\n",
       "      <td>5.696421</td>\n",
       "      <td>5.461299</td>\n",
       "      <td>6.049802</td>\n",
       "      <td>US</td>\n",
       "    </tr>\n",
       "    <tr>\n",
       "      <th>1</th>\n",
       "      <td>1347 PROPERTY INSURANCE HOLDINGS INC</td>\n",
       "      <td>US257638358L</td>\n",
       "      <td>0.00</td>\n",
       "      <td>120</td>\n",
       "      <td>NASDAQ National Market</td>\n",
       "      <td>Insurance company</td>\n",
       "      <td>NaN</td>\n",
       "      <td>4.627274</td>\n",
       "      <td>4.574043</td>\n",
       "      <td>US</td>\n",
       "    </tr>\n",
       "    <tr>\n",
       "      <th>2</th>\n",
       "      <td>1ST CENTURY BANCSHARES, INC.</td>\n",
       "      <td>US261169687</td>\n",
       "      <td>0.00</td>\n",
       "      <td>122</td>\n",
       "      <td>NASDAQ National Market</td>\n",
       "      <td>Bank</td>\n",
       "      <td>4.812432</td>\n",
       "      <td>5.060890</td>\n",
       "      <td>3.412629</td>\n",
       "      <td>US</td>\n",
       "    </tr>\n",
       "    <tr>\n",
       "      <th>3</th>\n",
       "      <td>1ST CONSTITUTION BANCORP</td>\n",
       "      <td>US223665653</td>\n",
       "      <td>0.59</td>\n",
       "      <td>15</td>\n",
       "      <td>NASDAQ National Market</td>\n",
       "      <td>Bank</td>\n",
       "      <td>NaN</td>\n",
       "      <td>4.998242</td>\n",
       "      <td>4.574043</td>\n",
       "      <td>US</td>\n",
       "    </tr>\n",
       "    <tr>\n",
       "      <th>4</th>\n",
       "      <td>1ST SOURCE CORPORATION</td>\n",
       "      <td>US351068133</td>\n",
       "      <td>6.78</td>\n",
       "      <td>4</td>\n",
       "      <td>NASDAQ National Market</td>\n",
       "      <td>Bank</td>\n",
       "      <td>6.714993</td>\n",
       "      <td>5.946475</td>\n",
       "      <td>5.397658</td>\n",
       "      <td>US</td>\n",
       "    </tr>\n",
       "  </tbody>\n",
       "</table>\n",
       "</div>"
      ],
      "text/plain": [
       "                           Company_name    Company_ID  Big3Share  Position  \\\n",
       "0               1-800 FLOWERS.COM, INC.   US113117311       5.08         4   \n",
       "1  1347 PROPERTY INSURANCE HOLDINGS INC  US257638358L       0.00       120   \n",
       "2          1ST CENTURY BANCSHARES, INC.   US261169687       0.00       122   \n",
       "3              1ST CONSTITUTION BANCORP   US223665653       0.59        15   \n",
       "4                1ST SOURCE CORPORATION   US351068133       6.78         4   \n",
       "\n",
       "                 Exchange             TypeEnt    Assets  MarketCap   Revenue  \\\n",
       "0  NASDAQ National Market  Industrial company  5.696421   5.461299  6.049802   \n",
       "1  NASDAQ National Market   Insurance company       NaN   4.627274  4.574043   \n",
       "2  NASDAQ National Market                Bank  4.812432   5.060890  3.412629   \n",
       "3  NASDAQ National Market                Bank       NaN   4.998242  4.574043   \n",
       "4  NASDAQ National Market                Bank  6.714993   5.946475  5.397658   \n",
       "\n",
       "  Country  \n",
       "0      US  \n",
       "1      US  \n",
       "2      US  \n",
       "3      US  \n",
       "4      US  "
      ]
     },
     "execution_count": 2,
     "metadata": {},
     "output_type": "execute_result"
    }
   ],
   "source": [
    "#Let's play with some real data\n",
    "#Fichtner, Jan, Eelke M. Heemskerk, and Javier Garcia-Bernardo. \"Hidden power of the Big Three? Passive index funds, re-concentration of corporate ownership, and new financial risk.\" Business and Politics 19.2 (2017): 298-326.\n",
    "df = pd.read_csv(\"data/company_data.csv\",sep=\"\\t\")\n",
    "df.head()"
   ]
  },
  {
   "cell_type": "markdown",
   "metadata": {},
   "source": [
    "# Inclass 1: Understand your data"
   ]
  },
  {
   "cell_type": "markdown",
   "metadata": {},
   "source": [
    "`Make a pairplot with your quantitative variables`"
   ]
  },
  {
   "cell_type": "code",
   "execution_count": 3,
   "metadata": {},
   "outputs": [],
   "source": [
    "df_q = df.loc[:,[\"Big3Share\",\"Position\",\"Assets\",\"MarketCap\",\"Revenue\"]]\n"
   ]
  },
  {
   "cell_type": "markdown",
   "metadata": {},
   "source": [
    "`Find the correlation between your (qunatitative) variables and use a heatmap to visualize them`"
   ]
  },
  {
   "cell_type": "code",
   "execution_count": null,
   "metadata": {},
   "outputs": [],
   "source": []
  },
  {
   "cell_type": "markdown",
   "metadata": {},
   "source": [
    "**Are the variables Assets/MarketCap/Revenu log-transformed?**"
   ]
  },
  {
   "cell_type": "markdown",
   "metadata": {},
   "source": [
    "# Inclass 2: Catplot\n",
    "https://seaborn.pydata.org/generated/seaborn.catplot.html"
   ]
  },
  {
   "cell_type": "markdown",
   "metadata": {},
   "source": [
    "`Show the distribution of one of the quantitative variables as a function of the stock exchangeUse different types of plots (e.g. violinplot, boxplot) and check the documentation to play with the parameters`"
   ]
  },
  {
   "cell_type": "code",
   "execution_count": null,
   "metadata": {},
   "outputs": [],
   "source": []
  },
  {
   "cell_type": "markdown",
   "metadata": {},
   "source": [
    "`Show the distribution of one of the quantitative variables as a function of the stock exchange AND type of entity`"
   ]
  },
  {
   "cell_type": "code",
   "execution_count": null,
   "metadata": {},
   "outputs": [],
   "source": []
  },
  {
   "cell_type": "markdown",
   "metadata": {},
   "source": [
    "# Inclass 3: Relplot\n",
    "https://seaborn.pydata.org/generated/seaborn.relplot.html"
   ]
  },
  {
   "cell_type": "markdown",
   "metadata": {},
   "source": [
    "`Show the relationship between MarketCap and Revenue as a function of the stock exchange.`"
   ]
  },
  {
   "cell_type": "code",
   "execution_count": null,
   "metadata": {},
   "outputs": [],
   "source": []
  },
  {
   "cell_type": "markdown",
   "metadata": {},
   "source": [
    "`Show the relationship between MarketCap and Revenue as a function of the stock exchange, add the Assets as another variable in your plot`"
   ]
  },
  {
   "cell_type": "code",
   "execution_count": null,
   "metadata": {},
   "outputs": [],
   "source": []
  },
  {
   "cell_type": "markdown",
   "metadata": {},
   "source": [
    "`Show the relationship between MarketCap and Revenue as a function of the stock exchange AND type of entity`"
   ]
  },
  {
   "cell_type": "code",
   "execution_count": null,
   "metadata": {},
   "outputs": [],
   "source": []
  },
  {
   "cell_type": "markdown",
   "metadata": {},
   "source": [
    "# Inclass 4: Lmplot\n",
    "https://seaborn.pydata.org/generated/seaborn.lmplot.html"
   ]
  },
  {
   "cell_type": "markdown",
   "metadata": {},
   "source": [
    "`Show the relationship between MarketCap and Revenue as a function of the stock exchange. Use different types of regression lines`"
   ]
  },
  {
   "cell_type": "code",
   "execution_count": null,
   "metadata": {},
   "outputs": [],
   "source": []
  },
  {
   "cell_type": "markdown",
   "metadata": {},
   "source": [
    "`Show the relationship between MarketCap and Revenue as a function of the stock exchange AND type of entity`"
   ]
  },
  {
   "cell_type": "code",
   "execution_count": null,
   "metadata": {},
   "outputs": [],
   "source": []
  }
 ],
 "metadata": {
  "kernelspec": {
   "display_name": "Python 3",
   "language": "python",
   "name": "python3"
  },
  "language_info": {
   "codemirror_mode": {
    "name": "ipython",
    "version": 3
   },
   "file_extension": ".py",
   "mimetype": "text/x-python",
   "name": "python",
   "nbconvert_exporter": "python",
   "pygments_lexer": "ipython3",
   "version": "3.5.6"
  }
 },
 "nbformat": 4,
 "nbformat_minor": 2
}
