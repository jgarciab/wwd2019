{
 "cells": [
  {
   "cell_type": "markdown",
   "metadata": {},
   "source": [
    "# Working with data 2017. Class 1 \n",
    "## Contact\n",
    "Javier Garcia-Bernardo\n",
    "garcia@uva.nl\n",
    "\n",
    "## Week's plan:\n",
    "### Monday:\n",
    "1. About Python: Jupyter notebooks and packages\n",
    "2. Python:\n",
    "  - 2.1 Data types: Numbers, strings, booleans\n",
    "  - **2.2 Data structures (I): List**\n",
    "  - **2.3 Code (I): How Python works**\n",
    "3. Pandas (I): Read csv\n",
    "4. Seaborn (I): First plots\n",
    "\n",
    "### Wednesday:\n",
    "2. Python\n",
    "  - 2.2 Data structures (II): Sets, dictionaries, numpy array, pandas dataframe\n",
    "3. Pandas (II): Basic operations with dataframes\n",
    "\n",
    "### Thursday:\n",
    "2. Python\n",
    "  - 2.3 Code (II): Functions, for-loops and if-else statements\n",
    "  - 2.4 Debugging Python\n",
    "4. Seaborn (II): Some other plots\n",
    "\n"
   ]
  },
  {
   "cell_type": "code",
   "execution_count": null,
   "metadata": {},
   "outputs": [],
   "source": [
    "##Some code to run at the beginning of the file, to be able to show images in the notebook\n",
    "##Don't worry about this cell\n",
    "\n",
    "#Print the plots in this screen\n",
    "%matplotlib inline \n",
    "\n",
    "#Be able to plot images saved in the hard drive\n",
    "from IPython.display import Image \n",
    "\n",
    "#Make the notebook wider\n",
    "from IPython.core.display import display, HTML \n",
    "display(HTML(\"<style>.container { width:90% !important; }</style>\"))"
   ]
  },
  {
   "cell_type": "markdown",
   "metadata": {},
   "source": [
    "# 2. PYTHON: Data types, structures and code\n",
    "Python uses variables and code.\n",
    "\n",
    "\n",
    "### Variables\n",
    "Variables tell the computer to save something (a number, a string, a spreadsheet) with a name.\n",
    "\n",
    "For instance, if you write **variable_name = 3**, the computer knows that *variable_name* is 3.\n",
    "\n",
    "Variables can represents:\n",
    "- **2.1 Data types**: Numbers, strings and others\n",
    "- **2.2 Data structures**: \n",
    "    - Lists, tables... (which organize data types)\n",
    "\n",
    "\n",
    "### 2.3 Code\n",
    "- Instructions to modify variables\n",
    "- Can be organized in functions\n"
   ]
  },
  {
   "cell_type": "markdown",
   "metadata": {},
   "source": [
    "## 2.2 Most common data structures\n",
    "- **2.2.1 list** = notebook (you can add things, take out things, everything is in order). e.g. a list of the numbers 1,2 and 3: [1,2,3]\n",
    "- **2.2.2 tuple** = book  (you cannot change it after it's printed). (1,2,3)\n",
    "- **2.2.3 set** = keywords in a paper (you can check if something exists easily). {1,2,3}\n",
    "- **2.2.4 dictionary** = index (you can find content easily). {\"a\":1, \"b\":2, \"c\":3}\n",
    "- **2.2.5 numpy array** = fast list for math. np.array([1,2,3])\n",
    "- **2.2.6 pandas dataframe** = spreedsheet. pd.DataFrame([1,2,3],columns=[\"a\",\"b\",\"c\"])\n",
    "\n",
    "**They have methods** = ways to edit the data structure. For example add, delete, find, sort... (= functions in excel)"
   ]
  },
  {
   "cell_type": "markdown",
   "metadata": {},
   "source": [
    "### 2.2.1 Lists\n",
    "- Combines a series of variables in order\n",
    "- Fast to add and delete variables, slow to find variables (needs to go over all the elements)"
   ]
  },
  {
   "cell_type": "code",
   "execution_count": null,
   "metadata": {},
   "outputs": [],
   "source": [
    "##this is a list\n",
    "print([1,2,3])"
   ]
  },
  {
   "cell_type": "code",
   "execution_count": null,
   "metadata": {},
   "outputs": [],
   "source": [
    "print(type([1,2,3]))"
   ]
  },
  {
   "cell_type": "code",
   "execution_count": null,
   "metadata": {},
   "outputs": [],
   "source": [
    "# A list can combine several data types\n",
    "this_is_list1 = [3.5,\"I'm another string\",4]\n",
    "print(this_is_list1)\n",
    "\n",
    "# It can even combine several data structures, for instance a list inside a list\n",
    "this_is_list2 = [3.5,\"I'm another string\",4,this_is_list1]\n",
    "print(this_is_list2)"
   ]
  },
  {
   "cell_type": "markdown",
   "metadata": {},
   "source": [
    "**OPERATIONS IN LISTS**"
   ]
  },
  {
   "cell_type": "code",
   "execution_count": null,
   "metadata": {},
   "outputs": [],
   "source": [
    "## A list\n",
    "this_is_a_list = [1,3,2,\"b\"]\n",
    "print(\"Original: \", this_is_a_list)"
   ]
  },
  {
   "cell_type": "markdown",
   "metadata": {},
   "source": [
    "**Add element**"
   ]
  },
  {
   "cell_type": "code",
   "execution_count": null,
   "metadata": {},
   "outputs": [],
   "source": [
    "## Add elements\n",
    "this_is_a_list.append(\"c\")\n",
    "print(\"Added c: \", this_is_a_list)"
   ]
  },
  {
   "cell_type": "markdown",
   "metadata": {},
   "source": [
    "**Retrieve element**\n",
    "\n",
    "**CAREFUL**:  The first element has index 0, which means that this_is_a_list[0] gets the first element and  this_is_a_list[1] gets the second element"
   ]
  },
  {
   "cell_type": "code",
   "execution_count": null,
   "metadata": {},
   "outputs": [],
   "source": [
    "## Get element. The first element has index 0, which means that this_is_a_list[0] gets the first element\n",
    "print(\"Fourth element: \", this_is_a_list[3])"
   ]
  },
  {
   "cell_type": "markdown",
   "metadata": {},
   "source": [
    "**Get slices** \n",
    "- Get a part of list. This is important"
   ]
  },
  {
   "cell_type": "code",
   "execution_count": null,
   "metadata": {},
   "outputs": [],
   "source": [
    "this_is_a_list"
   ]
  },
  {
   "cell_type": "code",
   "execution_count": null,
   "metadata": {},
   "outputs": [],
   "source": [
    "this_is_a_list[1:3]"
   ]
  },
  {
   "cell_type": "code",
   "execution_count": null,
   "metadata": {},
   "outputs": [],
   "source": [
    "#Entire list\n",
    "this_is_a_list = [0,1,2,3,4]\n",
    "print(this_is_a_list)\n",
    "#\"Second to end element (included)\"\n",
    "print(\"Second to end element: \", this_is_a_list[1:])\n"
   ]
  },
  {
   "cell_type": "code",
   "execution_count": null,
   "metadata": {},
   "outputs": [],
   "source": [
    "#Second to the fourth (included)\n",
    "print(\"Second to the fourth (included): \",this_is_a_list[1:4])\n",
    "\n",
    "#First to the last element (not included)\n",
    "print(\"First to the last element (not included): \",this_is_a_list[:-1])\n"
   ]
  },
  {
   "cell_type": "markdown",
   "metadata": {},
   "source": [
    "**Remove element**"
   ]
  },
  {
   "cell_type": "code",
   "execution_count": null,
   "metadata": {},
   "outputs": [],
   "source": [
    "print(\"Original: \", this_is_a_list)\n",
    "## Remove 4th element and save it as removed_element\n",
    "removed_element = this_is_a_list.pop(3)\n",
    "print(removed_element)\n",
    "print(\"The list is now: \", this_is_a_list)"
   ]
  },
  {
   "cell_type": "code",
   "execution_count": null,
   "metadata": {},
   "outputs": [],
   "source": [
    "this_is_a_list = [1,2,3,4,5]"
   ]
  },
  {
   "cell_type": "markdown",
   "metadata": {},
   "source": [
    "**Search**\n",
    "- element in list\n",
    "- Note that this also works for strings (in fact, a string is very similar to a list of characters): \"eggs\" in \"eegs and bacon\""
   ]
  },
  {
   "cell_type": "code",
   "execution_count": null,
   "metadata": {},
   "outputs": [],
   "source": [
    "#Search\n",
    "print(3 in this_is_a_list)"
   ]
  },
  {
   "cell_type": "code",
   "execution_count": null,
   "metadata": {},
   "outputs": [],
   "source": [
    "#Find index\n",
    "print(this_is_a_list.index(4))"
   ]
  },
  {
   "cell_type": "markdown",
   "metadata": {},
   "source": [
    "**Length**"
   ]
  },
  {
   "cell_type": "code",
   "execution_count": null,
   "metadata": {},
   "outputs": [],
   "source": [
    "## Count the number of elements in a list\n",
    "this_is_a_list = [1, 3, 2]\n",
    "len_this_is_a_list = len(this_is_a_list) #you tell the computer to sum it and save it as `sum_this_is_a_list` \n",
    "print(\"Length: \", len_this_is_a_list)"
   ]
  },
  {
   "cell_type": "markdown",
   "metadata": {},
   "source": [
    "**Sort**"
   ]
  },
  {
   "cell_type": "code",
   "execution_count": null,
   "metadata": {},
   "outputs": [],
   "source": [
    "## Sort a list\n",
    "this_is_a_list = [1, 3, 2]\n",
    "this_is_a_list = sorted(this_is_a_list) #you tell the computer to sort it, and to save it with the same name\n",
    "print(\"Sorted: \", this_is_a_list)"
   ]
  },
  {
   "cell_type": "markdown",
   "metadata": {},
   "source": [
    "**Sum**"
   ]
  },
  {
   "cell_type": "code",
   "execution_count": null,
   "metadata": {},
   "outputs": [],
   "source": [
    "## Sum a list\n",
    "this_is_a_list = [1, 3, 2]\n",
    "sum_this_is_a_list = sum(this_is_a_list) #you tell the computer to sum it and save it as `sum_this_is_a_list` \n",
    "print(\"Sum: \", sum_this_is_a_list)"
   ]
  },
  {
   "cell_type": "code",
   "execution_count": null,
   "metadata": {},
   "outputs": [],
   "source": [
    "sum([\"1\",\"2\"])"
   ]
  },
  {
   "cell_type": "markdown",
   "metadata": {},
   "source": [
    "**Notice that we wrote `this_is_a_list.pop()`, but `sum(this_is_a_list)` and `sorted(this_is_a_list)`**\n",
    "\n",
    "This is because `.pop()` only works in lists (*`.pop()` is a method of the data structure List*), while `sum()` and `sorted()` work with many different data structures. \n",
    "\n",
    "Some standard functions:\n",
    "- sum()\n",
    "- len()\n",
    "- sorted()\n",
    "- min()\n",
    "- max() \n",
    "- list() #convert to list\n",
    "- set() #convert to set\n",
    "- dict() #convert to dictionary\n",
    "- tuple() #convert to tuple\n",
    "- float() #convert to float\n"
   ]
  },
  {
   "cell_type": "code",
   "execution_count": null,
   "metadata": {},
   "outputs": [],
   "source": [
    "print(float(\"1\"))"
   ]
  },
  {
   "cell_type": "code",
   "execution_count": null,
   "metadata": {},
   "outputs": [],
   "source": [
    "print(int(1.))"
   ]
  },
  {
   "cell_type": "markdown",
   "metadata": {},
   "source": [
    "#### CREATING RANGES\n",
    "- range(start,stop,step) generates a list of numbers between `start` and `stop` (not including the number `stop`), jumping in steps of size `step`. \n",
    "- See examples below.\n",
    "- Useful for example if we want to do one thing many times. We will see their importance on Thursday.\n",
    "- They are not really lists but very similar, in the examples I'll convert them to lists to see what's inside."
   ]
  },
  {
   "cell_type": "code",
   "execution_count": null,
   "metadata": {},
   "outputs": [],
   "source": [
    "## Create a list [0,1,2,3,4]\n",
    "print(list(range(0,5,1)))\n",
    "print(range(5)) #for all practical issues you don't need to convert them"
   ]
  },
  {
   "cell_type": "code",
   "execution_count": null,
   "metadata": {},
   "outputs": [],
   "source": [
    "## Create the list [1,2,3,4]\n",
    "print(list(range(1,5,1)))"
   ]
  },
  {
   "cell_type": "code",
   "execution_count": null,
   "metadata": {},
   "outputs": [],
   "source": [
    "## Create the list [1,3,4,5,7,9]\n",
    "print(list(range(1,10,2)))"
   ]
  },
  {
   "cell_type": "markdown",
   "metadata": {},
   "source": [
    "**WORKING WITH STRINGS AND LISTS**\n",
    "- Divide a string into words\n",
    "- Join many words in a list into a string\n",
    "- Replace an element\n",
    "- Find an element"
   ]
  },
  {
   "cell_type": "code",
   "execution_count": null,
   "metadata": {},
   "outputs": [],
   "source": [
    "#we create a string and call it \"eggs and bacon\"\n",
    "our_string = \"eggs and bacon\"\n",
    "#now we divide it into words, creating a list and saving it with the name our_list_of_wrods\n",
    "our_list_of_words = our_string.split()\n",
    "print(our_list_of_words)"
   ]
  },
  {
   "cell_type": "code",
   "execution_count": null,
   "metadata": {},
   "outputs": [],
   "source": [
    "#we can do the opossite and join the words using the function \"join\". \n",
    "\" \".join(our_list_of_words)"
   ]
  },
  {
   "cell_type": "code",
   "execution_count": null,
   "metadata": {},
   "outputs": [],
   "source": [
    "#we can join the words using any character we want in the quoted par of (\" \".join)\n",
    "\":::\".join(our_list_of_words)"
   ]
  },
  {
   "cell_type": "code",
   "execution_count": null,
   "metadata": {},
   "outputs": [],
   "source": [
    "#we can also divide a string using other characters instead of space. \n",
    "#for example let's split in the \"a\"s\n",
    "our_string = \"eggs and bacon\"\n",
    "print(our_string.split(\"a\"))"
   ]
  },
  {
   "cell_type": "code",
   "execution_count": null,
   "metadata": {},
   "outputs": [],
   "source": [
    "#we can change parts of the word\n",
    "our_string = \"eggs and bacon\"\n",
    "print(our_string.replace(\"bacon\",\"tofu\"))"
   ]
  },
  {
   "cell_type": "code",
   "execution_count": null,
   "metadata": {},
   "outputs": [],
   "source": [
    "#we can find where a word start. For example let's find how many characters there are before \"and\"\n",
    "our_string = \"eggs and bacon and\"\n",
    "print(our_string.find(\"and\"))"
   ]
  },
  {
   "cell_type": "code",
   "execution_count": null,
   "metadata": {},
   "outputs": [],
   "source": [
    "#and we can use this to slice the string like we did with the list\n",
    "our_string1 = \"10 events\"\n",
    "our_string2 = \"120 events\"\n",
    "our_string3 = \"2 events\"\n",
    "\n",
    "#we find the index of and\n",
    "index_and1 = our_string1.find(\"event\")\n",
    "index_and2 = our_string2.find(\"event\")\n",
    "index_and3 = our_string3.find(\"event\")\n",
    "\n",
    "print(index_and1)\n",
    "print(index_and2)\n",
    "print(index_and3)\n"
   ]
  },
  {
   "cell_type": "code",
   "execution_count": null,
   "metadata": {},
   "outputs": [],
   "source": [
    "print(our_string1)"
   ]
  },
  {
   "cell_type": "code",
   "execution_count": null,
   "metadata": {},
   "outputs": [],
   "source": [
    "#and keep all the string until that index\n",
    "print(our_string1[:our_string1.find(\"event\")])\n",
    "print(our_string2[:index_and2])\n",
    "print(our_string3[:index_and3])"
   ]
  },
  {
   "cell_type": "markdown",
   "metadata": {},
   "source": [
    "**ipython help**\n"
   ]
  },
  {
   "cell_type": "code",
   "execution_count": null,
   "metadata": {},
   "outputs": [],
   "source": [
    "this_is_a_list?"
   ]
  },
  {
   "cell_type": "code",
   "execution_count": null,
   "metadata": {},
   "outputs": [],
   "source": [
    "our_string1.find?"
   ]
  }
 ],
 "metadata": {
  "anaconda-cloud": {},
  "kernelspec": {
   "display_name": "Python 3",
   "language": "python",
   "name": "python3"
  },
  "language_info": {
   "codemirror_mode": {
    "name": "ipython",
    "version": 3
   },
   "file_extension": ".py",
   "mimetype": "text/x-python",
   "name": "python",
   "nbconvert_exporter": "python",
   "pygments_lexer": "ipython3",
   "version": "3.5.6"
  }
 },
 "nbformat": 4,
 "nbformat_minor": 1
}
