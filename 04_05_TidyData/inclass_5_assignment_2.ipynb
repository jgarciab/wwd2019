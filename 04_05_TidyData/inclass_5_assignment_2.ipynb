{
 "cells": [
  {
   "cell_type": "code",
   "execution_count": 22,
   "metadata": {},
   "outputs": [
    {
     "data": {
      "text/html": [
       "<style>.container { width:90% !important; }</style>"
      ],
      "text/plain": [
       "<IPython.core.display.HTML object>"
      ]
     },
     "metadata": {},
     "output_type": "display_data"
    }
   ],
   "source": [
    "##Some code to run at the beginning of the file, to be able to show images in the notebook\n",
    "##Don't worry about this cell but run it\n",
    "\n",
    "#Print the plots in this screen\n",
    "%matplotlib inline \n",
    "\n",
    "#Be able to plot images saved in the hard drive\n",
    "from IPython.display import Image,display\n",
    "\n",
    "#Make the notebook wider\n",
    "from IPython.core.display import display, HTML \n",
    "display(HTML(\"<style>.container { width:90% !important; }</style>\"))\n",
    "\n",
    "import pandas as pd\n",
    "import seaborn as sns\n",
    "import numpy as np\n",
    "import pylab as plt"
   ]
  },
  {
   "cell_type": "markdown",
   "metadata": {},
   "source": [
    "## In class 1: CONCAT\n",
    "Concat df1 and df2"
   ]
  },
  {
   "cell_type": "code",
   "execution_count": 27,
   "metadata": {},
   "outputs": [
    {
     "data": {
      "text/html": [
       "<div>\n",
       "<style>\n",
       "    .dataframe thead tr:only-child th {\n",
       "        text-align: right;\n",
       "    }\n",
       "\n",
       "    .dataframe thead th {\n",
       "        text-align: left;\n",
       "    }\n",
       "\n",
       "    .dataframe tbody tr th {\n",
       "        vertical-align: top;\n",
       "    }\n",
       "</style>\n",
       "<table border=\"1\" class=\"dataframe\">\n",
       "  <thead>\n",
       "    <tr style=\"text-align: right;\">\n",
       "      <th></th>\n",
       "      <th>year</th>\n",
       "      <th>count</th>\n",
       "    </tr>\n",
       "  </thead>\n",
       "  <tbody>\n",
       "    <tr>\n",
       "      <th>0</th>\n",
       "      <td>2001</td>\n",
       "      <td>2</td>\n",
       "    </tr>\n",
       "    <tr>\n",
       "      <th>1</th>\n",
       "      <td>2002</td>\n",
       "      <td>3</td>\n",
       "    </tr>\n",
       "  </tbody>\n",
       "</table>\n",
       "</div>"
      ],
      "text/plain": [
       "   year  count\n",
       "0  2001      2\n",
       "1  2002      3"
      ]
     },
     "metadata": {},
     "output_type": "display_data"
    },
    {
     "data": {
      "text/html": [
       "<div>\n",
       "<style>\n",
       "    .dataframe thead tr:only-child th {\n",
       "        text-align: right;\n",
       "    }\n",
       "\n",
       "    .dataframe thead th {\n",
       "        text-align: left;\n",
       "    }\n",
       "\n",
       "    .dataframe tbody tr th {\n",
       "        vertical-align: top;\n",
       "    }\n",
       "</style>\n",
       "<table border=\"1\" class=\"dataframe\">\n",
       "  <thead>\n",
       "    <tr style=\"text-align: right;\">\n",
       "      <th></th>\n",
       "      <th>year</th>\n",
       "      <th>count</th>\n",
       "    </tr>\n",
       "  </thead>\n",
       "  <tbody>\n",
       "    <tr>\n",
       "      <th>0</th>\n",
       "      <td>2003</td>\n",
       "      <td>4</td>\n",
       "    </tr>\n",
       "    <tr>\n",
       "      <th>1</th>\n",
       "      <td>2004</td>\n",
       "      <td>3</td>\n",
       "    </tr>\n",
       "  </tbody>\n",
       "</table>\n",
       "</div>"
      ],
      "text/plain": [
       "   year  count\n",
       "0  2003      4\n",
       "1  2004      3"
      ]
     },
     "metadata": {},
     "output_type": "display_data"
    }
   ],
   "source": [
    "df1 = pd.DataFrame([[2001,2],[2002,3]],columns=[\"year\",\"count\"])\n",
    "df2 = pd.DataFrame([[2003,4],[2004,3]],columns=[\"year\",\"count\"])\n",
    "display(df1)\n",
    "display(df2)\n",
    "\n",
    "#Concat both files and shiw the resulting table\n",
    "df = ....\n",
    "df"
   ]
  },
  {
   "cell_type": "markdown",
   "metadata": {},
   "source": [
    "## In class 2: MERGE INNER (default)\n",
    "Inner (default) merge df1 and df2"
   ]
  },
  {
   "cell_type": "code",
   "execution_count": 132,
   "metadata": {},
   "outputs": [
    {
     "data": {
      "text/html": [
       "<div>\n",
       "<style>\n",
       "    .dataframe thead tr:only-child th {\n",
       "        text-align: right;\n",
       "    }\n",
       "\n",
       "    .dataframe thead th {\n",
       "        text-align: left;\n",
       "    }\n",
       "\n",
       "    .dataframe tbody tr th {\n",
       "        vertical-align: top;\n",
       "    }\n",
       "</style>\n",
       "<table border=\"1\" class=\"dataframe\">\n",
       "  <thead>\n",
       "    <tr style=\"text-align: right;\">\n",
       "      <th></th>\n",
       "      <th>year</th>\n",
       "      <th>count</th>\n",
       "    </tr>\n",
       "  </thead>\n",
       "  <tbody>\n",
       "    <tr>\n",
       "      <th>0</th>\n",
       "      <td>2001</td>\n",
       "      <td>2</td>\n",
       "    </tr>\n",
       "    <tr>\n",
       "      <th>1</th>\n",
       "      <td>2002</td>\n",
       "      <td>3</td>\n",
       "    </tr>\n",
       "  </tbody>\n",
       "</table>\n",
       "</div>"
      ],
      "text/plain": [
       "   year  count\n",
       "0  2001      2\n",
       "1  2002      3"
      ]
     },
     "metadata": {},
     "output_type": "display_data"
    },
    {
     "data": {
      "text/html": [
       "<div>\n",
       "<style>\n",
       "    .dataframe thead tr:only-child th {\n",
       "        text-align: right;\n",
       "    }\n",
       "\n",
       "    .dataframe thead th {\n",
       "        text-align: left;\n",
       "    }\n",
       "\n",
       "    .dataframe tbody tr th {\n",
       "        vertical-align: top;\n",
       "    }\n",
       "</style>\n",
       "<table border=\"1\" class=\"dataframe\">\n",
       "  <thead>\n",
       "    <tr style=\"text-align: right;\">\n",
       "      <th></th>\n",
       "      <th>year</th>\n",
       "      <th>place</th>\n",
       "    </tr>\n",
       "  </thead>\n",
       "  <tbody>\n",
       "    <tr>\n",
       "      <th>0</th>\n",
       "      <td>2001</td>\n",
       "      <td>Mexico</td>\n",
       "    </tr>\n",
       "    <tr>\n",
       "      <th>1</th>\n",
       "      <td>2003</td>\n",
       "      <td>China</td>\n",
       "    </tr>\n",
       "  </tbody>\n",
       "</table>\n",
       "</div>"
      ],
      "text/plain": [
       "   year   place\n",
       "0  2001  Mexico\n",
       "1  2003   China"
      ]
     },
     "metadata": {},
     "output_type": "display_data"
    }
   ],
   "source": [
    "df1 = pd.DataFrame([[2001,2],[2002,3]],columns=[\"year\",\"count\"])\n",
    "df2 = pd.DataFrame([[2001,\"Mexico\"],[2003,\"China\"]],columns=[\"year\",\"place\"])\n",
    "display(df1)\n",
    "display(df2)\n",
    "\n",
    "#Inner merge both files and show the resulting table\n",
    "df = ....\n",
    "df"
   ]
  },
  {
   "cell_type": "markdown",
   "metadata": {},
   "source": [
    "## In class 3: MERGE OUTER \n",
    "Outer merge df1 and df2"
   ]
  },
  {
   "cell_type": "code",
   "execution_count": 131,
   "metadata": {},
   "outputs": [
    {
     "data": {
      "text/html": [
       "<div>\n",
       "<style>\n",
       "    .dataframe thead tr:only-child th {\n",
       "        text-align: right;\n",
       "    }\n",
       "\n",
       "    .dataframe thead th {\n",
       "        text-align: left;\n",
       "    }\n",
       "\n",
       "    .dataframe tbody tr th {\n",
       "        vertical-align: top;\n",
       "    }\n",
       "</style>\n",
       "<table border=\"1\" class=\"dataframe\">\n",
       "  <thead>\n",
       "    <tr style=\"text-align: right;\">\n",
       "      <th></th>\n",
       "      <th>year</th>\n",
       "      <th>count</th>\n",
       "    </tr>\n",
       "  </thead>\n",
       "  <tbody>\n",
       "    <tr>\n",
       "      <th>0</th>\n",
       "      <td>2001</td>\n",
       "      <td>2</td>\n",
       "    </tr>\n",
       "    <tr>\n",
       "      <th>1</th>\n",
       "      <td>2002</td>\n",
       "      <td>3</td>\n",
       "    </tr>\n",
       "  </tbody>\n",
       "</table>\n",
       "</div>"
      ],
      "text/plain": [
       "   year  count\n",
       "0  2001      2\n",
       "1  2002      3"
      ]
     },
     "metadata": {},
     "output_type": "display_data"
    },
    {
     "data": {
      "text/html": [
       "<div>\n",
       "<style>\n",
       "    .dataframe thead tr:only-child th {\n",
       "        text-align: right;\n",
       "    }\n",
       "\n",
       "    .dataframe thead th {\n",
       "        text-align: left;\n",
       "    }\n",
       "\n",
       "    .dataframe tbody tr th {\n",
       "        vertical-align: top;\n",
       "    }\n",
       "</style>\n",
       "<table border=\"1\" class=\"dataframe\">\n",
       "  <thead>\n",
       "    <tr style=\"text-align: right;\">\n",
       "      <th></th>\n",
       "      <th>year</th>\n",
       "      <th>place</th>\n",
       "    </tr>\n",
       "  </thead>\n",
       "  <tbody>\n",
       "    <tr>\n",
       "      <th>0</th>\n",
       "      <td>2001</td>\n",
       "      <td>Mexico</td>\n",
       "    </tr>\n",
       "    <tr>\n",
       "      <th>1</th>\n",
       "      <td>2003</td>\n",
       "      <td>China</td>\n",
       "    </tr>\n",
       "  </tbody>\n",
       "</table>\n",
       "</div>"
      ],
      "text/plain": [
       "   year   place\n",
       "0  2001  Mexico\n",
       "1  2003   China"
      ]
     },
     "metadata": {},
     "output_type": "display_data"
    }
   ],
   "source": [
    "df1 = pd.DataFrame([[2001,2],[2002,3]],columns=[\"year\",\"count\"])\n",
    "df2 = pd.DataFrame([[2001,\"Mexico\"],[2003,\"China\"]],columns=[\"year\",\"place\"])\n",
    "display(df1)\n",
    "display(df2)\n",
    "\n",
    "#Outer merge both files  and show the resulting table\n",
    "df = ...\n",
    "df"
   ]
  },
  {
   "cell_type": "markdown",
   "metadata": {},
   "source": [
    "## In class 4: MELT\n",
    "This dataset has variables in the column names, you'll need to melt it to have a nice, tidy dataset"
   ]
  },
  {
   "cell_type": "code",
   "execution_count": 133,
   "metadata": {},
   "outputs": [
    {
     "data": {
      "text/html": [
       "<div>\n",
       "<style>\n",
       "    .dataframe thead tr:only-child th {\n",
       "        text-align: right;\n",
       "    }\n",
       "\n",
       "    .dataframe thead th {\n",
       "        text-align: left;\n",
       "    }\n",
       "\n",
       "    .dataframe tbody tr th {\n",
       "        vertical-align: top;\n",
       "    }\n",
       "</style>\n",
       "<table border=\"1\" class=\"dataframe\">\n",
       "  <thead>\n",
       "    <tr style=\"text-align: right;\">\n",
       "      <th></th>\n",
       "      <th>place</th>\n",
       "      <th>2000</th>\n",
       "      <th>2001</th>\n",
       "      <th>2002</th>\n",
       "    </tr>\n",
       "  </thead>\n",
       "  <tbody>\n",
       "    <tr>\n",
       "      <th>0</th>\n",
       "      <td>Mexico</td>\n",
       "      <td>2</td>\n",
       "      <td>3</td>\n",
       "      <td>4</td>\n",
       "    </tr>\n",
       "    <tr>\n",
       "      <th>1</th>\n",
       "      <td>China</td>\n",
       "      <td>22</td>\n",
       "      <td>12</td>\n",
       "      <td>3</td>\n",
       "    </tr>\n",
       "  </tbody>\n",
       "</table>\n",
       "</div>"
      ],
      "text/plain": [
       "    place  2000  2001  2002\n",
       "0  Mexico     2     3     4\n",
       "1   China    22    12     3"
      ]
     },
     "execution_count": 133,
     "metadata": {},
     "output_type": "execute_result"
    }
   ],
   "source": [
    "df1 = pd.DataFrame([[\"Mexico\",2,3,4],[\"China\",22,12,3]],columns=[\"place\",\"2000\",\"2001\",\"2002\"])\n",
    "df1\n"
   ]
  },
  {
   "cell_type": "code",
   "execution_count": null,
   "metadata": {},
   "outputs": [],
   "source": [
    "#Variables present in columns already\n",
    "variables_already_presents = ....\n",
    "\n",
    "#Variables to combine in one\n",
    "columns_combine = ....\n",
    "\n",
    "#Fix\n",
    "melted_df1 = pd.melt(df1,id_vars=variables_already_presents,\n",
    "           value_vars=columns_combine,\n",
    "           var_name=\"Year\",\n",
    "           value_name=\"count\")\n",
    "\n",
    "#Convert the Year variable to numeric\n",
    "melted_df1[\"Year\"]  = melted_df1....\n",
    "\n",
    "#Print\n",
    "melted_df1"
   ]
  },
  {
   "cell_type": "markdown",
   "metadata": {},
   "source": [
    "## In class 5: PIVOT\n",
    "This dataset has several variables in one column, you'll need to pivot it to have a nice, tidy dataset"
   ]
  },
  {
   "cell_type": "code",
   "execution_count": 14,
   "metadata": {},
   "outputs": [
    {
     "data": {
      "text/html": [
       "<div>\n",
       "<style>\n",
       "    .dataframe thead tr:only-child th {\n",
       "        text-align: right;\n",
       "    }\n",
       "\n",
       "    .dataframe thead th {\n",
       "        text-align: left;\n",
       "    }\n",
       "\n",
       "    .dataframe tbody tr th {\n",
       "        vertical-align: top;\n",
       "    }\n",
       "</style>\n",
       "<table border=\"1\" class=\"dataframe\">\n",
       "  <thead>\n",
       "    <tr style=\"text-align: right;\">\n",
       "      <th></th>\n",
       "      <th>place</th>\n",
       "      <th>year</th>\n",
       "      <th>variable</th>\n",
       "      <th>value</th>\n",
       "    </tr>\n",
       "  </thead>\n",
       "  <tbody>\n",
       "    <tr>\n",
       "      <th>0</th>\n",
       "      <td>Mexico</td>\n",
       "      <td>2000</td>\n",
       "      <td>temperature</td>\n",
       "      <td>25</td>\n",
       "    </tr>\n",
       "    <tr>\n",
       "      <th>1</th>\n",
       "      <td>Mexico</td>\n",
       "      <td>2001</td>\n",
       "      <td>temperature</td>\n",
       "      <td>30</td>\n",
       "    </tr>\n",
       "    <tr>\n",
       "      <th>2</th>\n",
       "      <td>Mexico</td>\n",
       "      <td>2002</td>\n",
       "      <td>temperature</td>\n",
       "      <td>35</td>\n",
       "    </tr>\n",
       "    <tr>\n",
       "      <th>3</th>\n",
       "      <td>Mexico</td>\n",
       "      <td>2000</td>\n",
       "      <td>humidity</td>\n",
       "      <td>25</td>\n",
       "    </tr>\n",
       "    <tr>\n",
       "      <th>4</th>\n",
       "      <td>Mexico</td>\n",
       "      <td>2000</td>\n",
       "      <td>humidity</td>\n",
       "      <td>25</td>\n",
       "    </tr>\n",
       "    <tr>\n",
       "      <th>5</th>\n",
       "      <td>Mexico</td>\n",
       "      <td>2000</td>\n",
       "      <td>humidity</td>\n",
       "      <td>25</td>\n",
       "    </tr>\n",
       "  </tbody>\n",
       "</table>\n",
       "</div>"
      ],
      "text/plain": [
       "    place  year     variable value\n",
       "0  Mexico  2000  temperature    25\n",
       "1  Mexico  2001  temperature    30\n",
       "2  Mexico  2002  temperature    35\n",
       "3  Mexico  2000     humidity    25\n",
       "4  Mexico  2000     humidity    25\n",
       "5  Mexico  2000     humidity    25"
      ]
     },
     "execution_count": 14,
     "metadata": {},
     "output_type": "execute_result"
    }
   ],
   "source": [
    "df1 = pd.DataFrame([[\"Mexico\",2000,\"temperature\",\"25\"],[\"Mexico\",2001,\"temperature\",\"30\"],[\"Mexico\",2002,\"temperature\",\"35\"],\n",
    "                    [\"Mexico\",2000,\"humidity\",\"25\"],[\"Mexico\",2000,\"humidity\",\"25\"],[\"Mexico\",2000,\"humidity\",\"25\"]],\n",
    "                   columns=[\"place\",\"year\",\"variable\",\"value\"])\n",
    "df1"
   ]
  },
  {
   "cell_type": "code",
   "execution_count": null,
   "metadata": {},
   "outputs": [],
   "source": [
    "#Columns already present\n",
    "variables_already_present = ...\n",
    "\n",
    "#Column with the variables\n",
    "column_to_split = ...\n",
    "\n",
    "#Column with the values\n",
    "column_with_values = ...\n",
    "\n",
    "#Fix\n",
    "pivoted_df1 = df.pivot_table(column_with_values,\n",
    "               variables_already_present,\n",
    "               column_to_split).reset_index()\n",
    "\n",
    "pivoted_df1"
   ]
  },
  {
   "cell_type": "markdown",
   "metadata": {},
   "source": [
    "## In class 6: SCATTER + logarithmic variables\n",
    "The file \"data/revenue_marketCap.csv\" has data on revenue and market capitalization for US publicly listed companies\n",
    "- Read the file\n",
    "- Plot the distributions of revenue and marketCap (sns.distplot())\n",
    "- Transform the variables (take the log10)\n",
    "- Fix the infinity values\n",
    "- Make a scatter plot of Revenue vs MarketCap by Exchange"
   ]
  },
  {
   "cell_type": "code",
   "execution_count": null,
   "metadata": {},
   "outputs": [],
   "source": [
    "#Read the file\n",
    "us_listed = .... \n",
    "us_listed.head()"
   ]
  },
  {
   "cell_type": "code",
   "execution_count": null,
   "metadata": {},
   "outputs": [],
   "source": [
    "#Plot the distributions of revenue and marketcap and label the plots\n",
    "#Take a look at http://seaborn.pydata.org/generated/seaborn.distplot.html\n",
    "sns.distplot(...)\n",
    "sns.distplot(...)\n",
    "plt.xlabel(...)\n",
    "..."
   ]
  },
  {
   "cell_type": "code",
   "execution_count": null,
   "metadata": {},
   "outputs": [],
   "source": [
    "#TRansform both variables\n",
    "us_listed[\"log_Revenue\"] = \n",
    "us_listed[\"log_MarketCap\"] = "
   ]
  },
  {
   "cell_type": "code",
   "execution_count": null,
   "metadata": {},
   "outputs": [],
   "source": [
    "#Fix the infinity values\n",
    "us_listed = us_listed.replace(.....)\n",
    "us_listed = us_listed.dropna()"
   ]
  },
  {
   "cell_type": "code",
   "execution_count": null,
   "metadata": {},
   "outputs": [],
   "source": [
    "#Redo the plot with the distributions of revenue and marketcap\n",
    "#Take a look at http://seaborn.pydata.org/generated/seaborn.distplot.html"
   ]
  },
  {
   "cell_type": "code",
   "execution_count": null,
   "metadata": {},
   "outputs": [],
   "source": [
    "#Make a scatter plot"
   ]
  },
  {
   "cell_type": "markdown",
   "metadata": {},
   "source": [
    "# Assignment 2\n",
    "## Due date: Friday 18th\n",
    "- Write your own code in the blanks. It is okay to collaborate with other students, but both students must write their own code and write the name of the other student in this cell. In case you adapt code from other sources you also must give that user credit (a comment with the link to the source suffices)\n",
    "- Complete the blanks, adding comments to explain what you are doing\n",
    "- Assignment 4 will be weighted more\n",
    "\n",
    "Collaborated with:"
   ]
  },
  {
   "cell_type": "markdown",
   "metadata": {},
   "source": [
    "# Problem 1 (ungraded but important). Read some tutorials\n",
    "Go to the jupyter dashboard and you'll see a folder pandas-cookbook, inside you can find a folder cookbook, where the tutorials are placed. Please play with the these ones:\n",
    "- Chapter 4 - Find out on which weekday people bike the most with groupby and aggregate.ipynb\n",
    "- Chapter 5 - Combining dataframes and scraping Canadian weather data.ipynb\n",
    "- Chapter 6 - String Operations- Which month was the snowiest.ipynb\n",
    "- Chapter 7 - Cleaning up messy data.ipynb\n",
    "\n",
    "Read about outliers:\n",
    "http://www.theanalysisfactor.com/outliers-to-drop-or-not-to-drop/"
   ]
  },
  {
   "cell_type": "markdown",
   "metadata": {},
   "source": [
    "# Problem 2\n",
    "- Read the dataset on cities using read_our_csv() (don't forget to run that cell first)\n",
    "- Make a column with the country code (use the first two letters of METRO_ID)\n",
    "- Remove the rows where METRO_ID has length 3 (i.e. the rows with the average of the entire country)\n",
    "- Keep the metropolitan areas in the following countries\n",
    "keep_countries = ['UK', 'AU', 'IT', 'NL', 'FR', 'PL', 'GR', 'HU', 'PO', 'PT', 'AT', 'DK', 'NO','CZ', 'IE', 'DE', 'FI',  'ES',  'SW', 'CH', 'SK',  'US', 'GB', 'BE']\n",
    "- Create a dictionary matching those countries to a region: \"Anglosphere\", \"South_EU\", \"Eastern_EU\", \"Scandinavia\",\"Rest_EU\"\n",
    "- Make a column with the region of the country\n",
    "- Keep the years 2000 and 2010 and make a plot visualizing \"GDP_PC\" vs \"Year\" for each region. The plot must show the variability within region\n",
    "- Make a pointplot visualizing \"UNEMP_R\" vs \"Year\" for each region and all years (not only 2000 and 2010). Use ci=10 for the confidence intervals.\n"
   ]
  },
  {
   "cell_type": "code",
   "execution_count": 28,
   "metadata": {},
   "outputs": [],
   "source": [
    "def read_our_csv():\n",
    "    #reading the raw data from oecd\n",
    "    df = pd.read_csv(\"data/CITIES_19122016195113034.csv\",sep=\"\\t\")\n",
    "\n",
    "    #fixing the columns (the first one is \"\"METRO_ID\"\" instead of \"METRO_ID\")\n",
    "    cols = list(df.columns)\n",
    "    cols[0] = \"METRO_ID\"\n",
    "    df.columns = cols\n",
    "    \n",
    "    #pivot the table\n",
    "    column_with_values = \"Value\"\n",
    "    column_to_split = [\"VAR\"]\n",
    "    variables_already_present = [\"METRO_ID\",\"Metropolitan areas\",\"Year\"]\n",
    "    df_fixed = df.pivot_table(column_with_values,\n",
    "                 variables_already_present,\n",
    "                 column_to_split).reset_index()\n",
    "    \n",
    "    return df_fixed\n",
    "    "
   ]
  },
  {
   "cell_type": "code",
   "execution_count": null,
   "metadata": {
    "scrolled": false
   },
   "outputs": [],
   "source": [
    "#Read the dataset on cities using read_our_csv() (don't forget to run it first)"
   ]
  },
  {
   "cell_type": "code",
   "execution_count": null,
   "metadata": {},
   "outputs": [],
   "source": [
    "#Make a column with the country code (use the first two letters of METRO_ID)"
   ]
  },
  {
   "cell_type": "code",
   "execution_count": null,
   "metadata": {},
   "outputs": [],
   "source": [
    "#Remove the rows where METRO_ID has length 3 (i.e. the rows with the average of the entire country)"
   ]
  },
  {
   "cell_type": "code",
   "execution_count": null,
   "metadata": {},
   "outputs": [],
   "source": [
    "#Keep the metropolitan areas in the following countries\n",
    "keep_countries = ['UK', 'AU', 'IT', 'NL', 'FR', 'PL', 'GR', 'HU', 'PO', 'PT', 'AT', 'DK', 'NO','CZ', 'IE', 'DE', 'FI',  'ES',  'SW', 'CH', 'SK',  'US', 'GB', 'BE']\n"
   ]
  },
  {
   "cell_type": "code",
   "execution_count": null,
   "metadata": {},
   "outputs": [],
   "source": [
    "#Create a dictionary matching those countries to a region: \"Anglosphere\", \"South_EU\", \"Eastern_EU\", \"Scandinavia\",\"Rest_EU\"\n",
    "#Usually you'd have another file with this, but here you can make the dictionary it by hand\n",
    "country2region = {\"UK\": ...,\n",
    "                 ....}"
   ]
  },
  {
   "cell_type": "code",
   "execution_count": null,
   "metadata": {},
   "outputs": [],
   "source": [
    "#Make a column with the region of the country"
   ]
  },
  {
   "cell_type": "code",
   "execution_count": null,
   "metadata": {},
   "outputs": [],
   "source": [
    "#Keep the years 2000 and 2010\n",
    "subset2000_10 = \n",
    "\n",
    "#Make a plot visualizing \"GDP_PC\" vs \"Year\" for each region for the years 2000 and 2010. \n",
    "#The plot must show the variability within region\n",
    "#(e.g. https://seaborn.pydata.org/generated/seaborn.violinplot.html with the split option)\n",
    "\n",
    "\n"
   ]
  },
  {
   "cell_type": "code",
   "execution_count": null,
   "metadata": {},
   "outputs": [],
   "source": [
    "#Make a pointplot visualizing \"UNEMP_R\" vs \"Year\" for each region for all years. Use ci=10 for the confidence intervals.\n",
    "\n"
   ]
  },
  {
   "cell_type": "markdown",
   "metadata": {},
   "source": [
    "# Problem 3\n",
    "Let's look at the relationship between unemployment (%) and productivity (GDP/hours worked). In this exercise I am looking for answers that make sense logically, not for the real answer.\n",
    "\n",
    "First answer the following questions\n",
    "- Can you think of any circunstances where high unemployment causes high productivity next year?\n",
    "- Can you think of any circunstances where low unemployment causes high productivity next year?\n",
    "- Can you think of any circunstances where high productivity causes high unemployment next year?\n",
    "- Can you think of any circunstances where low productivity causes high unemployment next year?\n",
    "- Can you think of any circunstances where an external variable make productivity and unemployment correlate positively?\n",
    "- Can you think of any circunstances where an external variable make productivity and unemployment correlate negatively?\n",
    "      \n",
    "Next use the last dataset to plot (use lmplot) the relationship between x= \"LABOUR_PRODUCTIVITY\" and y=\"UNEMP_R\" for the following sets of cities:\n",
    "`[\"Valencia\",\"Madrid\",\"Barcelona\",\"Zaragoza\"]\n",
    "[\"Rome\",\"Bari\",\"Genova\",\"Turin\"]\n",
    "[\"Paris\",\"Marseille\",\"Lille\",\"Montpellier\",\"Toulouse\"]`\n",
    "- What do you see in the plots?\n",
    "- Can you think of any reason for the differences between countries?\n",
    "\n",
    "\n",
    "Finally, use the argument x_partial=\"GDP_PC\", which controls for the increase of GDP causing an increase in unemployment  (x_partial regresses GDP out of LABOUR_PRODUCTIVITY, the effect of GDP is not included in LABOUR_PRODUCTIVITY anymore). Redo the three plots\n",
    "- Is there any relationship between unemployment and productivity?\n",
    "- Why could explain this relationship (or this lack of relationship)?"
   ]
  },
  {
   "cell_type": "code",
   "execution_count": null,
   "metadata": {},
   "outputs": [],
   "source": [
    "#Read the data\n",
    "df = read_our_csv()"
   ]
  },
  {
   "cell_type": "code",
   "execution_count": null,
   "metadata": {},
   "outputs": [],
   "source": [
    "#Next use the last dataset to plot (use lmplot) the relationship between x= \"LABOUR_PRODUCTIVITY\" and y=\"UNEMP_R\"\n",
    "#for the following sets of cities:\n",
    "#    [\"Valencia\",\"Madrid\",\"Barcelona\",\"Zaragoza\"]\n",
    "#    [\"Rome\",\"Bari\",\"Genova\",\"Turin\"]\n",
    "#    [\"Paris\",\"Marseille\",\"Lille\",\"Montpellier\",\"Toulouse\"]\n",
    "\n",
    "spain = df....\n",
    "sns.lmplot(...)\n",
    "plt.title(\"Spain\")\n",
    "\n",
    "italy = df....\n",
    "sns.lmplot(...)\n",
    "plt.title(\"Italy\")\n",
    "\n",
    "france = df....\n",
    "sns.lmplot(...)\n",
    "plt.title(\"France\")"
   ]
  },
  {
   "cell_type": "code",
   "execution_count": null,
   "metadata": {},
   "outputs": [],
   "source": [
    "#Finally, use the argument x_partial=\"GDP_PC\", which controls for the increase of GDP causing an increase in unemployment  \n",
    "#(x_partial regresses GDP out of LABOUR_PRODUCTIVITY, thus the effect of GDP is not included in LABOUR_PRODUCTIVITY anymore). \n",
    "#Redo the three plots\n",
    "sns.lmplot(...)\n",
    "sns.lmplot(...)\n",
    "sns.lmplot(...)"
   ]
  }
 ],
 "metadata": {
  "anaconda-cloud": {},
  "kernelspec": {
   "display_name": "Python 3",
   "language": "python",
   "name": "python3"
  },
  "language_info": {
   "codemirror_mode": {
    "name": "ipython",
    "version": 3
   },
   "file_extension": ".py",
   "mimetype": "text/x-python",
   "name": "python",
   "nbconvert_exporter": "python",
   "pygments_lexer": "ipython3",
   "version": "3.5.6"
  }
 },
 "nbformat": 4,
 "nbformat_minor": 1
}
