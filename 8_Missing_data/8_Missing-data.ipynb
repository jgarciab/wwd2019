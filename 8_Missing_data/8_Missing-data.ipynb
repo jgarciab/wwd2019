{
 "cells": [
  {
   "cell_type": "markdown",
   "metadata": {
    "nbpresent": {
     "id": "4a9918d3-9a2c-4349-ad42-998f3129c4e7"
    }
   },
   "source": [
    "# Working with data 2019\n",
    "## Contact\n",
    "Javier Garcia-Bernardo\n",
    "garcia@uva.nl\n",
    "\n",
    "\n",
    "## PLAN FOR THE WEEK\n",
    "- MONDAY: Maps\n",
    "- WEDNESDAY: Cleaning data 2 (missing data and outliers)\n",
    "- FRIDAY: Statistics\n",
    "\n",
    "\n",
    "## WEDNESDAY\n",
    "- 1. Sample vs population\n",
    "    - 1.1 Representative samples\n",
    "        - Calculate confidence intervals\n",
    "    - 1.2 Non-representative samples\n",
    "\n",
    "- 2. Missing data\n",
    "    - Even if you have a nice representative sample you may have missing data\n",
    "    - Let's imagine we have a data of a survey, with age, income, education, political ideas, location, and if you will vote for Trump or Hillary.\n",
    "\n",
    "- 2.1 Missing data mechanisms\n",
    "    - 2.1.1 MCAR (missing completely at random), which means that we have a representative sample. \n",
    "    - 2.1.2 MAR (missing at random), which means that we don't have a representative sample, but we can use another column to `impute` missing values. \n",
    "    - 2.1.3 MNAR (missing not at random)\n",
    "\n",
    "- 2.2 Correcting for missing data\n",
    "    - 2.2.1 Ignore those values (only if your data is MCAR): Listwise Deletion (Complete Case Analysis)\n",
    "    - Impute those values (always better but more complicated)\n",
    "        - 2.2.2 Single imputation: Problem: Usually reduces the variance or affects the correlation between variables\n",
    "            - 2.2.2.1 Use the mean/median/mode as the value (only works \"okayish\" in MCAR)\n",
    "            - 2.2.2.2 Use the mean/median/mode of the group as the value \n",
    "            - 2.2.2.3 Regression estimate or random forest (missForest)\n",
    "            - 2.2.2.4 Use similar values (KNN in fancyimpute)\n",
    "        - 2.2.3 Multiple imputation by chained equations (MICE): Similar to bootstrapping)\n",
    "- 3. Outliers"
   ]
  },
  {
   "cell_type": "code",
   "execution_count": 3,
   "metadata": {
    "nbpresent": {
     "id": "b6b4e6ff-033c-4b1d-8075-182285f4673a"
    }
   },
   "outputs": [
    {
     "name": "stderr",
     "output_type": "stream",
     "text": [
      "/opt/anaconda/anaconda3/lib/python3.5/importlib/_bootstrap.py:222: RuntimeWarning: numpy.dtype size changed, may indicate binary incompatibility. Expected 96, got 88\n",
      "  return f(*args, **kwds)\n"
     ]
    },
    {
     "data": {
      "text/html": [
       "<style>.container { width:90% !important; }</style>"
      ],
      "text/plain": [
       "<IPython.core.display.HTML object>"
      ]
     },
     "metadata": {},
     "output_type": "display_data"
    }
   ],
   "source": [
    "#Normal inputs\n",
    "import pandas as pd\n",
    "import numpy as np\n",
    "import seaborn as sns\n",
    "import pylab as plt\n",
    "\n",
    "%matplotlib inline\n",
    "\n",
    "from IPython.display import Image, display\n",
    "\n",
    "\n",
    "sns.set(font_scale=1.2)\n",
    "sns.set_style(\"whitegrid\")\n",
    "\n",
    "#Make the notebook wider\n",
    "from IPython.core.display import display, HTML \n",
    "display(HTML(\"<style>.container { width:90% !important; }</style>\"))\n",
    "\n",
    "from scipy.stats import lognorm,norm\n",
    "\n",
    "def read_data_ineq(N = 250000000):\n",
    "    #Read data\n",
    "    df_ineq = pd.read_csv(\"./data/WID_US_InequalityData.csv\",sep=\";\",skiprows=7)\n",
    "\n",
    "    #Keep many percentiles\n",
    "    perc = [\"p{}p{}\".format(i,i+1) for i in range(99)]\n",
    "    perc2 = ['p99p99.1'] + [\"p99.{}p99.{}\".format(i,i+1) for i in range(1,9)]\n",
    "    perc3 = ['p99.9p99.91'] + [\"p99.9{}p99.9{}\".format(i,i+1) for i in range(1,9)]\n",
    "    perc4 = ['p99.99p99.991'] + [\"p99.99{}p99.99{}\".format(i,i+1) for i in range(1,9)] + ['p99.999p100']\n",
    "\n",
    "    perc = perc + perc2 + perc3 + perc4\n",
    "\n",
    "    \n",
    "    #Aggregate on population aged over 20\n",
    "    init_wealth = df_ineq.loc[(df_ineq[\"year\"]==2014)&(df_ineq[\"perc\"].isin(perc)),[\"year\",\"perc\",\"ahweal992j\",\"apllin992j\"]]    \n",
    "\n",
    "    init_wealth[\"p1\"] = init_wealth[\"perc\"].str.split(\"p\").str[1].astype(float)\n",
    "    init_wealth[\"p2\"] = init_wealth[\"perc\"].str.split(\"p\").str[2].astype(float)\n",
    "\n",
    "    \n",
    "\n",
    "    init_wealth[\"p1\"] = np.round(N*init_wealth[\"p1\"]/100).astype(int)\n",
    "    init_wealth[\"p2\"] = np.round(N*init_wealth[\"p2\"]/100).astype(int)\n",
    "\n",
    "    init_wealth = init_wealth.sort_values(by=\"p1\")\n",
    "    init_wealth.head()\n",
    "    #Recreate population ~250M people\n",
    "    population = np.zeros((N,2))\n",
    "\n",
    "    for p,row in init_wealth.iterrows():\n",
    "        p1 = row[\"p1\"]\n",
    "        p2 = row[\"p2\"]\n",
    "\n",
    "        if p2 == N:\n",
    "            p2 += 1\n",
    "\n",
    "        population[p1:p2,:] = row[[\"ahweal992j\",\"apllin992j\"]].values\n",
    "\n",
    "    return population\n",
    "\n"
   ]
  },
  {
   "cell_type": "code",
   "execution_count": 4,
   "metadata": {},
   "outputs": [],
   "source": [
    "def inequality(values,f=0.8):\n",
    "    values = np.sort(values)\n",
    "    return values[int(len(values)*f):].sum()/values[:int(len(values)*f)].sum()\n",
    "    \n",
    "def print_statistics(values,log=False):\n",
    "    if log:\n",
    "        values = 10**values\n",
    "        \n",
    "    mean = np.mean(values)\n",
    "    median = np.median(values)\n",
    "    std = np.std(values)\n",
    "    in20 = inequality(values)\n",
    "    in10 = inequality(values,f=0.9)\n",
    "    in1 =  inequality(values,f=0.99)\n",
    "\n",
    "\n",
    "\n",
    "    print(\"Mean: {:2.2f}\".format(mean))\n",
    "    print(\"Median: {:2.2f}\".format(median))\n",
    "    print(\"STD: {:2.2f}\".format(std))\n",
    "    print(\"Inequality: Top 20%/80%: {:2.3f}\".format(in20))\n",
    "    print(\"Inequality: Top 10%/90%: {:2.3f}\".format(in10))\n",
    "    print(\"Inequality: Top 1%/99%: {:2.3f}\".format(in1))\n",
    "\n",
    "    return mean,median,std,in20,in10,in1"
   ]
  },
  {
   "cell_type": "markdown",
   "metadata": {},
   "source": [
    "# 1. Sample vs population"
   ]
  },
  {
   "cell_type": "code",
   "execution_count": 5,
   "metadata": {},
   "outputs": [
    {
     "name": "stdout",
     "output_type": "stream",
     "text": [
      "Mean: 170.00\n",
      "Median: 170.00\n",
      "STD: 5.00\n",
      "Inequality: Top 20%/80%: 0.263\n",
      "Inequality: Top 10%/90%: 0.118\n",
      "Inequality: Top 1%/99%: 0.011\n"
     ]
    }
   ],
   "source": [
    "population = np.random.randn(16000000)*5+170\n",
    "\n",
    "_ = print_statistics(population)"
   ]
  },
  {
   "cell_type": "markdown",
   "metadata": {},
   "source": [
    "## 1.1 Representative samples\n",
    "https://fluidsurveys.com/university/survey-sample-size-calculator/"
   ]
  },
  {
   "cell_type": "code",
   "execution_count": 6,
   "metadata": {},
   "outputs": [
    {
     "name": "stdout",
     "output_type": "stream",
     "text": [
      "Mean: 169.58\n",
      "Median: 170.04\n",
      "STD: 4.61\n",
      "Inequality: Top 20%/80%: 0.262\n",
      "Inequality: Top 10%/90%: 0.117\n",
      "Inequality: Top 1%/99%: 0.011\n"
     ]
    }
   ],
   "source": [
    "sample = np.random.choice(population,size=100,replace=False)\n",
    "\n",
    "_ = print_statistics(sample)"
   ]
  },
  {
   "cell_type": "code",
   "execution_count": 7,
   "metadata": {},
   "outputs": [
    {
     "name": "stderr",
     "output_type": "stream",
     "text": [
      "/opt/anaconda/anaconda3/lib/python3.5/site-packages/scipy/stats/stats.py:1713: FutureWarning: Using a non-tuple sequence for multidimensional indexing is deprecated; use `arr[tuple(seq)]` instead of `arr[seq]`. In the future this will be interpreted as an array index, `arr[np.array(seq)]`, which will result either in an error or a different result.\n",
      "  return np.add.reduce(sorted[indexer] * weights, axis=axis) / sumval\n"
     ]
    },
    {
     "data": {
      "text/plain": [
       "<matplotlib.legend.Legend at 0x7fe5f7845860>"
      ]
     },
     "execution_count": 7,
     "metadata": {},
     "output_type": "execute_result"
    },
    {
     "data": {
      "image/png": "[encoded data removed]",
      "text/plain": [
       "<Figure size 432x288 with 1 Axes>"
      ]
     },
     "metadata": {
      "needs_background": "light"
     },
     "output_type": "display_data"
    }
   ],
   "source": [
    "sns.distplot(population,kde=True,label=\"Population\",norm_hist=True,hist=False)\n",
    "sns.distplot(sample,kde=False,label=\"Sample\",norm_hist=True)\n",
    "\n",
    "plt.xlabel(\"Opinion\")\n",
    "plt.ylabel(\"Frequency\")\n",
    "plt.legend()"
   ]
  },
  {
   "cell_type": "markdown",
   "metadata": {},
   "source": [
    "### We _always_ want to calculate the coefficients for the population, not for the sample. \n",
    "- We calculate the estimate for the sample + confidence Intervals\n",
    "- Confidence intervals can be calculated numerically, or more robustly using bootstrapping\n",
    "    - We have our sample (n values)\n",
    "    - Do 10000 times: \n",
    "        - Take n values from the sample (with replacement)\n",
    "        - Calculate the mean (or std)\n",
    "    - Take the percentiles 2.5 and 97.5 of those 10000 values -> Those are your confidence intervals \n",
    "- Drawback of bootstrapping: It can be slow to get all those samples\n",
    "\n",
    "Visualization: http://www.lock5stat.com/StatKey/bootstrap_1_quant/bootstrap_1_quant.html\n",
    "\n",
    "Based on the central limit theorem: http://mfviz.com/central-limit/\n",
    "\n",
    "Important: seaborn confidence intervals are based on bootstrapping!"
   ]
  },
  {
   "cell_type": "code",
   "execution_count": 8,
   "metadata": {},
   "outputs": [
    {
     "name": "stdout",
     "output_type": "stream",
     "text": [
      "169.57790880576317 4.613649576573387\n",
      "CI for mean with bootstrapping =  [168.66649083 170.45782658]\n",
      "CI for median with bootstrapping =  [169.06793361 170.65379423]\n",
      "CI for std with bootstrapping =  [4.12956587 5.292679  ]\n",
      "CI for inequality (20/80) with bootstrapping =  [0.26024679 0.26414813]\n",
      "CI for inequality (10/90) with bootstrapping =  [0.11602569 0.11833985]\n",
      "CI for inequality (1/99) with bootstrapping =  [0.01073205 0.01093656]\n"
     ]
    },
    {
     "name": "stderr",
     "output_type": "stream",
     "text": [
      "/home/jgarcia1/.local/lib/python3.5/site-packages/scikits/bootstrap/bootstrap.py:200: InstabilityWarning: Some values used extremal samples; results are probably unstable.\n",
      "  warnings.warn(\"Some values used extremal samples; results are probably unstable.\", InstabilityWarning)\n"
     ]
    }
   ],
   "source": [
    "import scikits.bootstrap as bootstrap\n",
    "\n",
    "print(np.mean(sample),np.std(sample))\n",
    "\n",
    "CIs = bootstrap.ci(sample, statfunction=np.mean,n_samples=10000)  \n",
    "print('CI for mean with bootstrapping = ', CIs)\n",
    "\n",
    "CIs = bootstrap.ci(sample, statfunction=np.median,n_samples=10000)  \n",
    "print('CI for median with bootstrapping = ', CIs)\n",
    "\n",
    "CIs = bootstrap.ci(sample, statfunction=np.std,n_samples=10000)  \n",
    "print('CI for std with bootstrapping = ', CIs)\n",
    "\n",
    "CIs = bootstrap.ci(sample, statfunction=inequality,n_samples=10000)  \n",
    "print('CI for inequality (20/80) with bootstrapping = ', CIs)\n",
    "\n",
    "CIs = bootstrap.ci(sample, statfunction=lambda x: inequality(x,0.9),n_samples=10000)  \n",
    "print('CI for inequality (10/90) with bootstrapping = ', CIs)\n",
    "\n",
    "CIs = bootstrap.ci(sample, statfunction=lambda x: inequality(x,0.99),n_samples=10000)   \n",
    "print('CI for inequality (1/99) with bootstrapping = ', CIs)"
   ]
  },
  {
   "cell_type": "markdown",
   "metadata": {},
   "source": [
    "## 1.1 Non-Representative samples because of undersampling)\n",
    "- The sample may not be representative if you only study a handful of people (psychology, ehem...)\n",
    "- The sample may not be representative if the distribution of the population is highly skewed (it's very unlikely that you select Bill Gates)"
   ]
  },
  {
   "cell_type": "code",
   "execution_count": 9,
   "metadata": {},
   "outputs": [
    {
     "name": "stdout",
     "output_type": "stream",
     "text": [
      "Mean: 20.09\n",
      "Median: 2.72\n",
      "STD: 142.31\n",
      "Inequality: Top 20%/80%: 7.108\n",
      "Inequality: Top 10%/90%: 3.234\n",
      "Inequality: Top 1%/99%: 0.593\n"
     ]
    }
   ],
   "source": [
    "population = np.random.lognormal(mean=1,sigma=2,size=16000000)\n",
    "\n",
    "_ = print_statistics(population)"
   ]
  },
  {
   "cell_type": "code",
   "execution_count": 10,
   "metadata": {},
   "outputs": [
    {
     "name": "stdout",
     "output_type": "stream",
     "text": [
      "Mean: 21.28\n",
      "Median: 2.13\n",
      "STD: 82.48\n",
      "Inequality: Top 20%/80%: 8.547\n",
      "Inequality: Top 10%/90%: 3.577\n",
      "Inequality: Top 1%/99%: 0.494\n"
     ]
    }
   ],
   "source": [
    "sample = np.random.choice(population,size=385,replace=False)\n",
    "\n",
    "_ = print_statistics(sample)"
   ]
  },
  {
   "cell_type": "code",
   "execution_count": 11,
   "metadata": {},
   "outputs": [
    {
     "data": {
      "text/plain": [
       "<matplotlib.legend.Legend at 0x7fe5cf8d4940>"
      ]
     },
     "execution_count": 11,
     "metadata": {},
     "output_type": "execute_result"
    },
    {
     "data": {
      "image/png": "[encoded data removed]",
      "text/plain": [
       "<Figure size 432x288 with 1 Axes>"
      ]
     },
     "metadata": {
      "needs_background": "light"
     },
     "output_type": "display_data"
    }
   ],
   "source": [
    "sns.distplot(population,kde=False,label=\"Population\",norm_hist=True,bins=np.linspace(0,2500,100))\n",
    "sns.distplot(sample,kde=False,label=\"Sample\",norm_hist=True,bins=np.linspace(0,2500,100))\n",
    "\n",
    "plt.xlabel(\"Wealth\")\n",
    "plt.ylabel(\"Frequency\")\n",
    "plt.xlim(0,2500)\n",
    "plt.yscale(\"log\")\n",
    "plt.legend()"
   ]
  },
  {
   "cell_type": "code",
   "execution_count": 12,
   "metadata": {},
   "outputs": [
    {
     "name": "stdout",
     "output_type": "stream",
     "text": [
      "CI for mean with bootstrapping =  [14.99109214 32.76798105]\n",
      "CI for median with bootstrapping =  [1.75972419 2.87101795]\n",
      "CI for std with bootstrapping =  [ 53.72380651 131.30376079]\n",
      "CI for inequality (20/80) with bootstrapping =  [ 5.95454412 13.70199292]\n",
      "CI for inequality (10/90) with bootstrapping =  [2.41489463 5.80085018]\n",
      "CI for inequality (1/99) with bootstrapping =  [0.33901166 0.80036638]\n"
     ]
    }
   ],
   "source": [
    "CIs = bootstrap.ci(sample, statfunction=np.mean,n_samples=100000)  \n",
    "print('CI for mean with bootstrapping = ', CIs)\n",
    "CIs = bootstrap.ci(sample, statfunction=np.median,n_samples=100000)  \n",
    "print('CI for median with bootstrapping = ', CIs)\n",
    "CIs = bootstrap.ci(sample, statfunction=np.std,n_samples=100000)  \n",
    "print('CI for std with bootstrapping = ', CIs)\n",
    "CIs = bootstrap.ci(sample, statfunction=inequality,n_samples=100000)  \n",
    "print('CI for inequality (20/80) with bootstrapping = ', CIs)\n",
    "CIs = bootstrap.ci(sample, statfunction=lambda x: inequality(x,0.9),n_samples=100000)  \n",
    "print('CI for inequality (10/90) with bootstrapping = ', CIs)\n",
    "CIs = bootstrap.ci(sample, statfunction=lambda x: inequality(x,0.99),n_samples=100000)   \n",
    "print('CI for inequality (1/99) with bootstrapping = ', CIs)"
   ]
  },
  {
   "cell_type": "markdown",
   "metadata": {},
   "source": [
    "# 2. Missing data\n",
    "- Even if you have a nice representative sample you may have missing data\n",
    "- Let's imagine we have a data of a survey, with age, income, education, political ideas, location, and if you will vote for Trump or Hillary.\n",
    "\n",
    "## 2.1 Missing data mechanisms\n",
    "We may have some missing values. Missing data mechanisms:\n",
    "- 2.1.1 MCAR (missing completely at random), which means that we have a representative sample. \n",
    "    - OK\n",
    "    - Missing value (y) neither depends on x (another variable) nor y\n",
    "    - This for example could happen if during the survey collection there were some IT problems.\n",
    "    - It is usually a **strong assumption** but it is usually made without consideration.\n",
    "    - However imagine if young/rich/religious people are less likely to answer --> Then your data is MAR.\n",
    "    - Usually in surveys you make sure you ask to a percentage of people of age and location that correspond with the real population. But you may be missing an important variable (for example US pollsters didn't ask for a representative sample in terms of education). \n",
    "    - We can either ignore the rows or impute the values based on people that did answer. \n",
    "\n",
    "\n",
    "- 2.1.2 MAR (missing at random), which means that we don't have a representative sample, but we can use another column to `impute` missing values. \n",
    "    - OK\n",
    "    - Missing value (y) depends on x, but not y\n",
    "    - Young/rich/religious people (x) may be less likely to answer about their voting preference (y)\n",
    "    - We can correct the data by using other people that did answer. For instance, two people living in the same area, with the same age, income, education and political ideas are likely to vote similar, so if you only know how one of them intends to vote you can say that the other one will vote the same (there are methods for this, don't do it by hand!)\n",
    "    - This is usually okay unless you have a weird distribution\n",
    " \n",
    "- 2.1.3 MNAR (missing not at random), which means that we don't have a representative sample, and imputation is very very hard. This can happen for example if Trump voters are less likely to open the door, then they are not even in your sample.\n",
    "    - Problem\n",
    "    - The probability of a missing value (y) depends on the variable that is missing (y)\n",
    "    - Trump voters (y) are less likely to answer about their voting preference (y)\n",
    "    - We are in trouble and the methods to correct for this are way beyond the scope of the class (e.g. Heckman correction)\n",
    "    - Impossible to verify unless you have some other dataset\n",
    "    - Less of a problem if your missing variable (y) is correlated to some other variables (e.g. income, education, etc)\n",
    "    \n",
    "- Careful: Different variables can have different mechanism of missingness. Always ask yourself what could be causing the missingness.\n",
    "\n",
    "\n",
    "## 2.2 Correcting for missing data\n",
    "- 2.2.1 Ignore those values (only if your data is MCAR): Listwise Deletion (Complete Case Analysis)\n",
    "- Impute those values (always better but more complicated)\n",
    "    - 2.2.2 Single imputation: Problem: Usually reduces the variance or affects the correlation between variables\n",
    "        - 2.2.2.1 Use the mean/median/mode as the value (only works \"okayish\" in MCAR)\n",
    "        - 2.2.2.2 Use the mean/median/mode of the group as the value \n",
    "        - 2.2.2.3 Regression estimate or random forest (missForest)\n",
    "        - 2.2.2.4 Use similar values (KNN in fancyimpute)\n",
    "    - 2.2.3 Multiple imputation by chained equations (MICE): Similar to bootstrapping)\n",
    "\n",
    "### Why do we care about missing values?\n",
    "- To minimize biases and maximize the information available --> Find good estimates of our parameters\n"
   ]
  },
  {
   "cell_type": "markdown",
   "metadata": {},
   "source": [
    "## We are going to be using a very bad distribution (extreme case, when we have more problems)"
   ]
  },
  {
   "cell_type": "code",
   "execution_count": 79,
   "metadata": {},
   "outputs": [
    {
     "name": "stdout",
     "output_type": "stream",
     "text": [
      "Correlation:  0.7455941698050293\n"
     ]
    },
    {
     "data": {
      "text/html": [
       "<div>\n",
       "<style scoped>\n",
       "    .dataframe tbody tr th:only-of-type {\n",
       "        vertical-align: middle;\n",
       "    }\n",
       "\n",
       "    .dataframe tbody tr th {\n",
       "        vertical-align: top;\n",
       "    }\n",
       "\n",
       "    .dataframe thead th {\n",
       "        text-align: right;\n",
       "    }\n",
       "</style>\n",
       "<table border=\"1\" class=\"dataframe\">\n",
       "  <thead>\n",
       "    <tr style=\"text-align: right;\">\n",
       "      <th></th>\n",
       "      <th>Wealth</th>\n",
       "      <th>Income</th>\n",
       "    </tr>\n",
       "  </thead>\n",
       "  <tbody>\n",
       "    <tr>\n",
       "      <th>3</th>\n",
       "      <td>161145.037200</td>\n",
       "      <td>16718.048963</td>\n",
       "    </tr>\n",
       "    <tr>\n",
       "      <th>13</th>\n",
       "      <td>89092.288218</td>\n",
       "      <td>4089.291186</td>\n",
       "    </tr>\n",
       "    <tr>\n",
       "      <th>35</th>\n",
       "      <td>75206.917402</td>\n",
       "      <td>9414.627394</td>\n",
       "    </tr>\n",
       "    <tr>\n",
       "      <th>42</th>\n",
       "      <td>88961.761097</td>\n",
       "      <td>6499.584684</td>\n",
       "    </tr>\n",
       "    <tr>\n",
       "      <th>45</th>\n",
       "      <td>10277.622709</td>\n",
       "      <td>2925.252814</td>\n",
       "    </tr>\n",
       "  </tbody>\n",
       "</table>\n",
       "</div>"
      ],
      "text/plain": [
       "           Wealth        Income\n",
       "3   161145.037200  16718.048963\n",
       "13   89092.288218   4089.291186\n",
       "35   75206.917402   9414.627394\n",
       "42   88961.761097   6499.584684\n",
       "45   10277.622709   2925.252814"
      ]
     },
     "execution_count": 79,
     "metadata": {},
     "output_type": "execute_result"
    }
   ],
   "source": [
    "#Read our dataframe on wealth and income\n",
    "population = read_data_ineq(N=1000000)\n",
    "\n",
    "#Convert to a dataframe\n",
    "population = pd.DataFrame(population,columns=[\"Wealth\",\"Income\"])\n",
    "\n",
    "#Add random noise to income and wealth\n",
    "population[\"Income\"] = population[\"Income\"] + 0.5*np.random.normal(0,(10**4.2+np.abs(population[\"Income\"])))\n",
    "population[\"Wealth\"] = population[\"Wealth\"] + 0.5*np.random.normal(0,(1E5+np.abs(population[\"Wealth\"])))\n",
    "\n",
    "population = population.loc[population[\"Wealth\"]>1]\n",
    "population = population.loc[population[\"Income\"]>1]\n",
    "\n",
    "#Print correlation\n",
    "from scipy.stats import pearsonr\n",
    "print(\"Correlation: \",pearsonr(population[\"Income\"],population[\"Wealth\"])[0])\n",
    "\n",
    "population.head()"
   ]
  },
  {
   "cell_type": "code",
   "execution_count": 80,
   "metadata": {},
   "outputs": [
    {
     "data": {
      "text/plain": [
       "Text(0, 0.5, 'Frequency')"
      ]
     },
     "execution_count": 80,
     "metadata": {},
     "output_type": "execute_result"
    },
    {
     "data": {
      "image/png": "[encoded data removed]",
      "text/plain": [
       "<Figure size 1296x288 with 3 Axes>"
      ]
     },
     "metadata": {
      "needs_background": "light"
     },
     "output_type": "display_data"
    }
   ],
   "source": [
    "plt.figure(figsize=(18,4))\n",
    "plt.subplot(131)\n",
    "#For simplicity, get only the 40% of the population with no debts\n",
    "\n",
    "\n",
    "values_i,bins = np.histogram(population[\"Income\"],bins=np.logspace(1,10,100))\n",
    "values_w,bins = np.histogram(population[\"Wealth\"],bins=np.logspace(1,10,100))\n",
    "\n",
    "plt.plot(bins[1:],values_i,\".-\",label=\"Income\")\n",
    "plt.plot(bins[1:],values_w,\".-\",label=\"Wealth\")\n",
    "plt.legend()\n",
    "plt.xlabel(\"Money\")\n",
    "plt.ylabel(\"Frequency\")\n",
    "\n",
    "\n",
    "plt.subplot(132)\n",
    "#Log scale in x-axis -> Should look normally distributed if the distribution is lognormal\n",
    "plt.plot(bins[1:],values_i,\".-\",label=\"Income\")\n",
    "plt.plot(bins[1:],values_w,\".-\",label=\"Wealth\")\n",
    "plt.xscale(\"log\")\n",
    "plt.legend()\n",
    "plt.xlabel(\"Money\")\n",
    "plt.ylabel(\"Frequency\")\n",
    "\n",
    "\n",
    "plt.subplot(133)\n",
    "#Log-log scale > Should have a straight queue if the distribution is a power-law\n",
    "plt.plot(bins[1:],values_i,\".-\",label=\"Income\")\n",
    "plt.plot(bins[1:],values_w,\".-\",label=\"Wealth\")\n",
    "plt.xscale(\"log\")\n",
    "plt.yscale(\"log\")\n",
    "plt.legend()\n",
    "plt.xlabel(\"Money\")\n",
    "plt.ylabel(\"Frequency\")"
   ]
  },
  {
   "cell_type": "markdown",
   "metadata": {},
   "source": [
    "### Step 2: Get a sample"
   ]
  },
  {
   "cell_type": "code",
   "execution_count": 82,
   "metadata": {},
   "outputs": [
    {
     "name": "stdout",
     "output_type": "stream",
     "text": [
      "Mean: 486919.73\n",
      "Median: 130519.80\n",
      "STD: 7539785.94\n",
      "Inequality: Top 20%/80%: 3.713\n",
      "Inequality: Top 10%/90%: 1.944\n",
      "Inequality: Top 1%/99%: 0.535\n"
     ]
    }
   ],
   "source": [
    "_ = print_statistics(population[\"Wealth\"])"
   ]
  },
  {
   "cell_type": "code",
   "execution_count": 88,
   "metadata": {},
   "outputs": [
    {
     "name": "stdout",
     "output_type": "stream",
     "text": [
      "Mean: 346268.31\n",
      "Median: 142076.54\n",
      "STD: 709798.61\n",
      "Inequality: Top 20%/80%: 2.231\n",
      "Inequality: Top 10%/90%: 1.075\n",
      "Inequality: Top 1%/99%: 0.209\n"
     ]
    }
   ],
   "source": [
    "sample = population.sample(n=385)\n",
    "_ = print_statistics(sample[\"Wealth\"])"
   ]
  },
  {
   "cell_type": "code",
   "execution_count": 91,
   "metadata": {},
   "outputs": [
    {
     "name": "stdout",
     "output_type": "stream",
     "text": [
      "Mean: 478679.52\n",
      "Median: 112215.61\n",
      "STD: 1071856.04\n",
      "Inequality: Top 20%/80%: 3.630\n",
      "Inequality: Top 10%/90%: 1.633\n",
      "Inequality: Top 1%/99%: 0.211\n"
     ]
    }
   ],
   "source": [
    "sample = population.sample(n=100)\n",
    "sample = sample.sort_values(by=\"Wealth\")\n",
    "\n",
    "_ = print_statistics(sample[\"Wealth\"])"
   ]
  },
  {
   "cell_type": "markdown",
   "metadata": {},
   "source": [
    "## 2.1 Missing data mechanisms"
   ]
  },
  {
   "cell_type": "markdown",
   "metadata": {},
   "source": [
    "### 2.1.1 MCAR data\n",
    "- Make wealth missing randomly"
   ]
  },
  {
   "cell_type": "code",
   "execution_count": 92,
   "metadata": {},
   "outputs": [
    {
     "name": "stdout",
     "output_type": "stream",
     "text": [
      "Mean: 468307.87\n",
      "Median: 110233.55\n",
      "STD: 1092744.84\n",
      "Inequality: Top 20%/80%: 3.659\n",
      "Inequality: Top 10%/90%: 1.685\n",
      "Inequality: Top 1%/99%: 0.301\n"
     ]
    }
   ],
   "source": [
    "sample[\"Wealth_MCAR\"] = sample[\"Wealth\"].copy()\n",
    "#Add 20% of missing values\n",
    "sample.loc[np.random.random(len(sample))<0.2,\"Wealth_MCAR\"] = np.NaN\n",
    "_ = print_statistics(sample[\"Wealth_MCAR\"].dropna())"
   ]
  },
  {
   "cell_type": "markdown",
   "metadata": {},
   "source": [
    "### 2.1.2 MAR data\n",
    "- Make wealth missing when income is high"
   ]
  },
  {
   "cell_type": "code",
   "execution_count": 93,
   "metadata": {},
   "outputs": [
    {
     "name": "stdout",
     "output_type": "stream",
     "text": [
      "Mean: 428221.56\n",
      "Median: 103335.49\n",
      "STD: 1095726.29\n",
      "Inequality: Top 20%/80%: 4.131\n",
      "Inequality: Top 10%/90%: 2.109\n",
      "Inequality: Top 1%/99%: 0.297\n"
     ]
    }
   ],
   "source": [
    "sample[\"Wealth_MAR\"] = sample[\"Wealth\"].copy()\n",
    "#Add 20% of missing values\n",
    "p=np.percentile(sample[\"Income\"],60)\n",
    "sample.loc[(sample[\"Income\"] > p)&(np.random.random(len(sample))<0.5),\"Wealth_MAR\"] = np.NaN\n",
    "_ = print_statistics(sample[\"Wealth_MAR\"].dropna())"
   ]
  },
  {
   "cell_type": "markdown",
   "metadata": {},
   "source": [
    "### 2.1.3 MNAR data\n",
    "- Make wealth missing when wealth is high\n",
    "- Good news: Imputation possible since income is correlated"
   ]
  },
  {
   "cell_type": "code",
   "execution_count": 94,
   "metadata": {},
   "outputs": [
    {
     "name": "stdout",
     "output_type": "stream",
     "text": [
      "Mean: 339239.21\n",
      "Median: 85401.37\n",
      "STD: 1015930.51\n",
      "Inequality: Top 20%/80%: 4.602\n",
      "Inequality: Top 10%/90%: 2.462\n",
      "Inequality: Top 1%/99%: 0.451\n"
     ]
    }
   ],
   "source": [
    "sample[\"Wealth_MNAR\"] = sample[\"Wealth\"].copy()\n",
    "#Add 20% of missing values\n",
    "p=np.percentile(sample[\"Wealth\"],60)\n",
    "sample.loc[(sample[\"Wealth\"] > p)&(np.random.random(len(sample))<0.5),\"Wealth_MNAR\"] = np.NaN\n",
    "_ = print_statistics(sample[\"Wealth_MNAR\"].dropna())"
   ]
  },
  {
   "cell_type": "markdown",
   "metadata": {},
   "source": [
    "### 2.1.3 MNAR data 2 (Non-representative sample due to problems with the design)\n",
    "- Make **observation** (person) missing when wealth is high\n",
    "- Bad news: Impossible to verify unless you have some kind of aggregated data"
   ]
  },
  {
   "cell_type": "code",
   "execution_count": 95,
   "metadata": {},
   "outputs": [
    {
     "name": "stdout",
     "output_type": "stream",
     "text": [
      "Mean: 222145.85\n",
      "Median: 131880.90\n",
      "STD: 1715676.13\n",
      "Inequality: Top 20%/80%: 1.381\n",
      "Inequality: Top 10%/90%: 0.680\n",
      "Inequality: Top 1%/99%: 0.149\n"
     ]
    }
   ],
   "source": [
    "N = len(population)\n",
    "p = np.zeros(N)\n",
    "p[:int(0.1*N)] = 0.01\n",
    "p[int(0.1*N):int(0.25*N)] = 0.1\n",
    "p[int(0.25*N):int(0.75*N)] = 0.2\n",
    "p[int(0.75*N):int(0.9*N)] = 0.1\n",
    "p[int(0.9*N):] = 0.01\n",
    "\n",
    "sample_mncar2 = population.sample(n=100000,weights=p)\n",
    "_ = print_statistics(sample_mncar2[\"Wealth\"])"
   ]
  },
  {
   "cell_type": "markdown",
   "metadata": {},
   "source": [
    "## 2.1 Types of missing data\n",
    "Summary"
   ]
  },
  {
   "cell_type": "code",
   "execution_count": 119,
   "metadata": {},
   "outputs": [
    {
     "data": {
      "image/png": "[encoded data removed]",
      "text/plain": [
       "<Figure size 1296x288 with 3 Axes>"
      ]
     },
     "metadata": {
      "needs_background": "light"
     },
     "output_type": "display_data"
    }
   ],
   "source": [
    "plt.figure(figsize=(18,4))\n",
    "\n",
    "labels = [\"Wealth\",'Wealth_MCAR', 'Wealth_MAR', 'Wealth_MNAR']\n",
    "i = 0\n",
    "for col in labels[1:]:\n",
    "    i+=1\n",
    "    plt.subplot(1,3,i)\n",
    "    plt.plot(sample[\"Income\"],sample[\"Wealth\"],\"o\",color=\"red\")\n",
    "    plt.plot(sample[\"Income\"],sample[col],\"o\",color=\"gray\")\n",
    "    plt.title(col)\n",
    "    \n",
    "    plt.xlabel(\"income\")\n",
    "    plt.xlabel(\"wealth\")\n",
    "    \n",
    "#     plt.xscale(\"log\")\n",
    "#     plt.yscale(\"log\")"
   ]
  },
  {
   "cell_type": "markdown",
   "metadata": {},
   "source": [
    "## Visualize missing data"
   ]
  },
  {
   "cell_type": "code",
   "execution_count": 120,
   "metadata": {},
   "outputs": [
    {
     "data": {
      "text/plain": [
       "<matplotlib.axes._subplots.AxesSubplot at 0x7fe5c3f7be80>"
      ]
     },
     "execution_count": 120,
     "metadata": {},
     "output_type": "execute_result"
    },
    {
     "data": {
      "image/png": "[encoded data removed]",
      "text/plain": [
       "<Figure size 288x288 with 2 Axes>"
      ]
     },
     "metadata": {
      "needs_background": "light"
     },
     "output_type": "display_data"
    },
    {
     "data": {
      "image/png": "[encoded data removed]",
      "text/plain": [
       "<Figure size 288x288 with 3 Axes>"
      ]
     },
     "metadata": {
      "needs_background": "light"
     },
     "output_type": "display_data"
    },
    {
     "data": {
      "image/png": "[encoded data removed]",
      "text/plain": [
       "<Figure size 288x288 with 1 Axes>"
      ]
     },
     "metadata": {
      "needs_background": "light"
     },
     "output_type": "display_data"
    }
   ],
   "source": [
    "import missingno as msno\n",
    "\n",
    "msno.matrix(sample,figsize=(4,4))\n",
    "\n",
    "msno.bar(sample,figsize=(4,4))\n",
    "\n",
    "msno.heatmap(sample,figsize=(4,4))"
   ]
  },
  {
   "cell_type": "markdown",
   "metadata": {},
   "source": [
    "## 2.2 Correcting for missing data\n",
    "- 2.2.1 Ignore those values (only if your data is MCAR): Listwise Deletion (Complete Case Analysis)\n",
    "- Impute those values (always better but more complicated)\n",
    "    - 2.2.2 Single imputation: Problem: Usually reduces the variance or affects the correlation between variables\n",
    "        - 2.2.2.1 Use the mean/median/mode as the value (only works \"okayish\" in MCAR)\n",
    "        - 2.2.2.2 Use the mean/median/mode of the group as the value \n",
    "        - 2.2.2.3 Regression estimate or random forest (missForest)\n",
    "        - 2.2.2.4 Use similar values (KNN in fancyimpute)\n",
    "    - 2.2.3 Multiple imputation by chained equations (MICE): Similar to bootstrapping)"
   ]
  },
  {
   "cell_type": "markdown",
   "metadata": {},
   "source": [
    "### 2.2.1 List-wise deletion (ignoring the values)\n",
    "- Only okay if the data is MCAR\n",
    "- Reduces the amount of information available"
   ]
  },
  {
   "cell_type": "code",
   "execution_count": 121,
   "metadata": {},
   "outputs": [
    {
     "name": "stdout",
     "output_type": "stream",
     "text": [
      "- Original wealth: $479k\n",
      "Wealth_MCAR: $468k\n",
      "Wealth_MAR: $428k\n",
      "Wealth_MNAR: $339k\n"
     ]
    }
   ],
   "source": [
    "labels = ['Wealth_MCAR', 'Wealth_MAR', 'Wealth_MNAR']\n",
    "print(\"- {}: ${:2.0f}k\".format(\"Original wealth\",(sample[\"Wealth\"]).mean()/1000))\n",
    "\n",
    "for col in labels:\n",
    "    data = sample.dropna(subset=[col])\n",
    "    print(\"{}: ${:2.0f}k\".format(col,(data[col]).mean()/1000))\n"
   ]
  },
  {
   "cell_type": "markdown",
   "metadata": {},
   "source": [
    "### 2.2.2.1 Single imputation: Use the mean/median/mode as the value\n",
    "- Reduces the variance\n",
    "- Modifies the correlation\n",
    "- You could add some noise to fix the variance, but the correlation would still be bad\n",
    "- 2.2.2.2 Use the mean/median/mode of the group as the value (if we have for example data by city, we can do the imputation at the ctiy level)"
   ]
  },
  {
   "cell_type": "code",
   "execution_count": 122,
   "metadata": {},
   "outputs": [
    {
     "name": "stdout",
     "output_type": "stream",
     "text": [
      "- Original wealth: $479k\n",
      "Wealth_MCAR (mean): $468k\n",
      "Wealth_MAR (mean): $428k\n",
      "Wealth_MNAR (mean): $339k\n"
     ]
    },
    {
     "data": {
      "image/png": "[encoded data removed]",
      "text/plain": [
       "<Figure size 1296x288 with 3 Axes>"
      ]
     },
     "metadata": {
      "needs_background": "light"
     },
     "output_type": "display_data"
    }
   ],
   "source": [
    "sample_mean = sample.fillna(sample.mean())\n",
    "plt.figure(figsize=(18,4))\n",
    "\n",
    "print(\"- {}: ${:2.0f}k\".format(\"Original wealth\",(sample[\"Wealth\"]).mean()/1000))\n",
    "\n",
    "labels = [\"Wealth\",'Wealth_MCAR', 'Wealth_MAR', 'Wealth_MNAR']\n",
    "i = 0\n",
    "for col in labels[1:]:\n",
    "    i+=1\n",
    "    plt.subplot(1,3,i)\n",
    "    plt.plot(sample[\"Income\"],sample[\"Wealth\"],\"o\",color=\"red\")\n",
    "    plt.plot(sample_mean[\"Income\"],sample_mean[col],\"o\",color=\"blue\")\n",
    "    plt.plot(sample[\"Income\"],sample[col],\"o\",color=\"gray\")\n",
    "    plt.title(col)\n",
    "    \n",
    "    print(\"{} (mean): ${:2.0f}k\".format(col,(sample_mean[col]).mean()/1000))\n",
    "    \n",
    "    plt.xlabel(\"income\")\n",
    "    plt.xlabel(\"wealth\")\n",
    "    \n",
    "#     plt.xscale(\"log\")\n",
    "#     plt.yscale(\"log\")"
   ]
  },
  {
   "cell_type": "markdown",
   "metadata": {},
   "source": [
    "### 2.2.2.3 Regression estimate or random forest (missForest)\n",
    "- Better, but still too optimistic and we do not know the uncertainty of our results\n",
    "- Fails for outliers"
   ]
  },
  {
   "cell_type": "code",
   "execution_count": 123,
   "metadata": {},
   "outputs": [
    {
     "name": "stdout",
     "output_type": "stream",
     "text": [
      "The rpy2.ipython extension is already loaded. To reload it, use:\n",
      "  %reload_ext rpy2.ipython\n"
     ]
    },
    {
     "data": {
      "text/plain": [
       "array([1], dtype=int32)"
      ]
     },
     "execution_count": 123,
     "metadata": {},
     "output_type": "execute_result"
    }
   ],
   "source": [
    "#already installed,otherwise uncomment the line below\n",
    "#!conda install --yes -c r rpy2  \n",
    "\n",
    "\n",
    "import rpy2 \n",
    "%load_ext rpy2.ipython\n",
    "%R require(\"missForest\")"
   ]
  },
  {
   "cell_type": "code",
   "execution_count": 124,
   "metadata": {},
   "outputs": [
    {
     "data": {
      "text/html": [
       "<div>\n",
       "<style scoped>\n",
       "    .dataframe tbody tr th:only-of-type {\n",
       "        vertical-align: middle;\n",
       "    }\n",
       "\n",
       "    .dataframe tbody tr th {\n",
       "        vertical-align: top;\n",
       "    }\n",
       "\n",
       "    .dataframe thead th {\n",
       "        text-align: right;\n",
       "    }\n",
       "</style>\n",
       "<table border=\"1\" class=\"dataframe\">\n",
       "  <thead>\n",
       "    <tr style=\"text-align: right;\">\n",
       "      <th></th>\n",
       "      <th>Wealth</th>\n",
       "      <th>Income</th>\n",
       "      <th>Wealth_MCAR</th>\n",
       "      <th>Wealth_MAR</th>\n",
       "      <th>Wealth_MNAR</th>\n",
       "      <th>c</th>\n",
       "    </tr>\n",
       "  </thead>\n",
       "  <tbody>\n",
       "    <tr>\n",
       "      <th>119943</th>\n",
       "      <td>8396.830285</td>\n",
       "      <td>5326.499317</td>\n",
       "      <td>8396.830285</td>\n",
       "      <td>8396.830285</td>\n",
       "      <td>8396.830285</td>\n",
       "      <td>-0.176037</td>\n",
       "    </tr>\n",
       "    <tr>\n",
       "      <th>85722</th>\n",
       "      <td>9130.748348</td>\n",
       "      <td>5503.499068</td>\n",
       "      <td>9130.748348</td>\n",
       "      <td>9130.748348</td>\n",
       "      <td>9130.748348</td>\n",
       "      <td>0.357708</td>\n",
       "    </tr>\n",
       "    <tr>\n",
       "      <th>511842</th>\n",
       "      <td>11383.885998</td>\n",
       "      <td>55024.882303</td>\n",
       "      <td>11383.885998</td>\n",
       "      <td>11383.885998</td>\n",
       "      <td>11383.885998</td>\n",
       "      <td>1.783284</td>\n",
       "    </tr>\n",
       "    <tr>\n",
       "      <th>659683</th>\n",
       "      <td>13287.752240</td>\n",
       "      <td>59886.373106</td>\n",
       "      <td>13287.752240</td>\n",
       "      <td>NaN</td>\n",
       "      <td>13287.752240</td>\n",
       "      <td>-0.738130</td>\n",
       "    </tr>\n",
       "    <tr>\n",
       "      <th>566273</th>\n",
       "      <td>13632.689752</td>\n",
       "      <td>55060.444695</td>\n",
       "      <td>13632.689752</td>\n",
       "      <td>NaN</td>\n",
       "      <td>13632.689752</td>\n",
       "      <td>-0.277316</td>\n",
       "    </tr>\n",
       "  </tbody>\n",
       "</table>\n",
       "</div>"
      ],
      "text/plain": [
       "              Wealth        Income   Wealth_MCAR    Wealth_MAR   Wealth_MNAR  \\\n",
       "119943   8396.830285   5326.499317   8396.830285   8396.830285   8396.830285   \n",
       "85722    9130.748348   5503.499068   9130.748348   9130.748348   9130.748348   \n",
       "511842  11383.885998  55024.882303  11383.885998  11383.885998  11383.885998   \n",
       "659683  13287.752240  59886.373106  13287.752240           NaN  13287.752240   \n",
       "566273  13632.689752  55060.444695  13632.689752           NaN  13632.689752   \n",
       "\n",
       "               c  \n",
       "119943 -0.176037  \n",
       "85722   0.357708  \n",
       "511842  1.783284  \n",
       "659683 -0.738130  \n",
       "566273 -0.277316  "
      ]
     },
     "execution_count": 124,
     "metadata": {},
     "output_type": "execute_result"
    }
   ],
   "source": [
    "#Don't worry about this\n",
    "sample[\"c\"] = np.random.randn(100)\n",
    "sample.head()"
   ]
  },
  {
   "cell_type": "code",
   "execution_count": 125,
   "metadata": {},
   "outputs": [
    {
     "data": {
      "text/plain": [
       "  missForest iteration 1 in progress...done!\n",
       "  missForest iteration 2 in progress...done!\n",
       "  missForest iteration 3 in progress...done!\n",
       "  missForest iteration 1 in progress...done!\n",
       "  missForest iteration 2 in progress...done!\n",
       "  missForest iteration 3 in progress...done!\n",
       "  missForest iteration 4 in progress...done!\n",
       "  missForest iteration 1 in progress...done!\n",
       "  missForest iteration 2 in progress...done!\n",
       "  missForest iteration 3 in progress...done!\n",
       "  missForest iteration 4 in progress...done!\n"
      ]
     },
     "metadata": {},
     "output_type": "display_data"
    }
   ],
   "source": [
    "%%R -o sample_forest -i sample\n",
    "\n",
    "sample[,c(\"c\",\"Wealth_MCAR\",\"Income\")] <- missForest(sample[,c(\"c\",\"Wealth_MCAR\",\"Income\")])$ximp\n",
    "sample[,c(\"c\",\"Wealth_MAR\",\"Income\")] <- missForest(sample[,c(\"c\",\"Wealth_MAR\",\"Income\")])$ximp\n",
    "sample[,c(\"c\",\"Wealth_MNAR\",\"Income\")] <- missForest(sample[,c(\"c\",\"Wealth_MNAR\",\"Income\")])$ximp\n",
    "\n",
    "sample_forest <- sample"
   ]
  },
  {
   "cell_type": "code",
   "execution_count": 126,
   "metadata": {},
   "outputs": [
    {
     "name": "stdout",
     "output_type": "stream",
     "text": [
      "- Original wealth: $479k\n",
      "Wealth_MCAR (mean): $471k\n",
      "Wealth_MAR (mean): $440k\n",
      "Wealth_MNAR (mean): $398k\n"
     ]
    },
    {
     "data": {
      "image/png": "[encoded data removed]",
      "text/plain": [
       "<Figure size 1296x288 with 3 Axes>"
      ]
     },
     "metadata": {
      "needs_background": "light"
     },
     "output_type": "display_data"
    }
   ],
   "source": [
    "plt.figure(figsize=(18,4))\n",
    "\n",
    "print(\"- {}: ${:2.0f}k\".format(\"Original wealth\",(sample[\"Wealth\"]).mean()/1000))\n",
    "\n",
    "labels = [\"Wealth\",'Wealth_MCAR', 'Wealth_MAR', 'Wealth_MNAR']\n",
    "i = 0\n",
    "for col in labels[1:]:\n",
    "    i+=1\n",
    "    plt.subplot(1,3,i)\n",
    "    plt.plot(sample[\"Income\"],sample[\"Wealth\"],\"o\",color=\"red\")\n",
    "    plt.plot(sample_forest[\"Income\"],sample_forest[col],\"o\",color=\"blue\")\n",
    "    plt.plot(sample[\"Income\"],sample[col],\"o\",color=\"gray\")\n",
    "    plt.title(col)\n",
    "    \n",
    "    print(\"{} (mean): ${:2.0f}k\".format(col,(sample_forest[col]).mean()/1000))\n",
    "    \n",
    "    plt.xlabel(\"income\")\n",
    "    plt.xlabel(\"wealth\")\n",
    "    \n",
    "#     plt.xscale(\"log\")\n",
    "#     plt.yscale(\"log\")"
   ]
  },
  {
   "cell_type": "markdown",
   "metadata": {},
   "source": [
    "### 2.2.2.4 Use similar values (KNN in fancyimpute)\n",
    "- Also good, but it is difficult to define what \"similar\" is\n",
    "- Fails for outliers"
   ]
  },
  {
   "cell_type": "code",
   "execution_count": 127,
   "metadata": {},
   "outputs": [
    {
     "name": "stdout",
     "output_type": "stream",
     "text": [
      "(77, 6)\n",
      "Imputing row 1/100 with 0 missing, elapsed time: 0.007\n",
      "(85, 6)\n",
      "Imputing row 1/100 with 0 missing, elapsed time: 0.006\n",
      "(79, 6)\n",
      "Imputing row 1/100 with 0 missing, elapsed time: 0.005\n",
      "- Original wealth: $479k\n",
      "Wealth_MCAR (mean): $489k\n",
      "Wealth_MAR (mean): $443k\n",
      "Wealth_MNAR (mean): $455k\n"
     ]
    },
    {
     "data": {
      "image/png": "[encoded data removed]",
      "text/plain": [
       "<Figure size 1296x288 with 3 Axes>"
      ]
     },
     "metadata": {
      "needs_background": "light"
     },
     "output_type": "display_data"
    }
   ],
   "source": [
    "from fancyimpute import KNN\n",
    "sample_knn = sample.copy()\n",
    "\n",
    "for label in ['Wealth_MCAR', 'Wealth_MAR', 'Wealth_MNAR']:\n",
    "    print(sample_knn.dropna(subset=[label]).shape)\n",
    "    sample_knn.loc[:,[label,\"Income\"]] = KNN(k=3).fit_transform(sample_knn.loc[:,[label,\"Income\"]])\n",
    "\n",
    "plt.figure(figsize=(18,4))\n",
    "\n",
    "print(\"- {}: ${:2.0f}k\".format(\"Original wealth\",(sample[\"Wealth\"]).mean()/1000))\n",
    "\n",
    "labels = [\"Wealth\",'Wealth_MCAR', 'Wealth_MAR', 'Wealth_MNAR']\n",
    "i = 0\n",
    "for col in labels[1:]:\n",
    "    i+=1\n",
    "    plt.subplot(1,3,i)\n",
    "    plt.plot(sample[\"Income\"],sample[\"Wealth\"],\"o\",color=\"red\")\n",
    "    plt.plot(sample_knn[\"Income\"],sample_knn[col],\"o\",color=\"blue\")\n",
    "    plt.plot(sample[\"Income\"],sample[col],\"o\",color=\"gray\")\n",
    "    plt.title(col)\n",
    "    \n",
    "    print(\"{} (mean): ${:2.0f}k\".format(col,(sample_knn[col]).mean()/1000))\n",
    "    \n",
    "    plt.xlabel(\"income\")\n",
    "    plt.xlabel(\"wealth\")\n",
    "    \n",
    "#     plt.xscale(\"log\")\n",
    "#     plt.yscale(\"log\")"
   ]
  },
  {
   "cell_type": "markdown",
   "metadata": {},
   "source": [
    "### 2.2.3 Multiple imputation by chained equations (MICE): Similar to bootstrapping)\n",
    "- Impute many times the data with different models\n",
    "- Analyze the imputed data\n",
    "- Use it to calculate confidence intervals\n"
   ]
  },
  {
   "cell_type": "markdown",
   "metadata": {},
   "source": [
    "####  We can use MICE (or IterativeImputer) from fancyimputem\n",
    "- Calculate many samples and do it by hand"
   ]
  },
  {
   "cell_type": "code",
   "execution_count": 128,
   "metadata": {},
   "outputs": [
    {
     "data": {
      "image/png": "[encoded data removed]",
      "text/plain": [
       "<IPython.core.display.Image object>"
      ]
     },
     "execution_count": 128,
     "metadata": {},
     "output_type": "execute_result"
    }
   ],
   "source": [
    "Image(\"images/mi.png\")"
   ]
  },
  {
   "cell_type": "code",
   "execution_count": 129,
   "metadata": {
    "scrolled": true
   },
   "outputs": [
    {
     "name": "stdout",
     "output_type": "stream",
     "text": [
      "- Original wealth: $479k\n",
      "Wealth_MCAR (mean): $[419.4066 516.3281]k\n",
      "Wealth_MAR (mean): $[463.7802 543.981 ]k\n",
      "Wealth_MNAR (mean): $[475.9145 546.7084]k\n"
     ]
    },
    {
     "data": {
      "image/png": "[encoded data removed]",
      "text/plain": [
       "<Figure size 1296x288 with 3 Axes>"
      ]
     },
     "metadata": {
      "needs_background": "light"
     },
     "output_type": "display_data"
    }
   ],
   "source": [
    "from fancyimpute import IterativeImputer\n",
    "import statsmodels.formula.api as smf\n",
    "\n",
    "sample_mice = sample.copy()\n",
    "i = 0\n",
    "plt.figure(figsize=(18,4))\n",
    "\n",
    "print(\"- {}: ${:2.0f}k\".format(\"Original wealth\",(sample[\"Wealth\"]).mean()/1000))\n",
    "\n",
    "d = dict()\n",
    "d2 = dict()\n",
    "d3 = dict()\n",
    "\n",
    "\n",
    "for label in ['Wealth_MCAR', 'Wealth_MAR', 'Wealth_MNAR']:\n",
    "    val = []\n",
    "    val2 = []\n",
    "    val3 = []\n",
    "    col = label\n",
    "    i+=1\n",
    "    plt.subplot(1,3,i)\n",
    "    for j in range(100):\n",
    "        sample_mice = sample.copy()\n",
    "        sample_mice.loc[:,[label,\"Income\"]] = IterativeImputer(n_iter=10, sample_posterior=True, random_state=j).fit_transform(sample_mice.loc[:,[label,\"Income\"]].values)\n",
    "\n",
    "        plt.plot(sample[\"Income\"],sample[\"Wealth\"],\"o\",color=\"red\")\n",
    "        \n",
    "        plt.plot(sample_mice[\"Income\"],sample_mice[col],\".\",color=\"blue\",alpha=0.1)\n",
    "        plt.plot(sample[\"Income\"],sample[col],\"o\",color=\"gray\")\n",
    "        plt.title(col)\n",
    "        \n",
    "        val.append(sample_mice[col].mean())\n",
    "        val2.append(inequality(sample_mice[col],f=.9))\n",
    "        val3.append(smf.ols(\"{}~Income\".format(label),data=sample_mice).fit().params[1])\n",
    "    \n",
    "\n",
    "\n",
    "      \n",
    "    val = (np.array(val))\n",
    "    val2 = (np.array(val2))\n",
    "    val3 = (np.array(val3))\n",
    "    \n",
    "    \n",
    "    d[label] = np.percentile(val,[2.5,97.5])\n",
    "    d2[label] = np.percentile(val2,[2.5,97.5])\n",
    "    d3[label] = np.percentile(val3,[2.5,97.5])\n",
    "    \n",
    "    print(\"{} (mean): ${}k\".format(label,np.round(d[label],1)/1000))\n",
    "    \n",
    "    \n",
    "    plt.xlabel(\"income\")\n",
    "    plt.xlabel(\"wealth\")\n",
    "    \n",
    "#     plt.xscale(\"log\")\n",
    "#     plt.yscale(\"log\")"
   ]
  },
  {
   "cell_type": "markdown",
   "metadata": {},
   "source": [
    "####  We can use MICE from statsmodels\n",
    "- For a regression"
   ]
  },
  {
   "cell_type": "code",
   "execution_count": null,
   "metadata": {},
   "outputs": [],
   "source": []
  },
  {
   "cell_type": "code",
   "execution_count": 186,
   "metadata": {},
   "outputs": [
    {
     "name": "stdout",
     "output_type": "stream",
     "text": [
      "Truth:  9.79  Mean (BS): $479k  Ineq 10/90 (BS): 1.63\n",
      "\n",
      "Wealth_MCAR\n",
      "dropna [ 9.01 11.88]  Mean (BS): $[300. 898.]k  Ineq 10/90 (BS): [1.03 3.8 ]\n",
      "mean [5.63 8.47]  Mean (BS): $[344. 784.]k  Ineq 10/90 (BS): [0.64 2.21]\n",
      "forest [ 7.72 10.05]  Mean (BS): $[335. 795.]k  Ineq 10/90 (BS): [0.91 2.8 ]\n",
      "knn [ 9.97 12.38]  Mean (BS): $[319. 874.]k  Ineq 10/90 (BS): [1.02 3.37]\n",
      "mice statsmodels [6.35 9.63]\n",
      "mice fancyimpute [ 9.67 11.06]  Mean: $[419. 516.]k  Ineq 10/90: [1.52 2.64]\n",
      "\n",
      "Wealth_MAR\n",
      "dropna [ 8.79 11.17]  Mean (BS): $[267. 800.]k  Ineq 10/90 (BS): [1.28 4.38]\n",
      "mean [7.33 9.79]  Mean (BS): $[291. 768.]k  Ineq 10/90 (BS): [0.87 3.01]\n",
      "forest [ 7.88 10.13]  Mean (BS): $[302. 748.]k  Ineq 10/90 (BS): [0.89 2.93]\n",
      "knn [ 8.13 10.34]  Mean (BS): $[299. 755.]k  Ineq 10/90 (BS): [1.03 3.22]\n",
      "mice statsmodels [ 7.5  10.51]\n",
      "mice fancyimpute [ 9.55 10.36]  Mean: $[464. 544.]k  Ineq 10/90: [1.3  1.79]\n",
      "\n",
      "Wealth_MNAR\n",
      "dropna [ 9.56 12.3 ]  Mean (BS): $[196. 758.]k  Ineq 10/90 (BS): [1.36 6.25]\n",
      "mean [4.79 7.62]  Mean (BS): $[225. 666.]k  Ineq 10/90 (BS): [0.78 3.67]\n",
      "forest [7.5 9.7]  Mean (BS): $[266. 705.]k  Ineq 10/90 (BS): [1.14 3.7 ]\n",
      "knn [ 9.94 12.35]  Mean (BS): $[283. 803.]k  Ineq 10/90 (BS): [1.41 4.52]\n",
      "mice statsmodels [5.1  8.37]\n",
      "mice fancyimpute [10.11 11.63]  Mean: $[476. 547.]k  Ineq 10/90: [1.4 2.1]\n",
      "\n"
     ]
    }
   ],
   "source": [
    "import statsmodels.formula.api as smf\n",
    "from statsmodels.imputation import mice\n",
    "import statsmodels.api as sm\n",
    "\n",
    "imp = mice.MICEData(sample)\n",
    "\n",
    "reg = smf.ols(\"Wealth~Income\",data=sample).fit()\n",
    "\n",
    "def boot_mean(values):\n",
    "    return np.round(bootstrap.ci(values, statfunction=np.mean,n_samples=10000),0)\n",
    "def boot_ineq(values):\n",
    "    return np.round(bootstrap.ci(values, statfunction=lambda x: inequality(x,f=.9),n_samples=10000),2)\n",
    "\n",
    "print(\"Truth: \", np.round(reg.params[1],2), \n",
    "      \" Mean (BS): ${:2.0f}k\".format((sample[\"Wealth\"]).mean()/1000),\n",
    "      \" Ineq 10/90 (BS): {:2.2f}\".format(inequality((sample[\"Wealth\"]),f=.9)))\n",
    "print()\n",
    "\n",
    "\n",
    "for col in [\"Wealth_MCAR\",\"Wealth_MAR\",\"Wealth_MNAR\"]:\n",
    "    labels = [\"dropna\",\"mean\",\"forest\",\"knn\",\"mice statsmodels\", \"mice fancyimpute\"]\n",
    "    \n",
    "    print(col)\n",
    "    data = sample.dropna(subset=[col])\n",
    "    reg = smf.ols(\"{}~Income\".format(col),data=data).fit()\n",
    "   \n",
    "    print(labels.pop(0), np.round(reg.conf_int().loc[\"Income\"].values,2), \n",
    "      \" Mean (BS): ${}k\".format(boot_mean(data[col]/1000)),\n",
    "      \" Ineq 10/90 (BS): {}\".format(boot_ineq(data[col]),f=.9))\n",
    "          \n",
    "    \n",
    "    for data in [sample_mean,sample_forest,sample_knn]:\n",
    "        #The regression using the sample\n",
    "\n",
    "        reg = smf.ols(\"{}~Income\".format(col),data=data).fit()\n",
    "        print(labels.pop(0), np.round(reg.conf_int().loc[\"Income\"].values,2), \n",
    "      \" Mean (BS): ${}k\".format(boot_mean(data[col]/1000)),\n",
    "      \" Ineq 10/90 (BS): {}\".format(boot_ineq(data[col]),f=.9))\n",
    "        \n",
    "    \n",
    "    results = mice.MICE('{} ~ Income'.format(col), sm.OLS, imp).fit(10, 10)\n",
    "    print(labels.pop(0), np.round(results.conf_int()[1],2))\n",
    "    print(labels.pop(0),np.round(d3[col],2), \" Mean: ${}k\".format(np.round(d[col]/1000,0)),\n",
    "      \" Ineq 10/90: {}\".format(np.round(d2[col],2)))\n",
    "    print()"
   ]
  },
  {
   "cell_type": "markdown",
   "metadata": {
    "collapsed": true
   },
   "source": [
    "## Important: Make sure you have missing values instead of \"-9\" or other strings in your file\n",
    "- The way to do it is to explore the file and then read it:\n",
    "\n",
    "pd.read_csv(filename,...,na_values=[`here the list of missing values`]"
   ]
  },
  {
   "cell_type": "markdown",
   "metadata": {
    "collapsed": true
   },
   "source": [
    "# 3. Dealing with outliers\n",
    "In short:\n",
    "- If the outlier is *obviously wrong* you should treat it as missing data. For instance if you record a value of 19 in a 0-10 scale (it was problably 1 or 9, but we don't know).\n",
    "- If the outlier is *not obviously wrong\", you should keep it. For instance if most people say 3 in a 0-10 scale but a couple say 9, then you need to keep it. You can use `robust` statistics, that are not so affected by outliers. \n",
    "\n",
    "See outliers: --> Distributions and pairplots\n",
    "\n",
    "\n",
    "Read this:\n",
    "http://www.theanalysisfactor.com/outliers-to-drop-or-not-to-drop/"
   ]
  },
  {
   "cell_type": "markdown",
   "metadata": {},
   "source": [
    "# Example of code"
   ]
  },
  {
   "cell_type": "markdown",
   "metadata": {},
   "source": [
    "### Read data"
   ]
  },
  {
   "cell_type": "code",
   "execution_count": 162,
   "metadata": {},
   "outputs": [
    {
     "data": {
      "text/html": [
       "<div>\n",
       "<style scoped>\n",
       "    .dataframe tbody tr th:only-of-type {\n",
       "        vertical-align: middle;\n",
       "    }\n",
       "\n",
       "    .dataframe tbody tr th {\n",
       "        vertical-align: top;\n",
       "    }\n",
       "\n",
       "    .dataframe thead th {\n",
       "        text-align: right;\n",
       "    }\n",
       "</style>\n",
       "<table border=\"1\" class=\"dataframe\">\n",
       "  <thead>\n",
       "    <tr style=\"text-align: right;\">\n",
       "      <th></th>\n",
       "      <th>C</th>\n",
       "      <th>METRO_ID</th>\n",
       "      <th>Metropolitan areas</th>\n",
       "      <th>LABOUR_PRODUCTIVITY</th>\n",
       "      <th>UNEMP_R</th>\n",
       "      <th>GDP_PC</th>\n",
       "    </tr>\n",
       "  </thead>\n",
       "  <tbody>\n",
       "    <tr>\n",
       "      <th>0</th>\n",
       "      <td>IT</td>\n",
       "      <td>IT001</td>\n",
       "      <td>Rome</td>\n",
       "      <td>1.246225</td>\n",
       "      <td>1.153054</td>\n",
       "      <td>1.263583</td>\n",
       "    </tr>\n",
       "    <tr>\n",
       "      <th>1</th>\n",
       "      <td>IT</td>\n",
       "      <td>IT001</td>\n",
       "      <td>Rome</td>\n",
       "      <td>1.263464</td>\n",
       "      <td>1.041401</td>\n",
       "      <td>1.292440</td>\n",
       "    </tr>\n",
       "    <tr>\n",
       "      <th>2</th>\n",
       "      <td>IT</td>\n",
       "      <td>IT001</td>\n",
       "      <td>Rome</td>\n",
       "      <td>1.244960</td>\n",
       "      <td>0.827486</td>\n",
       "      <td>1.302868</td>\n",
       "    </tr>\n",
       "    <tr>\n",
       "      <th>3</th>\n",
       "      <td>IT</td>\n",
       "      <td>IT001</td>\n",
       "      <td>Rome</td>\n",
       "      <td>1.227114</td>\n",
       "      <td>0.837920</td>\n",
       "      <td>1.285412</td>\n",
       "    </tr>\n",
       "    <tr>\n",
       "      <th>4</th>\n",
       "      <td>IT</td>\n",
       "      <td>IT001</td>\n",
       "      <td>Rome</td>\n",
       "      <td>1.241025</td>\n",
       "      <td>0.779485</td>\n",
       "      <td>1.325299</td>\n",
       "    </tr>\n",
       "  </tbody>\n",
       "</table>\n",
       "</div>"
      ],
      "text/plain": [
       "    C METRO_ID Metropolitan areas  LABOUR_PRODUCTIVITY   UNEMP_R    GDP_PC\n",
       "0  IT    IT001               Rome             1.246225  1.153054  1.263583\n",
       "1  IT    IT001               Rome             1.263464  1.041401  1.292440\n",
       "2  IT    IT001               Rome             1.244960  0.827486  1.302868\n",
       "3  IT    IT001               Rome             1.227114  0.837920  1.285412\n",
       "4  IT    IT001               Rome             1.241025  0.779485  1.325299"
      ]
     },
     "execution_count": 162,
     "metadata": {},
     "output_type": "execute_result"
    }
   ],
   "source": [
    "#Inclass exercises\n",
    "df = pd.read_csv(\"data/impute_example.csv\",sep=\"\\t\")\n",
    "df = df.loc[df[\"Metropolitan areas\"]!=\"Italy\"]\n",
    "df.head()"
   ]
  },
  {
   "cell_type": "markdown",
   "metadata": {},
   "source": [
    "### Visualize missing data"
   ]
  },
  {
   "cell_type": "code",
   "execution_count": 164,
   "metadata": {},
   "outputs": [
    {
     "data": {
      "text/plain": [
       "<matplotlib.axes._subplots.AxesSubplot at 0x7fe58b998f28>"
      ]
     },
     "execution_count": 164,
     "metadata": {},
     "output_type": "execute_result"
    },
    {
     "data": {
      "image/png": "[encoded data removed]",
      "text/plain": [
       "<Figure size 288x288 with 2 Axes>"
      ]
     },
     "metadata": {
      "needs_background": "light"
     },
     "output_type": "display_data"
    }
   ],
   "source": [
    "import missingno as msno\n",
    "\n",
    "msno.matrix(df,figsize=(4,4))"
   ]
  },
  {
   "cell_type": "markdown",
   "metadata": {},
   "source": [
    "### Find confidence intervals"
   ]
  },
  {
   "cell_type": "code",
   "execution_count": 165,
   "metadata": {},
   "outputs": [
    {
     "name": "stdout",
     "output_type": "stream",
     "text": [
      "LABOUR_PRODUCTIVITY [0.98732763 1.04341788]\n",
      "UNEMP_R [0.90798007 1.12423009]\n",
      "GDP_PC [0.95575503 1.0552188 ]\n"
     ]
    }
   ],
   "source": [
    "#Find the confidence intervals of each variable (don't pass missing values!)\n",
    "import scikits.bootstrap as bootstrap\n",
    "\n",
    "for column in [\"LABOUR_PRODUCTIVITY\",\"UNEMP_R\",\"GDP_PC\"]:\n",
    "    CIs = bootstrap.ci(df[column].dropna(), statfunction=np.mean,n_samples=10000)  \n",
    "    print(column,CIs)\n",
    "\n"
   ]
  },
  {
   "cell_type": "markdown",
   "metadata": {},
   "source": [
    "### Impute using KNN (K-nearest neighbors)\n",
    "- Disadvantage: Using categorical variables is hard"
   ]
  },
  {
   "cell_type": "code",
   "execution_count": 167,
   "metadata": {},
   "outputs": [],
   "source": [
    "from fancyimpute import KNN\n",
    "def knn_impute(data,variables,categorical_var=None,k=5):\n",
    "    sample = data.copy()\n",
    "    if categorical_var is None:\n",
    "        sample[variables] = KNN(k=k).fit_transform(sample[variables])\n",
    "        return data\n",
    "    else:\n",
    "        df_knns = []\n",
    "        for g,sample_g in sample.groupby(categorical_var):\n",
    "            try:\n",
    "                sample_g[variables] = KNN(k=k).fit_transform(sample_g[variables])\n",
    "            except:\n",
    "                print(g, \" not missing any\")\n",
    "            df_knns.append(sample_g)\n",
    "\n",
    "        return pd.concat(df_knns)"
   ]
  },
  {
   "cell_type": "code",
   "execution_count": 178,
   "metadata": {},
   "outputs": [
    {
     "name": "stdout",
     "output_type": "stream",
     "text": [
      "Imputing row 1/143 with 0 missing, elapsed time: 0.015\n",
      "Imputing row 101/143 with 0 missing, elapsed time: 0.016\n",
      "Mean of Labour productivity 1.0150968358458483\n",
      "[0.98801732 1.04317513]\n"
     ]
    }
   ],
   "source": [
    "df_filled = knn_impute(df,[\"LABOUR_PRODUCTIVITY\",\"UNEMP_R\",\"GDP_PC\"])\n",
    "CIs = bootstrap.ci(df_filled[\"LABOUR_PRODUCTIVITY\"].dropna(), statfunction=np.mean,n_samples=10000)  \n",
    "print(\"Mean of Labour productivity\",np.mean(df_filled[\"LABOUR_PRODUCTIVITY\"]))\n",
    "print(CIs)\n"
   ]
  },
  {
   "cell_type": "markdown",
   "metadata": {},
   "source": [
    "### Impute using missForest\n",
    "- Disadvantage: Calling R from Python makes the code a bit harder"
   ]
  },
  {
   "cell_type": "code",
   "execution_count": 243,
   "metadata": {},
   "outputs": [
    {
     "name": "stdout",
     "output_type": "stream",
     "text": [
      "The rpy2.ipython extension is already loaded. To reload it, use:\n",
      "  %reload_ext rpy2.ipython\n"
     ]
    },
    {
     "data": {
      "text/plain": [
       "array([1], dtype=int32)"
      ]
     },
     "execution_count": 243,
     "metadata": {},
     "output_type": "execute_result"
    }
   ],
   "source": [
    "#Complete with missForest (uses python)\n",
    "\n",
    "#already installed,otherwise uncomment the line below\n",
    "#!conda install --yes -c r rpy2  \n",
    "import rpy2 \n",
    "%load_ext rpy2.ipython\n",
    "%R require(\"missForest\")"
   ]
  },
  {
   "cell_type": "code",
   "execution_count": 188,
   "metadata": {},
   "outputs": [
    {
     "data": {
      "text/plain": [
       "  missForest iteration 1 in progress...done!\n",
       "  missForest iteration 2 in progress...done!\n",
       "  missForest iteration 3 in progress...done!\n",
       "        PFC         MSE         MSE         MSE \n",
       "0.000000000 0.001001968 0.000000000 0.000000000 \n"
      ]
     },
     "metadata": {},
     "output_type": "display_data"
    }
   ],
   "source": [
    "%%R -o df_forest -i df\n",
    "\n",
    "#Convert categorical variables to factors (if we have categorical variables)\n",
    "df[,c(\"Metropolitan.areas\")] <- factor(df[,c(\"Metropolitan.areas\")])\n",
    "\n",
    "#impute\n",
    "imp <- missForest(df[,c(\"Metropolitan.areas\",\"LABOUR_PRODUCTIVITY\",\"UNEMP_R\",\"GDP_PC\")],variablewise=TRUE)\n",
    "\n",
    "#copy the df\n",
    "df_forest = df\n",
    "df_forest[,c(\"Metropolitan.areas\",\"LABOUR_PRODUCTIVITY\",\"UNEMP_R\",\"GDP_PC\")] = imp$ximp\n",
    "\n",
    "#print error rates\n",
    "print(imp$OOBerror)"
   ]
  },
  {
   "cell_type": "code",
   "execution_count": 189,
   "metadata": {},
   "outputs": [
    {
     "name": "stdout",
     "output_type": "stream",
     "text": [
      "Mean of Labour productivity 1.0073600441888704\n",
      "[0.9810418  1.03376702]\n"
     ]
    }
   ],
   "source": [
    "CIs = bootstrap.ci(df_forest[\"LABOUR_PRODUCTIVITY\"].dropna(), statfunction=np.mean,n_samples=10000)  \n",
    "print(\"Mean of Labour productivity\",np.mean(df_forest[\"LABOUR_PRODUCTIVITY\"]))\n",
    "print(CIs)"
   ]
  },
  {
   "cell_type": "markdown",
   "metadata": {},
   "source": [
    "### Impute using Multiple imputation\n",
    "- Disadvantage: Needs a function to aggregate the results"
   ]
  },
  {
   "cell_type": "code",
   "execution_count": 179,
   "metadata": {},
   "outputs": [
    {
     "name": "stdout",
     "output_type": "stream",
     "text": [
      "Mean of Labour productivity [1.00479728 1.0109559 ]\n"
     ]
    }
   ],
   "source": [
    "from fancyimpute import IterativeImputer\n",
    "import statsmodels.formula.api as smf\n",
    "\n",
    "def agg(data):\n",
    "    #e.g. for the mean\n",
    "    return [data[\"LABOUR_PRODUCTIVITY\"].mean()]\n",
    "    \n",
    "#     #e.g. for the coefficient in the regression\n",
    "#     return smf.ols(\"UNEMP_R~LABOUR_PRODUCTIVITY+GDP_PC\"\".format(label),data=sample_mice).fit().params\n",
    "\n",
    "\n",
    "def mice_impute_agg(data,variables,function,repetitions=100):\n",
    "    values = []\n",
    "    for j in range(repetitions):\n",
    "        sample = data.copy()\n",
    "        sample[variables] = IterativeImputer(n_iter=10, sample_posterior=True, random_state=j).fit_transform(sample[variables])\n",
    "        values.append(function(sample))\n",
    "    values = np.array(values)\n",
    "    return np.percentile(values,[2.5,97.5])\n",
    "\n",
    "\n",
    "df_mean = mice_impute_agg(df,[\"LABOUR_PRODUCTIVITY\",\"UNEMP_R\",\"GDP_PC\"],function=agg)\n",
    "print(\"Mean of Labour productivity\",df_mean)"
   ]
  },
  {
   "cell_type": "markdown",
   "metadata": {},
   "source": [
    "### Regression using Multiple imputation\n",
    "- You could also use bootstrapping using one of the other methods"
   ]
  },
  {
   "cell_type": "code",
   "execution_count": 181,
   "metadata": {},
   "outputs": [],
   "source": [
    "import warnings\n",
    "warnings.filterwarnings('ignore')"
   ]
  },
  {
   "cell_type": "code",
   "execution_count": 182,
   "metadata": {},
   "outputs": [
    {
     "name": "stdout",
     "output_type": "stream",
     "text": [
      "                               Results: MICE\n",
      "===========================================================================\n",
      "Method:                       MICE            Sample size:             143 \n",
      "Model:                        OLS             Scale                    0.09\n",
      "Dependent variable:           UNEMP_R         Num. imputations         100 \n",
      "---------------------------------------------------------------------------\n",
      "                     Coef.  Std.Err.    t     P>|t|   [0.025  0.975]  FMI  \n",
      "---------------------------------------------------------------------------\n",
      "Intercept            0.6425   0.2504   2.5656 0.0103  0.1517  1.1333 0.0429\n",
      "LABOUR_PRODUCTIVITY  4.2234   0.4621   9.1387 0.0000  3.3176  5.1292 0.0434\n",
      "GDP_PC              -3.8609   0.2429 -15.8927 0.0000 -4.3370 -3.3847 0.0381\n",
      "===========================================================================\n",
      "\n"
     ]
    }
   ],
   "source": [
    "from statsmodels.imputation import mice\n",
    "import statsmodels.api as sm\n",
    "\n",
    "#micedata doesn't like strings, so we keep a code for each city\n",
    "df[\"ID\"] = df[\"METRO_ID\"].str[2:].astype(int)\n",
    "\n",
    "imp = mice.MICEData(df[[\"UNEMP_R\",\"LABOUR_PRODUCTIVITY\",\"GDP_PC\"]])\n",
    "reg = mice.MICE('UNEMP_R ~ LABOUR_PRODUCTIVITY + GDP_PC', sm.OLS, imp).fit(10, 100)\n",
    "\n",
    "#fmi =  fraction of missing information\n",
    "print(reg.summary())"
   ]
  },
  {
   "cell_type": "markdown",
   "metadata": {},
   "source": [
    "# Inclass exercise:\n",
    "- Do the same for the other dataset"
   ]
  },
  {
   "cell_type": "code",
   "execution_count": null,
   "metadata": {},
   "outputs": [],
   "source": [
    "#Imports that you need\n",
    "from fancyimpute import KNN,IterativeImputer\n",
    "import scikits.bootstrap as bootstrap\n",
    "from statsmodels.imputation import mice\n",
    "import statsmodels.api as sm\n",
    "import statsmodels.formula.api as smf\n",
    "\n",
    "import rpy2 \n",
    "%load_ext rpy2.ipython\n",
    "%R require(\"missForest\")\n",
    "\n",
    "#For KNN imputation\n",
    "def knn_impute(data,variables,categorical_var=None,k=5):\n",
    "    sample = data.copy()\n",
    "    if categorical_var is None:\n",
    "        sample[variables] = KNN(k=k).fit_transform(sample[variables])\n",
    "        return data\n",
    "    else:\n",
    "        df_knns = []\n",
    "        for g,sample_g in sample.groupby(categorical_var):\n",
    "            try:\n",
    "                sample_g[variables] = KNN(k=k).fit_transform(sample_g[variables])\n",
    "            except:\n",
    "                print(g, \" not missing any\")\n",
    "            df_knns.append(sample_g)\n",
    "\n",
    "        return pd.concat(df_knns)\n",
    "    \n",
    "#For MICE imputation\n",
    "def agg(data):\n",
    "    #e.g. for the mean\n",
    "    return data[\"LABOUR_PRODUCTIVITY\"].mean()\n",
    "    \n",
    "#     #e.g. for the coefficient in the regression\n",
    "#     return smf.ols(\"UNEMP_R~LABOUR_PRODUCTIVITY+GDP_PC\"\".format(label),data=sample_mice).fit().params[1]\n",
    "\n",
    "\n",
    "def mice_impute_agg(data,variables,function,repetitions=100):\n",
    "    values = []\n",
    "    for j in range(repetitions):\n",
    "        sample = data.copy()\n",
    "        sample[variables] = IterativeImputer(n_iter=10, sample_posterior=True, random_state=j).fit_transform(sample[variables])\n",
    "        values.append(function(sample))\n",
    "    values = np.array(values)\n",
    "    return np.percentile(values,[2.5,97.5])\n"
   ]
  },
  {
   "cell_type": "code",
   "execution_count": null,
   "metadata": {},
   "outputs": [],
   "source": [
    "#Read the data of Spain (DONE)\n",
    "df = pd.read_csv(\"data/impute_example2.csv\",sep=\"\\t\")\n",
    "df = df.loc[df[\"Metropolitan areas\"]!=\"Spain\"]\n",
    "df.head()"
   ]
  },
  {
   "cell_type": "code",
   "execution_count": null,
   "metadata": {},
   "outputs": [],
   "source": [
    "#Impute using KNN (fancyimpute)\n",
    "df_knn = "
   ]
  },
  {
   "cell_type": "code",
   "execution_count": null,
   "metadata": {},
   "outputs": [],
   "source": [
    "#Impute using missForest"
   ]
  },
  {
   "cell_type": "code",
   "execution_count": null,
   "metadata": {},
   "outputs": [],
   "source": [
    "%%R -o df_forest -i df"
   ]
  },
  {
   "cell_type": "code",
   "execution_count": null,
   "metadata": {},
   "outputs": [],
   "source": [
    "#Merge df_knn and df_forest to see how the imputation worked, use the columns [\"Metropolitan areas\",\"UNEMP_R\",\"GDP_PC\"] \n",
    "#for the merging, those columns didn't have missing values so they will be the same for both\n",
    "df_merged  = pd.merge(...,...,on=[\"Metropolitan areas\",\"UNEMP_R\",\"GDP_PC\"])\n",
    "df_merged.head()"
   ]
  },
  {
   "cell_type": "code",
   "execution_count": null,
   "metadata": {},
   "outputs": [],
   "source": [
    "#Plot \"LABOUR_PRODUCTIVITY_x\" vs \"LABOUR_PRODUCTIVITY_y\""
   ]
  },
  {
   "cell_type": "code",
   "execution_count": null,
   "metadata": {},
   "outputs": [],
   "source": [
    "#Impute using MICE to calculate the maximum of \"LABOUR_PRODUCTIVITY\"\n",
    "\n",
    "#Here is the aggregation function\n",
    "def agg(data):\n",
    "    return data[\"LABOUR_PRODUCTIVITY\"].max()"
   ]
  },
  {
   "cell_type": "code",
   "execution_count": null,
   "metadata": {},
   "outputs": [],
   "source": [
    "#Impute using MICE and create the regression"
   ]
  }
 ],
 "metadata": {
  "anaconda-cloud": {},
  "kernelspec": {
   "display_name": "Python 3",
   "language": "python",
   "name": "python3"
  },
  "language_info": {
   "codemirror_mode": {
    "name": "ipython",
    "version": 3
   },
   "file_extension": ".py",
   "mimetype": "text/x-python",
   "name": "python",
   "nbconvert_exporter": "python",
   "pygments_lexer": "ipython3",
   "version": "3.5.6"
  },
  "nbpresent": {
   "slides": {
    "0618d23c-c892-426d-a7db-6e30a749b411": {
     "id": "0618d23c-c892-426d-a7db-6e30a749b411",
     "prev": "e04edbf3-e6a3-47ee-a93e-b6b72218a72b",
     "regions": {
      "ab64aa3f-c2c2-42bc-b9cf-fb40ee48ca55": {
       "attrs": {
        "height": 0.8,
        "width": 0.8,
        "x": 0.1,
        "y": 0.1
       },
       "content": {
        "cell": "ae46cc6e-7ca6-4082-a2b0-93e39ad03804",
        "part": "whole"
       },
       "id": "ab64aa3f-c2c2-42bc-b9cf-fb40ee48ca55"
      }
     }
    },
    "07d94af0-619e-4749-9beb-d5b03ca8fbe6": {
     "id": "07d94af0-619e-4749-9beb-d5b03ca8fbe6",
     "prev": "71957f46-ddf0-4af0-aebf-3b39629cced1",
     "regions": {
      "e0a08477-0545-4daf-ad69-8d484302a96f": {
       "attrs": {
        "height": 0.8,
        "width": 0.8,
        "x": 0.1,
        "y": 0.1
       },
       "content": {
        "cell": "915f5768-0b26-4581-b73d-c28c4799c3fb",
        "part": "whole"
       },
       "id": "e0a08477-0545-4daf-ad69-8d484302a96f"
      }
     }
    },
    "0d606407-dc80-41b6-bf14-fdf1295edc80": {
     "id": "0d606407-dc80-41b6-bf14-fdf1295edc80",
     "prev": "5ad83b98-ce59-4b10-abdd-12c3a72fdc8c",
     "regions": {
      "127a05cb-909a-47f1-9251-5bebe6a4018b": {
       "attrs": {
        "height": 0.8,
        "width": 0.8,
        "x": 0.1,
        "y": 0.1
       },
       "content": {
        "cell": "5e968e3f-0693-4cc5-98f0-f3592da1de9c",
        "part": "whole"
       },
       "id": "127a05cb-909a-47f1-9251-5bebe6a4018b"
      }
     }
    },
    "0e158e58-4214-4a59-97e4-bbab1859f608": {
     "id": "0e158e58-4214-4a59-97e4-bbab1859f608",
     "prev": "fb564439-51b4-49db-8548-096a9800512f",
     "regions": {
      "a87f64e4-43a0-4205-ac60-3557e1d30a02": {
       "attrs": {
        "height": 0.8,
        "width": 0.8,
        "x": 0.1,
        "y": 0.1
       },
       "content": {
        "cell": "abf01f5f-811b-4277-adc2-2bb795e50eba",
        "part": "whole"
       },
       "id": "a87f64e4-43a0-4205-ac60-3557e1d30a02"
      }
     }
    },
    "14f4a7ab-6424-46d4-b10a-dcac6a3bb847": {
     "id": "14f4a7ab-6424-46d4-b10a-dcac6a3bb847",
     "prev": "43e129b8-c7a6-490f-bbc9-a03d8ce967d8",
     "regions": {
      "0d609f72-85b2-4247-aa1d-6de093864f36": {
       "attrs": {
        "height": 0.8,
        "width": 0.8,
        "x": 0.1,
        "y": 0.1
       },
       "content": {
        "cell": "c264c61e-18ba-444d-ae01-6e0e950290c6",
        "part": "whole"
       },
       "id": "0d609f72-85b2-4247-aa1d-6de093864f36"
      }
     }
    },
    "1804328b-3589-4f9e-b76a-77efd092a115": {
     "id": "1804328b-3589-4f9e-b76a-77efd092a115",
     "prev": "aba92d82-d6f9-4c58-9ffa-640d63847dae",
     "regions": {
      "2dfb1ec5-af2a-4f98-b309-3c7a7afe3d18": {
       "attrs": {
        "height": 0.8,
        "width": 0.8,
        "x": 0.1,
        "y": 0.1
       },
       "content": {
        "cell": "1ee1e602-8e94-418e-bbf7-a69024fcb237",
        "part": "whole"
       },
       "id": "2dfb1ec5-af2a-4f98-b309-3c7a7afe3d18"
      }
     }
    },
    "18eecfe8-270e-499a-aa86-74f6f453daaf": {
     "id": "18eecfe8-270e-499a-aa86-74f6f453daaf",
     "prev": "5db6c74d-29f5-49a9-a4e2-b68a533b7c9c",
     "regions": {
      "d67b892f-9ffe-4a87-9292-ba9b56dad3db": {
       "attrs": {
        "height": 0.8,
        "width": 0.8,
        "x": 0.1,
        "y": 0.1
       },
       "content": {
        "cell": "7e793865-8cf6-4aa4-ad8a-c77cd6512b78",
        "part": "whole"
       },
       "id": "d67b892f-9ffe-4a87-9292-ba9b56dad3db"
      }
     }
    },
    "1a57b8da-9f7f-42ff-b5d6-87699429f892": {
     "id": "1a57b8da-9f7f-42ff-b5d6-87699429f892",
     "prev": "fe905394-ec36-4ca6-aea9-81e139c6b9c7",
     "regions": {
      "fd84a8eb-4e14-41fc-927d-c2ba345d16c4": {
       "attrs": {
        "height": 0.8,
        "width": 0.8,
        "x": 0.1,
        "y": 0.1
       },
       "content": {
        "cell": "1ac125ae-1897-4640-b4f9-cac74786350f",
        "part": "whole"
       },
       "id": "fd84a8eb-4e14-41fc-927d-c2ba345d16c4"
      }
     }
    },
    "27809539-0830-4a28-94fb-dc6f1d062f92": {
     "id": "27809539-0830-4a28-94fb-dc6f1d062f92",
     "prev": "9118163e-0b58-4743-86b3-70866482295b",
     "regions": {
      "2f3a16bc-c328-4b42-8f90-cf02b9ddfb9b": {
       "attrs": {
        "height": 0.8,
        "width": 0.8,
        "x": 0.1,
        "y": 0.1
       },
       "content": {
        "cell": "4e3ca13f-9bcc-415f-84a6-42a650c74d32",
        "part": "whole"
       },
       "id": "2f3a16bc-c328-4b42-8f90-cf02b9ddfb9b"
      }
     }
    },
    "2be8c82c-69c9-48c6-980e-a0c207fefc1b": {
     "id": "2be8c82c-69c9-48c6-980e-a0c207fefc1b",
     "prev": "5065e9cf-db59-436b-bf3b-960667a2e66d",
     "regions": {
      "acbd8be5-238e-4bd2-a642-0a5698673869": {
       "attrs": {
        "height": 0.8,
        "width": 0.8,
        "x": 0.1,
        "y": 0.1
       },
       "content": {
        "cell": "003f1839-d6db-49e8-b78e-565271dbf62a",
        "part": "whole"
       },
       "id": "acbd8be5-238e-4bd2-a642-0a5698673869"
      }
     }
    },
    "35d9b895-a6d6-45a6-a7ac-6bbfac8613de": {
     "id": "35d9b895-a6d6-45a6-a7ac-6bbfac8613de",
     "prev": null,
     "regions": {
      "475066f6-ceea-44a6-83ab-39d567ed5ea4": {
       "attrs": {
        "height": 0.8,
        "width": 0.8,
        "x": 0.1,
        "y": 0.1
       },
       "content": {
        "cell": "4a9918d3-9a2c-4349-ad42-998f3129c4e7",
        "part": "whole"
       },
       "id": "475066f6-ceea-44a6-83ab-39d567ed5ea4"
      }
     }
    },
    "38f901c4-b627-4b6b-b571-4087dc05324f": {
     "id": "38f901c4-b627-4b6b-b571-4087dc05324f",
     "prev": "4e602973-a4da-4931-9e62-766c0f3d5f20",
     "regions": {
      "75e7ef9a-ce64-4151-a97c-f646228c1345": {
       "attrs": {
        "height": 0.8,
        "width": 0.8,
        "x": 0.1,
        "y": 0.1
       },
       "content": {
        "cell": "746622aa-9fec-4ffe-966e-df2d2ed37096",
        "part": "whole"
       },
       "id": "75e7ef9a-ce64-4151-a97c-f646228c1345"
      }
     }
    },
    "39e99dc6-f92c-4c0e-b742-fef3709dfc4b": {
     "id": "39e99dc6-f92c-4c0e-b742-fef3709dfc4b",
     "prev": "50c798a1-36e8-4255-9e5e-e7b49ff0ee5c",
     "regions": {
      "6be171d1-1ca6-4cf7-adcc-efe3ab60fd86": {
       "attrs": {
        "height": 0.8,
        "width": 0.8,
        "x": 0.1,
        "y": 0.1
       },
       "content": {
        "cell": "6331b29e-321a-4d48-837f-33ccbf676644",
        "part": "whole"
       },
       "id": "6be171d1-1ca6-4cf7-adcc-efe3ab60fd86"
      }
     }
    },
    "43e129b8-c7a6-490f-bbc9-a03d8ce967d8": {
     "id": "43e129b8-c7a6-490f-bbc9-a03d8ce967d8",
     "prev": "2be8c82c-69c9-48c6-980e-a0c207fefc1b",
     "regions": {
      "db985c0f-7fd7-4812-95ad-aad6f3fa5f37": {
       "attrs": {
        "height": 0.8,
        "width": 0.8,
        "x": 0.1,
        "y": 0.1
       },
       "content": {
        "cell": "11a9e7fb-d702-4866-aebe-d9d4a9d139b8",
        "part": "whole"
       },
       "id": "db985c0f-7fd7-4812-95ad-aad6f3fa5f37"
      }
     }
    },
    "49e840c7-5789-4242-a304-b211229133af": {
     "id": "49e840c7-5789-4242-a304-b211229133af",
     "prev": "5876636b-e171-4c97-b389-988703396b1d",
     "regions": {
      "c59d201c-7d63-4322-bd19-29bc19b7775c": {
       "attrs": {
        "height": 0.8,
        "width": 0.8,
        "x": 0.1,
        "y": 0.1
       },
       "content": {
        "cell": "72f562b0-6ab1-47a1-a643-3ade99f6f859",
        "part": "whole"
       },
       "id": "c59d201c-7d63-4322-bd19-29bc19b7775c"
      }
     }
    },
    "4e602973-a4da-4931-9e62-766c0f3d5f20": {
     "id": "4e602973-a4da-4931-9e62-766c0f3d5f20",
     "prev": "0d606407-dc80-41b6-bf14-fdf1295edc80",
     "regions": {
      "b5ad80f7-6f15-4c43-b0bb-de0251bd4b18": {
       "attrs": {
        "height": 0.8,
        "width": 0.8,
        "x": 0.1,
        "y": 0.1
       },
       "content": {
        "cell": "a4e6360d-6d00-4509-b69a-2cf78778e566",
        "part": "whole"
       },
       "id": "b5ad80f7-6f15-4c43-b0bb-de0251bd4b18"
      }
     }
    },
    "5065e9cf-db59-436b-bf3b-960667a2e66d": {
     "id": "5065e9cf-db59-436b-bf3b-960667a2e66d",
     "prev": "673fc687-4c3b-44b2-9e63-72e81cd1edbd",
     "regions": {
      "e951937a-2b1e-48a3-9fc3-58e8b24c034f": {
       "attrs": {
        "height": 0.8,
        "width": 0.8,
        "x": 0.1,
        "y": 0.1
       },
       "content": {
        "cell": "2c8e2bc1-d259-4a33-a6b4-39cabbc7dd5d",
        "part": "whole"
       },
       "id": "e951937a-2b1e-48a3-9fc3-58e8b24c034f"
      }
     }
    },
    "50c798a1-36e8-4255-9e5e-e7b49ff0ee5c": {
     "id": "50c798a1-36e8-4255-9e5e-e7b49ff0ee5c",
     "prev": "b0071f3d-6e6c-4cf3-8f23-6f066988781f",
     "regions": {
      "a2419463-bb02-4b5e-be14-081ab7593397": {
       "attrs": {
        "height": 0.8,
        "width": 0.8,
        "x": 0.1,
        "y": 0.1
       },
       "content": {
        "cell": "f3b58f9a-6faa-4f34-a732-407e29d31fda",
        "part": "whole"
       },
       "id": "a2419463-bb02-4b5e-be14-081ab7593397"
      }
     }
    },
    "53f9caee-0cc1-4a29-8018-d0056bd23462": {
     "id": "53f9caee-0cc1-4a29-8018-d0056bd23462",
     "prev": "f2295faf-af43-4a94-a14f-4886ca61c34e",
     "regions": {
      "c7f9f315-9fe3-4319-bcc5-6ecd87d56571": {
       "attrs": {
        "height": 0.8,
        "width": 0.8,
        "x": 0.1,
        "y": 0.1
       },
       "content": {
        "cell": "1b1dd6c9-3357-49ef-89c8-f0b991e11d84",
        "part": "whole"
       },
       "id": "c7f9f315-9fe3-4319-bcc5-6ecd87d56571"
      }
     }
    },
    "5876636b-e171-4c97-b389-988703396b1d": {
     "id": "5876636b-e171-4c97-b389-988703396b1d",
     "prev": "d7fd0ec8-e9f3-44c5-983f-442a2f66f7a0",
     "regions": {
      "799ff53e-501a-47c4-bd62-1fc493ab0ada": {
       "attrs": {
        "height": 0.8,
        "width": 0.8,
        "x": 0.1,
        "y": 0.1
       },
       "content": {
        "cell": "6ecc029b-9ae7-489d-a701-e440888bb585",
        "part": "whole"
       },
       "id": "799ff53e-501a-47c4-bd62-1fc493ab0ada"
      }
     }
    },
    "5ad83b98-ce59-4b10-abdd-12c3a72fdc8c": {
     "id": "5ad83b98-ce59-4b10-abdd-12c3a72fdc8c",
     "prev": "c6150651-2eaa-43e2-8501-5576a6e92feb",
     "regions": {
      "139ad334-3674-44a9-bbbe-4477cabc4b9b": {
       "attrs": {
        "height": 0.8,
        "width": 0.8,
        "x": 0.1,
        "y": 0.1
       },
       "content": {
        "cell": "d78d908a-527d-4d79-bf4d-02714dea13f5",
        "part": "whole"
       },
       "id": "139ad334-3674-44a9-bbbe-4477cabc4b9b"
      }
     }
    },
    "5cae63cb-9e2a-4e54-8705-d6b1ef39c497": {
     "id": "5cae63cb-9e2a-4e54-8705-d6b1ef39c497",
     "prev": "1a57b8da-9f7f-42ff-b5d6-87699429f892",
     "regions": {
      "59e82220-60e9-4e99-9321-ba3cb3b7a4af": {
       "attrs": {
        "height": 0.8,
        "width": 0.8,
        "x": 0.1,
        "y": 0.1
       },
       "content": {
        "cell": "8156cffc-0db7-4371-82ee-25fbb8e1d194",
        "part": "whole"
       },
       "id": "59e82220-60e9-4e99-9321-ba3cb3b7a4af"
      }
     }
    },
    "5db6c74d-29f5-49a9-a4e2-b68a533b7c9c": {
     "id": "5db6c74d-29f5-49a9-a4e2-b68a533b7c9c",
     "prev": "0e158e58-4214-4a59-97e4-bbab1859f608",
     "regions": {
      "359b6955-84bc-4bdf-8590-aa5806fd4add": {
       "attrs": {
        "height": 0.8,
        "width": 0.8,
        "x": 0.1,
        "y": 0.1
       },
       "content": {
        "cell": "fff49a2e-b128-4339-a106-47e485efb6fc",
        "part": "whole"
       },
       "id": "359b6955-84bc-4bdf-8590-aa5806fd4add"
      }
     }
    },
    "60d19718-d135-4f8a-b50f-841286b94113": {
     "id": "60d19718-d135-4f8a-b50f-841286b94113",
     "prev": "5cae63cb-9e2a-4e54-8705-d6b1ef39c497",
     "regions": {
      "d82c2b7d-7b8b-4ce8-9fab-6d6bf083defd": {
       "attrs": {
        "height": 0.8,
        "width": 0.8,
        "x": 0.1,
        "y": 0.1
       },
       "content": {
        "cell": "c15db478-cb08-4557-8203-774840bc88b4",
        "part": "whole"
       },
       "id": "d82c2b7d-7b8b-4ce8-9fab-6d6bf083defd"
      }
     }
    },
    "65d113c8-eba2-4e59-82af-661be1d6b7cb": {
     "id": "65d113c8-eba2-4e59-82af-661be1d6b7cb",
     "prev": "e6d39e5a-9590-4fd6-b662-14ea83a6c782",
     "regions": {
      "1d787b2c-fab0-4dc1-915c-93a63b5a5260": {
       "attrs": {
        "height": 0.8,
        "width": 0.8,
        "x": 0.1,
        "y": 0.1
       },
       "content": {
        "cell": "cd40c5ef-7b4a-49f2-93ef-b9fb3b95aff9",
        "part": "whole"
       },
       "id": "1d787b2c-fab0-4dc1-915c-93a63b5a5260"
      }
     }
    },
    "673fc687-4c3b-44b2-9e63-72e81cd1edbd": {
     "id": "673fc687-4c3b-44b2-9e63-72e81cd1edbd",
     "prev": "18eecfe8-270e-499a-aa86-74f6f453daaf",
     "regions": {
      "dea4d96a-c9a9-4e21-9590-45292d559d5d": {
       "attrs": {
        "height": 0.8,
        "width": 0.8,
        "x": 0.1,
        "y": 0.1
       },
       "content": {
        "cell": "eca20c4b-c629-4cf6-a338-700907d0fb0e",
        "part": "whole"
       },
       "id": "dea4d96a-c9a9-4e21-9590-45292d559d5d"
      }
     }
    },
    "68096391-b39c-4ea4-bf07-f0fc6c50fa7a": {
     "id": "68096391-b39c-4ea4-bf07-f0fc6c50fa7a",
     "prev": "38f901c4-b627-4b6b-b571-4087dc05324f",
     "regions": {
      "bcbe9308-8c48-42c5-a550-01b8cbf3c9a2": {
       "attrs": {
        "height": 0.8,
        "width": 0.8,
        "x": 0.1,
        "y": 0.1
       },
       "content": {
        "cell": "1e8f214d-122e-4c68-a44c-18bd682f8dd6",
        "part": "whole"
       },
       "id": "bcbe9308-8c48-42c5-a550-01b8cbf3c9a2"
      }
     }
    },
    "685bedae-3a16-469b-bf48-773b63cd3976": {
     "id": "685bedae-3a16-469b-bf48-773b63cd3976",
     "prev": "e633ab2c-80db-4a74-8448-340813c0a173",
     "regions": {
      "492c28a0-3379-4f73-a26a-88dc0f2cc91b": {
       "attrs": {
        "height": 0.8,
        "width": 0.8,
        "x": 0.1,
        "y": 0.1
       },
       "content": {
        "cell": "a1c307e2-934c-4881-9f5f-ab1495c1bb94",
        "part": "whole"
       },
       "id": "492c28a0-3379-4f73-a26a-88dc0f2cc91b"
      }
     }
    },
    "6ba02286-9f90-4cfd-abc0-cb85b6111445": {
     "id": "6ba02286-9f90-4cfd-abc0-cb85b6111445",
     "prev": "35d9b895-a6d6-45a6-a7ac-6bbfac8613de",
     "regions": {
      "39d2370e-ad14-42c6-be61-e449ef445729": {
       "attrs": {
        "height": 0.8,
        "width": 0.8,
        "x": 0.1,
        "y": 0.1
       },
       "content": {
        "cell": "b6b4e6ff-033c-4b1d-8075-182285f4673a",
        "part": "whole"
       },
       "id": "39d2370e-ad14-42c6-be61-e449ef445729"
      }
     }
    },
    "6c1d18e7-9beb-4c2a-aa0a-769af264472f": {
     "id": "6c1d18e7-9beb-4c2a-aa0a-769af264472f",
     "prev": "8b049477-9556-4796-867c-55b42c083028",
     "regions": {
      "9581bb3b-c462-4cf5-99d0-f565db47ae2a": {
       "attrs": {
        "height": 0.8,
        "width": 0.8,
        "x": 0.1,
        "y": 0.1
       },
       "content": {
        "cell": "162b5cc0-60d6-4af4-9648-36cbdfbb47de",
        "part": "whole"
       },
       "id": "9581bb3b-c462-4cf5-99d0-f565db47ae2a"
      }
     }
    },
    "71957f46-ddf0-4af0-aebf-3b39629cced1": {
     "id": "71957f46-ddf0-4af0-aebf-3b39629cced1",
     "prev": "84869f1d-d606-4d25-aef3-fd49449dd31e",
     "regions": {
      "a73710d6-5d0b-4162-8c2c-0c3f72606d88": {
       "attrs": {
        "height": 0.8,
        "width": 0.8,
        "x": 0.1,
        "y": 0.1
       },
       "content": {
        "cell": "dfa3ba22-a84d-4b42-bd08-a5a2c504855d",
        "part": "whole"
       },
       "id": "a73710d6-5d0b-4162-8c2c-0c3f72606d88"
      }
     }
    },
    "84869f1d-d606-4d25-aef3-fd49449dd31e": {
     "id": "84869f1d-d606-4d25-aef3-fd49449dd31e",
     "prev": "b208bf3e-32b0-4118-9d41-0177aa5ea2bc",
     "regions": {
      "c63fd2e0-61d9-4439-9f7e-cc03e2b6aa4f": {
       "attrs": {
        "height": 0.8,
        "width": 0.8,
        "x": 0.1,
        "y": 0.1
       },
       "content": {
        "cell": "cb7289de-a2de-4a85-966f-dde2c7aa3a13",
        "part": "whole"
       },
       "id": "c63fd2e0-61d9-4439-9f7e-cc03e2b6aa4f"
      }
     }
    },
    "8b049477-9556-4796-867c-55b42c083028": {
     "id": "8b049477-9556-4796-867c-55b42c083028",
     "prev": "6ba02286-9f90-4cfd-abc0-cb85b6111445",
     "regions": {
      "9d68a531-afcb-44ca-82af-21c9df643c4d": {
       "attrs": {
        "height": 0.8,
        "width": 0.8,
        "x": 0.1,
        "y": 0.1
       },
       "content": {
        "cell": "cc97dec8-f639-4e91-8fd6-2bea6d825511",
        "part": "whole"
       },
       "id": "9d68a531-afcb-44ca-82af-21c9df643c4d"
      }
     }
    },
    "9118163e-0b58-4743-86b3-70866482295b": {
     "id": "9118163e-0b58-4743-86b3-70866482295b",
     "prev": "faa9a62b-d635-466f-8a5f-595e67c63ec8",
     "regions": {
      "36157c4c-0267-4adc-a9b3-2425c6f88957": {
       "attrs": {
        "height": 0.8,
        "width": 0.8,
        "x": 0.1,
        "y": 0.1
       },
       "content": {
        "cell": "c8f026b1-b1c4-4cc4-ad07-52d0e771def5",
        "part": "whole"
       },
       "id": "36157c4c-0267-4adc-a9b3-2425c6f88957"
      }
     }
    },
    "a3e5b3a1-0b5d-45dd-ac21-0d68e99fa3aa": {
     "id": "a3e5b3a1-0b5d-45dd-ac21-0d68e99fa3aa",
     "prev": "c31dfdcc-f2b1-469a-a46e-6c4ab0b528d5",
     "regions": {
      "c4b7eab3-6be7-46ce-b9fe-8818655ba53f": {
       "attrs": {
        "height": 0.8,
        "width": 0.8,
        "x": 0.1,
        "y": 0.1
       },
       "content": {
        "cell": "cf35c8cf-ea28-4827-8434-b745930d4977",
        "part": "whole"
       },
       "id": "c4b7eab3-6be7-46ce-b9fe-8818655ba53f"
      }
     }
    },
    "aba92d82-d6f9-4c58-9ffa-640d63847dae": {
     "id": "aba92d82-d6f9-4c58-9ffa-640d63847dae",
     "prev": "685bedae-3a16-469b-bf48-773b63cd3976",
     "regions": {
      "2c9dfbed-499e-49c9-b163-6363bcd88fa1": {
       "attrs": {
        "height": 0.8,
        "width": 0.8,
        "x": 0.1,
        "y": 0.1
       },
       "content": {
        "cell": "3b3e68f1-9d9e-4ed9-bc5e-dd73124bb593",
        "part": "whole"
       },
       "id": "2c9dfbed-499e-49c9-b163-6363bcd88fa1"
      }
     }
    },
    "af5f902b-0a69-4251-9139-38b0f3fcbb3f": {
     "id": "af5f902b-0a69-4251-9139-38b0f3fcbb3f",
     "prev": "68096391-b39c-4ea4-bf07-f0fc6c50fa7a",
     "regions": {
      "90205097-637e-4b7e-a46d-b71e37db9248": {
       "attrs": {
        "height": 0.8,
        "width": 0.8,
        "x": 0.1,
        "y": 0.1
       },
       "content": {
        "cell": "8a1d7be6-04a8-48d7-8cf9-be3a494e07e1",
        "part": "whole"
       },
       "id": "90205097-637e-4b7e-a46d-b71e37db9248"
      }
     }
    },
    "b0071f3d-6e6c-4cf3-8f23-6f066988781f": {
     "id": "b0071f3d-6e6c-4cf3-8f23-6f066988781f",
     "prev": "d79b5089-0961-49cc-b63f-e4ab1f185ee4",
     "regions": {
      "94c3ca1a-37ae-4727-8d60-7fc842e9b04d": {
       "attrs": {
        "height": 0.8,
        "width": 0.8,
        "x": 0.1,
        "y": 0.1
       },
       "content": {
        "cell": "3397e12e-b029-4bf0-a888-855603c51a51",
        "part": "whole"
       },
       "id": "94c3ca1a-37ae-4727-8d60-7fc842e9b04d"
      }
     }
    },
    "b208bf3e-32b0-4118-9d41-0177aa5ea2bc": {
     "id": "b208bf3e-32b0-4118-9d41-0177aa5ea2bc",
     "prev": "b4006456-b797-49fd-a57f-e4f52bf6ffa9",
     "regions": {
      "b2493d7f-96ba-4d56-94c9-7012c4ac3794": {
       "attrs": {
        "height": 0.8,
        "width": 0.8,
        "x": 0.1,
        "y": 0.1
       },
       "content": {
        "cell": "e94fd8e9-fa81-4bb2-91d7-a3778f4e1dff",
        "part": "whole"
       },
       "id": "b2493d7f-96ba-4d56-94c9-7012c4ac3794"
      }
     }
    },
    "b4006456-b797-49fd-a57f-e4f52bf6ffa9": {
     "id": "b4006456-b797-49fd-a57f-e4f52bf6ffa9",
     "prev": "27809539-0830-4a28-94fb-dc6f1d062f92",
     "regions": {
      "24e03f5a-83d0-46c3-bedc-69e6dc9a8169": {
       "attrs": {
        "height": 0.8,
        "width": 0.8,
        "x": 0.1,
        "y": 0.1
       },
       "content": {
        "cell": "13256b2d-7e22-4d17-b3be-e3a2538ee185",
        "part": "whole"
       },
       "id": "24e03f5a-83d0-46c3-bedc-69e6dc9a8169"
      }
     }
    },
    "c31dfdcc-f2b1-469a-a46e-6c4ab0b528d5": {
     "id": "c31dfdcc-f2b1-469a-a46e-6c4ab0b528d5",
     "prev": "07d94af0-619e-4749-9beb-d5b03ca8fbe6",
     "regions": {
      "f641018a-c0b3-4686-b823-8aa0e58a90e3": {
       "attrs": {
        "height": 0.8,
        "width": 0.8,
        "x": 0.1,
        "y": 0.1
       },
       "content": {
        "cell": "17be665c-5960-400e-9758-15d3e109f1eb",
        "part": "whole"
       },
       "id": "f641018a-c0b3-4686-b823-8aa0e58a90e3"
      }
     }
    },
    "c6150651-2eaa-43e2-8501-5576a6e92feb": {
     "id": "c6150651-2eaa-43e2-8501-5576a6e92feb",
     "prev": "ee94d7a2-6520-4665-9c43-34e44be53bc1",
     "regions": {
      "d532d6f0-999a-4d31-8827-99d4c854c48d": {
       "attrs": {
        "height": 0.8,
        "width": 0.8,
        "x": 0.1,
        "y": 0.1
       },
       "content": {
        "cell": "ebca7182-62b4-4893-a4ec-76e171089764",
        "part": "whole"
       },
       "id": "d532d6f0-999a-4d31-8827-99d4c854c48d"
      }
     }
    },
    "c9133d81-4597-4cc4-87e7-7c00373de447": {
     "id": "c9133d81-4597-4cc4-87e7-7c00373de447",
     "prev": "53f9caee-0cc1-4a29-8018-d0056bd23462",
     "regions": {
      "2e50e8bc-ffbd-40f3-8a58-5cc3546847b3": {
       "attrs": {
        "height": 0.8,
        "width": 0.8,
        "x": 0.1,
        "y": 0.1
       },
       "content": {
        "cell": "a86510eb-5b8a-4ebf-8267-157573174fae",
        "part": "whole"
       },
       "id": "2e50e8bc-ffbd-40f3-8a58-5cc3546847b3"
      }
     }
    },
    "d79b5089-0961-49cc-b63f-e4ab1f185ee4": {
     "id": "d79b5089-0961-49cc-b63f-e4ab1f185ee4",
     "prev": "6c1d18e7-9beb-4c2a-aa0a-769af264472f",
     "regions": {
      "f27ed292-4d0b-49be-b340-bd6b303331a2": {
       "attrs": {
        "height": 0.8,
        "width": 0.8,
        "x": 0.1,
        "y": 0.1
       },
       "content": {
        "cell": "c8ac9024-df37-4067-86f4-6c89cd5ee7cc",
        "part": "whole"
       },
       "id": "f27ed292-4d0b-49be-b340-bd6b303331a2"
      }
     }
    },
    "d7fd0ec8-e9f3-44c5-983f-442a2f66f7a0": {
     "id": "d7fd0ec8-e9f3-44c5-983f-442a2f66f7a0",
     "prev": "a3e5b3a1-0b5d-45dd-ac21-0d68e99fa3aa",
     "regions": {
      "ce47f272-3008-4677-93f3-3a3ddeb60886": {
       "attrs": {
        "height": 0.8,
        "width": 0.8,
        "x": 0.1,
        "y": 0.1
       },
       "content": {
        "cell": "9bdf51a8-fb13-4f5b-9d5e-9ae676c5402e",
        "part": "whole"
       },
       "id": "ce47f272-3008-4677-93f3-3a3ddeb60886"
      }
     }
    },
    "e04edbf3-e6a3-47ee-a93e-b6b72218a72b": {
     "id": "e04edbf3-e6a3-47ee-a93e-b6b72218a72b",
     "prev": "1804328b-3589-4f9e-b76a-77efd092a115",
     "regions": {
      "cbe8741a-c6de-4380-9a08-d44e54679603": {
       "attrs": {
        "height": 0.8,
        "width": 0.8,
        "x": 0.1,
        "y": 0.1
       },
       "content": {
        "cell": "b692072a-c1d3-44c5-a3c8-fdb94c8ae8a8",
        "part": "whole"
       },
       "id": "cbe8741a-c6de-4380-9a08-d44e54679603"
      }
     }
    },
    "e633ab2c-80db-4a74-8448-340813c0a173": {
     "id": "e633ab2c-80db-4a74-8448-340813c0a173",
     "prev": "65d113c8-eba2-4e59-82af-661be1d6b7cb",
     "regions": {
      "922bd306-5a42-4063-b8c9-e2444206f6cf": {
       "attrs": {
        "height": 0.8,
        "width": 0.8,
        "x": 0.1,
        "y": 0.1
       },
       "content": {
        "cell": "773645fb-07d6-44d2-9f18-eb935498e6f0",
        "part": "whole"
       },
       "id": "922bd306-5a42-4063-b8c9-e2444206f6cf"
      }
     }
    },
    "e6d39e5a-9590-4fd6-b662-14ea83a6c782": {
     "id": "e6d39e5a-9590-4fd6-b662-14ea83a6c782",
     "prev": "ebd3c65b-8103-4690-ac31-9ba6cdd2e0c1",
     "regions": {
      "6e34be5b-65c7-464e-8fb6-e6ee88609666": {
       "attrs": {
        "height": 0.8,
        "width": 0.8,
        "x": 0.1,
        "y": 0.1
       },
       "content": {
        "cell": "e488f5db-b073-4a7b-b600-a94957ff7f71",
        "part": "whole"
       },
       "id": "6e34be5b-65c7-464e-8fb6-e6ee88609666"
      }
     }
    },
    "ebd3c65b-8103-4690-ac31-9ba6cdd2e0c1": {
     "id": "ebd3c65b-8103-4690-ac31-9ba6cdd2e0c1",
     "prev": "14f4a7ab-6424-46d4-b10a-dcac6a3bb847",
     "regions": {
      "7adfde6a-3a73-481e-a094-62b63d0ac575": {
       "attrs": {
        "height": 0.8,
        "width": 0.8,
        "x": 0.1,
        "y": 0.1
       },
       "content": {
        "cell": "90b6732a-ad1d-4cb3-9a7d-b1183c9490fd",
        "part": "whole"
       },
       "id": "7adfde6a-3a73-481e-a094-62b63d0ac575"
      }
     }
    },
    "ee94d7a2-6520-4665-9c43-34e44be53bc1": {
     "id": "ee94d7a2-6520-4665-9c43-34e44be53bc1",
     "prev": "49e840c7-5789-4242-a304-b211229133af",
     "regions": {
      "12d66648-cdf1-45ef-9149-efd82ef48c6e": {
       "attrs": {
        "height": 0.8,
        "width": 0.8,
        "x": 0.1,
        "y": 0.1
       },
       "content": {
        "cell": "9fef5948-bcb4-48c2-aa09-8a9234b8f54b",
        "part": "whole"
       },
       "id": "12d66648-cdf1-45ef-9149-efd82ef48c6e"
      }
     }
    },
    "f2295faf-af43-4a94-a14f-4886ca61c34e": {
     "id": "f2295faf-af43-4a94-a14f-4886ca61c34e",
     "prev": "0618d23c-c892-426d-a7db-6e30a749b411",
     "regions": {
      "0e60d90c-dc8a-4fcb-aafa-1539452efe36": {
       "attrs": {
        "height": 0.8,
        "width": 0.8,
        "x": 0.1,
        "y": 0.1
       },
       "content": {
        "cell": "11243896-6c2d-4f55-bb2d-016ea7c6bbfe",
        "part": "whole"
       },
       "id": "0e60d90c-dc8a-4fcb-aafa-1539452efe36"
      }
     }
    },
    "faa9a62b-d635-466f-8a5f-595e67c63ec8": {
     "id": "faa9a62b-d635-466f-8a5f-595e67c63ec8",
     "prev": "c9133d81-4597-4cc4-87e7-7c00373de447",
     "regions": {
      "7e33a06c-b5da-4311-b67e-42f4c212d776": {
       "attrs": {
        "height": 0.8,
        "width": 0.8,
        "x": 0.1,
        "y": 0.1
       },
       "content": {
        "cell": "7b4d16ce-a00b-4340-a9fb-986159a682a2",
        "part": "whole"
       },
       "id": "7e33a06c-b5da-4311-b67e-42f4c212d776"
      }
     }
    },
    "fb564439-51b4-49db-8548-096a9800512f": {
     "id": "fb564439-51b4-49db-8548-096a9800512f",
     "prev": "60d19718-d135-4f8a-b50f-841286b94113",
     "regions": {
      "64b213ca-19e5-4368-b6e6-58ed088f3152": {
       "attrs": {
        "height": 0.8,
        "width": 0.8,
        "x": 0.1,
        "y": 0.1
       },
       "content": {
        "cell": "616f20a5-7fe2-4c0d-8966-7a5fd92273a7",
        "part": "whole"
       },
       "id": "64b213ca-19e5-4368-b6e6-58ed088f3152"
      }
     }
    },
    "fe905394-ec36-4ca6-aea9-81e139c6b9c7": {
     "id": "fe905394-ec36-4ca6-aea9-81e139c6b9c7",
     "prev": "39e99dc6-f92c-4c0e-b742-fef3709dfc4b",
     "regions": {
      "9343f200-5b6e-47a4-ab26-01949c7f0b3f": {
       "attrs": {
        "height": 0.8,
        "width": 0.8,
        "x": 0.1,
        "y": 0.1
       },
       "content": {
        "cell": "a08dee11-2dc6-4de8-8f5c-7ad2d49ae2d8",
        "part": "whole"
       },
       "id": "9343f200-5b6e-47a4-ab26-01949c7f0b3f"
      }
     }
    }
   },
   "themes": {}
  }
 },
 "nbformat": 4,
 "nbformat_minor": 1
}
