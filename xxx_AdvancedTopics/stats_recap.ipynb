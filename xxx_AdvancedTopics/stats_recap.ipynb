{
 "cells": [
  {
   "cell_type": "markdown",
   "metadata": {},
   "source": [
    "# Workflow for statistics\n",
    "\n",
    "## Case 1: Suppose that you want to test differences in one variable between groups\n",
    "- Step0: iid:\n",
    "    - The observations are not correlated (for instance they are not different years)\n",
    "- Step1: Normality:\n",
    "    - Make sure this variable is normally distributed (qqplot + histogram)\n",
    "    - If it's lognormally distributed tranform it with the logarithm\n",
    "    - If it follow any other distribution you need some other transformation\n",
    "- Step2: Create your groups.    \n",
    "- Step3: Equal variance:\n",
    "    - Levene test -> but a bit rigurous\n",
    "    - As a rule of thumb the variance of the group with highest variance shouldn't be greater than 4 times the variance of the group with lowest variance.\n",
    "- Step4: Do ANOVA/Kruskal-Wallis (with two groups do t-test or MWU)\n",
    "- Step5: Do Tukey test if normality distributed and equal variance. Otherwise you can compare each pair of groups with MWU test (and the level of significance should be 0.05/number of comparisons)\n",
    "   \n",
    "\n",
    "## Case 2: Suppose that you want to find relationships between variables\n",
    "- Step0:\n",
    "    - Do a correlation plot and a scatter matrix to understand how your variables correlate to each other.\n",
    "- Step1: \n",
    "    - Run regression\n",
    "- Step2:\n",
    "    - Check assumptions and modify your variables as needed. The two most common things that can help:\n",
    "        - Transform your variables so all of them have similar distributions\n",
    "        - Combine or drop some variables (see dimensionality reduction notebook)"
   ]
  }
 ],
 "metadata": {
  "anaconda-cloud": {},
  "kernelspec": {
   "display_name": "Python [conda root]",
   "language": "python",
   "name": "conda-root-py"
  },
  "language_info": {
   "codemirror_mode": {
    "name": "ipython",
    "version": 3
   },
   "file_extension": ".py",
   "mimetype": "text/x-python",
   "name": "python",
   "nbconvert_exporter": "python",
   "pygments_lexer": "ipython3",
   "version": "3.5.4"
  }
 },
 "nbformat": 4,
 "nbformat_minor": 1
}
