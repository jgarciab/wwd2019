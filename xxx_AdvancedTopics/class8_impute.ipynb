{
 "cells": [
  {
   "cell_type": "markdown",
   "metadata": {},
   "source": [
    "# Working with data 2017. Class 8\n",
    "## Contact\n",
    "Javier Garcia-Bernardo\n",
    "garcia@uva.nl\n",
    "\n",
    "## 1. Clustering\n",
    "## 2. Data imputation\n",
    "## 3. Dimensionality reduction"
   ]
  },
  {
   "cell_type": "code",
   "execution_count": 1,
   "metadata": {},
   "outputs": [
    {
     "data": {
      "text/html": [
       "<style>.container { width:90% !important; }</style>"
      ],
      "text/plain": [
       "<IPython.core.display.HTML object>"
      ]
     },
     "metadata": {},
     "output_type": "display_data"
    }
   ],
   "source": [
    "##Some code to run at the beginning of the file, to be able to show images in the notebook\n",
    "##Don't worry about this cell\n",
    "\n",
    "#Print the plots in this screen\n",
    "%matplotlib inline \n",
    "\n",
    "#Be able to plot images saved in the hard drive\n",
    "from IPython.display import Image \n",
    "\n",
    "#Make the notebook wider\n",
    "from IPython.core.display import display, HTML \n",
    "display(HTML(\"<style>.container { width:90% !important; }</style>\"))\n",
    "\n",
    "import seaborn as sns\n",
    "import pylab as plt\n",
    "import pandas as pd\n",
    "import numpy as np\n",
    "import scipy.stats\n",
    "\n",
    "import statsmodels.formula.api as smf"
   ]
  },
  {
   "cell_type": "markdown",
   "metadata": {},
   "source": [
    "# 1. Clustering"
   ]
  },
  {
   "cell_type": "code",
   "execution_count": 2,
   "metadata": {},
   "outputs": [],
   "source": [
    "#Som elibraries\n",
    "from sklearn import preprocessing\n",
    "from sklearn.cluster import DBSCAN, KMeans"
   ]
  },
  {
   "cell_type": "code",
   "execution_count": 3,
   "metadata": {},
   "outputs": [
    {
     "name": "stderr",
     "output_type": "stream",
     "text": [
      "/opt/anaconda/anaconda3/lib/python3.5/site-packages/ipykernel/__main__.py:3: RuntimeWarning: divide by zero encountered in log10\n",
      "  app.launch_new_instance()\n",
      "/opt/anaconda/anaconda3/lib/python3.5/site-packages/ipykernel/__main__.py:6: RuntimeWarning: divide by zero encountered in log10\n"
     ]
    },
    {
     "data": {
      "text/html": [
       "<div>\n",
       "<style>\n",
       "    .dataframe thead tr:only-child th {\n",
       "        text-align: right;\n",
       "    }\n",
       "\n",
       "    .dataframe thead th {\n",
       "        text-align: left;\n",
       "    }\n",
       "\n",
       "    .dataframe tbody tr th {\n",
       "        vertical-align: top;\n",
       "    }\n",
       "</style>\n",
       "<table border=\"1\" class=\"dataframe\">\n",
       "  <thead>\n",
       "    <tr style=\"text-align: right;\">\n",
       "      <th></th>\n",
       "      <th>Company_name</th>\n",
       "      <th>Company_ID</th>\n",
       "      <th>Big3Share</th>\n",
       "      <th>Position</th>\n",
       "      <th>Revenue</th>\n",
       "      <th>Assets</th>\n",
       "      <th>Employees</th>\n",
       "      <th>MarketCap</th>\n",
       "      <th>Exchange</th>\n",
       "      <th>TypeEnt</th>\n",
       "    </tr>\n",
       "  </thead>\n",
       "  <tbody>\n",
       "    <tr>\n",
       "      <th>1606</th>\n",
       "      <td>TRANSMONTAIGNE PARTNERS L.P.</td>\n",
       "      <td>US342037221</td>\n",
       "      <td>0.00</td>\n",
       "      <td>130</td>\n",
       "      <td>5.183298</td>\n",
       "      <td>5.817358</td>\n",
       "      <td>2.653213</td>\n",
       "      <td>5.799317</td>\n",
       "      <td>New York Stock Exchange (NYSE)</td>\n",
       "      <td>Industrial company</td>\n",
       "    </tr>\n",
       "    <tr>\n",
       "      <th>2540</th>\n",
       "      <td>MONARCH FINANCIAL HOLDINGS INC</td>\n",
       "      <td>US541896433</td>\n",
       "      <td>1.95</td>\n",
       "      <td>4</td>\n",
       "      <td>5.111491</td>\n",
       "      <td>6.065000</td>\n",
       "      <td>2.808211</td>\n",
       "      <td>5.361174</td>\n",
       "      <td>NASDAQ National Market</td>\n",
       "      <td>Bank</td>\n",
       "    </tr>\n",
       "  </tbody>\n",
       "</table>\n",
       "</div>"
      ],
      "text/plain": [
       "                        Company_name   Company_ID  Big3Share  Position  \\\n",
       "1606    TRANSMONTAIGNE PARTNERS L.P.  US342037221       0.00       130   \n",
       "2540  MONARCH FINANCIAL HOLDINGS INC  US541896433       1.95         4   \n",
       "\n",
       "       Revenue    Assets  Employees  MarketCap  \\\n",
       "1606  5.183298  5.817358   2.653213   5.799317   \n",
       "2540  5.111491  6.065000   2.808211   5.361174   \n",
       "\n",
       "                            Exchange             TypeEnt  \n",
       "1606  New York Stock Exchange (NYSE)  Industrial company  \n",
       "2540          NASDAQ National Market                Bank  "
      ]
     },
     "execution_count": 3,
     "metadata": {},
     "output_type": "execute_result"
    }
   ],
   "source": [
    "#Read teh data, dropna, get sample\n",
    "df = pd.read_csv(\"data/big3_position.csv\",sep=\"\\t\").dropna()\n",
    "df[\"Revenue\"] = np.log10(df[\"Revenue\"])\n",
    "df[\"Assets\"] = np.log10(df[\"Assets\"])\n",
    "df[\"Employees\"] = np.log10(df[\"Employees\"])\n",
    "df[\"MarketCap\"] = np.log10(df[\"MarketCap\"])\n",
    "df = df.replace([np.inf,-np.inf],np.nan).dropna().sample(300)\n",
    "df.head(2)"
   ]
  },
  {
   "cell_type": "code",
   "execution_count": 4,
   "metadata": {},
   "outputs": [
    {
     "name": "stdout",
     "output_type": "stream",
     "text": [
      "[ -1.52322599e-13   1.15463195e-14  -3.26128013e-14  -1.76747506e-13]\n",
      "[ 1.  1.  1.  1.]\n"
     ]
    },
    {
     "data": {
      "text/plain": [
       "array([[-0.4167572 , -0.15232465, -0.51062788, -0.07562001],\n",
       "       [-0.48842543,  0.13291634, -0.33684611, -0.57679564],\n",
       "       [ 0.02678046, -0.53907616,  0.85928926, -1.1173938 ],\n",
       "       ..., \n",
       "       [ 0.78406   ,  0.90255769,  0.71704103,  0.85413886],\n",
       "       [ 0.32652566, -0.18846638,  0.84284894, -0.30915682],\n",
       "       [-0.14079303, -0.76932154,  0.23945175, -0.54881192]])"
      ]
     },
     "execution_count": 4,
     "metadata": {},
     "output_type": "execute_result"
    }
   ],
   "source": [
    "#Scale variables to give all of them the same weight\n",
    "X = df.loc[:,[\"Revenue\",\"Assets\",\"Employees\",\"MarketCap\"]]\n",
    "X = preprocessing.scale(X)\n",
    "print(X.sum(0))\n",
    "print(X.std(0))\n",
    "X"
   ]
  },
  {
   "cell_type": "markdown",
   "metadata": {},
   "source": [
    "# 1a. Clustering with K-means \n",
    "- k-means clustering aims to partition n observations into k clusters in which each observation belongs to the cluster with the nearest mean, serving as a prototype of the cluster. This results in a partitioning of the data space into Voronoi cells.\n",
    "- Other methods: http://scikit-learn.org/stable/modules/clustering.html\n"
   ]
  },
  {
   "cell_type": "code",
   "execution_count": 5,
   "metadata": {},
   "outputs": [
    {
     "data": {
      "text/plain": [
       "<seaborn.axisgrid.FacetGrid at 0x7f7a25a54358>"
      ]
     },
     "execution_count": 5,
     "metadata": {},
     "output_type": "execute_result"
    },
    {
     "data": {
      "image/png": "[encoded data removed]",
      "text/plain": [
       "<matplotlib.figure.Figure at 0x7f7a25a54320>"
      ]
     },
     "metadata": {},
     "output_type": "display_data"
    }
   ],
   "source": [
    "#Get labels of each row and add a new column with the labels\n",
    "kmeans = KMeans(n_clusters=2).fit(X)\n",
    "labels = kmeans.labels_\n",
    "df[\"kmeans_labels\"] = labels\n",
    "sns.lmplot(x=\"MarketCap\",y=\"Assets\",hue=\"kmeans_labels\",fit_reg=False,data=df)"
   ]
  },
  {
   "cell_type": "markdown",
   "metadata": {},
   "source": [
    "# 1b. Clustering with DBSCAN\n",
    "- The DBSCAN algorithm views clusters as areas of high density separated by areas of low density. Due to this rather generic view, clusters found by DBSCAN can be any shape, as oppos"
   ]
  },
  {
   "cell_type": "code",
   "execution_count": 6,
   "metadata": {},
   "outputs": [
    {
     "data": {
      "text/plain": [
       "<seaborn.axisgrid.FacetGrid at 0x7f7a232c5be0>"
      ]
     },
     "execution_count": 6,
     "metadata": {},
     "output_type": "execute_result"
    },
    {
     "data": {
      "image/png": "[encoded data removed]",
      "text/plain": [
       "<matplotlib.figure.Figure at 0x7f7a232c59e8>"
      ]
     },
     "metadata": {},
     "output_type": "display_data"
    }
   ],
   "source": [
    "#Get labels of each row and add a new column with the labels\n",
    "db = DBSCAN(eps=1, min_samples=10).fit(X)\n",
    "labels = db.labels_\n",
    "df[\"dbscan_labels\"] = labels\n",
    "sns.lmplot(x=\"MarketCap\",y=\"Assets\",hue=\"dbscan_labels\",fit_reg=False,data=df)"
   ]
  },
  {
   "cell_type": "code",
   "execution_count": 7,
   "metadata": {},
   "outputs": [
    {
     "data": {
      "text/html": [
       "<img src=\"http://scikit-learn.org/stable/_images/sphx_glr_plot_cluster_comparison_0011.png\"/>"
      ],
      "text/plain": [
       "<IPython.core.display.Image object>"
      ]
     },
     "execution_count": 7,
     "metadata": {},
     "output_type": "execute_result"
    }
   ],
   "source": [
    "Image(url=\"http://scikit-learn.org/stable/_images/sphx_glr_plot_cluster_comparison_0011.png\")"
   ]
  },
  {
   "cell_type": "markdown",
   "metadata": {},
   "source": [
    "# 1c. Hierarchical clustering\n",
    "- Keeps aggreagating from a point"
   ]
  },
  {
   "cell_type": "code",
   "execution_count": 8,
   "metadata": {},
   "outputs": [
    {
     "name": "stdout",
     "output_type": "stream",
     "text": [
      "[[   0.          150.04717583  110.43267807  158.28678366]\n",
      " [ 150.04717583    0.          186.27515624  132.22902991]\n",
      " [ 110.43267807  186.27515624    0.          179.82931924]\n",
      " [ 158.28678366  132.22902991  179.82931924    0.        ]]\n"
     ]
    },
    {
     "name": "stderr",
     "output_type": "stream",
     "text": [
      "/opt/anaconda/anaconda3/lib/python3.5/site-packages/ipykernel/__main__.py:14: ClusterWarning: scipy.cluster: The symmetric non-negative hollow observation matrix looks suspiciously like an uncondensed distance matrix\n"
     ]
    },
    {
     "data": {
      "image/png": "[encoded data removed]",
      "text/plain": [
       "<matplotlib.figure.Figure at 0x7f7a2323c4e0>"
      ]
     },
     "metadata": {},
     "output_type": "display_data"
    }
   ],
   "source": [
    "import scipy\n",
    "import pylab\n",
    "import scipy.cluster.hierarchy as sch\n",
    "\n",
    "# Generate distance matrix based on the difference between rows\n",
    "D = np.zeros([4,4])\n",
    "for i in range(4):\n",
    "    for j in range(4):\n",
    "        D[i,j] = np.sum(np.abs(X[:,i]-X[:,j])) #Euclidean distance or mutual information are also common\n",
    "        \n",
    "print(D)\n",
    "\n",
    "#Create the linkage and plot\n",
    "Y = sch.linkage(D, method='centroid') #many methods, single, complete...\n",
    "Z1 = sch.dendrogram(Y, orientation='right',labels=[\"Revenue\",\"Assets\",\"Employees\",\"MarketCap\"])\n"
   ]
  },
  {
   "cell_type": "markdown",
   "metadata": {},
   "source": [
    "# 2. Imputation of missing data (fancy)"
   ]
  },
  {
   "cell_type": "code",
   "execution_count": null,
   "metadata": {
    "collapsed": true
   },
   "outputs": [],
   "source": [
    "#Required libraries\n",
    "!conda install tensorflow -y\n",
    "!pip install fancyimpute\n",
    "!pip install pydot_ng"
   ]
  },
  {
   "cell_type": "code",
   "execution_count": 9,
   "metadata": {},
   "outputs": [],
   "source": [
    "import sklearn.preprocessing\n",
    "import sklearn\n"
   ]
  },
  {
   "cell_type": "code",
   "execution_count": 10,
   "metadata": {},
   "outputs": [
    {
     "name": "stdout",
     "output_type": "stream",
     "text": [
      "['Bank' 'Financial company' 'Foundation/Research institute'\n",
      " 'Industrial company' 'Insurance company' 'Venture capital']\n"
     ]
    },
    {
     "name": "stderr",
     "output_type": "stream",
     "text": [
      "/opt/anaconda/anaconda3/lib/python3.5/site-packages/ipykernel/__main__.py:3: RuntimeWarning: divide by zero encountered in log10\n",
      "  app.launch_new_instance()\n",
      "/opt/anaconda/anaconda3/lib/python3.5/site-packages/ipykernel/__main__.py:3: RuntimeWarning: invalid value encountered in log10\n",
      "  app.launch_new_instance()\n",
      "/opt/anaconda/anaconda3/lib/python3.5/site-packages/ipykernel/__main__.py:6: RuntimeWarning: divide by zero encountered in log10\n"
     ]
    },
    {
     "data": {
      "text/html": [
       "<div>\n",
       "<style>\n",
       "    .dataframe thead tr:only-child th {\n",
       "        text-align: right;\n",
       "    }\n",
       "\n",
       "    .dataframe thead th {\n",
       "        text-align: left;\n",
       "    }\n",
       "\n",
       "    .dataframe tbody tr th {\n",
       "        vertical-align: top;\n",
       "    }\n",
       "</style>\n",
       "<table border=\"1\" class=\"dataframe\">\n",
       "  <thead>\n",
       "    <tr style=\"text-align: right;\">\n",
       "      <th></th>\n",
       "      <th>Company_name</th>\n",
       "      <th>Company_ID</th>\n",
       "      <th>Big3Share</th>\n",
       "      <th>Position</th>\n",
       "      <th>Revenue</th>\n",
       "      <th>Assets</th>\n",
       "      <th>Employees</th>\n",
       "      <th>MarketCap</th>\n",
       "      <th>Exchange</th>\n",
       "      <th>TypeEnt</th>\n",
       "      <th>TypeEnt_int</th>\n",
       "    </tr>\n",
       "  </thead>\n",
       "  <tbody>\n",
       "    <tr>\n",
       "      <th>1332</th>\n",
       "      <td>THERMON GROUP HOLDINGS, INC.</td>\n",
       "      <td>US272228185</td>\n",
       "      <td>12.86</td>\n",
       "      <td>1</td>\n",
       "      <td>5.489365</td>\n",
       "      <td>5.656394</td>\n",
       "      <td>2.996074</td>\n",
       "      <td>5.817061</td>\n",
       "      <td>New York Stock Exchange (NYSE)</td>\n",
       "      <td>Industrial company</td>\n",
       "      <td>3</td>\n",
       "    </tr>\n",
       "    <tr>\n",
       "      <th>889</th>\n",
       "      <td>NATIONAL COMMERCE CORP</td>\n",
       "      <td>US208627710</td>\n",
       "      <td>3.98</td>\n",
       "      <td>4</td>\n",
       "      <td>4.766048</td>\n",
       "      <td>6.246343</td>\n",
       "      <td>2.460898</td>\n",
       "      <td>5.401126</td>\n",
       "      <td>NASDAQ National Market</td>\n",
       "      <td>Bank</td>\n",
       "      <td>0</td>\n",
       "    </tr>\n",
       "  </tbody>\n",
       "</table>\n",
       "</div>"
      ],
      "text/plain": [
       "                      Company_name   Company_ID  Big3Share  Position  \\\n",
       "1332  THERMON GROUP HOLDINGS, INC.  US272228185      12.86         1   \n",
       "889         NATIONAL COMMERCE CORP  US208627710       3.98         4   \n",
       "\n",
       "       Revenue    Assets  Employees  MarketCap  \\\n",
       "1332  5.489365  5.656394   2.996074   5.817061   \n",
       "889   4.766048  6.246343   2.460898   5.401126   \n",
       "\n",
       "                            Exchange             TypeEnt  TypeEnt_int  \n",
       "1332  New York Stock Exchange (NYSE)  Industrial company            3  \n",
       "889           NASDAQ National Market                Bank            0  "
      ]
     },
     "execution_count": 10,
     "metadata": {},
     "output_type": "execute_result"
    }
   ],
   "source": [
    "#Read the data again but do not \n",
    "df = pd.read_csv(\"data/big3_position.csv\",sep=\"\\t\")\n",
    "df[\"Revenue\"] = np.log10(df[\"Revenue\"])\n",
    "df[\"Assets\"] = np.log10(df[\"Assets\"])\n",
    "df[\"Employees\"] = np.log10(df[\"Employees\"])\n",
    "df[\"MarketCap\"] = np.log10(df[\"MarketCap\"])\n",
    "\n",
    "\n",
    "le = sklearn.preprocessing.LabelEncoder()\n",
    "labels = le.fit_transform(df[\"TypeEnt\"])\n",
    "df[\"TypeEnt_int\"] = labels\n",
    "\n",
    "print(le.classes_)\n",
    "\n",
    "df = df.replace([np.inf,-np.inf],np.nan).sample(300)\n",
    "df.head(2)"
   ]
  },
  {
   "cell_type": "code",
   "execution_count": 11,
   "metadata": {},
   "outputs": [
    {
     "data": {
      "text/plain": [
       "array([[ 5.48936496,  5.65639434,  2.99607365,  5.81706137,  3.        ],\n",
       "       [ 4.7660483 ,  6.2463432 ,  2.46089784,  5.40112644,  0.        ],\n",
       "       [ 3.45086469,  4.65090948,         nan,  4.41630759,  5.        ],\n",
       "       ..., \n",
       "       [ 2.49554434,  4.65645278,  1.59106461,  4.33491595,  3.        ],\n",
       "       [ 6.7998848 ,  6.80649879,  4.35218252,  7.18118611,  3.        ],\n",
       "       [ 5.5938463 ,  5.83517037,  3.09829754,  6.39841313,  3.        ]])"
      ]
     },
     "execution_count": 11,
     "metadata": {},
     "output_type": "execute_result"
    }
   ],
   "source": [
    "X = df.loc[:,[\"Revenue\",\"Assets\",\"Employees\",\"MarketCap\",\"TypeEnt_int\"]].values\n",
    "X"
   ]
  },
  {
   "cell_type": "code",
   "execution_count": 12,
   "metadata": {},
   "outputs": [
    {
     "data": {
      "text/html": [
       "<div>\n",
       "<style>\n",
       "    .dataframe thead tr:only-child th {\n",
       "        text-align: right;\n",
       "    }\n",
       "\n",
       "    .dataframe thead th {\n",
       "        text-align: left;\n",
       "    }\n",
       "\n",
       "    .dataframe tbody tr th {\n",
       "        vertical-align: top;\n",
       "    }\n",
       "</style>\n",
       "<table border=\"1\" class=\"dataframe\">\n",
       "  <thead>\n",
       "    <tr style=\"text-align: right;\">\n",
       "      <th></th>\n",
       "      <th>Big3Share</th>\n",
       "      <th>Position</th>\n",
       "      <th>Revenue</th>\n",
       "      <th>Assets</th>\n",
       "      <th>Employees</th>\n",
       "      <th>MarketCap</th>\n",
       "      <th>TypeEnt_int</th>\n",
       "    </tr>\n",
       "  </thead>\n",
       "  <tbody>\n",
       "    <tr>\n",
       "      <th>count</th>\n",
       "      <td>300.000000</td>\n",
       "      <td>300.000000</td>\n",
       "      <td>284.000000</td>\n",
       "      <td>283.000000</td>\n",
       "      <td>258.000000</td>\n",
       "      <td>300.000000</td>\n",
       "      <td>300.00000</td>\n",
       "    </tr>\n",
       "    <tr>\n",
       "      <th>mean</th>\n",
       "      <td>9.765000</td>\n",
       "      <td>15.260000</td>\n",
       "      <td>5.620435</td>\n",
       "      <td>5.916207</td>\n",
       "      <td>3.107731</td>\n",
       "      <td>5.859656</td>\n",
       "      <td>2.53000</td>\n",
       "    </tr>\n",
       "    <tr>\n",
       "      <th>std</th>\n",
       "      <td>7.473155</td>\n",
       "      <td>33.330599</td>\n",
       "      <td>0.997859</td>\n",
       "      <td>0.955129</td>\n",
       "      <td>0.961766</td>\n",
       "      <td>0.934221</td>\n",
       "      <td>1.10446</td>\n",
       "    </tr>\n",
       "    <tr>\n",
       "      <th>min</th>\n",
       "      <td>0.000000</td>\n",
       "      <td>1.000000</td>\n",
       "      <td>2.495544</td>\n",
       "      <td>3.772835</td>\n",
       "      <td>0.301030</td>\n",
       "      <td>3.805841</td>\n",
       "      <td>0.00000</td>\n",
       "    </tr>\n",
       "    <tr>\n",
       "      <th>25%</th>\n",
       "      <td>2.175000</td>\n",
       "      <td>1.000000</td>\n",
       "      <td>4.953993</td>\n",
       "      <td>5.204932</td>\n",
       "      <td>2.449460</td>\n",
       "      <td>5.217086</td>\n",
       "      <td>3.00000</td>\n",
       "    </tr>\n",
       "    <tr>\n",
       "      <th>50%</th>\n",
       "      <td>9.345000</td>\n",
       "      <td>3.000000</td>\n",
       "      <td>5.587745</td>\n",
       "      <td>5.870951</td>\n",
       "      <td>3.106120</td>\n",
       "      <td>5.832137</td>\n",
       "      <td>3.00000</td>\n",
       "    </tr>\n",
       "    <tr>\n",
       "      <th>75%</th>\n",
       "      <td>16.200000</td>\n",
       "      <td>8.000000</td>\n",
       "      <td>6.396468</td>\n",
       "      <td>6.653160</td>\n",
       "      <td>3.794465</td>\n",
       "      <td>6.520157</td>\n",
       "      <td>3.00000</td>\n",
       "    </tr>\n",
       "    <tr>\n",
       "      <th>max</th>\n",
       "      <td>29.130000</td>\n",
       "      <td>145.000000</td>\n",
       "      <td>7.875061</td>\n",
       "      <td>8.879318</td>\n",
       "      <td>5.623249</td>\n",
       "      <td>8.034211</td>\n",
       "      <td>5.00000</td>\n",
       "    </tr>\n",
       "  </tbody>\n",
       "</table>\n",
       "</div>"
      ],
      "text/plain": [
       "        Big3Share    Position     Revenue      Assets   Employees   MarketCap  \\\n",
       "count  300.000000  300.000000  284.000000  283.000000  258.000000  300.000000   \n",
       "mean     9.765000   15.260000    5.620435    5.916207    3.107731    5.859656   \n",
       "std      7.473155   33.330599    0.997859    0.955129    0.961766    0.934221   \n",
       "min      0.000000    1.000000    2.495544    3.772835    0.301030    3.805841   \n",
       "25%      2.175000    1.000000    4.953993    5.204932    2.449460    5.217086   \n",
       "50%      9.345000    3.000000    5.587745    5.870951    3.106120    5.832137   \n",
       "75%     16.200000    8.000000    6.396468    6.653160    3.794465    6.520157   \n",
       "max     29.130000  145.000000    7.875061    8.879318    5.623249    8.034211   \n",
       "\n",
       "       TypeEnt_int  \n",
       "count    300.00000  \n",
       "mean       2.53000  \n",
       "std        1.10446  \n",
       "min        0.00000  \n",
       "25%        3.00000  \n",
       "50%        3.00000  \n",
       "75%        3.00000  \n",
       "max        5.00000  "
      ]
     },
     "execution_count": 12,
     "metadata": {},
     "output_type": "execute_result"
    }
   ],
   "source": [
    "df.describe()"
   ]
  },
  {
   "cell_type": "code",
   "execution_count": 15,
   "metadata": {
    "collapsed": true
   },
   "outputs": [
    {
     "ename": "ValueError",
     "evalue": "Input matrix is not missing any values",
     "output_type": "error",
     "traceback": [
      "\u001b[0;31m---------------------------------------------------------------------------\u001b[0m",
      "\u001b[0;31mValueError\u001b[0m                                Traceback (most recent call last)",
      "\u001b[0;32m<ipython-input-15-9ed8ad915577>\u001b[0m in \u001b[0;36m<module>\u001b[0;34m()\u001b[0m\n\u001b[1;32m      1\u001b[0m \u001b[0;32mfrom\u001b[0m \u001b[0mfancyimpute\u001b[0m \u001b[0;32mimport\u001b[0m \u001b[0mKNN\u001b[0m\u001b[0;34m\u001b[0m\u001b[0m\n\u001b[0;32m----> 2\u001b[0;31m \u001b[0mdf\u001b[0m\u001b[0;34m.\u001b[0m\u001b[0mloc\u001b[0m\u001b[0;34m[\u001b[0m\u001b[0;34m:\u001b[0m\u001b[0;34m,\u001b[0m\u001b[0;34m[\u001b[0m\u001b[0;34m\"Revenue\"\u001b[0m\u001b[0;34m,\u001b[0m\u001b[0;34m\"Assets\"\u001b[0m\u001b[0;34m,\u001b[0m\u001b[0;34m\"Employees\"\u001b[0m\u001b[0;34m,\u001b[0m\u001b[0;34m\"MarketCap\"\u001b[0m\u001b[0;34m,\u001b[0m\u001b[0;34m\"TypeEnt_int\"\u001b[0m\u001b[0;34m]\u001b[0m\u001b[0;34m]\u001b[0m \u001b[0;34m=\u001b[0m \u001b[0mX_filled_knn\u001b[0m \u001b[0;34m=\u001b[0m \u001b[0mKNN\u001b[0m\u001b[0;34m(\u001b[0m\u001b[0mk\u001b[0m\u001b[0;34m=\u001b[0m\u001b[0;36m10\u001b[0m\u001b[0;34m)\u001b[0m\u001b[0;34m.\u001b[0m\u001b[0mcomplete\u001b[0m\u001b[0;34m(\u001b[0m\u001b[0mdf\u001b[0m\u001b[0;34m.\u001b[0m\u001b[0mloc\u001b[0m\u001b[0;34m[\u001b[0m\u001b[0;34m:\u001b[0m\u001b[0;34m,\u001b[0m\u001b[0;34m[\u001b[0m\u001b[0;34m\"Revenue\"\u001b[0m\u001b[0;34m,\u001b[0m\u001b[0;34m\"Assets\"\u001b[0m\u001b[0;34m,\u001b[0m\u001b[0;34m\"Employees\"\u001b[0m\u001b[0;34m,\u001b[0m\u001b[0;34m\"MarketCap\"\u001b[0m\u001b[0;34m,\u001b[0m\u001b[0;34m\"TypeEnt_int\"\u001b[0m\u001b[0;34m]\u001b[0m\u001b[0;34m]\u001b[0m\u001b[0;34m)\u001b[0m\u001b[0;34m\u001b[0m\u001b[0m\n\u001b[0m",
      "\u001b[0;32m/opt/anaconda/anaconda3/lib/python3.5/site-packages/fancyimpute/solver.py\u001b[0m in \u001b[0;36mcomplete\u001b[0;34m(self, X)\u001b[0m\n\u001b[1;32m    195\u001b[0m         \u001b[0mReturns\u001b[0m \u001b[0mcompleted\u001b[0m \u001b[0mmatrix\u001b[0m \u001b[0mwithout\u001b[0m \u001b[0many\u001b[0m \u001b[0mNaNs\u001b[0m\u001b[0;34m.\u001b[0m\u001b[0;34m\u001b[0m\u001b[0m\n\u001b[1;32m    196\u001b[0m         \"\"\"\n\u001b[0;32m--> 197\u001b[0;31m         \u001b[0mimputations\u001b[0m \u001b[0;34m=\u001b[0m \u001b[0mself\u001b[0m\u001b[0;34m.\u001b[0m\u001b[0mmultiple_imputations\u001b[0m\u001b[0;34m(\u001b[0m\u001b[0mX\u001b[0m\u001b[0;34m)\u001b[0m\u001b[0;34m\u001b[0m\u001b[0m\n\u001b[0m\u001b[1;32m    198\u001b[0m         \u001b[0;32mif\u001b[0m \u001b[0mlen\u001b[0m\u001b[0;34m(\u001b[0m\u001b[0mimputations\u001b[0m\u001b[0;34m)\u001b[0m \u001b[0;34m==\u001b[0m \u001b[0;36m1\u001b[0m\u001b[0;34m:\u001b[0m\u001b[0;34m\u001b[0m\u001b[0m\n\u001b[1;32m    199\u001b[0m             \u001b[0;32mreturn\u001b[0m \u001b[0mimputations\u001b[0m\u001b[0;34m[\u001b[0m\u001b[0;36m0\u001b[0m\u001b[0;34m]\u001b[0m\u001b[0;34m\u001b[0m\u001b[0m\n",
      "\u001b[0;32m/opt/anaconda/anaconda3/lib/python3.5/site-packages/fancyimpute/solver.py\u001b[0m in \u001b[0;36mmultiple_imputations\u001b[0;34m(self, X)\u001b[0m\n\u001b[1;32m    187\u001b[0m         \u001b[0mGenerate\u001b[0m \u001b[0mmultiple\u001b[0m \u001b[0mimputations\u001b[0m \u001b[0mof\u001b[0m \u001b[0mthe\u001b[0m \u001b[0msame\u001b[0m \u001b[0mincomplete\u001b[0m \u001b[0mmatrix\u001b[0m\u001b[0;34m\u001b[0m\u001b[0m\n\u001b[1;32m    188\u001b[0m         \"\"\"\n\u001b[0;32m--> 189\u001b[0;31m         \u001b[0;32mreturn\u001b[0m \u001b[0;34m[\u001b[0m\u001b[0mself\u001b[0m\u001b[0;34m.\u001b[0m\u001b[0msingle_imputation\u001b[0m\u001b[0;34m(\u001b[0m\u001b[0mX\u001b[0m\u001b[0;34m)\u001b[0m \u001b[0;32mfor\u001b[0m \u001b[0m_\u001b[0m \u001b[0;32min\u001b[0m \u001b[0mrange\u001b[0m\u001b[0;34m(\u001b[0m\u001b[0mself\u001b[0m\u001b[0;34m.\u001b[0m\u001b[0mn_imputations\u001b[0m\u001b[0;34m)\u001b[0m\u001b[0;34m]\u001b[0m\u001b[0;34m\u001b[0m\u001b[0m\n\u001b[0m\u001b[1;32m    190\u001b[0m \u001b[0;34m\u001b[0m\u001b[0m\n\u001b[1;32m    191\u001b[0m     \u001b[0;32mdef\u001b[0m \u001b[0mcomplete\u001b[0m\u001b[0;34m(\u001b[0m\u001b[0mself\u001b[0m\u001b[0;34m,\u001b[0m \u001b[0mX\u001b[0m\u001b[0;34m)\u001b[0m\u001b[0;34m:\u001b[0m\u001b[0;34m\u001b[0m\u001b[0m\n",
      "\u001b[0;32m/opt/anaconda/anaconda3/lib/python3.5/site-packages/fancyimpute/solver.py\u001b[0m in \u001b[0;36m<listcomp>\u001b[0;34m(.0)\u001b[0m\n\u001b[1;32m    187\u001b[0m         \u001b[0mGenerate\u001b[0m \u001b[0mmultiple\u001b[0m \u001b[0mimputations\u001b[0m \u001b[0mof\u001b[0m \u001b[0mthe\u001b[0m \u001b[0msame\u001b[0m \u001b[0mincomplete\u001b[0m \u001b[0mmatrix\u001b[0m\u001b[0;34m\u001b[0m\u001b[0m\n\u001b[1;32m    188\u001b[0m         \"\"\"\n\u001b[0;32m--> 189\u001b[0;31m         \u001b[0;32mreturn\u001b[0m \u001b[0;34m[\u001b[0m\u001b[0mself\u001b[0m\u001b[0;34m.\u001b[0m\u001b[0msingle_imputation\u001b[0m\u001b[0;34m(\u001b[0m\u001b[0mX\u001b[0m\u001b[0;34m)\u001b[0m \u001b[0;32mfor\u001b[0m \u001b[0m_\u001b[0m \u001b[0;32min\u001b[0m \u001b[0mrange\u001b[0m\u001b[0;34m(\u001b[0m\u001b[0mself\u001b[0m\u001b[0;34m.\u001b[0m\u001b[0mn_imputations\u001b[0m\u001b[0;34m)\u001b[0m\u001b[0;34m]\u001b[0m\u001b[0;34m\u001b[0m\u001b[0m\n\u001b[0m\u001b[1;32m    190\u001b[0m \u001b[0;34m\u001b[0m\u001b[0m\n\u001b[1;32m    191\u001b[0m     \u001b[0;32mdef\u001b[0m \u001b[0mcomplete\u001b[0m\u001b[0;34m(\u001b[0m\u001b[0mself\u001b[0m\u001b[0;34m,\u001b[0m \u001b[0mX\u001b[0m\u001b[0;34m)\u001b[0m\u001b[0;34m:\u001b[0m\u001b[0;34m\u001b[0m\u001b[0m\n",
      "\u001b[0;32m/opt/anaconda/anaconda3/lib/python3.5/site-packages/fancyimpute/solver.py\u001b[0m in \u001b[0;36msingle_imputation\u001b[0;34m(self, X)\u001b[0m\n\u001b[1;32m    160\u001b[0m \u001b[0;34m\u001b[0m\u001b[0m\n\u001b[1;32m    161\u001b[0m     \u001b[0;32mdef\u001b[0m \u001b[0msingle_imputation\u001b[0m\u001b[0;34m(\u001b[0m\u001b[0mself\u001b[0m\u001b[0;34m,\u001b[0m \u001b[0mX\u001b[0m\u001b[0;34m)\u001b[0m\u001b[0;34m:\u001b[0m\u001b[0;34m\u001b[0m\u001b[0m\n\u001b[0;32m--> 162\u001b[0;31m         \u001b[0mX_original\u001b[0m\u001b[0;34m,\u001b[0m \u001b[0mmissing_mask\u001b[0m \u001b[0;34m=\u001b[0m \u001b[0mself\u001b[0m\u001b[0;34m.\u001b[0m\u001b[0mprepare_input_data\u001b[0m\u001b[0;34m(\u001b[0m\u001b[0mX\u001b[0m\u001b[0;34m)\u001b[0m\u001b[0;34m\u001b[0m\u001b[0m\n\u001b[0m\u001b[1;32m    163\u001b[0m         \u001b[0mobserved_mask\u001b[0m \u001b[0;34m=\u001b[0m \u001b[0;34m~\u001b[0m\u001b[0mmissing_mask\u001b[0m\u001b[0;34m\u001b[0m\u001b[0m\n\u001b[1;32m    164\u001b[0m         \u001b[0mX\u001b[0m \u001b[0;34m=\u001b[0m \u001b[0mX_original\u001b[0m\u001b[0;34m.\u001b[0m\u001b[0mcopy\u001b[0m\u001b[0;34m(\u001b[0m\u001b[0;34m)\u001b[0m\u001b[0;34m\u001b[0m\u001b[0m\n",
      "\u001b[0;32m/opt/anaconda/anaconda3/lib/python3.5/site-packages/fancyimpute/solver.py\u001b[0m in \u001b[0;36mprepare_input_data\u001b[0;34m(self, X)\u001b[0m\n\u001b[1;32m    127\u001b[0m         \u001b[0mself\u001b[0m\u001b[0;34m.\u001b[0m\u001b[0m_check_input\u001b[0m\u001b[0;34m(\u001b[0m\u001b[0mX\u001b[0m\u001b[0;34m)\u001b[0m\u001b[0;34m\u001b[0m\u001b[0m\n\u001b[1;32m    128\u001b[0m         \u001b[0mmissing_mask\u001b[0m \u001b[0;34m=\u001b[0m \u001b[0mnp\u001b[0m\u001b[0;34m.\u001b[0m\u001b[0misnan\u001b[0m\u001b[0;34m(\u001b[0m\u001b[0mX\u001b[0m\u001b[0;34m)\u001b[0m\u001b[0;34m\u001b[0m\u001b[0m\n\u001b[0;32m--> 129\u001b[0;31m         \u001b[0mself\u001b[0m\u001b[0;34m.\u001b[0m\u001b[0m_check_missing_value_mask\u001b[0m\u001b[0;34m(\u001b[0m\u001b[0mmissing_mask\u001b[0m\u001b[0;34m)\u001b[0m\u001b[0;34m\u001b[0m\u001b[0m\n\u001b[0m\u001b[1;32m    130\u001b[0m         \u001b[0;32mreturn\u001b[0m \u001b[0mX\u001b[0m\u001b[0;34m,\u001b[0m \u001b[0mmissing_mask\u001b[0m\u001b[0;34m\u001b[0m\u001b[0m\n\u001b[1;32m    131\u001b[0m \u001b[0;34m\u001b[0m\u001b[0m\n",
      "\u001b[0;32m/opt/anaconda/anaconda3/lib/python3.5/site-packages/fancyimpute/solver.py\u001b[0m in \u001b[0;36m_check_missing_value_mask\u001b[0;34m(self, missing)\u001b[0m\n\u001b[1;32m     53\u001b[0m     \u001b[0;32mdef\u001b[0m \u001b[0m_check_missing_value_mask\u001b[0m\u001b[0;34m(\u001b[0m\u001b[0mself\u001b[0m\u001b[0;34m,\u001b[0m \u001b[0mmissing\u001b[0m\u001b[0;34m)\u001b[0m\u001b[0;34m:\u001b[0m\u001b[0;34m\u001b[0m\u001b[0m\n\u001b[1;32m     54\u001b[0m         \u001b[0;32mif\u001b[0m \u001b[0;32mnot\u001b[0m \u001b[0mmissing\u001b[0m\u001b[0;34m.\u001b[0m\u001b[0many\u001b[0m\u001b[0;34m(\u001b[0m\u001b[0;34m)\u001b[0m\u001b[0;34m:\u001b[0m\u001b[0;34m\u001b[0m\u001b[0m\n\u001b[0;32m---> 55\u001b[0;31m             \u001b[0;32mraise\u001b[0m \u001b[0mValueError\u001b[0m\u001b[0;34m(\u001b[0m\u001b[0;34m\"Input matrix is not missing any values\"\u001b[0m\u001b[0;34m)\u001b[0m\u001b[0;34m\u001b[0m\u001b[0m\n\u001b[0m\u001b[1;32m     56\u001b[0m         \u001b[0;32mif\u001b[0m \u001b[0mmissing\u001b[0m\u001b[0;34m.\u001b[0m\u001b[0mall\u001b[0m\u001b[0;34m(\u001b[0m\u001b[0;34m)\u001b[0m\u001b[0;34m:\u001b[0m\u001b[0;34m\u001b[0m\u001b[0m\n\u001b[1;32m     57\u001b[0m             \u001b[0;32mraise\u001b[0m \u001b[0mValueError\u001b[0m\u001b[0;34m(\u001b[0m\u001b[0;34m\"Input matrix must have some non-missing values\"\u001b[0m\u001b[0;34m)\u001b[0m\u001b[0;34m\u001b[0m\u001b[0m\n",
      "\u001b[0;31mValueError\u001b[0m: Input matrix is not missing any values"
     ]
    }
   ],
   "source": [
    "from fancyimpute import KNN\n",
    "\n",
    "# X is the complete data matrix\n",
    "# X_incomplete has the same values as X except a subset have been replace with NaN\n",
    "\n",
    "# Use 10 nearest rows which have a feature to fill in each row's missing features\n",
    "df.loc[:,[\"Revenue\",\"Assets\",\"Employees\",\"MarketCap\",\"TypeEnt_int\"]] = \\\n",
    "KNN(k=10).complete(df.loc[:,[\"Revenue\",\"Assets\",\"Employees\",\"MarketCap\",\"TypeEnt_int\"]])"
   ]
  },
  {
   "cell_type": "code",
   "execution_count": 16,
   "metadata": {
    "scrolled": true
   },
   "outputs": [
    {
     "data": {
      "text/html": [
       "<div>\n",
       "<style>\n",
       "    .dataframe thead tr:only-child th {\n",
       "        text-align: right;\n",
       "    }\n",
       "\n",
       "    .dataframe thead th {\n",
       "        text-align: left;\n",
       "    }\n",
       "\n",
       "    .dataframe tbody tr th {\n",
       "        vertical-align: top;\n",
       "    }\n",
       "</style>\n",
       "<table border=\"1\" class=\"dataframe\">\n",
       "  <thead>\n",
       "    <tr style=\"text-align: right;\">\n",
       "      <th></th>\n",
       "      <th>Big3Share</th>\n",
       "      <th>Position</th>\n",
       "      <th>Revenue</th>\n",
       "      <th>Assets</th>\n",
       "      <th>Employees</th>\n",
       "      <th>MarketCap</th>\n",
       "      <th>TypeEnt_int</th>\n",
       "    </tr>\n",
       "  </thead>\n",
       "  <tbody>\n",
       "    <tr>\n",
       "      <th>count</th>\n",
       "      <td>300.000000</td>\n",
       "      <td>300.000000</td>\n",
       "      <td>300.000000</td>\n",
       "      <td>300.000000</td>\n",
       "      <td>300.000000</td>\n",
       "      <td>300.000000</td>\n",
       "      <td>300.00000</td>\n",
       "    </tr>\n",
       "    <tr>\n",
       "      <th>mean</th>\n",
       "      <td>9.765000</td>\n",
       "      <td>15.260000</td>\n",
       "      <td>5.559092</td>\n",
       "      <td>5.941882</td>\n",
       "      <td>3.040099</td>\n",
       "      <td>5.859656</td>\n",
       "      <td>2.53000</td>\n",
       "    </tr>\n",
       "    <tr>\n",
       "      <th>std</th>\n",
       "      <td>7.473155</td>\n",
       "      <td>33.330599</td>\n",
       "      <td>1.022427</td>\n",
       "      <td>0.947498</td>\n",
       "      <td>0.970501</td>\n",
       "      <td>0.934221</td>\n",
       "      <td>1.10446</td>\n",
       "    </tr>\n",
       "    <tr>\n",
       "      <th>min</th>\n",
       "      <td>0.000000</td>\n",
       "      <td>1.000000</td>\n",
       "      <td>2.495544</td>\n",
       "      <td>3.772835</td>\n",
       "      <td>0.301030</td>\n",
       "      <td>3.805841</td>\n",
       "      <td>0.00000</td>\n",
       "    </tr>\n",
       "    <tr>\n",
       "      <th>25%</th>\n",
       "      <td>2.175000</td>\n",
       "      <td>1.000000</td>\n",
       "      <td>4.795880</td>\n",
       "      <td>5.224896</td>\n",
       "      <td>2.331932</td>\n",
       "      <td>5.217086</td>\n",
       "      <td>3.00000</td>\n",
       "    </tr>\n",
       "    <tr>\n",
       "      <th>50%</th>\n",
       "      <td>9.345000</td>\n",
       "      <td>3.000000</td>\n",
       "      <td>5.548352</td>\n",
       "      <td>5.944975</td>\n",
       "      <td>3.061252</td>\n",
       "      <td>5.832137</td>\n",
       "      <td>3.00000</td>\n",
       "    </tr>\n",
       "    <tr>\n",
       "      <th>75%</th>\n",
       "      <td>16.200000</td>\n",
       "      <td>8.000000</td>\n",
       "      <td>6.353974</td>\n",
       "      <td>6.666205</td>\n",
       "      <td>3.760260</td>\n",
       "      <td>6.520157</td>\n",
       "      <td>3.00000</td>\n",
       "    </tr>\n",
       "    <tr>\n",
       "      <th>max</th>\n",
       "      <td>29.130000</td>\n",
       "      <td>145.000000</td>\n",
       "      <td>7.875061</td>\n",
       "      <td>8.879318</td>\n",
       "      <td>5.623249</td>\n",
       "      <td>8.034211</td>\n",
       "      <td>5.00000</td>\n",
       "    </tr>\n",
       "  </tbody>\n",
       "</table>\n",
       "</div>"
      ],
      "text/plain": [
       "        Big3Share    Position     Revenue      Assets   Employees   MarketCap  \\\n",
       "count  300.000000  300.000000  300.000000  300.000000  300.000000  300.000000   \n",
       "mean     9.765000   15.260000    5.559092    5.941882    3.040099    5.859656   \n",
       "std      7.473155   33.330599    1.022427    0.947498    0.970501    0.934221   \n",
       "min      0.000000    1.000000    2.495544    3.772835    0.301030    3.805841   \n",
       "25%      2.175000    1.000000    4.795880    5.224896    2.331932    5.217086   \n",
       "50%      9.345000    3.000000    5.548352    5.944975    3.061252    5.832137   \n",
       "75%     16.200000    8.000000    6.353974    6.666205    3.760260    6.520157   \n",
       "max     29.130000  145.000000    7.875061    8.879318    5.623249    8.034211   \n",
       "\n",
       "       TypeEnt_int  \n",
       "count    300.00000  \n",
       "mean       2.53000  \n",
       "std        1.10446  \n",
       "min        0.00000  \n",
       "25%        3.00000  \n",
       "50%        3.00000  \n",
       "75%        3.00000  \n",
       "max        5.00000  "
      ]
     },
     "execution_count": 16,
     "metadata": {},
     "output_type": "execute_result"
    }
   ],
   "source": [
    "df.describe()"
   ]
  },
  {
   "cell_type": "code",
   "execution_count": null,
   "metadata": {
    "collapsed": true
   },
   "outputs": [],
   "source": []
  }
 ],
 "metadata": {
  "anaconda-cloud": {},
  "kernelspec": {
   "display_name": "Python [conda root]",
   "language": "python",
   "name": "conda-root-py"
  },
  "language_info": {
   "codemirror_mode": {
    "name": "ipython",
    "version": 3
   },
   "file_extension": ".py",
   "mimetype": "text/x-python",
   "name": "python",
   "nbconvert_exporter": "python",
   "pygments_lexer": "ipython3",
   "version": "3.5.4"
  }
 },
 "nbformat": 4,
 "nbformat_minor": 1
}
