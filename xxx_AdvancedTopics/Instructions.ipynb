{
 "cells": [
  {
   "cell_type": "markdown",
   "metadata": {},
   "source": [
    "## Escape room\n",
    "`It's the year 2084. It was ten years ago that GoogleZero became elected president of the United States and invaded Poland. Luckily, in our country, Amazonian PrimeDrones are still loyal to the Republic of the Netherlands, and are forcing the invador back. In an attempt to weaken us, GoogleZero has realeased the cholera bacteria. This bacteria was eliminated in 2048, and all our research on the topic was in Google Drive, and thus in the hands of the enemy. Fortunately, all American companies are still banned in North Korea, and Kim Ju-ae has a copy of some old research , and some that the spy Klemens stole for them. This research (in the data folder) shows some relationship between the resistance to cholera and calcium levels.`\n",
    "\n",
    "`You'll need to investigate the data and find a way to stop the bacteria. The data comes from North Korea, you'll need to find out how to decode it, clean it and find a relationship.`\n",
    "\n",
    "`For now, start with two datasets that Kim Ju-ae sent you.  Read both files, combine them and find the sum of the calcium levels across the dataset. Once you have this valuel, go to corpnet.uva.nl/escape-room/xxxx.xx (where xxxx.xx is the sum with two decimals) for the next clue`\n",
    "\n",
    "**Good luck!**\n",
    "\n",
    "\n",
    "\n",
    "To communicate with your team and share code pieces create a chat room: stin.to\n",
    "\n",
    "\n",
    "- TODO:\n",
    "    - Papers with clues in case they get stuck\n",
    "    - Create the websites and paper for Klemens\n",
    "    - Remove the steps below"
   ]
  },
  {
   "cell_type": "markdown",
   "metadata": {},
   "source": [
    "### Step 1: Start with two datasets that Kim Ju-ae sent you.  Read both files, combine them and find the sum of the calcium levels. Once you have the level, go to corpnet.uva.nl/escape-room/xxxx.xx (where xxxx.xx is the sum with two decimals)\n",
    "\n",
    "- Problems: \n",
    "    - Encoding of one of the files is weird\n",
    "    - Missing values are represented with \"-\"\n",
    "    - Calcium levels are in different units, needs to homogeneous.\n",
    "    \n",
    "`Columns of the file 1 and 2: ID...Nationality...Resistance_code...Calcium level(g/L) and (mg/L)`\n",
    "    - ID: Numbers\n",
    "    - Nationality: Mainly missing values\n",
    "    - Resistance_codes of both files: T, H, J, V, M,...\n",
    "    - Calcium levels in two different units, it says in the header of the file"
   ]
  },
  {
   "cell_type": "code",
   "execution_count": null,
   "metadata": {},
   "outputs": [],
   "source": []
  },
  {
   "cell_type": "markdown",
   "metadata": {},
   "source": [
    "### Step 2: Great, you have the data you need... but some data is corrupted. Luckily, one of the persons in charge of the experiments is alive and present in the room, his name is Klemens (former North Korea spy, now Amazon Prime embassor). Go ask him about the missing values.\n",
    "\n",
    "Answer (in paper): \n",
    "- There are missing values because the results fell from his pocket, the data is missing at random. People 1-10 are German, 11-20 Dutch and 21-30 Italian.\n",
    " - They can go to a website (with letters in korean), where they can download a csv with the resitance codes to numbers. \n",
    " - Translate the website to English and it tells you the clue, which is for step 3\n",
    "    \n",
    "- Problems:\n",
    "    - To continue you have to drop the missing values.\n",
    "    - Merge the data with the resistance codes"
   ]
  },
  {
   "cell_type": "code",
   "execution_count": null,
   "metadata": {},
   "outputs": [],
   "source": []
  },
  {
   "cell_type": "markdown",
   "metadata": {},
   "source": [
    "### Step 3: Look visually what is the relationship between calcium in blood and resistance.\n",
    "- After completing the data you are very close to find a cure. \n",
    "- Find if there is any relationship between calcium in blood and level of resistance, a\n",
    "- Find in wikipedia the hormone you need to take (PTH to increase, calcitonin to decrease) and go to website corpnet.uva.nl/escape-room/xxxxxxx (where xxxx is name)\n",
    "\n",
    "- Problems:\n",
    "    - Wrong relationship unless you control for nationality\n",
    "    - Not linear relationship"
   ]
  },
  {
   "cell_type": "code",
   "execution_count": null,
   "metadata": {},
   "outputs": [],
   "source": []
  },
  {
   "cell_type": "markdown",
   "metadata": {},
   "source": [
    "### Step 4: Run the aproppriate model (with random effects and calcium^2) and find the coefficient for calcium, which the Amazon cluster will use to calibrate the model and create the cure. Bring a paper with the Ca2+ coefficient and confidence intervals, and an interpretation.\n",
    "- Problems:\n",
    "    - Add the square term\n",
    "    - Use fixed and random effects"
   ]
  },
  {
   "cell_type": "code",
   "execution_count": null,
   "metadata": {},
   "outputs": [],
   "source": []
  },
  {
   "cell_type": "markdown",
   "metadata": {},
   "source": [
    "## Congrats, you saved the world (or we are all doomed)"
   ]
  }
 ],
 "metadata": {
  "anaconda-cloud": {},
  "kernelspec": {
   "display_name": "Python [conda root]",
   "language": "python",
   "name": "conda-root-py"
  },
  "language_info": {
   "codemirror_mode": {
    "name": "ipython",
    "version": 3
   },
   "file_extension": ".py",
   "mimetype": "text/x-python",
   "name": "python",
   "nbconvert_exporter": "python",
   "pygments_lexer": "ipython3",
   "version": "3.5.4"
  }
 },
 "nbformat": 4,
 "nbformat_minor": 1
}
