{
 "cells": [
  {
   "cell_type": "markdown",
   "metadata": {},
   "source": [
    "# Assignment 3 and 4\n",
    "## Due date: Friday 24th 22:00\n",
    "- Write your own code in the blanks. It is okay to collaborate with other students, but **both students must write their own code** (No C&P!) and write the name of the other student in this cell. In case you adapt code from other sources you also must give that user credit (a comment with the link to the source suffices)\n",
    "- Complete the blanks, adding comments to explain what you are doing\n",
    "- Each plot must have labels\n",
    "\n",
    "\n",
    "Collaborated with:"
   ]
  },
  {
   "cell_type": "markdown",
   "metadata": {},
   "source": [
    "## Problem 1: Who owns corporate America\n",
    "`You are going to work with some data that we used to show that passive investors own corporate America`"
   ]
  },
  {
   "cell_type": "code",
   "execution_count": 1,
   "metadata": {},
   "outputs": [
    {
     "data": {
      "image/jpeg": "[encoded data removed]",
      "text/html": [
       "\n",
       "        <iframe\n",
       "            width=\"400\"\n",
       "            height=\"300\"\n",
       "            src=\"https://www.youtube.com/embed/OYpCxXuF3M8\"\n",
       "            frameborder=\"0\"\n",
       "            allowfullscreen\n",
       "        ></iframe>\n",
       "        "
      ],
      "text/plain": [
       "<IPython.lib.display.YouTubeVideo at 0x7faa68665cf8>"
      ]
     },
     "execution_count": 1,
     "metadata": {},
     "output_type": "execute_result"
    }
   ],
   "source": [
    "#Watch this video first to understand the project\n",
    "from IPython.display import YouTubeVideo\n",
    "YouTubeVideo('OYpCxXuF3M8')"
   ]
  },
  {
   "cell_type": "markdown",
   "metadata": {},
   "source": [
    "`I modified a bit the data, changing encodings, adding several variables in the same column and splitting it into several datasets. You'll need to fix it`\n",
    "- `The first one (company_data.csv) has information on the company name, the company ID, the percentage of ownership of the Big 3 passive investors (Big3Share), their rank as shareholders (position, 1 = largest shareholder) and some financials.`\n",
    "- `The second one (employees.csv) has information on the company ID and the number of employees`\n",
    "\n",
    "`You'll replicate some figures from the paper, and will create some new ones`"
   ]
  },
  {
   "cell_type": "code",
   "execution_count": 1,
   "metadata": {},
   "outputs": [],
   "source": [
    "##Some code to run at the beginning of the file, to be able to show images in the notebook\n",
    "##Don't worry about this cell\n",
    "\n",
    "#Print the plots in this screen\n",
    "%matplotlib inline \n",
    "\n",
    "#Be able to plot images saved in the hard drive\n",
    "from IPython.display import Image \n",
    "\n",
    "#Make the notebook wider\n",
    "from IPython.core.display import display, HTML o\n",
    "display(HTML(\"<style>.container { width:90% !important; }</style>\"))\n",
    "\n",
    "import seaborn as sns\n",
    "import pylab as plt\n",
    "import pandas as pd\n",
    "import numpy as np"
   ]
  },
  {
   "cell_type": "code",
   "execution_count": 3,
   "metadata": {},
   "outputs": [
    {
     "name": "stdout",
     "output_type": "stream",
     "text": [
      "Company_name\tCompany_ID\tBig3Share\tPosition\tExchange\tTypeEnt\tVAR\tDollars_th\r\n",
      "INVESCO LTD\tBM40671R\t17.85\t1\tNew York Stock Exchange (NYSE)\tBank\tRevenue\t$7500000.0\r\n",
      "ROYAL CARIBBEAN CRUISES LTD\tLR30002MX\t14.32\t3\tNew York Stock Exchange (NYSE)\tIndustrial company\tRevenue\t$7500000.0\r\n",
      "GENCO SHIPPING & TRADING LTD\tMH30004AQ\t0.14\t31\tNew York Stock Exchange (NYSE)\tIndustrial company\tRevenue\t$350000.0\r\n",
      "EAGLE BULK SHIPPING INC\tMH40003AQ\t2.85\t9\tNASDAQ National Market\tIndustrial company\tRevenue\t$350000.0\r\n",
      "POWERSHARES DB US DOLLAR INDEX BEARISH\tUS*S00100679\t0.0\t101\tNYSE ARCA\tIndustrial company\tRevenue\t\r\n",
      "POWERSHARES FTSE RAFI DEVELOPED MARKETS\tUS*S00101964\t0.0\t101\tNYSE ARCA\tIndustrial company\tRevenue\t\r\n",
      "XENITH BANKSHARES INC\tUS*S00120641\t0.0\t107\tNASDAQ National Market\tIndustrial company\tRevenue\t\r\n",
      "GAMCO NATURAL RESOURCES, GOLD & INCOME TRUST\tUS*S00136468\t0.0\t102\tNew York Stock Exchange (NYSE)\tIndustrial company\tRevenue\t\r\n",
      "JOHN HANCOCK HEDGED EQUITY & INCOME FUND\tUS*S00138046\t0.0\t105\tNew York Stock Exchange (NYSE)\tIndustrial company\tRevenue\t\r\n"
     ]
    }
   ],
   "source": [
    "!head data/company_data.csv"
   ]
  },
  {
   "cell_type": "markdown",
   "metadata": {},
   "source": [
    "## 1. Read file \"data/company_data.csv\" (beware the encoding) and print header"
   ]
  },
  {
   "cell_type": "code",
   "execution_count": null,
   "metadata": {},
   "outputs": [],
   "source": [
    "df = pd.read_csv(......)\n",
    "df.head()"
   ]
  },
  {
   "cell_type": "markdown",
   "metadata": {},
   "source": [
    "## 2. Describe the dataset, print the dtypes and fix the problem with the dollar symbol"
   ]
  },
  {
   "cell_type": "code",
   "execution_count": null,
   "metadata": {},
   "outputs": [],
   "source": [
    "#Use df.describe() to see how it looks like. Why is dollars_th not there? (describe only describes numeric columns)\n"
   ]
  },
  {
   "cell_type": "code",
   "execution_count": 2,
   "metadata": {},
   "outputs": [],
   "source": [
    "#Print dtypes (object == strings)"
   ]
  },
  {
   "cell_type": "code",
   "execution_count": null,
   "metadata": {},
   "outputs": [],
   "source": [
    "#Use df[\"Dollars_th\"].str.replace() to delete the first character\n",
    "#You can also use df[\"Dollars_th\"].str.slice() if it's easier for you.\n",
    "df[\"Dollars_th\"] = df[\"Dollars_th\"].str.replace()\n",
    "\n",
    "#Convert to type float\n",
    "df[\"Dollars_th\"] = df[\"Dollars_th\"].astype(...)"
   ]
  },
  {
   "cell_type": "code",
   "execution_count": null,
   "metadata": {},
   "outputs": [],
   "source": [
    "df.head()"
   ]
  },
  {
   "cell_type": "markdown",
   "metadata": {},
   "source": [
    "## 3. Tidy the table (pivot or melt)"
   ]
  },
  {
   "cell_type": "code",
   "execution_count": null,
   "metadata": {},
   "outputs": [],
   "source": [
    "##First think about what variables are in the dataset\n",
    "\n",
    "\n",
    "##Pivot or Melt to tidy format\n",
    "\n",
    "...\n",
    "\n",
    "\n",
    "\n",
    "df_fixed.head()"
   ]
  },
  {
   "cell_type": "markdown",
   "metadata": {},
   "source": [
    "## 4. Read the dataset data/employees.csv and merge with the ohter"
   ]
  },
  {
   "cell_type": "code",
   "execution_count": null,
   "metadata": {},
   "outputs": [],
   "source": [
    "#Read the other dataset\n",
    "df_emp = pd.read_csv(\"data/employees.csv\",sep=\"\\t\")\n",
    "df_emp.head()"
   ]
  },
  {
   "cell_type": "code",
   "execution_count": null,
   "metadata": {},
   "outputs": [],
   "source": [
    "#Merge the datafiles\n",
    "df_merged = ...\n",
    "df_merged.head()"
   ]
  },
  {
   "cell_type": "markdown",
   "metadata": {},
   "source": [
    "## 5. Replicate figures similar to the ones in the paper\n",
    "- The variable \"Position\" ranks the position of the Big3 among the investors of the company. Use pd.cut to create four categories: Big3 as largest shareholder (position 1). Big3 as second largest shareholder (position 2). Big3 as third largest shareholder (position 3). Big3 not one of the third largest shareholder (position 4 to end)\n",
    "- Plot the average ownership by category\n",
    "- Plot the sum of market capitalization by category\n",
    "- Plot the normalized sum of market capitalization by category\n",
    "\n",
    "Control the aesthetics of the plot, make the figure of a nice size, delete the edges of the bars and despine the figure (sns.despine())"
   ]
  },
  {
   "cell_type": "code",
   "execution_count": 10,
   "metadata": {},
   "outputs": [],
   "source": [
    "#Create the variable described above\n",
    "df_merged[\"Cat_Big3\"] = pd.cut(.....)"
   ]
  },
  {
   "cell_type": "code",
   "execution_count": null,
   "metadata": {},
   "outputs": [],
   "source": [
    "#Plot the average onwership (Big3Share) for each of the 4 categories (barplot, boxplot or violinplot). \n",
    "#Use the same color for all bars and fix the labels\n",
    "\n",
    "#Make the plot (with a nice size)\n",
    "....\n",
    "\n",
    "#Add some labels\n",
    "plt.xlabel(....)\n",
    "plt.ylabel(....)\n",
    "\n",
    "#Despine\n",
    "sns.despine()"
   ]
  },
  {
   "cell_type": "code",
   "execution_count": null,
   "metadata": {},
   "outputs": [],
   "source": [
    "#Plot the sum of market capitalization (MarketCap) for each of the 4 categories (barplot).\n",
    "#To plot the sum instead of the average you need to use the option \",estimator=sum\" in the barplot\n",
    "#Use the same color for all bars and fix the labels\n",
    "sns.catplot(..... ,kind=\"bar\",estimator=sum)\n"
   ]
  },
  {
   "cell_type": "code",
   "execution_count": null,
   "metadata": {},
   "outputs": [],
   "source": [
    "#Create a variable with the normalized market capitalization that sums up to 100\n",
    "#Make sure you understand this line.\n",
    "df_merged[\"MarketCap_Sum100\"] = 100*df_merged[\"MarketCap\"]/np.sum(df_merged[\"MarketCap\"])\n",
    "\n",
    "#Redo the plot\n",
    "sns.catplot(..... ,kind=\"bar\",estimator=sum)"
   ]
  },
  {
   "cell_type": "markdown",
   "metadata": {},
   "source": [
    "## 6. Transform financials into log scale and plot distributions"
   ]
  },
  {
   "cell_type": "code",
   "execution_count": 14,
   "metadata": {},
   "outputs": [
    {
     "name": "stderr",
     "output_type": "stream",
     "text": [
      "/opt/anaconda/anaconda3/lib/python3.5/site-packages/ipykernel/__main__.py:3: RuntimeWarning: divide by zero encountered in log10\n",
      "  app.launch_new_instance()\n",
      "/opt/anaconda/anaconda3/lib/python3.5/site-packages/ipykernel/__main__.py:3: RuntimeWarning: invalid value encountered in log10\n",
      "  app.launch_new_instance()\n",
      "/opt/anaconda/anaconda3/lib/python3.5/site-packages/ipykernel/__main__.py:5: RuntimeWarning: divide by zero encountered in log10\n"
     ]
    }
   ],
   "source": [
    "#Transform financial variables to log\n",
    "df_merged[\"log_Employees\"] = ...\n",
    "df_merged[\"log_Revenue\"] = ...\n",
    "df_merged[\"log_Assets\"] = ...\n",
    "df_merged[\"log_MarketCap\"] = ...\n",
    "\n",
    "#Delete infinite values (they occur when you take the logarithm of zero) and drop missing values in any row\n",
    "#Make sure you understand this line too\n",
    "df_merged = df_merged.replace([np.inf,-np.inf],np.nan)\n",
    "df_merged = df_merged.dropna()"
   ]
  },
  {
   "cell_type": "code",
   "execution_count": null,
   "metadata": {},
   "outputs": [],
   "source": [
    "#Make histograms (sns.distplot) for all variables. \n",
    "#Try both hist=True (default) and hist=False to see the difference\n",
    "plt.figure(figsize=(6,3)\n",
    "sns.distplot(df_merged[\"log_Employees\"],label='emp',hist=True) #histogram of log of employees\n",
    "sns.distplot(......,label=\"rev\",hist=True)\n",
    "sns.distplot(......,label=\"assets\",hist=True)\n",
    "sns.distplot(......,label=\"mark\",hist=True)\n",
    "plt.legend()"
   ]
  },
  {
   "cell_type": "markdown",
   "metadata": {},
   "source": [
    "## 7. Make some plots to visualize how assets, market capitalization and employees correlate for different types of companies\n",
    "\n"
   ]
  },
  {
   "cell_type": "code",
   "execution_count": null,
   "metadata": {},
   "outputs": [],
   "source": [
    "#Make a scatter plot (lmplot) of x = assets and y = market capitalization with hue = TypeEnt\n",
    "#It'll be too cluttered\n",
    "#Use the option ,truncate=True\n",
    "....."
   ]
  },
  {
   "cell_type": "markdown",
   "metadata": {},
   "source": [
    "## Keep a subset of the data with banks and industrial companies and do the plot again\n",
    "- Make white background (controlling aesthetics): http://seaborn.pydata.org/tutorial/aesthetics.html\n",
    "- Use xlim and ylim\n",
    "- Make the dots a bit smaller and a bit transparent\n",
    "- Save the figure (pdf)"
   ]
  },
  {
   "cell_type": "code",
   "execution_count": null,
   "metadata": {},
   "outputs": [],
   "source": [
    "#Keep a subset of the data with banks and industrial companies\n",
    "df_bank_industr = df_merged.loc[.......,:]\n",
    "df_bank_industr.head()"
   ]
  },
  {
   "cell_type": "code",
   "execution_count": null,
   "metadata": {},
   "outputs": [],
   "source": [
    "#Set the background to white with sns.set_style (see http://seaborn.pydata.org/tutorial/aesthetics.html)\n",
    "......\n"
   ]
  },
  {
   "cell_type": "code",
   "execution_count": null,
   "metadata": {},
   "outputs": [],
   "source": [
    "#Make a scatter plot of x = assets and y = market capitalization with hue = Type of ent\n",
    "sns.lmplot(.... , #add the normal stuff\n",
    "           size=3,\n",
    "           aspect=...., #add the aspect\n",
    "           scatter_kws=, #make the dots a bit smaller and a bit transparent (see the exercise with dinosaur)\n",
    "          )\n",
    "\n",
    "#make labels (plt.xlabel...)\n",
    "\n",
    "#Change limits (plt.xlim...)"
   ]
  },
  {
   "cell_type": "markdown",
   "metadata": {},
   "source": [
    "## Interpret the figure that you just made (a couple lines is okay)"
   ]
  },
  {
   "cell_type": "markdown",
   "metadata": {},
   "source": [
    "answer here"
   ]
  },
  {
   "cell_type": "markdown",
   "metadata": {},
   "source": [
    "## Use the same subset of companies to plot log of assets versus log of market capitalization"
   ]
  },
  {
   "cell_type": "code",
   "execution_count": null,
   "metadata": {},
   "outputs": [],
   "source": [
    "#Make a scatter plot of x = assets and y = market capitalization with hue = Type of ent for the data df_bank_industr\n",
    "...."
   ]
  },
  {
   "cell_type": "code",
   "execution_count": null,
   "metadata": {},
   "outputs": [],
   "source": []
  },
  {
   "cell_type": "markdown",
   "metadata": {},
   "source": [
    "##  Problem 2: Pre-register your study\n",
    "- Create an account in OSF\n",
    "- Follow the instructions: http://help.osf.io/m/registrations/l/546603-enter-the-preregistration-challenge\n",
    "- Once you're done publish it and write the url here: xxxx\n",
    "\n",
    "    You don't need to spend a crazy amount of time for each answer."
   ]
  },
  {
   "cell_type": "code",
   "execution_count": null,
   "metadata": {},
   "outputs": [],
   "source": []
  },
  {
   "cell_type": "markdown",
   "metadata": {},
   "source": [
    "## Problem 3: Read, melt, pivot, groupby\n",
    "1. Download your datasets for the quantitative design\n",
    "2. Print the types of variables (.dtypes). Explain what type of variables you have in each dataset (only the ones you plan to use) and if you need to modify them (e.g. taking the logarithm, making bins, converting categories to numbers, etc)\n",
    "3. Fix the format to make it tidy (Melt/Pivot). \n",
    "4. Concat/Merge the datasets if you have several\n",
    "5. Save your combined into a file (so you don't have to do the other things every time). Use the option index=None.\n",
    "6. Data quality: Describe the data and visualize the relationship between all (or 10 if there are too many) variables with a scatter plot matrix and/or a correlation matrix. Do you have outliers?\n",
    "7. Data qualtiy: Do you have missing data? What type? (MCAR,MAR,MNAR). Correct your file for it by imputing or dropping them.\n",
    "8. Do you have two categorical variables? Then create a contingency table and run the chi2 test to see if they are related.\n",
    "9. Use groupby to find the confidence intervals of one of your quantitative variables per group.\n",
    "10. Do some other cool plot and interpret it.\n",
    "    \n",
    "    \n",
    "    #Number 9 will be something like this:\n",
    "    for gr,data in df.groupby(\"categorical_var\"):\n",
    "        sns.distplot(data[\"quant_var\"].dropna())\n",
    "        bootstrap....\n",
    "\n",
    "`\n",
    "Note: If you don't need to do 3 (because your data is tidy), 4 (because you only have one dataset), 8 (because you do not have two categorical variables) or 9 (because you do not have one categorical variables), then do more plots in number 10."
   ]
  },
  {
   "cell_type": "code",
   "execution_count": 4,
   "metadata": {},
   "outputs": [],
   "source": [
    "#1. Download your datasets for the quantitative design\n",
    "\n",
    "#2. Print the types of variables (.dtypes). Explain what type of variables you have in each dataset (only the ones you plan to use) and if you need to modify them (e.g. taking the logarithm, making bins, converting categories to numbers, etc)\n",
    "\n",
    "#3. Fix the format to make it tidy (Melt/Pivot). \n",
    "\n",
    "#4. Concat/Merge the datasets if you have several\n",
    "\n",
    "#5. Save your combined into a file (so you don't have to do the other things every time). Use the option index=None.\n",
    "\n",
    "#6. Data quality: Describe the data and visualize the relationship between all (or 10 if there are too many) variables with a scatter plot matrix and/or a correlation matrix. Do you have outliers?\n",
    "\n",
    "#7. Data qualtiy: Do you have missing data? What type? (MCAR,MAR,MNAR). Correct your file for it by imputing or dropping them.\n",
    "\n",
    "#8. Do you have two categorical variables? Then create a contingency table and run the chi2 test to see if they are related.\n",
    "\n",
    "#9. Use groupby to find the confidence intervals of one of your quantitative variables per group.\n",
    "\n",
    "#10. Do some other cool plot and interpret it."
   ]
  }
 ],
 "metadata": {
  "anaconda-cloud": {},
  "kernelspec": {
   "display_name": "Python 3",
   "language": "python",
   "name": "python3"
  },
  "language_info": {
   "codemirror_mode": {
    "name": "ipython",
    "version": 3
   },
   "file_extension": ".py",
   "mimetype": "text/x-python",
   "name": "python",
   "nbconvert_exporter": "python",
   "pygments_lexer": "ipython3",
   "version": "3.5.6"
  }
 },
 "nbformat": 4,
 "nbformat_minor": 1
}
