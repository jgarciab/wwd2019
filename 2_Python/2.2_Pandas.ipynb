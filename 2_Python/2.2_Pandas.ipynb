{
 "cells": [
  {
   "cell_type": "markdown",
   "metadata": {},
   "source": [
    "# Working with data 2017. Class 1 \n",
    "## Contact\n",
    "Javier Garcia-Bernardo\n",
    "garcia@uva.nl\n",
    "\n",
    "\n",
    "## Week's plan:\n",
    "### Monday:\n",
    "1. About Python: Jupyter notebooks and packages\n",
    "2. Python:\n",
    "  - 2.1 Data types: Numbers, strings, booleans\n",
    "  - 2.2 Data structures (I): List\n",
    "  - 2.3 Code (I): How Python works\n",
    "3. Pandas (I): Read csv\n",
    "4. Seaborn (I): First plots\n",
    "\n",
    "### Wednesday:\n",
    "2. Python\n",
    "  - 2.2 Data structures (II): Sets, dictionaries, numpy array, pandas dataframe\n",
    "3. **Pandas (II): Basic operations with dataframes**\n",
    "\n",
    "### Thursday:\n",
    "2. Python\n",
    "  - 2.3 Code (II): Functions, for-loops and if-else statements\n",
    "  - 2.4 Debugging Python\n",
    "4. Seaborn (II): Some other plots"
   ]
  },
  {
   "cell_type": "code",
   "execution_count": null,
   "metadata": {},
   "outputs": [],
   "source": [
    "##Some code to run at the beginning of the file, to be able to show images in the notebook\n",
    "##Don't worry about this cell\n",
    "\n",
    "#Print the plots in this screen\n",
    "%matplotlib inline \n",
    "\n",
    "#Be able to plot images saved in the hard drive\n",
    "from IPython.display import Image \n",
    "\n",
    "#Make the notebook wider\n",
    "from IPython.core.display import display, HTML \n",
    "display(HTML(\"<style>.container { width:90% !important; }</style>\"))"
   ]
  },
  {
   "cell_type": "markdown",
   "metadata": {},
   "source": [
    "---"
   ]
  },
  {
   "cell_type": "markdown",
   "metadata": {},
   "source": [
    "# 3. Pandas (II): Basic operations with dataframes"
   ]
  },
  {
   "cell_type": "markdown",
   "metadata": {},
   "source": [
    "## 3.1 Read files"
   ]
  },
  {
   "cell_type": "markdown",
   "metadata": {},
   "source": [
    "**CSV = comma separated values file**\n",
    "- The problem with csvs is that names inside your fields can have commas. A solution is to use quotes in all the fields. If you do this the computer undestands that commas inside quotes do not separate fields. Another solution is separate fields with tabs (\\t)\n",
    "\n",
    "**TSV = tab separated values file**\n",
    "- However most people (including me) call them csv.\n",
    "- An example of a csv:\n",
    "\n",
    "`person    year    score\n",
    "1    2000    8\n",
    "2    2000    1\n",
    "3    2000    3\n",
    "1    2010    7\n",
    "2    1010    3\n",
    "`\n",
    "\n",
    "**We use pandas to read them and save then in a data structure call dataframe**"
   ]
  },
  {
   "cell_type": "code",
   "execution_count": null,
   "metadata": {},
   "outputs": [],
   "source": [
    "#Load the required library\n",
    "import pandas as pd"
   ]
  },
  {
   "cell_type": "markdown",
   "metadata": {},
   "source": [
    "## 3.1.1 pd.read_csv\n",
    "- Pandas function to read csv files.\n",
    "- A function is a piece of code that takes as input some standard input and returns some standard output. \n",
    "- In this case, it takes as input  a file_name and return a DataFrame\n",
    "\n",
    "**Other Examples**\n",
    "- sorted() is also a function, that takes a list as input and returns you the sorted list\n",
    "- sum() is also a function, that takes a list as input and returns the sum of its elements\n",
    "- .pop() is also a function, that takes as input a list and an index to delete, and return you the element in that index\n",
    "- np.mean() is another\n",
    "\n",
    "**Argument of a function **\n",
    "- what it is inside the parenthesis are the arguments, they tell the function how to work\n",
    "\n",
    "**Arguments of pd.read_csv()**\n",
    "- **path (required, first argument, no need to write path=)**: `This is required, what is the name of the file. If inside a folder you need to write the name of the folder too. For instance if the file \"example.csv\" is inside the folder \"data\", you need to write data/example.csv `\n",
    "- **sep (default \",\")**`: \"\\t\" for tab, \",\" for comma, \";\" for semicolon, etc`\n",
    "- **header (default 0)**`: 0 if the first line has column names. None if the first line has already data.`\n",
    "- **skiprows (default 0)**`: number of lines to skip`\n",
    "- **skipfooter (default 0)**`: number of lines to skip at the end`\n",
    "- **usecols (default None)**`: what columns do you want to read? The default is all, but you can say [0,3,4] or [\"column_x\",\"column_y\"]`\n",
    "- **na_values (default None)**`: what other values should be considered missing (e.g. [\"n.a.\",\"-9\",\"-999\"])`\n",
    "- **thousands (default None)**`: what is the thousands separator, usually there is None`\n",
    "- **decimal (default \".\")**`: Americans use \".\"; Europeans use \",\"; in science we use \".\".`\n",
    "- **encoding (default \"UTF-8\")**:  `\"UTF-8\" (great), \"UTF-16\", \"ISO-8859-1\" (W Europe), \"SHIFT-JIS\" (Japan), \"ASCII\" (US files)"
   ]
  },
  {
   "cell_type": "markdown",
   "metadata": {},
   "source": [
    "## 3.1.2 Reading excel or stata\n",
    "- For excel files we have pd.read_excel\n",
    "- For stata files we have pd.read_stata\n",
    "\n",
    "**We'll focus on CSVs, because they are universal, you can read them with any text editor, and you can export your data as csvs from any program**\n",
    "- From stata to csv: `outsheet id gender race read write science using outfile.csv , comma `\n",
    "- From excel to csv: `Save as -> csv (or text to use tabs)`"
   ]
  },
  {
   "cell_type": "markdown",
   "metadata": {},
   "source": [
    "# 3.3. Basic functions on dataframes\n",
    "We will be using a very small dataset (data/class1_test_csv.csv)\n",
    "- Uses TABS (\\t) as separator: `sep=\"\\t\"`\n",
    "- Does not have an index_col: `index_col=None`\n",
    "- Has 4 rows at the start with comments: `skiprows=4`\n",
    "- Uses \"-9\" as missing value: `na_values=[\"-9\"]`\n",
    "- The rest are the default options, so we don't need to write them"
   ]
  },
  {
   "cell_type": "code",
   "execution_count": null,
   "metadata": {},
   "outputs": [],
   "source": [
    "#First we reed our data\n",
    "import pandas as pd\n",
    "df = pd.read_csv(\"data/class1_test_csv.csv\",sep=\"\\t\",skiprows=4,na_values=[\"-9\"])"
   ]
  },
  {
   "cell_type": "code",
   "execution_count": null,
   "metadata": {},
   "outputs": [],
   "source": [
    "#And print its head\n",
    "df.head(10)"
   ]
  },
  {
   "cell_type": "markdown",
   "metadata": {},
   "source": [
    "## 3.3.1 Find the type of variables"
   ]
  },
  {
   "cell_type": "code",
   "execution_count": null,
   "metadata": {},
   "outputs": [],
   "source": [
    "#Useful for debugging (e.g. getting a string column when it should be a number --> probably you have a werid coding for missing values)\n",
    "df.dtypes"
   ]
  },
  {
   "cell_type": "markdown",
   "metadata": {},
   "source": [
    "## 3.3.2 Descriptives"
   ]
  },
  {
   "cell_type": "code",
   "execution_count": null,
   "metadata": {},
   "outputs": [],
   "source": [
    "#Describe the data\n",
    "#use df.describe? (outside a comment) to get help\n",
    "df.describe()"
   ]
  },
  {
   "cell_type": "markdown",
   "metadata": {},
   "source": [
    "**You can calculate the mean with df.mean()** (or the median, std, etc)\n"
   ]
  },
  {
   "cell_type": "code",
   "execution_count": null,
   "metadata": {
    "scrolled": true
   },
   "outputs": [],
   "source": [
    "## Calculate mean by columns\n",
    "## axis is a very common argument. The computer by default gets the mean by column \n",
    "#df.mean() === df.mean(axis=0)\n",
    "df.mean(axis=0)"
   ]
  },
  {
   "cell_type": "code",
   "execution_count": null,
   "metadata": {},
   "outputs": [],
   "source": [
    "df.mean(axis=1) #By rows"
   ]
  },
  {
   "cell_type": "markdown",
   "metadata": {},
   "source": [
    "## 3.3.3 Keeping columns"
   ]
  },
  {
   "cell_type": "code",
   "execution_count": null,
   "metadata": {},
   "outputs": [],
   "source": [
    "df.head()"
   ]
  },
  {
   "cell_type": "code",
   "execution_count": null,
   "metadata": {},
   "outputs": [],
   "source": [
    "## Keep ONE column\n",
    "df[\"treatment\"]"
   ]
  },
  {
   "cell_type": "code",
   "execution_count": null,
   "metadata": {
    "scrolled": true
   },
   "outputs": [],
   "source": [
    "## Keep SEVERAL column\n",
    "df[[\"year\",\"treatment\"]]"
   ]
  },
  {
   "cell_type": "markdown",
   "metadata": {},
   "source": [
    "## 3.3.4 Keeping rows (slicing like list). df.iloc[slice] (not too useful)"
   ]
  },
  {
   "cell_type": "code",
   "execution_count": null,
   "metadata": {},
   "outputs": [],
   "source": [
    "df.iloc[:5]"
   ]
  },
  {
   "cell_type": "markdown",
   "metadata": {},
   "source": [
    "## 3.3.5 Keeping rows (filtering like np array). df[filter] (very useful)"
   ]
  },
  {
   "cell_type": "markdown",
   "metadata": {},
   "source": [
    "#### In numpy arrays"
   ]
  },
  {
   "cell_type": "code",
   "execution_count": null,
   "metadata": {},
   "outputs": [],
   "source": [
    "import numpy as np\n",
    "\n",
    "#First we create the array\n",
    "numbers1_10 = np.arange(10)\n",
    "numbers1_10"
   ]
  },
  {
   "cell_type": "code",
   "execution_count": null,
   "metadata": {},
   "outputs": [],
   "source": [
    "#We can create the condition\n",
    "condition = numbers1_10 < 5\n",
    "print(condition)"
   ]
  },
  {
   "cell_type": "code",
   "execution_count": null,
   "metadata": {},
   "outputs": [],
   "source": [
    "numbers1_10[condition]"
   ]
  },
  {
   "cell_type": "markdown",
   "metadata": {},
   "source": [
    "#### Now for panda dataframes"
   ]
  },
  {
   "cell_type": "code",
   "execution_count": null,
   "metadata": {},
   "outputs": [],
   "source": [
    "#For example we want to keep the rows with the year 2000\n",
    "#We can create the condition\n",
    "condition = df[\"year\"] == 2000\n",
    "print(condition)"
   ]
  },
  {
   "cell_type": "code",
   "execution_count": null,
   "metadata": {},
   "outputs": [],
   "source": [
    "df"
   ]
  },
  {
   "cell_type": "code",
   "execution_count": null,
   "metadata": {},
   "outputs": [],
   "source": [
    "#And then filter. In a numpy array you could do np_array[condition]. Here you do df[condition]\n",
    "condition = df[\"year\"] == 2000\n",
    "df_2000 = df[condition] # df[df[\"year\"]==2000]\n",
    "df_2000"
   ]
  },
  {
   "cell_type": "code",
   "execution_count": null,
   "metadata": {},
   "outputs": [],
   "source": [
    "#If they meet more than one condition\n",
    "condition = df[\"year\"].isin([2000,2010])\n",
    "print(condition)"
   ]
  },
  {
   "cell_type": "code",
   "execution_count": null,
   "metadata": {},
   "outputs": [],
   "source": [
    "#If they meet more than one condition\n",
    "condition = df[\"year\"].isin([2000,2010])\n",
    "df_2000_2010 = df[condition]\n",
    "df_2000_2010"
   ]
  },
  {
   "cell_type": "markdown",
   "metadata": {},
   "source": [
    "## 3.3.6 Keeping rows and columns (very useful) df.loc[condition,[columns]]"
   ]
  },
  {
   "cell_type": "code",
   "execution_count": null,
   "metadata": {},
   "outputs": [],
   "source": [
    "df.loc[df[\"year\"]==2000, [\"year\",\"treatment\"]]"
   ]
  },
  {
   "cell_type": "code",
   "execution_count": null,
   "metadata": {},
   "outputs": [],
   "source": [
    "#Keeping the columns year and treatment for the year 2000\n",
    "condition = df[\"year\"] == 2000\n",
    "df.loc[condition,[\"year\",\"treatment\"]]\n"
   ]
  },
  {
   "cell_type": "code",
   "execution_count": null,
   "metadata": {
    "scrolled": false
   },
   "outputs": [],
   "source": [
    "df.head()"
   ]
  },
  {
   "cell_type": "markdown",
   "metadata": {},
   "source": [
    "## 3.3.7 Math operations"
   ]
  },
  {
   "cell_type": "code",
   "execution_count": null,
   "metadata": {},
   "outputs": [],
   "source": [
    "df[\"test\"] = np.log10(df[\"score\"])\n",
    "df.head()"
   ]
  },
  {
   "cell_type": "code",
   "execution_count": null,
   "metadata": {
    "scrolled": true
   },
   "outputs": [],
   "source": [
    "df[\"score_sq\"] = df[\"score\"]**2\n",
    "df.head()"
   ]
  },
  {
   "cell_type": "code",
   "execution_count": null,
   "metadata": {},
   "outputs": [],
   "source": [
    "del df[\"score_sq\"]\n",
    "del df[\"test\"]\n",
    "df.head()"
   ]
  },
  {
   "cell_type": "markdown",
   "metadata": {},
   "source": [
    "## 3.3.8 Creating new variables"
   ]
  },
  {
   "cell_type": "code",
   "execution_count": null,
   "metadata": {
    "scrolled": true
   },
   "outputs": [],
   "source": [
    "df[\"happiness\"] = [1,2,3,4,5,6,7,8,9,10,11,12]\n",
    "df[\"events\"] = [1,2,3,4,5,6,7,8,9,10,11,12]"
   ]
  },
  {
   "cell_type": "code",
   "execution_count": null,
   "metadata": {},
   "outputs": [],
   "source": [
    "df.tail()"
   ]
  },
  {
   "cell_type": "code",
   "execution_count": null,
   "metadata": {},
   "outputs": [],
   "source": [
    "#create new rows\n",
    "df.loc[12] = [2,2017,2,9.,10,23]\n",
    "df.tail()"
   ]
  },
  {
   "cell_type": "markdown",
   "metadata": {},
   "source": [
    "## 3.3.9 Cut \n",
    "- Make groups from a continuous variable"
   ]
  },
  {
   "cell_type": "code",
   "execution_count": null,
   "metadata": {},
   "outputs": [],
   "source": [
    "#Make three equal groups for happiness\n",
    "df[\"group_happiness\"] = pd.cut(df[\"happiness\"],3)\n",
    "df.head()"
   ]
  },
  {
   "cell_type": "code",
   "execution_count": null,
   "metadata": {},
   "outputs": [],
   "source": [
    "#Make two groups for happiness: [0-6] and [6-10] \n",
    "df[\"group_happiness\"] = pd.cut(df[\"happiness\"],[0,6,10])\n",
    "df.tail(8)"
   ]
  },
  {
   "cell_type": "markdown",
   "metadata": {},
   "source": [
    "## 3.3.10 Sorting the dataframe"
   ]
  },
  {
   "cell_type": "code",
   "execution_count": null,
   "metadata": {},
   "outputs": [],
   "source": [
    "df.sort_values(by=[\"treatment\"], ascending=True)"
   ]
  },
  {
   "cell_type": "code",
   "execution_count": null,
   "metadata": {},
   "outputs": [],
   "source": [
    "df.sort_values(by=[\"treatment\",\"score\"],ascending=[True,False])"
   ]
  },
  {
   "cell_type": "markdown",
   "metadata": {},
   "source": [
    "## 3.3.11 Dropping rows with missing values"
   ]
  },
  {
   "cell_type": "code",
   "execution_count": null,
   "metadata": {},
   "outputs": [],
   "source": [
    "#In one column\n",
    "df_no_nan = df.dropna(subset=[\"score\"])\n",
    "df_no_nan.tail()"
   ]
  },
  {
   "cell_type": "code",
   "execution_count": null,
   "metadata": {},
   "outputs": [],
   "source": [
    "#All columns missing\n",
    "df_no_nan = df.dropna(how=\"all\")\n",
    "df_no_nan.tail()"
   ]
  },
  {
   "cell_type": "markdown",
   "metadata": {},
   "source": [
    "## IMP: 3.3.12 Checking and modifying the name of the columns"
   ]
  },
  {
   "cell_type": "code",
   "execution_count": null,
   "metadata": {},
   "outputs": [],
   "source": [
    "df.columns"
   ]
  },
  {
   "cell_type": "code",
   "execution_count": null,
   "metadata": {},
   "outputs": [],
   "source": [
    "df.columns = [\"ID\",\"year\",\"treatment\",\"score\",\"happiness\",\"events\",'group_happiness']\n",
    "df.head()"
   ]
  },
  {
   "cell_type": "markdown",
   "metadata": {},
   "source": [
    "## 3.3.13 Changing the type of a columns"
   ]
  },
  {
   "cell_type": "code",
   "execution_count": null,
   "metadata": {},
   "outputs": [],
   "source": [
    "df[\"events\"] = df[\"events\"].astype(\"int\")\n",
    "df.head()"
   ]
  },
  {
   "cell_type": "markdown",
   "metadata": {},
   "source": [
    "## 3.3.14 Contingency tables"
   ]
  },
  {
   "cell_type": "code",
   "execution_count": null,
   "metadata": {},
   "outputs": [],
   "source": [
    "#Visualize contingency table\n",
    "pd.crosstab(df[\"group_happiness\"],df[\"year\"])"
   ]
  },
  {
   "cell_type": "code",
   "execution_count": null,
   "metadata": {},
   "outputs": [],
   "source": [
    "#Visualize contingency table\n",
    "pd.crosstab(df[\"group_happiness\"],df[\"year\"],normalize=True)"
   ]
  },
  {
   "cell_type": "markdown",
   "metadata": {},
   "source": [
    "## 3.3.15 Replace"
   ]
  },
  {
   "cell_type": "code",
   "execution_count": null,
   "metadata": {},
   "outputs": [],
   "source": [
    "id2name = {1.0: \"Alice\",\n",
    "           2.0: \"Bob\",\n",
    "           3.0: \"Charlie\"  \n",
    "}\n",
    "\n",
    "df[\"Name_replace\"] = df[\"ID\"].replace(id2name)\n",
    "df[\"Name_map\"] = df[\"ID\"].map(id2name)\n",
    "df"
   ]
  },
  {
   "cell_type": "code",
   "execution_count": null,
   "metadata": {},
   "outputs": [],
   "source": [
    "#Replace with missing values (understand what you're doing!!)\n",
    "df[\"events\"] = df[\"events\"].replace([np.inf,-np.inf],np.nan)\n",
    "df.head()"
   ]
  },
  {
   "cell_type": "markdown",
   "metadata": {},
   "source": [
    "## 3.3.16 Apply"
   ]
  },
  {
   "cell_type": "code",
   "execution_count": 5,
   "metadata": {
    "scrolled": true
   },
   "outputs": [
    {
     "data": {
      "text/html": [
       "<div>\n",
       "<style scoped>\n",
       "    .dataframe tbody tr th:only-of-type {\n",
       "        vertical-align: middle;\n",
       "    }\n",
       "\n",
       "    .dataframe tbody tr th {\n",
       "        vertical-align: top;\n",
       "    }\n",
       "\n",
       "    .dataframe thead th {\n",
       "        text-align: right;\n",
       "    }\n",
       "</style>\n",
       "<table border=\"1\" class=\"dataframe\">\n",
       "  <thead>\n",
       "    <tr style=\"text-align: right;\">\n",
       "      <th></th>\n",
       "      <th>events</th>\n",
       "      <th>year</th>\n",
       "    </tr>\n",
       "  </thead>\n",
       "  <tbody>\n",
       "    <tr>\n",
       "      <th>0</th>\n",
       "      <td>20 events</td>\n",
       "      <td>2005</td>\n",
       "    </tr>\n",
       "    <tr>\n",
       "      <th>1</th>\n",
       "      <td>120 events</td>\n",
       "      <td>2010</td>\n",
       "    </tr>\n",
       "    <tr>\n",
       "      <th>2</th>\n",
       "      <td>2 events</td>\n",
       "      <td>2015</td>\n",
       "    </tr>\n",
       "    <tr>\n",
       "      <th>3</th>\n",
       "      <td>1000 events</td>\n",
       "      <td>2020</td>\n",
       "    </tr>\n",
       "  </tbody>\n",
       "</table>\n",
       "</div>"
      ],
      "text/plain": [
       "        events  year\n",
       "0    20 events  2005\n",
       "1   120 events  2010\n",
       "2     2 events  2015\n",
       "3  1000 events  2020"
      ]
     },
     "execution_count": 5,
     "metadata": {},
     "output_type": "execute_result"
    }
   ],
   "source": [
    "#sample data\n",
    "events = pd.read_csv(\"data/test_event.csv\",sep=\"\\t\")\n",
    "events"
   ]
  },
  {
   "cell_type": "code",
   "execution_count": 6,
   "metadata": {},
   "outputs": [],
   "source": [
    "def get_number(string):\n",
    "    \"\"\"\n",
    "    Get the number of events from a string with the format \"XXX event\"\n",
    "    \n",
    "    input: string containing \"event\"\n",
    "    \n",
    "    output: number of events\n",
    "    \"\"\"\n",
    "    index_event = string.find(\"events\")\n",
    "    number_events = string[:index_event-1]\n",
    "    return int(number_events)"
   ]
  },
  {
   "cell_type": "code",
   "execution_count": 7,
   "metadata": {},
   "outputs": [
    {
     "data": {
      "text/html": [
       "<div>\n",
       "<style scoped>\n",
       "    .dataframe tbody tr th:only-of-type {\n",
       "        vertical-align: middle;\n",
       "    }\n",
       "\n",
       "    .dataframe tbody tr th {\n",
       "        vertical-align: top;\n",
       "    }\n",
       "\n",
       "    .dataframe thead th {\n",
       "        text-align: right;\n",
       "    }\n",
       "</style>\n",
       "<table border=\"1\" class=\"dataframe\">\n",
       "  <thead>\n",
       "    <tr style=\"text-align: right;\">\n",
       "      <th></th>\n",
       "      <th>events</th>\n",
       "      <th>year</th>\n",
       "      <th>n_events</th>\n",
       "    </tr>\n",
       "  </thead>\n",
       "  <tbody>\n",
       "    <tr>\n",
       "      <th>0</th>\n",
       "      <td>20 events</td>\n",
       "      <td>2005</td>\n",
       "      <td>20</td>\n",
       "    </tr>\n",
       "    <tr>\n",
       "      <th>1</th>\n",
       "      <td>120 events</td>\n",
       "      <td>2010</td>\n",
       "      <td>120</td>\n",
       "    </tr>\n",
       "    <tr>\n",
       "      <th>2</th>\n",
       "      <td>2 events</td>\n",
       "      <td>2015</td>\n",
       "      <td>2</td>\n",
       "    </tr>\n",
       "    <tr>\n",
       "      <th>3</th>\n",
       "      <td>1000 events</td>\n",
       "      <td>2020</td>\n",
       "      <td>1000</td>\n",
       "    </tr>\n",
       "  </tbody>\n",
       "</table>\n",
       "</div>"
      ],
      "text/plain": [
       "        events  year  n_events\n",
       "0    20 events  2005        20\n",
       "1   120 events  2010       120\n",
       "2     2 events  2015         2\n",
       "3  1000 events  2020      1000"
      ]
     },
     "execution_count": 7,
     "metadata": {},
     "output_type": "execute_result"
    }
   ],
   "source": [
    "#apply the function to a column\n",
    "events[\"n_events\"] = events[\"events\"].apply(get_number)\n",
    "events"
   ]
  },
  {
   "cell_type": "markdown",
   "metadata": {},
   "source": [
    "## 3.3.17 Save file"
   ]
  },
  {
   "cell_type": "code",
   "execution_count": null,
   "metadata": {},
   "outputs": [],
   "source": [
    "#Save file into folder data\n",
    "events.to_csv(\"data/events_copy.csv\",sep=\"\\t\",index=None)"
   ]
  },
  {
   "cell_type": "markdown",
   "metadata": {},
   "source": [
    "## 3.3.18 str methods"
   ]
  },
  {
   "cell_type": "code",
   "execution_count": 9,
   "metadata": {},
   "outputs": [
    {
     "data": {
      "text/html": [
       "<div>\n",
       "<style scoped>\n",
       "    .dataframe tbody tr th:only-of-type {\n",
       "        vertical-align: middle;\n",
       "    }\n",
       "\n",
       "    .dataframe tbody tr th {\n",
       "        vertical-align: top;\n",
       "    }\n",
       "\n",
       "    .dataframe thead th {\n",
       "        text-align: right;\n",
       "    }\n",
       "</style>\n",
       "<table border=\"1\" class=\"dataframe\">\n",
       "  <thead>\n",
       "    <tr style=\"text-align: right;\">\n",
       "      <th></th>\n",
       "      <th>events</th>\n",
       "      <th>year</th>\n",
       "      <th>n_events</th>\n",
       "      <th>n_events2</th>\n",
       "    </tr>\n",
       "  </thead>\n",
       "  <tbody>\n",
       "    <tr>\n",
       "      <th>0</th>\n",
       "      <td>20 events</td>\n",
       "      <td>2005</td>\n",
       "      <td>20</td>\n",
       "      <td>20</td>\n",
       "    </tr>\n",
       "    <tr>\n",
       "      <th>1</th>\n",
       "      <td>120 events</td>\n",
       "      <td>2010</td>\n",
       "      <td>120</td>\n",
       "      <td>120</td>\n",
       "    </tr>\n",
       "    <tr>\n",
       "      <th>2</th>\n",
       "      <td>2 events</td>\n",
       "      <td>2015</td>\n",
       "      <td>2</td>\n",
       "      <td>2</td>\n",
       "    </tr>\n",
       "    <tr>\n",
       "      <th>3</th>\n",
       "      <td>1000 events</td>\n",
       "      <td>2020</td>\n",
       "      <td>1000</td>\n",
       "      <td>1000</td>\n",
       "    </tr>\n",
       "  </tbody>\n",
       "</table>\n",
       "</div>"
      ],
      "text/plain": [
       "        events  year  n_events n_events2\n",
       "0    20 events  2005        20        20\n",
       "1   120 events  2010       120       120\n",
       "2     2 events  2015         2         2\n",
       "3  1000 events  2020      1000      1000"
      ]
     },
     "execution_count": 9,
     "metadata": {},
     "output_type": "execute_result"
    }
   ],
   "source": [
    "events[\"n_events2\"] = events[\"events\"].str[:-7]\n",
    "print(events.dtypes)\n",
    "events[\"n_events2\"] = events[\"n_events2\"].astype(int)\n",
    "print(events.dtypes)"
   ]
  },
  {
   "cell_type": "code",
   "execution_count": 11,
   "metadata": {},
   "outputs": [
    {
     "data": {
      "text/html": [
       "<div>\n",
       "<style scoped>\n",
       "    .dataframe tbody tr th:only-of-type {\n",
       "        vertical-align: middle;\n",
       "    }\n",
       "\n",
       "    .dataframe tbody tr th {\n",
       "        vertical-align: top;\n",
       "    }\n",
       "\n",
       "    .dataframe thead th {\n",
       "        text-align: right;\n",
       "    }\n",
       "</style>\n",
       "<table border=\"1\" class=\"dataframe\">\n",
       "  <thead>\n",
       "    <tr style=\"text-align: right;\">\n",
       "      <th></th>\n",
       "      <th>events</th>\n",
       "      <th>year</th>\n",
       "      <th>n_events</th>\n",
       "      <th>n_events2</th>\n",
       "      <th>EVENTS</th>\n",
       "      <th>events_upper</th>\n",
       "    </tr>\n",
       "  </thead>\n",
       "  <tbody>\n",
       "    <tr>\n",
       "      <th>0</th>\n",
       "      <td>20 events</td>\n",
       "      <td>2005</td>\n",
       "      <td>20</td>\n",
       "      <td>20</td>\n",
       "      <td>20 EVENTS</td>\n",
       "      <td>20 EVENTS</td>\n",
       "    </tr>\n",
       "    <tr>\n",
       "      <th>1</th>\n",
       "      <td>120 events</td>\n",
       "      <td>2010</td>\n",
       "      <td>120</td>\n",
       "      <td>120</td>\n",
       "      <td>120 EVENTS</td>\n",
       "      <td>120 EVENTS</td>\n",
       "    </tr>\n",
       "    <tr>\n",
       "      <th>2</th>\n",
       "      <td>2 events</td>\n",
       "      <td>2015</td>\n",
       "      <td>2</td>\n",
       "      <td>2</td>\n",
       "      <td>2 EVENTS</td>\n",
       "      <td>2 EVENTS</td>\n",
       "    </tr>\n",
       "    <tr>\n",
       "      <th>3</th>\n",
       "      <td>1000 events</td>\n",
       "      <td>2020</td>\n",
       "      <td>1000</td>\n",
       "      <td>1000</td>\n",
       "      <td>1000 EVENTS</td>\n",
       "      <td>1000 EVENTS</td>\n",
       "    </tr>\n",
       "  </tbody>\n",
       "</table>\n",
       "</div>"
      ],
      "text/plain": [
       "        events  year  n_events n_events2       EVENTS events_upper\n",
       "0    20 events  2005        20        20    20 EVENTS    20 EVENTS\n",
       "1   120 events  2010       120       120   120 EVENTS   120 EVENTS\n",
       "2     2 events  2015         2         2     2 EVENTS     2 EVENTS\n",
       "3  1000 events  2020      1000      1000  1000 EVENTS  1000 EVENTS"
      ]
     },
     "execution_count": 11,
     "metadata": {},
     "output_type": "execute_result"
    }
   ],
   "source": [
    "events[\"events_upper\"] = events[\"events\"].str.upper()\n",
    "events"
   ]
  },
  {
   "cell_type": "markdown",
   "metadata": {},
   "source": [
    "# Summary\n",
    "### We have\n",
    "- Python\n",
    "- External packages\n",
    "    - numpy and scipy: math\n",
    "    - pandas: spreadsheet\n",
    "    - matplotlib (pylab) and seaborn: plot\n",
    "    - statsmodels: regression (next time)\n",
    "\n",
    "### Python and packages have\n",
    "- Data structures: list, numpy arrays, pandas dataframes\n",
    "\n",
    "### That are composed of\n",
    "- Other data structures\n",
    "- Data types: int, floats, strings, dates\n",
    "\n",
    "### We manipulate the data structures with code\n",
    "- Operations\n",
    "- Functions (from python/packages)\n",
    "- If-else statements \n",
    "- Loops \n",
    "\n"
   ]
  },
  {
   "cell_type": "code",
   "execution_count": null,
   "metadata": {},
   "outputs": [],
   "source": []
  }
 ],
 "metadata": {
  "anaconda-cloud": {},
  "kernelspec": {
   "display_name": "Python 3",
   "language": "python",
   "name": "python3"
  },
  "language_info": {
   "codemirror_mode": {
    "name": "ipython",
    "version": 3
   },
   "file_extension": ".py",
   "mimetype": "text/x-python",
   "name": "python",
   "nbconvert_exporter": "python",
   "pygments_lexer": "ipython3",
   "version": "3.5.6"
  }
 },
 "nbformat": 4,
 "nbformat_minor": 1
}
